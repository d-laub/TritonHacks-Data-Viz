{
 "cells": [
  {
   "cell_type": "code",
   "metadata": {
    "tags": [],
    "deepnote_to_be_reexecuted": false,
    "source_hash": "fd8eed1a",
    "execution_millis": 2,
    "is_code_hidden": true,
    "output_cleared": false,
    "execution_start": 1633286562312,
    "cell_id": "00000-3dcf27d9-7694-41df-a9d9-7e1b2948fb75",
    "deepnote_cell_type": "code"
   },
   "source": "### Don't push \"Run notebook\"!!!\n\nassert False, 'Please don\\'t press the \"Run notebook\" button!'",
   "execution_count": 1,
   "outputs": []
  },
  {
   "cell_type": "markdown",
   "source": "# Welcome to the Data Science Kit!\n\n<center><img src='http://www.sintetia.com/wp-content/uploads/2014/05/Data-Scientist-What-I-really-do.png' width=500></center>\n\nIn this starter kit, you will learn to use data science to analyze **2016 US primary election** data and uncover sociological, geographical, and economic voting patterns. Data science is an important application of computer science that helps distill data into insightful and interpretable stories. You can find data science being applied in a huge diversity of fields including medicine, finance, biology, manufacturing, social media, and, as you will see in this kit, political science.\n\nThe US primary election dataset you will work with contains voting information for over 2,000 counties and spans demographic, spatial, and economic data! This is an overwhelming amount of information, but data science will give you the tools to find patterns amongst the chaos.\n\nBy the time you finish this starter kit, you will be ready to expand your analysis on your own and uncover novel phenomena within the voting data. What discoveries will you make?",
   "metadata": {
    "tags": [],
    "cell_id": "00001-03deedf6-aef7-4c2c-aa1d-8ec1c79ca35f",
    "deepnote_cell_type": "markdown"
   }
  },
  {
   "cell_type": "markdown",
   "source": ">**Pro Tip**:  \n**You can quickly navigate this document using the table of contents at the bottom of the \"Files\" menu.**\n![](.images/TOC_files.png)\n![](.images/TOC_location.png)\nTable of contents as it appears closed.\n![](.images/toc_open.png)\nTable of contents as it appears opened.\n<!-- <img src=\".images/TOC_files.png\" width=350>\n<img src='.images/TOC_location.png' width=350> -->",
   "metadata": {
    "tags": [],
    "cell_id": "00002-4ab13a79-52f9-4317-90c5-c3f5687c5f65",
    "deepnote_cell_type": "markdown"
   }
  },
  {
   "cell_type": "markdown",
   "source": "# Before We Begin...\nLet's also take note of the coding environment we're in: a Deepnote **notebook** running Python.",
   "metadata": {
    "tags": [],
    "cell_id": "00002-7f64166c-884f-48ff-9e26-2be8501fc5af",
    "deepnote_cell_type": "markdown"
   }
  },
  {
   "cell_type": "markdown",
   "source": "## What is Deepnote?\nDeepnote is a web-based data science platform for real-time collaboration in coding notebooks. Notebooks allows us to work with data interactively and see the outputs from each operation we apply to our data. In your file browser, you can distinguish between notebooks and other file types by their file extension. Notebooks end with `.ipynb`, short for \"IPython notebook.\" The fundamental unit of notebooks are **cells**. In Deepnote, cells come in two flavors: **markdown** cells and **code** cells.",
   "metadata": {
    "tags": [],
    "cell_id": "00003-483ecb87-411e-4369-a681-a6bfe8fa669f",
    "deepnote_cell_type": "markdown"
   }
  },
  {
   "cell_type": "markdown",
   "source": "### Markdown Cells\nMarkdown cells allow us to write, edit, and display formatted text. They are written in the Markdown programming language which provides a minimal formatting syntax. All of the texts in this kit are in Markdown cells and if you double click on them you can see (and edit) the underlying Markdown code. Deepnote also provides a Markdown cheat sheet on the right sidebar when you have a Markdown cell selected. **You won't need Markdown until you finish this kit but feel free to check it out.**",
   "metadata": {
    "tags": [],
    "cell_id": "00004-69ac4899-6270-4aae-b33f-2a608ff44cc6",
    "deepnote_cell_type": "markdown"
   }
  },
  {
   "cell_type": "markdown",
   "source": "### Code Cells\nCode cells in Deepnote allow us to write and execute Python code. You can run cells by selecting them and pressing **Ctrl+Enter (or Cmd+Return on Mac) or by clicking the Run button in the right sidebar**. Go ahead and run the example below (you might have to wait a few seconds for your environment to boot up).",
   "metadata": {
    "tags": [],
    "cell_id": "00005-cdc83a40-663a-40c7-8909-d840f98e23f4",
    "deepnote_cell_type": "markdown"
   }
  },
  {
   "cell_type": "code",
   "metadata": {
    "tags": [],
    "deepnote_to_be_reexecuted": false,
    "source_hash": "93d78429",
    "execution_millis": 28,
    "output_cleared": false,
    "execution_start": 1633286562336,
    "cell_id": "00006-5cfe264f-f1fd-4256-9485-a4234c20b9fa",
    "deepnote_cell_type": "code"
   },
   "source": "# This is a code cell\nprint('This is a print statement.')\nmy_var = 'I am a variable :)'\nmy_var2 = 'I am a variable too!'\nmy_var # this will not be output because it's not last\nmy_var2 # this will be output",
   "execution_count": 2,
   "outputs": [
    {
     "name": "stdout",
     "text": "This is a print statement.\n",
     "output_type": "stream"
    },
    {
     "output_type": "execute_result",
     "execution_count": 2,
     "data": {
      "text/plain": "'I am a variable too!'"
     },
     "metadata": {}
    }
   ]
  },
  {
   "cell_type": "markdown",
   "source": "You'll know that a cell has been executed by the green check mark in the bottom left\n\n>**Quirky Output:**  \nCode cells show the output of the last line of code if it is not explicitly assigned to a variable. Notice the difference between the `print` output and implicit output. Even though `my_var2` was not in a `print` statement it was output because it was written on a line by itself. You can also see that `my_var` was not output despite being written by itself because it wasn't the last line. Feel free to edit the cell above to get a feel for running code cells and displaying output.",
   "metadata": {
    "tags": [],
    "cell_id": "00007-54eb0863-6e5d-4fc4-b588-6c8069c44520",
    "deepnote_cell_type": "markdown"
   }
  },
  {
   "cell_type": "markdown",
   "source": "**Global Variables**\n\nWhen you run a cell, any values you assigned to variables will be stored for the entire notebook and not just that cell. The `my_var` variable you created in the previous cell can be called from any other cell after you have run that original cell.\n\nSo, if you have properly run the code cell above, `my_var` should print 'I am a variable :)' after you **run the cell below**.",
   "metadata": {
    "tags": [],
    "cell_id": "00008-3bdf7d88-dc10-4bcd-b11c-1b272f2fed07",
    "deepnote_cell_type": "markdown"
   }
  },
  {
   "cell_type": "markdown",
   "source": "<center><img src=https://media.makeameme.org/created/i-noticed-that-e65c3a91b3.jpg></center>",
   "metadata": {
    "tags": [],
    "cell_id": "00009-34861803-78a7-471e-96e8-d2e28ac6b9bc",
    "deepnote_cell_type": "markdown"
   }
  },
  {
   "cell_type": "code",
   "metadata": {
    "tags": [],
    "deepnote_to_be_reexecuted": false,
    "source_hash": "14342133",
    "execution_start": 1633286562356,
    "execution_millis": 8,
    "cell_id": "00009-4c853e9c-5769-4402-9d95-4f216ad16b08",
    "deepnote_cell_type": "code"
   },
   "source": "# Run this cell\nmy_var",
   "execution_count": 3,
   "outputs": [
    {
     "output_type": "execute_result",
     "execution_count": 3,
     "data": {
      "text/plain": "'I am a variable :)'"
     },
     "metadata": {}
    }
   ]
  },
  {
   "cell_type": "markdown",
   "source": ">**Warning:**  \nIf you happen to change the value of `my_var` at any point and run the cell you changed it in, the value for that variable will update for future use. If you want to restore its previous value, you will need to re-run the cell that assigned that previous value.",
   "metadata": {
    "tags": [],
    "cell_id": "00010-a4baa70f-f04c-4830-a6a0-e818f146f1a8",
    "deepnote_cell_type": "markdown"
   }
  },
  {
   "cell_type": "code",
   "metadata": {
    "tags": [],
    "deepnote_to_be_reexecuted": false,
    "source_hash": "a38ca505",
    "execution_millis": 0,
    "execution_start": 1633286562357,
    "cell_id": "00011-66ccd445-5856-4407-9187-91e9f6adfbfe",
    "deepnote_cell_type": "code"
   },
   "source": "# This cell will change the value of my_var to something different\n# If you want the original value back, you will need to run the first cell again\n\nmy_var = 'my_var has been changed! :('",
   "execution_count": 4,
   "outputs": []
  },
  {
   "cell_type": "markdown",
   "source": "**Semicolons**\n\nAdding a semicolon to the end of the cell will suppress any output that isn't explicit, like a plot or a `print()` statement. Try **running the cell below** to see for yourself!\n\nYou should see that `my_var` is not output from the cell.",
   "metadata": {
    "tags": [],
    "cell_id": "00012-cddb32f2-6f1f-4895-b5d6-55f6bf60508a",
    "deepnote_cell_type": "markdown"
   }
  },
  {
   "cell_type": "code",
   "metadata": {
    "tags": [],
    "deepnote_to_be_reexecuted": false,
    "source_hash": "87bfa087",
    "cell_id": "00013-7955ae15-1da5-4cec-a57e-1b5b6de0dd1b",
    "execution_start": 1633286562359,
    "execution_millis": 0,
    "deepnote_cell_type": "code"
   },
   "source": "# Run this cell to see how ; suppressed output\nmy_var;",
   "execution_count": 5,
   "outputs": []
  },
  {
   "cell_type": "markdown",
   "source": "### Adding Cells\nYou can also add your own cells by clicking the \"+ Block\" or \"+ Code\" buttons that pop up when you hover your cursor over the bottom or top left corners of an existing cell. Alternatively, you can use the hotkeys \"Ctrl+J\" and \"Ctrl+K\" to add code cells below and above the selected cell, respectively. There are many more Deepnote shortcuts available too, check them out from the \"?\" menu in the bottom left of Deepnote.",
   "metadata": {
    "tags": [],
    "cell_id": "00014-2862bcbe-358a-4ce0-8443-85f87bd0fed5",
    "deepnote_cell_type": "markdown"
   }
  },
  {
   "cell_type": "markdown",
   "source": "### Asking for Help\n\nIf you get stuck any time while you're working, don't worry! You should have been assigned a mentor for your team and we have several qualified tutors who will be on duty to provide technical assistance. Do not be afraid to reach out for help!\n\nYou can reach out to them through Discord or CampusWire.",
   "metadata": {
    "tags": [],
    "cell_id": "00015-0f6b8d75-510d-4912-b69e-0d9e29c1d45c",
    "deepnote_cell_type": "markdown"
   }
  },
  {
   "cell_type": "markdown",
   "source": "# End of Chapter 0\n\n<img src='https://sayingimages.com/wp-content/uploads/you-did-good-job-meme.jpg' width='400'>",
   "metadata": {
    "tags": [],
    "cell_id": "00039-7a49c4ff-09c5-4e14-bb78-7a635b2b4bab",
    "deepnote_cell_type": "markdown"
   }
  },
  {
   "cell_type": "markdown",
   "source": "Now that we have introduced to you some of the basics of the Deepnote notebook environment and Python, we will move on to learning ways in which we can explore a dataset. Let's move to chapter 1! Click on the file `1 What's in Here.ipynb` to advance to the next section.",
   "metadata": {
    "tags": [],
    "cell_id": "00040-50a948a6-b901-45f3-9ed4-e04f09c6a9b0",
    "deepnote_cell_type": "markdown"
   }
  },
  {
   "cell_type": "markdown",
   "source": "<a style='text-decoration:none;line-height:16px;display:flex;color:#5B5B62;padding:10px;justify-content:end;' href='https://deepnote.com?utm_source=created-in-deepnote-cell&projectId=6db671ff-4b94-4ec9-9d8f-30a849bb0caf' target=\"_blank\">\n<img alt='Created in deepnote.com' style='display:inline;max-height:16px;margin:0px;margin-right:7.5px;' src='data:image/svg+xml;base64,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' > </img>\nCreated in <span style='font-weight:600;margin-left:4px;'>Deepnote</span></a>",
   "metadata": {
    "tags": [],
    "created_in_deepnote_cell": true,
    "deepnote_cell_type": "markdown"
   }
  }
 ],
 "nbformat": 4,
 "nbformat_minor": 2,
 "metadata": {
  "orig_nbformat": 2,
  "deepnote_notebook_id": "84fa4d3b-0b98-4187-825e-fd34abee304b",
  "deepnote": {},
  "deepnote_execution_queue": []
 }
}
