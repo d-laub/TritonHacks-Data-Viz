{
 "cells": [
  {
   "cell_type": "code",
   "metadata": {
    "tags": [],
    "deepnote_to_be_reexecuted": false,
    "source_hash": "fd8eed1a",
    "execution_millis": 43,
    "is_code_hidden": true,
    "output_cleared": false,
    "execution_start": 1633286611783,
    "cell_id": "00000-22745f85-d338-4b53-bc53-2dfefa2292c6",
    "deepnote_cell_type": "code"
   },
   "source": "### Don't push \"Run notebook\"!!!\n\n# assert False, 'Please don\\'t press the \"Run notebook\" button!'",
   "execution_count": 1,
   "outputs": []
  },
  {
   "cell_type": "markdown",
   "source": "# `import data_science`\n\nWelcome to Chapter 1, **What's In Here?** Before we start working with our data we have to get our coding environment ready to do some work.\n\n**Reminder:** you can use the table of contents in the bottom left to quickly navigate notebooks!\n\n>**Run the cell below** to `import` the Python packages we need, set a plotting theme, and load our data.",
   "metadata": {
    "tags": [],
    "cell_id": "00015-543460e6-159d-4fbf-9da7-8c2ed14d3db8",
    "deepnote_cell_type": "markdown"
   }
  },
  {
   "cell_type": "markdown",
   "source": "![](.images/import.jpeg)",
   "metadata": {
    "tags": [],
    "cell_id": "00016-3e7c74e6-8fe1-4e1d-ade1-4dc807fe2314",
    "deepnote_cell_type": "markdown"
   }
  },
  {
   "cell_type": "code",
   "metadata": {
    "tags": [],
    "deepnote_to_be_reexecuted": false,
    "source_hash": "bcda74f1",
    "execution_millis": 2826,
    "execution_start": 1633286611826,
    "cell_id": "00017-5e55b79a-f97c-4cf9-84d9-fbc742ad3a5d",
    "deepnote_cell_type": "code"
   },
   "source": "# Run this cell with Ctrl+Enter (or Cmd+Return on a Mac)\n\n# Import necessary libraries\nimport numpy as np\nimport pandas as pd\nimport matplotlib.pyplot as plt\nimport seaborn as sns\nimport plotly.express as px\nfrom utils import *\n\n# Set a plotting theme with seaborn\nsns.set_theme() \n\n# Load our data\nprint('Loading data from Datasets folder...')\n\n(geo_cnty,\nrepublican_primaries_county_level,\ndemocrat_primaries_county_level,\nrepublican_primaries_state_level,\ndemocrat_primaries_state_level) = load_data()\n\nprint('Finished loading data!')",
   "execution_count": 2,
   "outputs": [
    {
     "name": "stdout",
     "text": "Loading data from Datasets folder...\nFinished loading data!\n",
     "output_type": "stream"
    }
   ]
  },
  {
   "cell_type": "markdown",
   "source": ">**Field Notes:**  \nUsually, getting your data isn't as easy as using a `load_data()` function. Often times, the data you want is scattered across different websites, filled with NaN's, or in an unstructured form. These irregularities need to be \"cleaned\" before you can start working with your data. Data cleaning is beyond the scope of this project but you can read more [here](https://towardsdatascience.com/data-cleaning-in-python-the-ultimate-guide-2020-c63b88bf0a0d) if you're interested.",
   "metadata": {
    "tags": [],
    "cell_id": "00018-59042423-e8c5-4cff-9df7-51707e328b02",
    "deepnote_cell_type": "markdown"
   }
  },
  {
   "cell_type": "markdown",
   "source": "## Restarting a Notebook\n\nIf you decide to take a break from working on the kit, you will find that the Notebook will turn off. You can tell since the \"Machine\" icon in the left sidebar will say \"OFF'.\n<center>\n\n![](.images/machine_off.png)\n</center>\n\nThis is happens when the machine hasn't received any inputs for 15 minutes or more. You'll have to restart the machine, which will cause all the variables to be cleared. To restart the machine, simply **re-run the `import data_science` cell in the respective Notebook**.\n\nWhat about the new variables that you created while working in the particular notebook?\n\nFor our particular kit, you are supposed to **manually run all the cells with new variable assignments**, just like the `import data_science` cell.  Similar to all the libraries, variables are cleared from the memory as well. In that case, if you only import the libraries, you will see the error message **\"NameError: name 'xxx' is not defined\"**, which means downstream cells are trying to use a variable that does not have a value. This is resulted from the cells with the variable defination not being run after restarting. \n\n*Hint: When you're working on your project (outside of this kit) simply push the \"Run notebook\" button, and all cells will be run.*\n\n**Now we're ready to start working with our data and explore what we just loaded!**",
   "metadata": {
    "tags": [],
    "cell_id": "00004-13c57f93-579c-450c-b11c-583e7be326a3",
    "deepnote_cell_type": "markdown"
   }
  },
  {
   "cell_type": "markdown",
   "source": "# 1. What's In Here?\n<p style='font-size:30px'>Initial Data Exploration</p>",
   "metadata": {
    "tags": [],
    "cell_id": "00019-d26f6969-7255-49c4-a2d8-86b819cf62fc",
    "deepnote_cell_type": "markdown"
   }
  },
  {
   "cell_type": "markdown",
   "source": "![](.images/dataexploration.jpeg)",
   "metadata": {
    "tags": [],
    "cell_id": "00020-35498097-80ac-4942-be2e-ea2389e01a33",
    "deepnote_cell_type": "markdown"
   }
  },
  {
   "cell_type": "markdown",
   "source": "Let's take a first look at the primary election data. In the code cell above we loaded in four **dataframes** of interest:\n```python\nrepublican_primaries_county_level\ndemocrat_primaries_county_level\nrepublican_primaries_state_level\ndemocrat_primaries_state_level\n```\nHowever, these variable names are really long! Let's assign them to some more conveniently named variables:",
   "metadata": {
    "tags": [],
    "cell_id": "00021-5993c288-9b18-44a0-9338-f6f1e04c0769",
    "deepnote_cell_type": "markdown"
   }
  },
  {
   "cell_type": "code",
   "metadata": {
    "tags": [],
    "deepnote_to_be_reexecuted": false,
    "source_hash": "a7acca4e",
    "execution_millis": 1,
    "cell_id": "00024-d0d31633-0618-46f1-a630-a493e15773bf",
    "execution_start": 1633286614644,
    "deepnote_cell_type": "code"
   },
   "source": "### Finish and run this code to reassign the other dataframe variables ###\n\ndem = democrat_primaries_county_level\n\n# Uncomment the lines below and assign them to their corresponding dataframes\n# rep = \n# rep_st = \n# dem_st = \n\n##########################################################################",
   "execution_count": 3,
   "outputs": []
  },
  {
   "cell_type": "markdown",
   "source": "Throughout this notebook we will provide answers in hidden code cells. You can see the answer to this problem by clicking the blue \"Show it.\":",
   "metadata": {
    "tags": [],
    "cell_id": "00025-11ccfbe0-611f-488d-9fc6-e2171cd04f4b",
    "deepnote_cell_type": "markdown"
   }
  },
  {
   "cell_type": "code",
   "metadata": {
    "tags": [],
    "is_code_hidden": true,
    "deepnote_to_be_reexecuted": false,
    "source_hash": "dd694495",
    "execution_millis": 45,
    "cell_id": "00026-37685f4d-cdeb-4b84-b615-a0b76342f375",
    "execution_start": 1633286614649,
    "deepnote_cell_type": "code"
   },
   "source": "dem = democrat_primaries_county_level\nrep_st = republican_primaries_state_level\ndem_st = democrat_primaries_state_level",
   "execution_count": 4,
   "outputs": []
  },
  {
   "cell_type": "markdown",
   "source": "The first two, `rep` and `dem`, are the county-level primary election results for the Republican and Democrat primaries, respectively. We also have their state-level counterparts, `rep_st` and `dem_st`, that are home to the same data except summarized at the state level. Let's start by looking at `rep`. We can simply type in `rep` and run the cell to see the first and last 5 rows of data.",
   "metadata": {
    "tags": [],
    "cell_id": "00027-58809502-b30b-4247-9c52-7a99041c2e9e",
    "deepnote_cell_type": "markdown"
   }
  },
  {
   "cell_type": "code",
   "metadata": {
    "tags": [],
    "deepnote_to_be_reexecuted": false,
    "source_hash": "eba1dbbf",
    "execution_millis": 133,
    "output_cleared": false,
    "cell_id": "00028-01cc3ad2-2f8b-48af-bb02-e3342be0b98b",
    "execution_start": 1633286614695,
    "deepnote_cell_type": "code"
   },
   "source": "# Run this cell with Ctrl+Enter (or Cmd+Return on a Mac) to see the output\nrep",
   "execution_count": 5,
   "outputs": [
    {
     "output_type": "execute_result",
     "execution_count": 5,
     "data": {
      "application/vnd.deepnote.dataframe.v2+json": {
       "row_count": 2092,
       "column_count": 22,
       "columns": [
        {
         "name": "st_abbrev",
         "dtype": "object",
         "stats": {
          "unique_count": 42,
          "nan_count": 0,
          "categories": [
           {
            "name": "TX",
            "count": 181
           },
           {
            "name": "GA",
            "count": 133
           },
           {
            "name": "40 others",
            "count": 1778
           }
          ]
         }
        },
        {
         "name": "fips",
         "dtype": "object",
         "stats": {
          "unique_count": 2090,
          "nan_count": 0,
          "categories": [
           {
            "name": "17035",
            "count": 2
           },
           {
            "name": "55093",
            "count": 2
           },
           {
            "name": "2088 others",
            "count": 2088
           }
          ]
         }
        },
        {
         "name": "population",
         "dtype": "int64",
         "stats": {
          "unique_count": 2061,
          "nan_count": 0,
          "min": "3343",
          "max": "4441370",
          "histogram": [
           {
            "bin_start": 3343,
            "bin_end": 447145.7,
            "count": 1990
           },
           {
            "bin_start": 447145.7,
            "bin_end": 890948.4,
            "count": 62
           },
           {
            "bin_start": 890948.4,
            "bin_end": 1334751.1,
            "count": 23
           },
           {
            "bin_start": 1334751.1,
            "bin_end": 1778553.8,
            "count": 5
           },
           {
            "bin_start": 1778553.8,
            "bin_end": 2222356.5,
            "count": 5
           },
           {
            "bin_start": 2222356.5,
            "bin_end": 2666159.2,
            "count": 3
           },
           {
            "bin_start": 2666159.2,
            "bin_end": 3109961.9,
            "count": 0
           },
           {
            "bin_start": 3109961.9,
            "bin_end": 3553764.6,
            "count": 2
           },
           {
            "bin_start": 3553764.6,
            "bin_end": 3997567.3000000003,
            "count": 0
           },
           {
            "bin_start": 3997567.3000000003,
            "bin_end": 4441370,
            "count": 2
           }
          ]
         }
        },
        {
         "name": "income",
         "dtype": "int64",
         "stats": {
          "unique_count": 2028,
          "nan_count": 0,
          "min": "20972",
          "max": "122238",
          "histogram": [
           {
            "bin_start": 20972,
            "bin_end": 31098.6,
            "count": 90
           },
           {
            "bin_start": 31098.6,
            "bin_end": 41225.2,
            "count": 678
           },
           {
            "bin_start": 41225.2,
            "bin_end": 51351.8,
            "count": 816
           },
           {
            "bin_start": 51351.8,
            "bin_end": 61478.4,
            "count": 338
           },
           {
            "bin_start": 61478.4,
            "bin_end": 71605,
            "count": 93
           },
           {
            "bin_start": 71605,
            "bin_end": 81731.6,
            "count": 37
           },
           {
            "bin_start": 81731.6,
            "bin_end": 91858.2,
            "count": 25
           },
           {
            "bin_start": 91858.2,
            "bin_end": 101984.8,
            "count": 9
           },
           {
            "bin_start": 101984.8,
            "bin_end": 112111.40000000001,
            "count": 5
           },
           {
            "bin_start": 112111.40000000001,
            "bin_end": 122238,
            "count": 1
           }
          ]
         }
        },
        {
         "name": "hispanic",
         "dtype": "float64",
         "stats": {
          "unique_count": 339,
          "nan_count": 0,
          "min": "0.4",
          "max": "80.4",
          "histogram": [
           {
            "bin_start": 0.4,
            "bin_end": 8.4,
            "count": 1555
           },
           {
            "bin_start": 8.4,
            "bin_end": 16.4,
            "count": 266
           },
           {
            "bin_start": 16.4,
            "bin_end": 24.4,
            "count": 114
           },
           {
            "bin_start": 24.4,
            "bin_end": 32.4,
            "count": 54
           },
           {
            "bin_start": 32.4,
            "bin_end": 40.4,
            "count": 36
           },
           {
            "bin_start": 40.4,
            "bin_end": 48.4,
            "count": 20
           },
           {
            "bin_start": 48.4,
            "bin_end": 56.4,
            "count": 26
           },
           {
            "bin_start": 56.4,
            "bin_end": 64.4,
            "count": 13
           },
           {
            "bin_start": 64.4,
            "bin_end": 72.4,
            "count": 6
           },
           {
            "bin_start": 72.4,
            "bin_end": 80.4,
            "count": 2
           }
          ]
         }
        },
        {
         "name": "asian",
         "dtype": "float64",
         "stats": {
          "unique_count": 104,
          "nan_count": 0,
          "min": "0.1",
          "max": "19.6",
          "histogram": [
           {
            "bin_start": 0.1,
            "bin_end": 2.05,
            "count": 1761
           },
           {
            "bin_start": 2.05,
            "bin_end": 4,
            "count": 203
           },
           {
            "bin_start": 4,
            "bin_end": 5.949999999999999,
            "count": 69
           },
           {
            "bin_start": 5.949999999999999,
            "bin_end": 7.8999999999999995,
            "count": 27
           },
           {
            "bin_start": 7.8999999999999995,
            "bin_end": 9.85,
            "count": 8
           },
           {
            "bin_start": 9.85,
            "bin_end": 11.799999999999999,
            "count": 10
           },
           {
            "bin_start": 11.799999999999999,
            "bin_end": 13.75,
            "count": 2
           },
           {
            "bin_start": 13.75,
            "bin_end": 15.7,
            "count": 2
           },
           {
            "bin_start": 15.7,
            "bin_end": 17.650000000000002,
            "count": 7
           },
           {
            "bin_start": 17.650000000000002,
            "bin_end": 19.6,
            "count": 3
           }
          ]
         }
        },
        {
         "name": "black",
         "dtype": "float64",
         "stats": {
          "unique_count": 408,
          "nan_count": 0,
          "min": "0.1",
          "max": "74.9",
          "histogram": [
           {
            "bin_start": 0.1,
            "bin_end": 7.580000000000001,
            "count": 1346
           },
           {
            "bin_start": 7.580000000000001,
            "bin_end": 15.060000000000002,
            "count": 261
           },
           {
            "bin_start": 15.060000000000002,
            "bin_end": 22.540000000000006,
            "count": 150
           },
           {
            "bin_start": 22.540000000000006,
            "bin_end": 30.020000000000007,
            "count": 110
           },
           {
            "bin_start": 30.020000000000007,
            "bin_end": 37.50000000000001,
            "count": 96
           },
           {
            "bin_start": 37.50000000000001,
            "bin_end": 44.98000000000001,
            "count": 64
           },
           {
            "bin_start": 44.98000000000001,
            "bin_end": 52.46000000000001,
            "count": 31
           },
           {
            "bin_start": 52.46000000000001,
            "bin_end": 59.94000000000001,
            "count": 22
           },
           {
            "bin_start": 59.94000000000001,
            "bin_end": 67.42,
            "count": 6
           },
           {
            "bin_start": 67.42,
            "bin_end": 74.9,
            "count": 6
           }
          ]
         }
        },
        {
         "name": "white",
         "dtype": "float64",
         "stats": {
          "unique_count": 572,
          "nan_count": 0,
          "min": "14.8",
          "max": "98.1",
          "histogram": [
           {
            "bin_start": 14.8,
            "bin_end": 23.130000000000003,
            "count": 5
           },
           {
            "bin_start": 23.130000000000003,
            "bin_end": 31.46,
            "count": 17
           },
           {
            "bin_start": 31.46,
            "bin_end": 39.790000000000006,
            "count": 45
           },
           {
            "bin_start": 39.790000000000006,
            "bin_end": 48.120000000000005,
            "count": 85
           },
           {
            "bin_start": 48.120000000000005,
            "bin_end": 56.45,
            "count": 111
           },
           {
            "bin_start": 56.45,
            "bin_end": 64.78,
            "count": 198
           },
           {
            "bin_start": 64.78,
            "bin_end": 73.11,
            "count": 227
           },
           {
            "bin_start": 73.11,
            "bin_end": 81.44,
            "count": 278
           },
           {
            "bin_start": 81.44,
            "bin_end": 89.77,
            "count": 397
           },
           {
            "bin_start": 89.77,
            "bin_end": 98.1,
            "count": 729
           }
          ]
         }
        },
        {
         "name": "foreign",
         "dtype": "float64",
         "stats": {
          "unique_count": 203,
          "nan_count": 0,
          "min": "0.1",
          "max": "51.3",
          "histogram": [
           {
            "bin_start": 0.1,
            "bin_end": 5.219999999999999,
            "count": 1519
           },
           {
            "bin_start": 5.219999999999999,
            "bin_end": 10.339999999999998,
            "count": 398
           },
           {
            "bin_start": 10.339999999999998,
            "bin_end": 15.459999999999997,
            "count": 93
           },
           {
            "bin_start": 15.459999999999997,
            "bin_end": 20.58,
            "count": 40
           },
           {
            "bin_start": 20.58,
            "bin_end": 25.699999999999996,
            "count": 33
           },
           {
            "bin_start": 25.699999999999996,
            "bin_end": 30.819999999999997,
            "count": 6
           },
           {
            "bin_start": 30.819999999999997,
            "bin_end": 35.94,
            "count": 2
           },
           {
            "bin_start": 35.94,
            "bin_end": 41.059999999999995,
            "count": 0
           },
           {
            "bin_start": 41.059999999999995,
            "bin_end": 46.17999999999999,
            "count": 0
           },
           {
            "bin_start": 46.17999999999999,
            "bin_end": 51.3,
            "count": 1
           }
          ]
         }
        },
        {
         "name": "college",
         "dtype": "float64",
         "stats": {
          "unique_count": 364,
          "nan_count": 0,
          "min": "6.4",
          "max": "71.7",
          "histogram": [
           {
            "bin_start": 6.4,
            "bin_end": 12.93,
            "count": 429
           },
           {
            "bin_start": 12.93,
            "bin_end": 19.46,
            "count": 830
           },
           {
            "bin_start": 19.46,
            "bin_end": 25.989999999999995,
            "count": 417
           },
           {
            "bin_start": 25.989999999999995,
            "bin_end": 32.519999999999996,
            "count": 235
           },
           {
            "bin_start": 32.519999999999996,
            "bin_end": 39.05,
            "count": 94
           },
           {
            "bin_start": 39.05,
            "bin_end": 45.57999999999999,
            "count": 53
           },
           {
            "bin_start": 45.57999999999999,
            "bin_end": 52.10999999999999,
            "count": 24
           },
           {
            "bin_start": 52.10999999999999,
            "bin_end": 58.63999999999999,
            "count": 7
           },
           {
            "bin_start": 58.63999999999999,
            "bin_end": 65.17,
            "count": 2
           },
           {
            "bin_start": 65.17,
            "bin_end": 71.7,
            "count": 1
           }
          ]
         }
        },
        {
         "name": "density",
         "dtype": "float64",
         "stats": {
          "unique_count": 1385,
          "nan_count": 0,
          "min": "0.7",
          "max": "7993.6",
          "histogram": [
           {
            "bin_start": 0.7,
            "bin_end": 799.9900000000001,
            "count": 2004
           },
           {
            "bin_start": 799.9900000000001,
            "bin_end": 1599.2800000000002,
            "count": 56
           },
           {
            "bin_start": 1599.2800000000002,
            "bin_end": 2398.57,
            "count": 17
           },
           {
            "bin_start": 2398.57,
            "bin_end": 3197.86,
            "count": 9
           },
           {
            "bin_start": 3197.86,
            "bin_end": 3997.15,
            "count": 4
           },
           {
            "bin_start": 3997.15,
            "bin_end": 4796.4400000000005,
            "count": 1
           },
           {
            "bin_start": 4796.4400000000005,
            "bin_end": 5595.7300000000005,
            "count": 0
           },
           {
            "bin_start": 5595.7300000000005,
            "bin_end": 6395.02,
            "count": 0
           },
           {
            "bin_start": 6395.02,
            "bin_end": 7194.31,
            "count": 0
           },
           {
            "bin_start": 7194.31,
            "bin_end": 7993.6,
            "count": 1
           }
          ]
         }
        },
        {
         "name": "vets",
         "dtype": "int64",
         "stats": {
          "unique_count": 1846,
          "nan_count": 0,
          "min": "200",
          "max": "271518",
          "histogram": [
           {
            "bin_start": 200,
            "bin_end": 27331.8,
            "count": 1961
           },
           {
            "bin_start": 27331.8,
            "bin_end": 54463.6,
            "count": 92
           },
           {
            "bin_start": 54463.6,
            "bin_end": 81595.4,
            "count": 18
           },
           {
            "bin_start": 81595.4,
            "bin_end": 108727.2,
            "count": 13
           },
           {
            "bin_start": 108727.2,
            "bin_end": 135859,
            "count": 4
           },
           {
            "bin_start": 135859,
            "bin_end": 162990.8,
            "count": 1
           },
           {
            "bin_start": 162990.8,
            "bin_end": 190122.6,
            "count": 1
           },
           {
            "bin_start": 190122.6,
            "bin_end": 217254.4,
            "count": 0
           },
           {
            "bin_start": 217254.4,
            "bin_end": 244386.19999999998,
            "count": 1
           },
           {
            "bin_start": 244386.19999999998,
            "bin_end": 271518,
            "count": 1
           }
          ]
         }
        },
        {
         "name": "female",
         "dtype": "float64",
         "stats": {
          "unique_count": 125,
          "nan_count": 0,
          "min": "35.4",
          "max": "56.8",
          "histogram": [
           {
            "bin_start": 35.4,
            "bin_end": 37.54,
            "count": 4
           },
           {
            "bin_start": 37.54,
            "bin_end": 39.68,
            "count": 3
           },
           {
            "bin_start": 39.68,
            "bin_end": 41.82,
            "count": 12
           },
           {
            "bin_start": 41.82,
            "bin_end": 43.959999999999994,
            "count": 14
           },
           {
            "bin_start": 43.959999999999994,
            "bin_end": 46.099999999999994,
            "count": 47
           },
           {
            "bin_start": 46.099999999999994,
            "bin_end": 48.239999999999995,
            "count": 125
           },
           {
            "bin_start": 48.239999999999995,
            "bin_end": 50.379999999999995,
            "count": 682
           },
           {
            "bin_start": 50.379999999999995,
            "bin_end": 52.519999999999996,
            "count": 1149
           },
           {
            "bin_start": 52.519999999999996,
            "bin_end": 54.66,
            "count": 53
           },
           {
            "bin_start": 54.66,
            "bin_end": 56.8,
            "count": 3
           }
          ]
         }
        },
        {
         "name": "senior",
         "dtype": "float64",
         "stats": {
          "unique_count": 222,
          "nan_count": 0,
          "min": "6.0",
          "max": "52.9",
          "histogram": [
           {
            "bin_start": 6,
            "bin_end": 10.69,
            "count": 72
           },
           {
            "bin_start": 10.69,
            "bin_end": 15.379999999999999,
            "count": 575
           },
           {
            "bin_start": 15.379999999999999,
            "bin_end": 20.07,
            "count": 1056
           },
           {
            "bin_start": 20.07,
            "bin_end": 24.759999999999998,
            "count": 283
           },
           {
            "bin_start": 24.759999999999998,
            "bin_end": 29.449999999999996,
            "count": 86
           },
           {
            "bin_start": 29.449999999999996,
            "bin_end": 34.14,
            "count": 13
           },
           {
            "bin_start": 34.14,
            "bin_end": 38.83,
            "count": 6
           },
           {
            "bin_start": 38.83,
            "bin_end": 43.519999999999996,
            "count": 0
           },
           {
            "bin_start": 43.519999999999996,
            "bin_end": 48.209999999999994,
            "count": 0
           },
           {
            "bin_start": 48.209999999999994,
            "bin_end": 52.9,
            "count": 1
           }
          ]
         }
        },
        {
         "name": "children",
         "dtype": "float64",
         "stats": {
          "unique_count": 181,
          "nan_count": 0,
          "min": "7.4",
          "max": "35.4",
          "histogram": [
           {
            "bin_start": 7.4,
            "bin_end": 10.2,
            "count": 1
           },
           {
            "bin_start": 10.2,
            "bin_end": 13,
            "count": 1
           },
           {
            "bin_start": 13,
            "bin_end": 15.799999999999999,
            "count": 29
           },
           {
            "bin_start": 15.799999999999999,
            "bin_end": 18.6,
            "count": 152
           },
           {
            "bin_start": 18.6,
            "bin_end": 21.4,
            "count": 531
           },
           {
            "bin_start": 21.4,
            "bin_end": 24.199999999999996,
            "count": 830
           },
           {
            "bin_start": 24.199999999999996,
            "bin_end": 27,
            "count": 406
           },
           {
            "bin_start": 27,
            "bin_end": 29.799999999999997,
            "count": 104
           },
           {
            "bin_start": 29.799999999999997,
            "bin_end": 32.6,
            "count": 22
           },
           {
            "bin_start": 32.6,
            "bin_end": 35.4,
            "count": 16
           }
          ]
         }
        },
        {
         "name": "st_cnty",
         "dtype": "object",
         "stats": {
          "unique_count": 2090,
          "nan_count": 0,
          "categories": [
           {
            "name": "IL_Cumberland",
            "count": 2
           },
           {
            "name": "WI_Pierce",
            "count": 2
           },
           {
            "name": "2088 others",
            "count": 2088
           }
          ]
         }
        },
        {
         "name": "state",
         "dtype": "object",
         "stats": {
          "unique_count": 42,
          "nan_count": 0,
          "categories": [
           {
            "name": "Texas",
            "count": 181
           },
           {
            "name": "Georgia",
            "count": 133
           },
           {
            "name": "40 others",
            "count": 1778
           }
          ]
         }
        },
        {
         "name": "winner",
         "dtype": "object",
         "stats": {
          "unique_count": 4,
          "nan_count": 0,
          "categories": [
           {
            "name": "Donald Trump",
            "count": 1551
           },
           {
            "name": "Ted Cruz",
            "count": 455
           },
           {
            "name": "2 others",
            "count": 86
           }
          ]
         }
        },
        {
         "name": "votes",
         "dtype": "int64",
         "stats": {
          "unique_count": 1821,
          "nan_count": 0,
          "min": "274",
          "max": "147721",
          "histogram": [
           {
            "bin_start": 274,
            "bin_end": 15018.7,
            "count": 1878
           },
           {
            "bin_start": 15018.7,
            "bin_end": 29763.4,
            "count": 132
           },
           {
            "bin_start": 29763.4,
            "bin_end": 44508.100000000006,
            "count": 43
           },
           {
            "bin_start": 44508.100000000006,
            "bin_end": 59252.8,
            "count": 16
           },
           {
            "bin_start": 59252.8,
            "bin_end": 73997.5,
            "count": 12
           },
           {
            "bin_start": 73997.5,
            "bin_end": 88742.20000000001,
            "count": 4
           },
           {
            "bin_start": 88742.20000000001,
            "bin_end": 103486.90000000001,
            "count": 2
           },
           {
            "bin_start": 103486.90000000001,
            "bin_end": 118231.6,
            "count": 1
           },
           {
            "bin_start": 118231.6,
            "bin_end": 132976.30000000002,
            "count": 1
           },
           {
            "bin_start": 132976.30000000002,
            "bin_end": 147721,
            "count": 3
           }
          ]
         }
        },
        {
         "name": "fraction_votes",
         "dtype": "float64",
         "stats": {
          "unique_count": 536,
          "nan_count": 0,
          "min": "0.262",
          "max": "0.8959999999999999",
          "histogram": [
           {
            "bin_start": 0.262,
            "bin_end": 0.3254,
            "count": 69
           },
           {
            "bin_start": 0.3254,
            "bin_end": 0.3888,
            "count": 261
           },
           {
            "bin_start": 0.3888,
            "bin_end": 0.45219999999999994,
            "count": 493
           },
           {
            "bin_start": 0.45219999999999994,
            "bin_end": 0.5156,
            "count": 566
           },
           {
            "bin_start": 0.5156,
            "bin_end": 0.579,
            "count": 285
           },
           {
            "bin_start": 0.579,
            "bin_end": 0.6423999999999999,
            "count": 118
           },
           {
            "bin_start": 0.6423999999999999,
            "bin_end": 0.7057999999999999,
            "count": 96
           },
           {
            "bin_start": 0.7057999999999999,
            "bin_end": 0.7691999999999999,
            "count": 97
           },
           {
            "bin_start": 0.7691999999999999,
            "bin_end": 0.8325999999999999,
            "count": 91
           },
           {
            "bin_start": 0.8325999999999999,
            "bin_end": 0.8959999999999999,
            "count": 16
           }
          ]
         }
        },
        {
         "name": "total_votes",
         "dtype": "int64",
         "stats": {
          "unique_count": 1922,
          "nan_count": 0,
          "min": "1000",
          "max": "317328",
          "histogram": [
           {
            "bin_start": 1000,
            "bin_end": 32632.8,
            "count": 1912
           },
           {
            "bin_start": 32632.8,
            "bin_end": 64265.6,
            "count": 108
           },
           {
            "bin_start": 64265.6,
            "bin_end": 95898.4,
            "count": 37
           },
           {
            "bin_start": 95898.4,
            "bin_end": 127531.2,
            "count": 19
           },
           {
            "bin_start": 127531.2,
            "bin_end": 159164,
            "count": 9
           },
           {
            "bin_start": 159164,
            "bin_end": 190796.8,
            "count": 4
           },
           {
            "bin_start": 190796.8,
            "bin_end": 222429.6,
            "count": 1
           },
           {
            "bin_start": 222429.6,
            "bin_end": 254062.4,
            "count": 1
           },
           {
            "bin_start": 254062.4,
            "bin_end": 285695.2,
            "count": 0
           },
           {
            "bin_start": 285695.2,
            "bin_end": 317328,
            "count": 1
           }
          ]
         }
        },
        {
         "name": "voter_turnout",
         "dtype": "float64",
         "stats": {
          "unique_count": 2090,
          "nan_count": 0,
          "min": "0.0508086031308433",
          "max": "0.4763583836385243",
          "histogram": [
           {
            "bin_start": 0.0508086031308433,
            "bin_end": 0.0933635811816114,
            "count": 246
           },
           {
            "bin_start": 0.0933635811816114,
            "bin_end": 0.1359185592323795,
            "count": 322
           },
           {
            "bin_start": 0.1359185592323795,
            "bin_end": 0.17847353728314758,
            "count": 428
           },
           {
            "bin_start": 0.17847353728314758,
            "bin_end": 0.2210285153339157,
            "count": 470
           },
           {
            "bin_start": 0.2210285153339157,
            "bin_end": 0.2635834933846838,
            "count": 336
           },
           {
            "bin_start": 0.2635834933846838,
            "bin_end": 0.30613847143545186,
            "count": 189
           },
           {
            "bin_start": 0.30613847143545186,
            "bin_end": 0.34869344948622,
            "count": 76
           },
           {
            "bin_start": 0.34869344948622,
            "bin_end": 0.3912484275369881,
            "count": 18
           },
           {
            "bin_start": 0.3912484275369881,
            "bin_end": 0.43380340558775615,
            "count": 6
           },
           {
            "bin_start": 0.43380340558775615,
            "bin_end": 0.4763583836385243,
            "count": 1
           }
          ]
         }
        },
        {
         "name": "_deepnote_index_column",
         "dtype": "int64"
        }
       ],
       "rows_top": [
        {
         "st_abbrev": "AL",
         "fips": "01001",
         "population": 55395,
         "income": 53682,
         "hispanic": 2.7,
         "asian": 1.1,
         "black": 18.7,
         "white": 75.6,
         "foreign": 1.6,
         "college": 20.9,
         "density": 91.8,
         "vets": 5922,
         "female": 51.4,
         "senior": 13.8,
         "children": 25.2,
         "st_cnty": "AL_Autauga",
         "state": "Alabama",
         "winner": "Donald Trump",
         "votes": 5387,
         "fraction_votes": 0.445,
         "total_votes": 11839,
         "voter_turnout": 0.2857214569356778,
         "_deepnote_index_column": 0
        },
        {
         "st_abbrev": "AL",
         "fips": "01003",
         "population": 200111,
         "income": 50221,
         "hispanic": 4.6,
         "asian": 0.9,
         "black": 9.6,
         "white": 83,
         "foreign": 3.6,
         "college": 27.7,
         "density": 114.6,
         "vets": 19346,
         "female": 51.2,
         "senior": 18.7,
         "children": 22.2,
         "st_cnty": "AL_Baldwin",
         "state": "Alabama",
         "winner": "Donald Trump",
         "votes": 23618,
         "fraction_votes": 0.469,
         "total_votes": 49100,
         "voter_turnout": 0.3153776646249249,
         "_deepnote_index_column": 1
        },
        {
         "st_abbrev": "AL",
         "fips": "01005",
         "population": 26887,
         "income": 32911,
         "hispanic": 4.5,
         "asian": 0.5,
         "black": 47.6,
         "white": 46.6,
         "foreign": 2.9,
         "college": 13.4,
         "density": 31,
         "vets": 2120,
         "female": 46.6,
         "senior": 16.5,
         "children": 21.2,
         "st_cnty": "AL_Barbour",
         "state": "Alabama",
         "winner": "Donald Trump",
         "votes": 1710,
         "fraction_votes": 0.501,
         "total_votes": 3357,
         "voter_turnout": 0.1584465460729705,
         "_deepnote_index_column": 2
        },
        {
         "st_abbrev": "AL",
         "fips": "01007",
         "population": 22506,
         "income": 36447,
         "hispanic": 2.1,
         "asian": 0.2,
         "black": 22.1,
         "white": 74.5,
         "foreign": 1.2,
         "college": 12.1,
         "density": 36.8,
         "vets": 1327,
         "female": 45.9,
         "senior": 14.8,
         "children": 21,
         "st_cnty": "AL_Bibb",
         "state": "Alabama",
         "winner": "Donald Trump",
         "votes": 1959,
         "fraction_votes": 0.494,
         "total_votes": 3891,
         "voter_turnout": 0.2188445950278238,
         "_deepnote_index_column": 3
        },
        {
         "st_abbrev": "AL",
         "fips": "01009",
         "population": 57719,
         "income": 44145,
         "hispanic": 8.7,
         "asian": 0.3,
         "black": 1.8,
         "white": 87.8,
         "foreign": 4.3,
         "college": 12.1,
         "density": 88.9,
         "vets": 4540,
         "female": 50.5,
         "senior": 17,
         "children": 23.6,
         "st_cnty": "AL_Blount",
         "state": "Alabama",
         "winner": "Donald Trump",
         "votes": 7390,
         "fraction_votes": 0.487,
         "total_votes": 14791,
         "voter_turnout": 0.3354172394528502,
         "_deepnote_index_column": 4
        },
        {
         "st_abbrev": "AL",
         "fips": "01013",
         "population": 20296,
         "income": 29918,
         "hispanic": 1.2,
         "asian": 0.9,
         "black": 44,
         "white": 53.1,
         "foreign": 0.8,
         "college": 14,
         "density": 27,
         "vets": 1497,
         "female": 53.6,
         "senior": 18,
         "children": 23.6,
         "st_cnty": "AL_Butler",
         "state": "Alabama",
         "winner": "Donald Trump",
         "votes": 1720,
         "fraction_votes": 0.5379999999999999,
         "total_votes": 3144,
         "voter_turnout": 0.2027583388881207,
         "_deepnote_index_column": 5
        },
        {
         "st_abbrev": "AL",
         "fips": "01015",
         "population": 115916,
         "income": 39962,
         "hispanic": 3.5,
         "asian": 0.9,
         "black": 21.1,
         "white": 72.9,
         "foreign": 2.4,
         "college": 16.1,
         "density": 195.7,
         "vets": 11385,
         "female": 51.8,
         "senior": 16,
         "children": 22.2,
         "st_cnty": "AL_Calhoun",
         "state": "Alabama",
         "winner": "Donald Trump",
         "votes": 8960,
         "fraction_votes": 0.451,
         "total_votes": 19377,
         "voter_turnout": 0.2148639503244571,
         "_deepnote_index_column": 6
        },
        {
         "st_abbrev": "AL",
         "fips": "01017",
         "population": 34076,
         "income": 32402,
         "hispanic": 2,
         "asian": 0.8,
         "black": 39.5,
         "white": 56.8,
         "foreign": 1.1,
         "college": 11.8,
         "density": 57.4,
         "vets": 2691,
         "female": 52.3,
         "senior": 18.3,
         "children": 21.4,
         "st_cnty": "AL_Chambers",
         "state": "Alabama",
         "winner": "Donald Trump",
         "votes": 2169,
         "fraction_votes": 0.476,
         "total_votes": 4441,
         "voter_turnout": 0.1658095793656269,
         "_deepnote_index_column": 7
        },
        {
         "st_abbrev": "AL",
         "fips": "01019",
         "population": 26037,
         "income": 34907,
         "hispanic": 1.5,
         "asian": 0.3,
         "black": 4.6,
         "white": 91.6,
         "foreign": 0.7,
         "college": 12.8,
         "density": 46.9,
         "vets": 2174,
         "female": 50.2,
         "senior": 20.9,
         "children": 20.4,
         "st_cnty": "AL_Cherokee",
         "state": "Alabama",
         "winner": "Donald Trump",
         "votes": 2777,
         "fraction_votes": 0.521,
         "total_votes": 5193,
         "voter_turnout": 0.2505614835324218,
         "_deepnote_index_column": 8
        },
        {
         "st_abbrev": "AL",
         "fips": "01021",
         "population": 43931,
         "income": 41250,
         "hispanic": 7.7,
         "asian": 0.4,
         "black": 10.6,
         "white": 80.3,
         "foreign": 5.2,
         "college": 12.9,
         "density": 63,
         "vets": 3308,
         "female": 50.8,
         "senior": 15.2,
         "children": 24.2,
         "st_cnty": "AL_Chilton",
         "state": "Alabama",
         "winner": "Donald Trump",
         "votes": 5273,
         "fraction_votes": 0.493,
         "total_votes": 10404,
         "voter_turnout": 0.3124352659294387,
         "_deepnote_index_column": 9
        },
        {
         "st_abbrev": "AL",
         "fips": "01023",
         "population": 13323,
         "income": 33941,
         "hispanic": 0.8,
         "asian": 0.3,
         "black": 42.4,
         "white": 56.1,
         "foreign": 0.3,
         "college": 11.8,
         "density": 15.2,
         "vets": 938,
         "female": 52.5,
         "senior": 20.8,
         "children": 20.6,
         "st_cnty": "AL_Choctaw",
         "state": "Alabama",
         "winner": "Donald Trump",
         "votes": 1070,
         "fraction_votes": 0.499,
         "total_votes": 2073,
         "voter_turnout": 0.1959642148357672,
         "_deepnote_index_column": 10
        },
        {
         "st_abbrev": "AL",
         "fips": "01025",
         "population": 24945,
         "income": 29357,
         "hispanic": 1.3,
         "asian": 0.5,
         "black": 44.2,
         "white": 53.1,
         "foreign": 0.3,
         "college": 11.2,
         "density": 20.9,
         "vets": 1583,
         "female": 52.8,
         "senior": 18,
         "children": 22.6,
         "st_cnty": "AL_Clarke",
         "state": "Alabama",
         "winner": "Donald Trump",
         "votes": 2308,
         "fraction_votes": 0.502,
         "total_votes": 4534,
         "voter_turnout": 0.2348318756043657,
         "_deepnote_index_column": 11
        },
        {
         "st_abbrev": "AL",
         "fips": "01027",
         "population": 13552,
         "income": 34002,
         "hispanic": 3.4,
         "asian": 0.3,
         "black": 14.5,
         "white": 79.7,
         "foreign": 2.2,
         "college": 9.2,
         "density": 23.1,
         "vets": 1076,
         "female": 50.6,
         "senior": 19.4,
         "children": 21.6,
         "st_cnty": "AL_Clay",
         "state": "Alabama",
         "winner": "Donald Trump",
         "votes": 1920,
         "fraction_votes": 0.476,
         "total_votes": 3878,
         "voter_turnout": 0.3649962050936077,
         "_deepnote_index_column": 12
        },
        {
         "st_abbrev": "AL",
         "fips": "01029",
         "population": 15080,
         "income": 38019,
         "hispanic": 2.5,
         "asian": 0.2,
         "black": 3.6,
         "white": 92.3,
         "foreign": 1.5,
         "college": 9,
         "density": 26.7,
         "vets": 989,
         "female": 50.4,
         "senior": 18.4,
         "children": 23.3,
         "st_cnty": "AL_Cleburne",
         "state": "Alabama",
         "winner": "Donald Trump",
         "votes": 2120,
         "fraction_votes": 0.483,
         "total_votes": 4189,
         "voter_turnout": 0.3621709855131605,
         "_deepnote_index_column": 13
        },
        {
         "st_abbrev": "AL",
         "fips": "01031",
         "population": 50909,
         "income": 43768,
         "hispanic": 6.4,
         "asian": 1.6,
         "black": 17.7,
         "white": 71.3,
         "foreign": 5.1,
         "college": 22.5,
         "density": 73.6,
         "vets": 6066,
         "female": 50.5,
         "senior": 15.9,
         "children": 23.7,
         "st_cnty": "AL_Coffee",
         "state": "Alabama",
         "winner": "Donald Trump",
         "votes": 4304,
         "fraction_votes": 0.414,
         "total_votes": 10078,
         "voter_turnout": 0.2594509407439332,
         "_deepnote_index_column": 14
        },
        {
         "st_abbrev": "AL",
         "fips": "01033",
         "population": 54543,
         "income": 39077,
         "hispanic": 2.6,
         "asian": 0.5,
         "black": 16.3,
         "white": 78.8,
         "foreign": 2,
         "college": 17.7,
         "density": 91.8,
         "vets": 4376,
         "female": 51.8,
         "senior": 18.5,
         "children": 21.7,
         "st_cnty": "AL_Colbert",
         "state": "Alabama",
         "winner": "Donald Trump",
         "votes": 3858,
         "fraction_votes": 0.474,
         "total_votes": 8036,
         "voter_turnout": 0.1881651298403787,
         "_deepnote_index_column": 15
        },
        {
         "st_abbrev": "AL",
         "fips": "01035",
         "population": 12670,
         "income": 24658,
         "hispanic": 1.8,
         "asian": 0.1,
         "black": 46.2,
         "white": 51.1,
         "foreign": 0.6,
         "college": 8.8,
         "density": 15.6,
         "vets": 1101,
         "female": 51.9,
         "senior": 20.4,
         "children": 21.4,
         "st_cnty": "AL_Conecuh",
         "state": "Alabama",
         "winner": "Donald Trump",
         "votes": 768,
         "fraction_votes": 0.59,
         "total_votes": 1271,
         "voter_turnout": 0.1276281251820031,
         "_deepnote_index_column": 16
        },
        {
         "st_abbrev": "AL",
         "fips": "01037",
         "population": 10886,
         "income": 37277,
         "hispanic": 2.3,
         "asian": 0.2,
         "black": 31.8,
         "white": 64.8,
         "foreign": 1.8,
         "college": 9.8,
         "density": 17.7,
         "vets": 934,
         "female": 49.5,
         "senior": 18.5,
         "children": 18.3,
         "st_cnty": "AL_Coosa",
         "state": "Alabama",
         "winner": "Donald Trump",
         "votes": 1233,
         "fraction_votes": 0.5529999999999999,
         "total_votes": 2176,
         "voter_turnout": 0.244663117102559,
         "_deepnote_index_column": 17
        },
        {
         "st_abbrev": "AL",
         "fips": "01039",
         "population": 37914,
         "income": 35869,
         "hispanic": 1.6,
         "asian": 0.5,
         "black": 13,
         "white": 83.1,
         "foreign": 1.4,
         "college": 14.2,
         "density": 36.6,
         "vets": 3433,
         "female": 51.6,
         "senior": 19.8,
         "children": 22.1,
         "st_cnty": "AL_Covington",
         "state": "Alabama",
         "winner": "Donald Trump",
         "votes": 4608,
         "fraction_votes": 0.481,
         "total_votes": 9257,
         "voter_turnout": 0.3134246866244076,
         "_deepnote_index_column": 18
        },
        {
         "st_abbrev": "AL",
         "fips": "01041",
         "population": 13977,
         "income": 36275,
         "hispanic": 1.7,
         "asian": 1.8,
         "black": 24,
         "white": 70.6,
         "foreign": 2.3,
         "college": 12.7,
         "density": 22.8,
         "vets": 1098,
         "female": 51.1,
         "senior": 18,
         "children": 22.7,
         "st_cnty": "AL_Crenshaw",
         "state": "Alabama",
         "winner": "Donald Trump",
         "votes": 1496,
         "fraction_votes": 0.545,
         "total_votes": 2704,
         "voter_turnout": 0.2502725555132572,
         "_deepnote_index_column": 19
        },
        {
         "st_abbrev": "AL",
         "fips": "01043",
         "population": 81289,
         "income": 38847,
         "hispanic": 4.4,
         "asian": 0.5,
         "black": 1.4,
         "white": 92.1,
         "foreign": 3,
         "college": 14.8,
         "density": 109.4,
         "vets": 6167,
         "female": 50.5,
         "senior": 17.6,
         "children": 22.5,
         "st_cnty": "AL_Cullman",
         "state": "Alabama",
         "winner": "Donald Trump",
         "votes": 10618,
         "fraction_votes": 0.506,
         "total_votes": 20557,
         "voter_turnout": 0.3263068962629947,
         "_deepnote_index_column": 20
        },
        {
         "st_abbrev": "AL",
         "fips": "01045",
         "population": 49484,
         "income": 44889,
         "hispanic": 6.1,
         "asian": 1.3,
         "black": 19.7,
         "white": 70.2,
         "foreign": 3.7,
         "college": 17,
         "density": 89.6,
         "vets": 6730,
         "female": 50.5,
         "senior": 15.4,
         "children": 23.6,
         "st_cnty": "AL_Dale",
         "state": "Alabama",
         "winner": "Donald Trump",
         "votes": 4151,
         "fraction_votes": 0.453,
         "total_votes": 8836,
         "voter_turnout": 0.2337209002137663,
         "_deepnote_index_column": 21
        }
       ],
       "rows_bottom": [
        {
         "st_abbrev": "WI",
         "fips": "55097",
         "population": 70482,
         "income": 50996,
         "hispanic": 3,
         "asian": 2.9,
         "black": 0.8,
         "white": 91.9,
         "foreign": 2.8,
         "college": 27.5,
         "density": 87.4,
         "vets": 4757,
         "female": 49.8,
         "senior": 14.6,
         "children": 19.7,
         "st_cnty": "WI_Portage",
         "state": "Wisconsin",
         "winner": "Ted Cruz",
         "votes": 5866,
         "fraction_votes": 0.462,
         "total_votes": 12339,
         "voter_turnout": 0.2180149119443442,
         "_deepnote_index_column": 2069
        },
        {
         "st_abbrev": "WI",
         "fips": "55099",
         "population": 13675,
         "income": 42644,
         "hispanic": 1.6,
         "asian": 0.7,
         "black": 0.5,
         "white": 95.3,
         "foreign": 1.2,
         "college": 15.3,
         "density": 11.3,
         "vets": 1516,
         "female": 49.3,
         "senior": 24,
         "children": 17.7,
         "st_cnty": "WI_Price",
         "state": "Wisconsin",
         "winner": "Donald Trump",
         "votes": 1673,
         "fraction_votes": 0.529,
         "total_votes": 3066,
         "voter_turnout": 0.2724237584438259,
         "_deepnote_index_column": 2070
        },
        {
         "st_abbrev": "WI",
         "fips": "55101",
         "population": 195163,
         "income": 54090,
         "hispanic": 12.5,
         "asian": 1.3,
         "black": 11.7,
         "white": 73.1,
         "foreign": 5,
         "college": 23,
         "density": 587.7,
         "vets": 14054,
         "female": 50.5,
         "senior": 14.7,
         "children": 23.9,
         "st_cnty": "WI_Racine",
         "state": "Wisconsin",
         "winner": "Ted Cruz",
         "votes": 18698,
         "fraction_votes": 0.511,
         "total_votes": 35723,
         "voter_turnout": 0.2405280782747839,
         "_deepnote_index_column": 2071
        },
        {
         "st_abbrev": "WI",
         "fips": "55103",
         "population": 17662,
         "income": 45271,
         "hispanic": 2.4,
         "asian": 0.6,
         "black": 0.6,
         "white": 95.2,
         "foreign": 1.8,
         "college": 15,
         "density": 30.7,
         "vets": 1366,
         "female": 49.7,
         "senior": 19.5,
         "children": 22.3,
         "st_cnty": "WI_Richland",
         "state": "Wisconsin",
         "winner": "Donald Trump",
         "votes": 1434,
         "fraction_votes": 0.446,
         "total_votes": 3094,
         "voter_turnout": 0.2254547606149916,
         "_deepnote_index_column": 2072
        },
        {
         "st_abbrev": "WI",
         "fips": "55105",
         "population": 161188,
         "income": 49435,
         "hispanic": 8.2,
         "asian": 1.2,
         "black": 5.1,
         "white": 83.6,
         "foreign": 4.4,
         "college": 19.4,
         "density": 223.3,
         "vets": 11930,
         "female": 50.9,
         "senior": 15.1,
         "children": 23.9,
         "st_cnty": "WI_Rock",
         "state": "Wisconsin",
         "winner": "Donald Trump",
         "votes": 10264,
         "fraction_votes": 0.416,
         "total_votes": 24045,
         "voter_turnout": 0.1960231744474673,
         "_deepnote_index_column": 2073
        },
        {
         "st_abbrev": "WI",
         "fips": "55107",
         "population": 14333,
         "income": 38658,
         "hispanic": 1.7,
         "asian": 0.4,
         "black": 0.6,
         "white": 95.8,
         "foreign": 1.5,
         "college": 14.3,
         "density": 16.2,
         "vets": 1324,
         "female": 49.8,
         "senior": 22.1,
         "children": 21.1,
         "st_cnty": "WI_Rusk",
         "state": "Wisconsin",
         "winner": "Donald Trump",
         "votes": 1617,
         "fraction_votes": 0.495,
         "total_votes": 3176,
         "voter_turnout": 0.2808448016785606,
         "_deepnote_index_column": 2074
        },
        {
         "st_abbrev": "WI",
         "fips": "55109",
         "population": 86759,
         "income": 68426,
         "hispanic": 2.3,
         "asian": 1,
         "black": 0.7,
         "white": 94.4,
         "foreign": 2.1,
         "college": 33,
         "density": 116.8,
         "vets": 5830,
         "female": 50.1,
         "senior": 12.2,
         "children": 25.9,
         "st_cnty": "WI_St. Croix",
         "state": "Wisconsin",
         "winner": "Ted Cruz",
         "votes": 6892,
         "fraction_votes": 0.405,
         "total_votes": 16247,
         "voter_turnout": 0.2527204783181866,
         "_deepnote_index_column": 2075
        },
        {
         "st_abbrev": "WI",
         "fips": "55111",
         "population": 63379,
         "income": 52140,
         "hispanic": 4.9,
         "asian": 0.8,
         "black": 0.8,
         "white": 91.5,
         "foreign": 3.9,
         "college": 21,
         "density": 74.6,
         "vets": 4960,
         "female": 50.3,
         "senior": 17,
         "children": 23,
         "st_cnty": "WI_Sauk",
         "state": "Wisconsin",
         "winner": "Donald Trump",
         "votes": 4697,
         "fraction_votes": 0.421,
         "total_votes": 10793,
         "voter_turnout": 0.2211597392966616,
         "_deepnote_index_column": 2076
        },
        {
         "st_abbrev": "WI",
         "fips": "55113",
         "population": 16437,
         "income": 39904,
         "hispanic": 2.1,
         "asian": 0.4,
         "black": 0.6,
         "white": 77.4,
         "foreign": 1.3,
         "college": 22,
         "density": 13.2,
         "vets": 1662,
         "female": 49.3,
         "senior": 23.3,
         "children": 19.9,
         "st_cnty": "WI_Sawyer",
         "state": "Wisconsin",
         "winner": "Donald Trump",
         "votes": 2034,
         "fraction_votes": 0.539,
         "total_votes": 3652,
         "voter_turnout": 0.2773803537085609,
         "_deepnote_index_column": 2077
        },
        {
         "st_abbrev": "WI",
         "fips": "55115",
         "population": 41579,
         "income": 46559,
         "hispanic": 2.6,
         "asian": 0.5,
         "black": 0.4,
         "white": 87.3,
         "foreign": 1.4,
         "college": 15.3,
         "density": 47,
         "vets": 3646,
         "female": 50,
         "senior": 19.8,
         "children": 21.9,
         "st_cnty": "WI_Shawano",
         "state": "Wisconsin",
         "winner": "Donald Trump",
         "votes": 4269,
         "fraction_votes": 0.459,
         "total_votes": 9110,
         "voter_turnout": 0.2805390377461734,
         "_deepnote_index_column": 2078
        },
        {
         "st_abbrev": "WI",
         "fips": "55117",
         "population": 115290,
         "income": 52920,
         "hispanic": 6,
         "asian": 5.1,
         "black": 1.8,
         "white": 85.6,
         "foreign": 5.2,
         "college": 22.4,
         "density": 225.9,
         "vets": 8535,
         "female": 49.8,
         "senior": 16.2,
         "children": 22.8,
         "st_cnty": "WI_Sheboygan",
         "state": "Wisconsin",
         "winner": "Ted Cruz",
         "votes": 15545,
         "fraction_votes": 0.597,
         "total_votes": 25332,
         "voter_turnout": 0.2846168054696042,
         "_deepnote_index_column": 2079
        },
        {
         "st_abbrev": "WI",
         "fips": "55119",
         "population": 20540,
         "income": 44869,
         "hispanic": 1.8,
         "asian": 0.4,
         "black": 0.4,
         "white": 96.6,
         "foreign": 1.4,
         "college": 13.6,
         "density": 21.2,
         "vets": 1509,
         "female": 49.1,
         "senior": 18.3,
         "children": 23.7,
         "st_cnty": "WI_Taylor",
         "state": "Wisconsin",
         "winner": "Donald Trump",
         "votes": 2100,
         "fraction_votes": 0.464,
         "total_votes": 4315,
         "voter_turnout": 0.2753314505724214,
         "_deepnote_index_column": 2080
        },
        {
         "st_abbrev": "WI",
         "fips": "55121",
         "population": 29509,
         "income": 49143,
         "hispanic": 6.8,
         "asian": 0.7,
         "black": 0.5,
         "white": 91.3,
         "foreign": 3.5,
         "college": 17.5,
         "density": 39.3,
         "vets": 2116,
         "female": 49.6,
         "senior": 16.9,
         "children": 24.4,
         "st_cnty": "WI_Trempealeau",
         "state": "Wisconsin",
         "winner": "Donald Trump",
         "votes": 2414,
         "fraction_votes": 0.499,
         "total_votes": 4722,
         "voter_turnout": 0.2116653138375324,
         "_deepnote_index_column": 2081
        },
        {
         "st_abbrev": "WI",
         "fips": "55123",
         "population": 30362,
         "income": 45488,
         "hispanic": 1.6,
         "asian": 0.4,
         "black": 0.4,
         "white": 96.5,
         "foreign": 0.9,
         "college": 19.5,
         "density": 37.6,
         "vets": 2341,
         "female": 50.2,
         "senior": 18.5,
         "children": 25.9,
         "st_cnty": "WI_Vernon",
         "state": "Wisconsin",
         "winner": "Donald Trump",
         "votes": 2437,
         "fraction_votes": 0.476,
         "total_votes": 4950,
         "voter_turnout": 0.2200171906764982,
         "_deepnote_index_column": 2082
        },
        {
         "st_abbrev": "WI",
         "fips": "55125",
         "population": 21398,
         "income": 40833,
         "hispanic": 1.9,
         "asian": 0.4,
         "black": 0.4,
         "white": 85.4,
         "foreign": 2,
         "college": 24.1,
         "density": 25,
         "vets": 2572,
         "female": 49.5,
         "senior": 29,
         "children": 16.8,
         "st_cnty": "WI_Vilas",
         "state": "Wisconsin",
         "winner": "Donald Trump",
         "votes": 3241,
         "fraction_votes": 0.521,
         "total_votes": 6079,
         "voter_turnout": 0.3414566961685851,
         "_deepnote_index_column": 2083
        },
        {
         "st_abbrev": "WI",
         "fips": "55127",
         "population": 103527,
         "income": 54020,
         "hispanic": 11.1,
         "asian": 1.1,
         "black": 1.3,
         "white": 85.6,
         "foreign": 6.1,
         "college": 26.2,
         "density": 184.2,
         "vets": 7046,
         "female": 50,
         "senior": 15.3,
         "children": 21.9,
         "st_cnty": "WI_Walworth",
         "state": "Wisconsin",
         "winner": "Ted Cruz",
         "votes": 10719,
         "fraction_votes": 0.485,
         "total_votes": 21581,
         "voter_turnout": 0.2669112637975629,
         "_deepnote_index_column": 2084
        },
        {
         "st_abbrev": "WI",
         "fips": "55129",
         "population": 15694,
         "income": 41924,
         "hispanic": 1.6,
         "asian": 0.5,
         "black": 0.5,
         "white": 94.9,
         "foreign": 1.1,
         "college": 20.3,
         "density": 20,
         "vets": 1687,
         "female": 50.4,
         "senior": 23.9,
         "children": 19.5,
         "st_cnty": "WI_Washburn",
         "state": "Wisconsin",
         "winner": "Donald Trump",
         "votes": 1926,
         "fraction_votes": 0.4970000000000001,
         "total_votes": 3728,
         "voter_turnout": 0.2950844845559525,
         "_deepnote_index_column": 2085
        },
        {
         "st_abbrev": "WI",
         "fips": "55131",
         "population": 133251,
         "income": 66159,
         "hispanic": 3,
         "asian": 1.2,
         "black": 1.1,
         "white": 93.4,
         "foreign": 2.7,
         "college": 27.6,
         "density": 306.2,
         "vets": 8853,
         "female": 50.3,
         "senior": 15.7,
         "children": 23,
         "st_cnty": "WI_Washington",
         "state": "Wisconsin",
         "winner": "Ted Cruz",
         "votes": 25505,
         "fraction_votes": 0.626,
         "total_votes": 39908,
         "voter_turnout": 0.3889544650964828,
         "_deepnote_index_column": 2086
        },
        {
         "st_abbrev": "WI",
         "fips": "55133",
         "population": 395118,
         "income": 75850,
         "hispanic": 4.6,
         "asian": 3.3,
         "black": 1.4,
         "white": 89.4,
         "foreign": 4.6,
         "college": 40.2,
         "density": 709.4,
         "vets": 26579,
         "female": 50.9,
         "senior": 16.5,
         "children": 22.4,
         "st_cnty": "WI_Waukesha",
         "state": "Wisconsin",
         "winner": "Ted Cruz",
         "votes": 75123,
         "fraction_votes": 0.61,
         "total_votes": 120830,
         "voter_turnout": 0.3940816740482537,
         "_deepnote_index_column": 2087
        },
        {
         "st_abbrev": "WI",
         "fips": "55135",
         "population": 52066,
         "income": 50822,
         "hispanic": 3,
         "asian": 0.5,
         "black": 0.4,
         "white": 94.8,
         "foreign": 1.6,
         "college": 16.6,
         "density": 70.1,
         "vets": 4961,
         "female": 49.7,
         "senior": 19.5,
         "children": 21.2,
         "st_cnty": "WI_Waupaca",
         "state": "Wisconsin",
         "winner": "Ted Cruz",
         "votes": 5194,
         "fraction_votes": 0.471,
         "total_votes": 10748,
         "voter_turnout": 0.2619673857916767,
         "_deepnote_index_column": 2088
        },
        {
         "st_abbrev": "WI",
         "fips": "55137",
         "population": 24178,
         "income": 43070,
         "hispanic": 6.4,
         "asian": 0.5,
         "black": 2.1,
         "white": 89.8,
         "foreign": 2.4,
         "college": 14.3,
         "density": 39.1,
         "vets": 2616,
         "female": 47.3,
         "senior": 22.5,
         "children": 18.7,
         "st_cnty": "WI_Waushara",
         "state": "Wisconsin",
         "winner": "Donald Trump",
         "votes": 2391,
         "fraction_votes": 0.451,
         "total_votes": 5152,
         "voter_turnout": 0.2620987414274837,
         "_deepnote_index_column": 2089
        },
        {
         "st_abbrev": "WI",
         "fips": "55139",
         "population": 169511,
         "income": 51010,
         "hispanic": 3.9,
         "asian": 2.7,
         "black": 2,
         "white": 89.6,
         "foreign": 3.2,
         "college": 25.5,
         "density": 384.3,
         "vets": 12863,
         "female": 49.7,
         "senior": 14.7,
         "children": 20.8,
         "st_cnty": "WI_Winnebago",
         "state": "Wisconsin",
         "winner": "Ted Cruz",
         "votes": 16049,
         "fraction_votes": 0.469,
         "total_votes": 33294,
         "voter_turnout": 0.2479949902241081,
         "_deepnote_index_column": 2090
        },
        {
         "st_abbrev": "WI",
         "fips": "55141",
         "population": 73608,
         "income": 47685,
         "hispanic": 2.7,
         "asian": 2,
         "black": 0.7,
         "white": 93.1,
         "foreign": 2.4,
         "college": 18.8,
         "density": 94.2,
         "vets": 6206,
         "female": 50.6,
         "senior": 18.6,
         "children": 21.9,
         "st_cnty": "WI_Wood",
         "state": "Wisconsin",
         "winner": "Ted Cruz",
         "votes": 7220,
         "fraction_votes": 0.45,
         "total_votes": 15640,
         "voter_turnout": 0.2720574963947163,
         "_deepnote_index_column": 2091
        }
       ]
      },
      "text/plain": "     st_abbrev   fips  population  income  hispanic  asian  black  white  \\\n0           AL  01001       55395   53682       2.7    1.1   18.7   75.6   \n1           AL  01003      200111   50221       4.6    0.9    9.6   83.0   \n2           AL  01005       26887   32911       4.5    0.5   47.6   46.6   \n3           AL  01007       22506   36447       2.1    0.2   22.1   74.5   \n4           AL  01009       57719   44145       8.7    0.3    1.8   87.8   \n...        ...    ...         ...     ...       ...    ...    ...    ...   \n2087        WI  55133      395118   75850       4.6    3.3    1.4   89.4   \n2088        WI  55135       52066   50822       3.0    0.5    0.4   94.8   \n2089        WI  55137       24178   43070       6.4    0.5    2.1   89.8   \n2090        WI  55139      169511   51010       3.9    2.7    2.0   89.6   \n2091        WI  55141       73608   47685       2.7    2.0    0.7   93.1   \n\n      foreign  college  ...  female  senior  children       st_cnty  \\\n0         1.6     20.9  ...    51.4    13.8      25.2    AL_Autauga   \n1         3.6     27.7  ...    51.2    18.7      22.2    AL_Baldwin   \n2         2.9     13.4  ...    46.6    16.5      21.2    AL_Barbour   \n3         1.2     12.1  ...    45.9    14.8      21.0       AL_Bibb   \n4         4.3     12.1  ...    50.5    17.0      23.6     AL_Blount   \n...       ...      ...  ...     ...     ...       ...           ...   \n2087      4.6     40.2  ...    50.9    16.5      22.4   WI_Waukesha   \n2088      1.6     16.6  ...    49.7    19.5      21.2    WI_Waupaca   \n2089      2.4     14.3  ...    47.3    22.5      18.7   WI_Waushara   \n2090      3.2     25.5  ...    49.7    14.7      20.8  WI_Winnebago   \n2091      2.4     18.8  ...    50.6    18.6      21.9       WI_Wood   \n\n          state        winner  votes fraction_votes  total_votes  \\\n0       Alabama  Donald Trump   5387          0.445        11839   \n1       Alabama  Donald Trump  23618          0.469        49100   \n2       Alabama  Donald Trump   1710          0.501         3357   \n3       Alabama  Donald Trump   1959          0.494         3891   \n4       Alabama  Donald Trump   7390          0.487        14791   \n...         ...           ...    ...            ...          ...   \n2087  Wisconsin      Ted Cruz  75123          0.610       120830   \n2088  Wisconsin      Ted Cruz   5194          0.471        10748   \n2089  Wisconsin  Donald Trump   2391          0.451         5152   \n2090  Wisconsin      Ted Cruz  16049          0.469        33294   \n2091  Wisconsin      Ted Cruz   7220          0.450        15640   \n\n      voter_turnout  \n0          0.285721  \n1          0.315378  \n2          0.158447  \n3          0.218845  \n4          0.335417  \n...             ...  \n2087       0.394082  \n2088       0.261967  \n2089       0.262099  \n2090       0.247995  \n2091       0.272057  \n\n[2092 rows x 22 columns]",
      "text/html": "<div>\n<style scoped>\n    .dataframe tbody tr th:only-of-type {\n        vertical-align: middle;\n    }\n\n    .dataframe tbody tr th {\n        vertical-align: top;\n    }\n\n    .dataframe thead th {\n        text-align: right;\n    }\n</style>\n<table border=\"1\" class=\"dataframe\">\n  <thead>\n    <tr style=\"text-align: right;\">\n      <th></th>\n      <th>st_abbrev</th>\n      <th>fips</th>\n      <th>population</th>\n      <th>income</th>\n      <th>hispanic</th>\n      <th>asian</th>\n      <th>black</th>\n      <th>white</th>\n      <th>foreign</th>\n      <th>college</th>\n      <th>...</th>\n      <th>female</th>\n      <th>senior</th>\n      <th>children</th>\n      <th>st_cnty</th>\n      <th>state</th>\n      <th>winner</th>\n      <th>votes</th>\n      <th>fraction_votes</th>\n      <th>total_votes</th>\n      <th>voter_turnout</th>\n    </tr>\n  </thead>\n  <tbody>\n    <tr>\n      <th>0</th>\n      <td>AL</td>\n      <td>01001</td>\n      <td>55395</td>\n      <td>53682</td>\n      <td>2.7</td>\n      <td>1.1</td>\n      <td>18.7</td>\n      <td>75.6</td>\n      <td>1.6</td>\n      <td>20.9</td>\n      <td>...</td>\n      <td>51.4</td>\n      <td>13.8</td>\n      <td>25.2</td>\n      <td>AL_Autauga</td>\n      <td>Alabama</td>\n      <td>Donald Trump</td>\n      <td>5387</td>\n      <td>0.445</td>\n      <td>11839</td>\n      <td>0.285721</td>\n    </tr>\n    <tr>\n      <th>1</th>\n      <td>AL</td>\n      <td>01003</td>\n      <td>200111</td>\n      <td>50221</td>\n      <td>4.6</td>\n      <td>0.9</td>\n      <td>9.6</td>\n      <td>83.0</td>\n      <td>3.6</td>\n      <td>27.7</td>\n      <td>...</td>\n      <td>51.2</td>\n      <td>18.7</td>\n      <td>22.2</td>\n      <td>AL_Baldwin</td>\n      <td>Alabama</td>\n      <td>Donald Trump</td>\n      <td>23618</td>\n      <td>0.469</td>\n      <td>49100</td>\n      <td>0.315378</td>\n    </tr>\n    <tr>\n      <th>2</th>\n      <td>AL</td>\n      <td>01005</td>\n      <td>26887</td>\n      <td>32911</td>\n      <td>4.5</td>\n      <td>0.5</td>\n      <td>47.6</td>\n      <td>46.6</td>\n      <td>2.9</td>\n      <td>13.4</td>\n      <td>...</td>\n      <td>46.6</td>\n      <td>16.5</td>\n      <td>21.2</td>\n      <td>AL_Barbour</td>\n      <td>Alabama</td>\n      <td>Donald Trump</td>\n      <td>1710</td>\n      <td>0.501</td>\n      <td>3357</td>\n      <td>0.158447</td>\n    </tr>\n    <tr>\n      <th>3</th>\n      <td>AL</td>\n      <td>01007</td>\n      <td>22506</td>\n      <td>36447</td>\n      <td>2.1</td>\n      <td>0.2</td>\n      <td>22.1</td>\n      <td>74.5</td>\n      <td>1.2</td>\n      <td>12.1</td>\n      <td>...</td>\n      <td>45.9</td>\n      <td>14.8</td>\n      <td>21.0</td>\n      <td>AL_Bibb</td>\n      <td>Alabama</td>\n      <td>Donald Trump</td>\n      <td>1959</td>\n      <td>0.494</td>\n      <td>3891</td>\n      <td>0.218845</td>\n    </tr>\n    <tr>\n      <th>4</th>\n      <td>AL</td>\n      <td>01009</td>\n      <td>57719</td>\n      <td>44145</td>\n      <td>8.7</td>\n      <td>0.3</td>\n      <td>1.8</td>\n      <td>87.8</td>\n      <td>4.3</td>\n      <td>12.1</td>\n      <td>...</td>\n      <td>50.5</td>\n      <td>17.0</td>\n      <td>23.6</td>\n      <td>AL_Blount</td>\n      <td>Alabama</td>\n      <td>Donald Trump</td>\n      <td>7390</td>\n      <td>0.487</td>\n      <td>14791</td>\n      <td>0.335417</td>\n    </tr>\n    <tr>\n      <th>...</th>\n      <td>...</td>\n      <td>...</td>\n      <td>...</td>\n      <td>...</td>\n      <td>...</td>\n      <td>...</td>\n      <td>...</td>\n      <td>...</td>\n      <td>...</td>\n      <td>...</td>\n      <td>...</td>\n      <td>...</td>\n      <td>...</td>\n      <td>...</td>\n      <td>...</td>\n      <td>...</td>\n      <td>...</td>\n      <td>...</td>\n      <td>...</td>\n      <td>...</td>\n      <td>...</td>\n    </tr>\n    <tr>\n      <th>2087</th>\n      <td>WI</td>\n      <td>55133</td>\n      <td>395118</td>\n      <td>75850</td>\n      <td>4.6</td>\n      <td>3.3</td>\n      <td>1.4</td>\n      <td>89.4</td>\n      <td>4.6</td>\n      <td>40.2</td>\n      <td>...</td>\n      <td>50.9</td>\n      <td>16.5</td>\n      <td>22.4</td>\n      <td>WI_Waukesha</td>\n      <td>Wisconsin</td>\n      <td>Ted Cruz</td>\n      <td>75123</td>\n      <td>0.610</td>\n      <td>120830</td>\n      <td>0.394082</td>\n    </tr>\n    <tr>\n      <th>2088</th>\n      <td>WI</td>\n      <td>55135</td>\n      <td>52066</td>\n      <td>50822</td>\n      <td>3.0</td>\n      <td>0.5</td>\n      <td>0.4</td>\n      <td>94.8</td>\n      <td>1.6</td>\n      <td>16.6</td>\n      <td>...</td>\n      <td>49.7</td>\n      <td>19.5</td>\n      <td>21.2</td>\n      <td>WI_Waupaca</td>\n      <td>Wisconsin</td>\n      <td>Ted Cruz</td>\n      <td>5194</td>\n      <td>0.471</td>\n      <td>10748</td>\n      <td>0.261967</td>\n    </tr>\n    <tr>\n      <th>2089</th>\n      <td>WI</td>\n      <td>55137</td>\n      <td>24178</td>\n      <td>43070</td>\n      <td>6.4</td>\n      <td>0.5</td>\n      <td>2.1</td>\n      <td>89.8</td>\n      <td>2.4</td>\n      <td>14.3</td>\n      <td>...</td>\n      <td>47.3</td>\n      <td>22.5</td>\n      <td>18.7</td>\n      <td>WI_Waushara</td>\n      <td>Wisconsin</td>\n      <td>Donald Trump</td>\n      <td>2391</td>\n      <td>0.451</td>\n      <td>5152</td>\n      <td>0.262099</td>\n    </tr>\n    <tr>\n      <th>2090</th>\n      <td>WI</td>\n      <td>55139</td>\n      <td>169511</td>\n      <td>51010</td>\n      <td>3.9</td>\n      <td>2.7</td>\n      <td>2.0</td>\n      <td>89.6</td>\n      <td>3.2</td>\n      <td>25.5</td>\n      <td>...</td>\n      <td>49.7</td>\n      <td>14.7</td>\n      <td>20.8</td>\n      <td>WI_Winnebago</td>\n      <td>Wisconsin</td>\n      <td>Ted Cruz</td>\n      <td>16049</td>\n      <td>0.469</td>\n      <td>33294</td>\n      <td>0.247995</td>\n    </tr>\n    <tr>\n      <th>2091</th>\n      <td>WI</td>\n      <td>55141</td>\n      <td>73608</td>\n      <td>47685</td>\n      <td>2.7</td>\n      <td>2.0</td>\n      <td>0.7</td>\n      <td>93.1</td>\n      <td>2.4</td>\n      <td>18.8</td>\n      <td>...</td>\n      <td>50.6</td>\n      <td>18.6</td>\n      <td>21.9</td>\n      <td>WI_Wood</td>\n      <td>Wisconsin</td>\n      <td>Ted Cruz</td>\n      <td>7220</td>\n      <td>0.450</td>\n      <td>15640</td>\n      <td>0.272057</td>\n    </tr>\n  </tbody>\n</table>\n<p>2092 rows × 22 columns</p>\n</div>"
     },
     "metadata": {}
    }
   ]
  },
  {
   "cell_type": "markdown",
   "source": "<center>\n\n![](.images/NumbersEverywhere.png)\n\n</center>",
   "metadata": {
    "tags": [],
    "cell_id": "00031-47952b76-c3dd-41e0-8fba-0ba1fca18483",
    "deepnote_cell_type": "markdown"
   }
  },
  {
   "cell_type": "markdown",
   "source": "If you ran the cell above you should see a dataframe with 2092 rows and 22 columns. **Dataframes** are tables of data. Each row is an observation (for `rep` this is a county) and each column, or **feature**, is a property of the observations.\n\nYou can also use `df.shape` and `df.columns` to start to get a handle on your data, where `df` is a Dataframe. **Run the cell below** to see the `shape` of `rep`.",
   "metadata": {
    "tags": [],
    "cell_id": "00029-c4f8e02a-b2b7-4823-9d01-342e80b34bae",
    "deepnote_cell_type": "markdown"
   }
  },
  {
   "cell_type": "code",
   "metadata": {
    "tags": [],
    "deepnote_to_be_reexecuted": false,
    "source_hash": "52e91d6b",
    "execution_millis": 10,
    "output_cleared": false,
    "cell_id": "00030-368342a8-b4a5-47f6-b4f5-6754f90679da",
    "execution_start": 1633286614825,
    "deepnote_cell_type": "code"
   },
   "source": "# Run this cell!\nrep.shape",
   "execution_count": 6,
   "outputs": [
    {
     "output_type": "execute_result",
     "execution_count": 6,
     "data": {
      "text/plain": "(2092, 22)"
     },
     "metadata": {}
    }
   ]
  },
  {
   "cell_type": "markdown",
   "source": "`df.shape` returns the number of rows and columns in the dataframe `df` as a tuple. The first value is the number of rows, and the second value is the number of columns. From the output above we see again that `rep` contains 2092 counties and 22 columns, or features, describing each county.\n\nNow **run the next cell** to see the `columns` or features of `rep`.",
   "metadata": {
    "tags": [],
    "cell_id": "00017-21a5ad85-3fdf-4295-be10-eb7a6f010860",
    "deepnote_cell_type": "markdown"
   }
  },
  {
   "cell_type": "code",
   "metadata": {
    "tags": [],
    "cell_id": "00016-2cd7b72d-6551-4b18-80b5-ee7c8c74c193",
    "deepnote_to_be_reexecuted": false,
    "source_hash": "41983b0b",
    "execution_start": 1633286614864,
    "execution_millis": 12,
    "deepnote_cell_type": "code"
   },
   "source": "# Run this cell!\nrep.columns",
   "execution_count": 7,
   "outputs": [
    {
     "output_type": "execute_result",
     "execution_count": 7,
     "data": {
      "text/plain": "Index(['st_abbrev', 'fips', 'population', 'income', 'hispanic', 'asian',\n       'black', 'white', 'foreign', 'college', 'density', 'vets', 'female',\n       'senior', 'children', 'st_cnty', 'state', 'winner', 'votes',\n       'fraction_votes', 'total_votes', 'voter_turnout'],\n      dtype='object')"
     },
     "metadata": {}
    }
   ]
  },
  {
   "cell_type": "markdown",
   "source": "`df.columns` returns a list of names of each column in the dataframe, `df`. We can see that `rep` has a number of features.\n\n>**Food for thought:**  \nWith just these names, what do you think these features are? In practice, you may or may not be given a **data dictionary** that describes what each feature of your data is. If not, you often have to do some investigating to figure out what exactly you have! This can mean simply asking whoever gave you the data what the features are or otherwise digging into the process that generated the data.",
   "metadata": {
    "tags": [],
    "cell_id": "00019-07ee56a6-48f9-48f8-b38a-a1384f710143",
    "deepnote_cell_type": "markdown"
   }
  },
  {
   "cell_type": "markdown",
   "source": "## What are the county-level features?\nLet's take a look at what features are in `rep`, the Republican primary election data. There's a lot here so just skim it for now. **You can come back to this if you are ever confused about what the columns of `rep`, `dem`, `rep_st`, and `dem_st` represent!**\n\n- `st_abbrev`: State abbreviation\n- `fips`: US Census ID (unique identifier for every census region e.g. state, county, etc.)\n- `population`: Total population\n- `income`: Median household income\n- `hispanic`, `asian`, `black`, `white`, `foreign`, `college`, `female`, `senior`, `children`: Percentage of individuals that are in these demographics.\n    - Note that `foreign` refers to foreign born individuals and `college` refers to individuals with Bachelor's degrees.\n- `density`: Population per square mile\n- `vets`: Population of veterans\n- `st_cnty`: Concatenation of state abbreviation with county name\n- `state`: Full state name\n- `winner`: Name of the candidate that won the election for the county\n- `votes`: Number of votes for the winning candidate\n- `fraction_votes`: Fraction of the votes that the winning candidate received\n- `total_votes`: Total number of votes cast in the county\n- `voter_turnout`: Proportion of eligible voters that cast votes in the election",
   "metadata": {
    "tags": [],
    "cell_id": "00032-9ce4d381-5326-41fc-86e5-b2b78a2b5524",
    "deepnote_cell_type": "markdown"
   }
  },
  {
   "cell_type": "markdown",
   "source": ">**Your turn:**  \nCompare the output from `df.shape` and `df.columns` for `rep`, `dem`, `rep_st`, and `dem_st`.\n\n>How many counties are in `rep` and `dem`? Are they different? Why might that be the case?\n\n>Likewise, how many states are in `rep_st` and `dem_st`? Are they also different and why?\n\n>What about the number of features between a county-level dataframe, like `dem`, and a state-level dataframe, like `dem_st`.\n\n>We've gotten you started with `rep` below.\n",
   "metadata": {
    "tags": [],
    "cell_id": "00033-89d93d56-0db9-484d-9099-e5176c1e151c",
    "deepnote_cell_type": "markdown"
   }
  },
  {
   "cell_type": "code",
   "metadata": {
    "tags": [],
    "cell_id": "00023-4da60c0c-8427-42ac-a8e5-ac06da118de4",
    "deepnote_to_be_reexecuted": false,
    "source_hash": "24b69891",
    "execution_start": 1633286614865,
    "execution_millis": 11,
    "deepnote_cell_type": "code"
   },
   "source": "# Run this cell!\n\nprint('Shape of rep:')\nprint(rep.shape)\nprint('Columns of rep:')\nprint(rep.columns)",
   "execution_count": 8,
   "outputs": [
    {
     "name": "stdout",
     "text": "Shape of rep:\n(2092, 22)\nColumns of rep:\nIndex(['st_abbrev', 'fips', 'population', 'income', 'hispanic', 'asian',\n       'black', 'white', 'foreign', 'college', 'density', 'vets', 'female',\n       'senior', 'children', 'st_cnty', 'state', 'winner', 'votes',\n       'fraction_votes', 'total_votes', 'voter_turnout'],\n      dtype='object')\n",
     "output_type": "stream"
    }
   ]
  },
  {
   "cell_type": "code",
   "metadata": {
    "tags": [],
    "deepnote_to_be_reexecuted": false,
    "source_hash": "9cbb236a",
    "execution_millis": 0,
    "cell_id": "00034-9cfdfdd5-e673-4194-b494-b6ddd28e6801",
    "execution_start": 1633286614866,
    "deepnote_cell_type": "code"
   },
   "source": "### Enter your code for dem below: ###\n\n\n\n######################################",
   "execution_count": 9,
   "outputs": []
  },
  {
   "cell_type": "code",
   "metadata": {
    "tags": [],
    "deepnote_to_be_reexecuted": false,
    "source_hash": "9edb22e7",
    "execution_millis": 3,
    "cell_id": "00035-7f35b503-7f5c-480a-a42b-ff2bfa594ac5",
    "execution_start": 1633286614867,
    "deepnote_cell_type": "code"
   },
   "source": "### Enter your code for rep_st below: ###\n\n\n\n#########################################",
   "execution_count": 10,
   "outputs": []
  },
  {
   "cell_type": "code",
   "metadata": {
    "tags": [],
    "deepnote_to_be_reexecuted": false,
    "source_hash": "1dbae38f",
    "execution_millis": 3,
    "cell_id": "00036-d8b5a747-3e01-4f30-9b45-344ec8091c00",
    "execution_start": 1633286614873,
    "deepnote_cell_type": "code"
   },
   "source": "### Enter your code for dem_st below: ###\n\n\n\n#########################################",
   "execution_count": 11,
   "outputs": []
  },
  {
   "cell_type": "markdown",
   "source": "The answer is hidden in the cell below:",
   "metadata": {
    "tags": [],
    "cell_id": "00037-c138c30a-ba56-4f84-a0bf-e7c038ad0f8a",
    "deepnote_cell_type": "markdown"
   }
  },
  {
   "cell_type": "code",
   "metadata": {
    "tags": [],
    "is_code_hidden": true,
    "deepnote_to_be_reexecuted": false,
    "source_hash": "ab47e145",
    "execution_millis": 0,
    "cell_id": "00038-834edb2c-ce81-40e6-8172-14806e407440",
    "execution_start": 1633286614922,
    "deepnote_cell_type": "code"
   },
   "source": "# You should have entered something like:\n# print(dem.shape)\n# print(dem.columns)\n# for dem, rep_st, and dem_st into separate cells.\n\n# Notice that both `rep` and `dem` have one additional column, `st_cnty`\n# compared to `rep_st` and `dem_st`. This is because they contain county\n# level data and need an extra column for their county name.\n\n# Additionally, each dataframe has a different number of rows and furthermore\n# the state-level dataframes, rep_st and dem_st, do not have 50 observations!\n# Why might this be? See the section below for an explanation.",
   "execution_count": 12,
   "outputs": []
  },
  {
   "cell_type": "markdown",
   "source": "## What is a U.S. Presidential Primary Election?\nPrimary elections allow parties to select their presidential candidates for the upcoming general election. The date of these elections vary state-to-state. Voters will be able to show up to voting booths to vote for their preferred candidate. \n\nThe more votes a candidate receives during the primaries, the more delegates they will receive for the general election, which are individuals that represent a larger state/county and will vote for the respective party. Thus, candidates will be aiming to win a majority of delegates. If you want to learn more you can read more about it [here](https://en.wikipedia.org/wiki/United_States_presidential_primary).\n\nAs you go through this starter kit, you'll notice that some states and counties have no data. One potential reason is that they did not hold a primary election and instead held a caucus (which involves a meeting discussion rather than having the general population vote). Another potential reason is that some states may have had a later caucus or primary, so these datasets may not have collected any data from them.",
   "metadata": {
    "tags": [],
    "cell_id": "00012-a5388eac-8b1f-4256-9cef-43a715ccd70d",
    "deepnote_cell_type": "markdown"
   }
  },
  {
   "cell_type": "markdown",
   "source": "# End of Chapter 1",
   "metadata": {
    "tags": [],
    "cell_id": "00025-f0965312-dd13-4657-9323-23cf63c92074",
    "deepnote_cell_type": "markdown"
   }
  },
  {
   "cell_type": "markdown",
   "source": "<center><img src='https://i.imgflip.com/nnvsc.jpg' width=300></center>",
   "metadata": {
    "tags": [],
    "cell_id": "00026-bfa328dd-d3a6-4315-ae99-2ba706bd544d",
    "deepnote_cell_type": "markdown"
   }
  },
  {
   "cell_type": "markdown",
   "source": "Great job so far! By now you should have started to get familiar with the 2016 primary election data. When you're ready, navigate to `2 Show Don't Tell.ipynb` to continue.",
   "metadata": {
    "tags": [],
    "cell_id": "00027-35568b18-0296-4276-9990-563ca7d18033",
    "deepnote_cell_type": "markdown"
   }
  },
  {
   "cell_type": "markdown",
   "source": "<a style='text-decoration:none;line-height:16px;display:flex;color:#5B5B62;padding:10px;justify-content:end;' href='https://deepnote.com?utm_source=created-in-deepnote-cell&projectId=6db671ff-4b94-4ec9-9d8f-30a849bb0caf' target=\"_blank\">\n<img alt='Created in deepnote.com' style='display:inline;max-height:16px;margin:0px;margin-right:7.5px;' src='data:image/svg+xml;base64,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' > </img>\nCreated in <span style='font-weight:600;margin-left:4px;'>Deepnote</span></a>",
   "metadata": {
    "tags": [],
    "created_in_deepnote_cell": true,
    "deepnote_cell_type": "markdown"
   }
  }
 ],
 "nbformat": 4,
 "nbformat_minor": 2,
 "metadata": {
  "orig_nbformat": 2,
  "deepnote_notebook_id": "b36f84a5-6ada-46d3-b5c0-a7bd74bb18b5",
  "deepnote": {},
  "deepnote_execution_queue": []
 }
}