{
 "cells": [
  {
   "cell_type": "code",
   "metadata": {
    "tags": [],
    "deepnote_to_be_reexecuted": false,
    "source_hash": "fd8eed1a",
    "execution_millis": 44,
    "is_code_hidden": true,
    "output_cleared": false,
    "execution_start": 1633286698150,
    "cell_id": "00000-2bb98eea-cd59-4acf-8095-e0821bcdad30",
    "deepnote_cell_type": "code"
   },
   "source": "### Don't push \"Run notebook\"!!!\n\nassert False, 'Please don\\'t press the \"Run notebook\" button!'",
   "execution_count": 1,
   "outputs": []
  },
  {
   "cell_type": "markdown",
   "source": "# Imports & Loading Data\n\n**Reminder:** you can use the table of contents in the bottom left to quickly navigate notebooks!",
   "metadata": {
    "tags": [],
    "cell_id": "00001-a04315fd-92e8-4d1b-9b56-187aac106d9d",
    "deepnote_cell_type": "markdown"
   }
  },
  {
   "cell_type": "code",
   "metadata": {
    "tags": [],
    "deepnote_to_be_reexecuted": false,
    "source_hash": "df8e522b",
    "execution_start": 1633286698194,
    "execution_millis": 1520,
    "cell_id": "00002-57dd593a-b8d4-4b6a-a12f-b610fb589cd5",
    "deepnote_cell_type": "code"
   },
   "source": "# Run this cell with Ctrl+Enter (or Cmd+Return on a Mac)\n\n# Import necessary libraries\nimport numpy as np\nimport pandas as pd\nimport matplotlib.pyplot as plt\nimport seaborn as sns\nimport plotly.express as px\nfrom utils import *\n\n# Set a plotting theme with seaborn\nsns.set_theme()\n\n# Load our data\nprint('Loading data from Datasets folder...')\n\n(geo_cnty, rep, dem, rep_st, dem_st) = load_data()\n\nprint('Finished loading data!')",
   "execution_count": 2,
   "outputs": [
    {
     "name": "stdout",
     "text": "Loading data from Datasets folder...\nFinished loading data!\n",
     "output_type": "stream"
    }
   ]
  },
  {
   "cell_type": "markdown",
   "source": "# 4. Reading Between the Lines\n<p style='font-size:30px'>Better Data Selection & Interpretation</p>",
   "metadata": {
    "tags": [],
    "cell_id": "00003-6d16cf18-ce24-44ea-817e-f74fa5cd5635",
    "deepnote_cell_type": "markdown"
   }
  },
  {
   "cell_type": "markdown",
   "source": "## What Makes a Winner?\n<p style='font-size:20px'>Characterizing Counties Hillary Won</p>",
   "metadata": {
    "tags": [],
    "cell_id": "00041-b364b1dd-6a08-4666-803f-d16d94229094",
    "deepnote_cell_type": "markdown"
   }
  },
  {
   "cell_type": "markdown",
   "source": "In this example we'll try to figure out if there were any demographical reasons for why Hillary won the counties that she did. When we're done we'll have a plot like this:\n\n![](.images/black_v_white_filtered.png)\n\nTo motivate \n\n>**Your turn**:  \nWe'll work with a plot from earlier. Create a `scatterplot()` comparing `black` on the y-axis and `white` on the x-axis in counties from the **Democratic** primary. Color the points by the `winner` of each county. It should look like this:\n![](.images/black_v_white_dem.png)\n\n>*Hint: use the **`hue`** argument to color by `winner`.*",
   "metadata": {
    "tags": [],
    "cell_id": "00005-74733d71-fcc6-4951-be40-06a7582fe039",
    "deepnote_cell_type": "markdown"
   }
  },
  {
   "cell_type": "code",
   "metadata": {
    "tags": [],
    "deepnote_to_be_reexecuted": false,
    "source_hash": "8814b3f4",
    "execution_millis": 1,
    "cell_id": "00042-b4139795-e17f-4a58-b7a2-e443fa0129c0",
    "execution_start": 1633286699718,
    "deepnote_cell_type": "code"
   },
   "source": "### Enter your code below: ###\n\n\n\n##############################",
   "execution_count": 3,
   "outputs": []
  },
  {
   "cell_type": "code",
   "metadata": {
    "tags": [],
    "deepnote_to_be_reexecuted": false,
    "source_hash": "9b6a96e2",
    "execution_millis": 2,
    "is_code_hidden": true,
    "output_cleared": true,
    "cell_id": "00043-585c09b1-adc8-435d-8eb8-0d259ce95a23",
    "execution_start": 1633286699726,
    "deepnote_cell_type": "code"
   },
   "source": "# Solution\n# sns.scatterplot(data=dem, x='white', y='black', hue='winner');",
   "execution_count": 4,
   "outputs": []
  },
  {
   "cell_type": "markdown",
   "source": "As we noticed earlier, this plot is interesting because it has two \"arms\" stretching out from the bottom right with almost no counties in between. Furthermore, a large proportion of Hillary's counties are in the upper arm.\n\n**We'd like to pick out counties in the upper arm that Hillary won for further analysis.**\n\nHow can we do this? We could imagine drawing a line to cut off the bottom arm and select it that way, but this would also select the counties falling in between the arms. Something like this:\n\n<center>\n\n![](.images/black_v_white_dem_simple_cut.png)\n\n</center>\n\nInstead, we can draw a line through the plot of the form $ y > mx + b$ to pick out everything above that line. Like so:\n\n<center>\n\n![](.images/black_v_white_dem_diag_cut.png)\n\n</center>",
   "metadata": {
    "tags": [],
    "cell_id": "00044-1a0c8a94-4f39-4690-beaf-c76973206486",
    "deepnote_cell_type": "markdown"
   }
  },
  {
   "cell_type": "markdown",
   "source": "Let's get an expression to select the upper arm. \n\nWe'll start with the equation of a line:\n\n$$ y > mx + b $$\n\nBased on our plot's axes, we know `black` is the y variable and `white` is the x variable.\n\n$$ \\text{black} > m\\cdot\\text{white} + b $$\n\nNow we just need to figure out what $m$ and $b$ should be. We can pick two points we want the line to connect and get an expression. We'll use $(0, 50)$ and $(50, 0)$ and the two-point equation of a line:\n\n$$ y - y_1 = \\frac{y_2 - y_1}{x_2 - x_1}(x - x_1) $$\n\n$$ \\text{black} - 50 > \\frac{0 - 50}{50 - 0}(\\text{white} - 0) $$\n\n$$ \\text{black} - 50 > \\frac{-50}{50}\\cdot \\text{white} $$\n\n$$ \\text{black} > -1 \\cdot \\text{white} + 50 $$\n\n$$ \\text{black} + \\text{white} > 50 $$\n\nand more generally,\n\n$$ \\text{black} + \\text{white} > \\text{threshold} $$\n\nIntuitively, the filter described above let's us select counties that are exclusively white and black. If $\\text{threshold} = 50$, then that would mean only 50% of the population can be some other race. As we increase the threshold, this will select counties that are more exclusively white and black.\n\nIn code this would look like\n```python\nmy_filter = df['white'] + df['black'] > threshold\n```\nwhere `df` is any of the four dataframes used in this project, `rep`, `dem`, `rep_st`, or `dem_st`. And now we could use\n```python\ndf[my_filter]\n```\nto select the counties (or states if you use a state-level dataframe) that satisfy the filter.\n\n**Warning: ** We don't want to ever create a variable called `filter` because it's a built-in Python function. You should always avoid naming variables after [built-in functions](https://docs.python.org/3/library/functions.html) to prevent bugs.\n\n>**Your turn:**  \nStart by adding the white percentage and black percentage together and compare this sum to a threshold, like 50%. Assign this to a new variable as shown in the example above and use this filter to pick out these counties from `dem`. Finally, plot the result of subsetting.  \n*Hint: use the same code for the original scatter plot but instead pass the subset dataframe as the argument to `data`. Something like this: `data=df[my_filter]`*",
   "metadata": {
    "tags": [],
    "cell_id": "00045-36239156-ae6a-498d-a688-8c6ccb1c1177",
    "deepnote_cell_type": "markdown"
   }
  },
  {
   "cell_type": "code",
   "metadata": {
    "tags": [],
    "deepnote_to_be_reexecuted": false,
    "source_hash": "8814b3f4",
    "cell_id": "00046-cff35f73-6c0b-49df-9bef-9a1c35d4b96a",
    "execution_start": 1633286699753,
    "execution_millis": 1,
    "deepnote_cell_type": "code"
   },
   "source": "### Enter your code below: ###\n\n\n\n##############################",
   "execution_count": 5,
   "outputs": []
  },
  {
   "cell_type": "code",
   "metadata": {
    "tags": [],
    "deepnote_to_be_reexecuted": false,
    "source_hash": "baa440e5",
    "execution_millis": 0,
    "output_cleared": false,
    "is_code_hidden": true,
    "execution_start": 1633286699754,
    "cell_id": "00047-abfb9719-05b9-40b9-bbd6-fa025ab6306e",
    "deepnote_cell_type": "code"
   },
   "source": "# Solution\n# bnw_threshold = 50\n# bnw_mask = dem['white'] + dem['black'] > bnw_threshold\n# bnw = dem[bnw_mask]\n# sns.scatterplot(data=bnw, x='white', y='black', hue='winner');",
   "execution_count": 6,
   "outputs": []
  },
  {
   "cell_type": "markdown",
   "source": "With the threshold at 50% we're still getting a fair amount of counties that aren't in the upper \"arm\". Let's try changing the threshold to something more stringent.\n\n>**Your turn:**  \nInstead of 50, try changing the threshold to something else and create a new plot using the updated threshold.",
   "metadata": {
    "tags": [],
    "cell_id": "00048-6bc8defc-583c-4eda-b054-76c5a8a055e6",
    "deepnote_cell_type": "markdown"
   }
  },
  {
   "cell_type": "code",
   "metadata": {
    "tags": [],
    "deepnote_to_be_reexecuted": false,
    "source_hash": "8814b3f4",
    "cell_id": "00049-43756c89-7ccf-47f1-a457-b3b052bddc35",
    "execution_start": 1633286699755,
    "execution_millis": 0,
    "deepnote_cell_type": "code"
   },
   "source": "### Enter your code below: ###\n\n\n\n##############################",
   "execution_count": 7,
   "outputs": []
  },
  {
   "cell_type": "code",
   "metadata": {
    "tags": [],
    "is_code_hidden": true,
    "deepnote_to_be_reexecuted": false,
    "source_hash": "6f740b08",
    "execution_millis": 4,
    "execution_start": 1633286699756,
    "cell_id": "00050-6bbb3832-31a3-4e6c-b258-8d3884d9620a",
    "deepnote_cell_type": "code"
   },
   "source": "# Solution\n\n# bnw_threshold = 80\n# bnw_mask = dem['white'] + dem['black'] > bnw_threshold\n# bnw = dem[bnw_mask]\n# sns.scatterplot(data=bnw, x='white', y='black', hue='winner');",
   "execution_count": 8,
   "outputs": []
  },
  {
   "cell_type": "markdown",
   "source": "Great job of picking out the upper arm! However, we're not done yet, there are still some counties in this arm that Hillary didn't win. \n\nLet's try applying an additional filter to our statement. In addition to our statement above, we can try adding **another** conditional that selects counties that have a percentage of blacks greater than some percentage.\n\n\nFor example:\n```python\noriginal_filter = df['white'] + df['black'] > 53\n\nadditional_filter = df['black'] > 49 # selects counties that are >49% black\n\ncombined_filter = original_filter & additional_filter # selects counties with black + white > 53% AND black > 49%\n\ncombined_filter_one_liner = (df['white'] + df['black'] > 53) & (df['black'] > 49) # or in one line (need the parentheses!)\n```\n\n>**Your turn:**  \nAdd to your original filter to select only the counties that Hillary won in the upper arm. Then, plot `white` on the x-axis and `black` on the y-axis again after applying your final. Your final plot should look something like this:\n![](.images/black_v_white_filtered.png)",
   "metadata": {
    "tags": [],
    "cell_id": "00051-c2e64ec1-9610-44d2-a94c-aa1ebf0bb973",
    "deepnote_cell_type": "markdown"
   }
  },
  {
   "cell_type": "code",
   "metadata": {
    "tags": [],
    "cell_id": "00052-9dfe59cc-52b6-4982-91ee-60dc5e30232d",
    "deepnote_to_be_reexecuted": false,
    "source_hash": "8814b3f4",
    "execution_start": 1633286699766,
    "execution_millis": 0,
    "deepnote_cell_type": "code"
   },
   "source": "### Enter your code below: ###\n\n\n\n##############################",
   "execution_count": 9,
   "outputs": []
  },
  {
   "cell_type": "code",
   "metadata": {
    "tags": [],
    "deepnote_to_be_reexecuted": false,
    "source_hash": "a99957d3",
    "execution_millis": 0,
    "is_code_hidden": true,
    "execution_start": 1633286699774,
    "output_cleared": true,
    "cell_id": "00053-8f10878a-41eb-4e2f-9a74-fe8e710e5b54",
    "deepnote_cell_type": "code"
   },
   "source": "# Solution\n# \n# black_white_filter = (dem['white'] + dem['black'] > 80) & (dem['black'] > 16)\n# black_white = dem[black_white_filter]\n# sns.scatterplot(data=black_white, x='white', y='black', hue='winner');",
   "execution_count": 10,
   "outputs": []
  },
  {
   "cell_type": "markdown",
   "source": "Great job! We can see that that the graph is entirely blue now, showing that Hillary Clinton won all of the counties that satisfied our filter. From this process, we've learned that Hillary dominated in counties that were even slightly black. Furthermore, this was especially true if those communities didn't have much of a population of asians or hispanics.\n\nWe could also look at other variables within the subset of data and try to understand if there are any other reasons why these counties all voted for Hillary. For example, **where** are these counties? What are their **population sizes**? Bernie is more liberal than Hillary, **so does this mean these counties are more moderate?**",
   "metadata": {
    "tags": [],
    "cell_id": "00054-ed88fab9-ce8e-412f-bf2a-02e069a1dd66",
    "deepnote_cell_type": "markdown"
   }
  },
  {
   "cell_type": "markdown",
   "source": "## 👻 Ahh! Spooky, Scary, Paranormal Data\n<p style='font-size:20px'>Resolving Simpson's Paradox</p>",
   "metadata": {
    "tags": [],
    "cell_id": "00023-6d070844-7426-4b1d-be43-d906a5c6264b",
    "deepnote_cell_type": "markdown"
   }
  },
  {
   "cell_type": "markdown",
   "source": "In this section we're going to introduce an important statistical concept for interpretation called Simpson's paradox. You'll learn to resolve the paradox with a strong contextual understanding of your data.\n\n>**Optional:**  \nIn the hidden cell below we're generating data for this section. You can unhide the cell if you want to see how that's happening! Briefly, we draw 100 data points each from 3 multivariate normal distributions with different means and covariances. It's okay if you don't understand the code or what that means; you won't need to know to understand Simpson's paradox. Brownie points if you give it a shot though!\n\n**NOT optional: run the (hidden) cell below to generate the data!**",
   "metadata": {
    "tags": [],
    "cell_id": "00024-2055e23b-82e9-498e-979d-0359f86a6f35",
    "deepnote_cell_type": "markdown"
   }
  },
  {
   "cell_type": "code",
   "metadata": {
    "tags": [],
    "cell_id": "00025-441d1c42-c22a-43db-98f8-95be471064d2",
    "deepnote_to_be_reexecuted": false,
    "source_hash": "663dc900",
    "execution_start": 1633286699818,
    "execution_millis": 0,
    "is_code_hidden": true,
    "deepnote_cell_type": "code"
   },
   "source": "import numpy as np\n\nrng = np.random.default_rng(seed=123)\n\nmu_1 = [3, 12]\nmu_2 = [5, 9]\nmu_3 = [7, 6]\n\ndef gen_covariance(sig1, sig2, rho):\n    off_diag = sig1*sig2*rho\n    cov = np.array([[sig1**2, off_diag], [off_diag, sig2**2]])\n    return cov\n\ncov_1 = gen_covariance(0.3, 2, -0.6)\ncov_2 = gen_covariance(0.4, 1.5, 0.5)\ncov_3 = gen_covariance(0.35, 1.3, 0)\n\ngroup_1 = rng.multivariate_normal(mu_1, cov_1, size=(100))\ngroup_2 = rng.multivariate_normal(mu_2, cov_2, size=(100))\ngroup_3 = rng.multivariate_normal(mu_3, cov_3, size=(100))\n\ngroups = np.repeat(['Group 1', 'Group 2', 'Group 3'], 100)\n\nsimpsons_data = np.vstack([group_1, group_2, group_3])\n\nsimpsons_df = pd.DataFrame({\n    'x': simpsons_data[:, 0],\n    'y': simpsons_data[:, 1],\n    'Group': groups})",
   "execution_count": 11,
   "outputs": []
  },
  {
   "cell_type": "markdown",
   "source": "We've generated some toy 2-dimensional data for this section with three columns:\n- `x`: x-coordinates\n- `y`: y-coordinates\n- `Group`: which group the data belongs to",
   "metadata": {
    "tags": [],
    "cell_id": "00026-66ee1bba-66e8-4f84-acc9-952a01939ce2",
    "deepnote_cell_type": "markdown"
   }
  },
  {
   "cell_type": "code",
   "metadata": {
    "tags": [],
    "cell_id": "00026-f730e2b6-f92b-467a-9783-fa9eef6c16a4",
    "deepnote_to_be_reexecuted": false,
    "source_hash": "ba0a72dd",
    "execution_start": 1633286699819,
    "execution_millis": 29,
    "output_cleared": false,
    "deepnote_cell_type": "code"
   },
   "source": "# Run this cell to inspect the dataframe!\nsimpsons_df",
   "execution_count": 12,
   "outputs": [
    {
     "output_type": "execute_result",
     "execution_count": 12,
     "data": {
      "application/vnd.deepnote.dataframe.v2+json": {
       "row_count": 300,
       "column_count": 3,
       "columns": [
        {
         "name": "x",
         "dtype": "float64",
         "stats": {
          "unique_count": 300,
          "nan_count": 0,
          "min": "2.2590825050387298",
          "max": "7.7464893547802065",
          "histogram": [
           {
            "bin_start": 2.2590825050387298,
            "bin_end": 2.8078231900128774,
            "count": 27
           },
           {
            "bin_start": 2.8078231900128774,
            "bin_end": 3.3565638749870255,
            "count": 63
           },
           {
            "bin_start": 3.3565638749870255,
            "bin_end": 3.905304559961173,
            "count": 10
           },
           {
            "bin_start": 3.905304559961173,
            "bin_end": 4.454045244935321,
            "count": 12
           },
           {
            "bin_start": 4.454045244935321,
            "bin_end": 5.002785929909468,
            "count": 34
           },
           {
            "bin_start": 5.002785929909468,
            "bin_end": 5.551526614883617,
            "count": 46
           },
           {
            "bin_start": 5.551526614883617,
            "bin_end": 6.100267299857764,
            "count": 9
           },
           {
            "bin_start": 6.100267299857764,
            "bin_end": 6.649007984831911,
            "count": 18
           },
           {
            "bin_start": 6.649007984831911,
            "bin_end": 7.19774866980606,
            "count": 60
           },
           {
            "bin_start": 7.19774866980606,
            "bin_end": 7.7464893547802065,
            "count": 21
           }
          ]
         }
        },
        {
         "name": "y",
         "dtype": "float64",
         "stats": {
          "unique_count": 300,
          "nan_count": 0,
          "min": "1.912210418551937",
          "max": "16.563941192619026",
          "histogram": [
           {
            "bin_start": 1.912210418551937,
            "bin_end": 3.377383495958646,
            "count": 3
           },
           {
            "bin_start": 3.377383495958646,
            "bin_end": 4.842556573365355,
            "count": 18
           },
           {
            "bin_start": 4.842556573365355,
            "bin_end": 6.307729650772065,
            "count": 36
           },
           {
            "bin_start": 6.307729650772065,
            "bin_end": 7.7729027281787735,
            "count": 53
           },
           {
            "bin_start": 7.7729027281787735,
            "bin_end": 9.238075805585481,
            "count": 50
           },
           {
            "bin_start": 9.238075805585481,
            "bin_end": 10.703248882992192,
            "count": 39
           },
           {
            "bin_start": 10.703248882992192,
            "bin_end": 12.168421960398902,
            "count": 48
           },
           {
            "bin_start": 12.168421960398902,
            "bin_end": 13.633595037805609,
            "count": 27
           },
           {
            "bin_start": 13.633595037805609,
            "bin_end": 15.09876811521232,
            "count": 21
           },
           {
            "bin_start": 15.09876811521232,
            "bin_end": 16.563941192619026,
            "count": 5
           }
          ]
         }
        },
        {
         "name": "Group",
         "dtype": "object",
         "stats": {
          "unique_count": 3,
          "nan_count": 0,
          "categories": [
           {
            "name": "Group 1",
            "count": 100
           },
           {
            "name": "Group 2",
            "count": 100
           },
           {
            "name": "Group 3",
            "count": 100
           }
          ]
         }
        },
        {
         "name": "_deepnote_index_column",
         "dtype": "int64"
        }
       ],
       "rows_top": [
        {
         "x": 3.093066728877106,
         "y": 10.013880958712734,
         "Group": "Group 1",
         "_deepnote_index_column": 0
        },
        {
         "x": 2.810999970941312,
         "y": 14.579914101503709,
         "Group": "Group 1",
         "_deepnote_index_column": 1
        },
        {
         "x": 2.969336212097288,
         "y": 13.852895383570637,
         "Group": "Group 1",
         "_deepnote_index_column": 2
        },
        {
         "x": 3.245217377520813,
         "y": 10.738926161972659,
         "Group": "Group 1",
         "_deepnote_index_column": 3
        },
        {
         "x": 2.9810712548941245,
         "y": 11.359839970477172,
         "Group": "Group 1",
         "_deepnote_index_column": 4
        },
        {
         "x": 2.6190405177685694,
         "y": 12.161159976721304,
         "Group": "Group 1",
         "_deepnote_index_column": 5
        },
        {
         "x": 2.6225742607952722,
         "y": 14.369606576947913,
         "Group": "Group 1",
         "_deepnote_index_column": 6
        },
        {
         "x": 2.849801958130163,
         "y": 14.003383401778224,
         "Group": "Group 1",
         "_deepnote_index_column": 7
        },
        {
         "x": 2.5631624081143545,
         "y": 15.049542072372677,
         "Group": "Group 1",
         "_deepnote_index_column": 8
        },
        {
         "x": 3.1373320474985613,
         "y": 11.383787873105204,
         "Group": "Group 1",
         "_deepnote_index_column": 9
        },
        {
         "x": 3.6001483759370454,
         "y": 7.603311766740458,
         "Group": "Group 1",
         "_deepnote_index_column": 10
        },
        {
         "x": 2.986716039007056,
         "y": 15.107567741677205,
         "Group": "Group 1",
         "_deepnote_index_column": 11
        },
        {
         "x": 2.827433971846178,
         "y": 13.506277610369246,
         "Group": "Group 1",
         "_deepnote_index_column": 12
        },
        {
         "x": 3.0215794082139036,
         "y": 14.586995087087818,
         "Group": "Group 1",
         "_deepnote_index_column": 13
        },
        {
         "x": 2.92952583593375,
         "y": 12.785306476232785,
         "Group": "Group 1",
         "_deepnote_index_column": 14
        },
        {
         "x": 2.7732256830596493,
         "y": 11.24977222500153,
         "Group": "Group 1",
         "_deepnote_index_column": 15
        },
        {
         "x": 2.2590825050387298,
         "y": 14.405108555393193,
         "Group": "Group 1",
         "_deepnote_index_column": 16
        },
        {
         "x": 3.106715285589531,
         "y": 11.263321504510511,
         "Group": "Group 1",
         "_deepnote_index_column": 17
        },
        {
         "x": 3.2623159424562567,
         "y": 13.75794717639308,
         "Group": "Group 1",
         "_deepnote_index_column": 18
        },
        {
         "x": 2.7492309156136967,
         "y": 13.98019459285231,
         "Group": "Group 1",
         "_deepnote_index_column": 19
        },
        {
         "x": 2.566747306245863,
         "y": 13.428750658294167,
         "Group": "Group 1",
         "_deepnote_index_column": 20
        },
        {
         "x": 2.701651225456306,
         "y": 14.85630750593962,
         "Group": "Group 1",
         "_deepnote_index_column": 21
        },
        {
         "x": 2.970911250120418,
         "y": 10.638672508846579,
         "Group": "Group 1",
         "_deepnote_index_column": 22
        },
        {
         "x": 2.9177098786436826,
         "y": 11.868748159598411,
         "Group": "Group 1",
         "_deepnote_index_column": 23
        },
        {
         "x": 2.4109199750218817,
         "y": 16.563941192619026,
         "Group": "Group 1",
         "_deepnote_index_column": 24
        },
        {
         "x": 3.0007226252040087,
         "y": 12.065821246792169,
         "Group": "Group 1",
         "_deepnote_index_column": 25
        },
        {
         "x": 3.0080115527935867,
         "y": 12.057743743691171,
         "Group": "Group 1",
         "_deepnote_index_column": 26
        },
        {
         "x": 2.949063697926849,
         "y": 11.024251899981355,
         "Group": "Group 1",
         "_deepnote_index_column": 27
        },
        {
         "x": 2.803198235162641,
         "y": 10.243438167908966,
         "Group": "Group 1",
         "_deepnote_index_column": 28
        },
        {
         "x": 3.19481390343149,
         "y": 12.453981665786701,
         "Group": "Group 1",
         "_deepnote_index_column": 29
        },
        {
         "x": 2.9661986666425317,
         "y": 10.90175541595186,
         "Group": "Group 1",
         "_deepnote_index_column": 30
        },
        {
         "x": 2.948142914695126,
         "y": 11.357060587249364,
         "Group": "Group 1",
         "_deepnote_index_column": 31
        },
        {
         "x": 3.587195502668128,
         "y": 9.157298123367593,
         "Group": "Group 1",
         "_deepnote_index_column": 32
        },
        {
         "x": 2.7504351251761405,
         "y": 12.8624806018586,
         "Group": "Group 1",
         "_deepnote_index_column": 33
        },
        {
         "x": 2.8413713063402186,
         "y": 12.584779399021238,
         "Group": "Group 1",
         "_deepnote_index_column": 34
        },
        {
         "x": 3.1252786898626406,
         "y": 11.584660184120764,
         "Group": "Group 1",
         "_deepnote_index_column": 35
        },
        {
         "x": 3.1876833181433653,
         "y": 13.938840411209027,
         "Group": "Group 1",
         "_deepnote_index_column": 36
        },
        {
         "x": 2.6296348600422035,
         "y": 15.402209221923952,
         "Group": "Group 1",
         "_deepnote_index_column": 37
        },
        {
         "x": 3.11495994370292,
         "y": 11.002726392418055,
         "Group": "Group 1",
         "_deepnote_index_column": 38
        },
        {
         "x": 2.801798142406255,
         "y": 12.24071435686611,
         "Group": "Group 1",
         "_deepnote_index_column": 39
        },
        {
         "x": 3.306880562140267,
         "y": 10.77679764549631,
         "Group": "Group 1",
         "_deepnote_index_column": 40
        },
        {
         "x": 2.646297533183565,
         "y": 15.278485591018995,
         "Group": "Group 1",
         "_deepnote_index_column": 41
        },
        {
         "x": 3.0508659199372246,
         "y": 10.697987560554722,
         "Group": "Group 1",
         "_deepnote_index_column": 42
        },
        {
         "x": 3.11675671585366,
         "y": 10.003924443059946,
         "Group": "Group 1",
         "_deepnote_index_column": 43
        },
        {
         "x": 2.903500768963742,
         "y": 12.84307056438311,
         "Group": "Group 1",
         "_deepnote_index_column": 44
        },
        {
         "x": 2.8104852664307707,
         "y": 14.472288672194246,
         "Group": "Group 1",
         "_deepnote_index_column": 45
        },
        {
         "x": 2.876740119103291,
         "y": 12.958949280315117,
         "Group": "Group 1",
         "_deepnote_index_column": 46
        },
        {
         "x": 2.468808195055118,
         "y": 14.604610702354195,
         "Group": "Group 1",
         "_deepnote_index_column": 47
        },
        {
         "x": 2.7760620311106083,
         "y": 11.367345284590126,
         "Group": "Group 1",
         "_deepnote_index_column": 48
        },
        {
         "x": 3.051526740962766,
         "y": 13.670929576184507,
         "Group": "Group 1",
         "_deepnote_index_column": 49
        },
        {
         "x": 3.4888582591345414,
         "y": 11.004561648578608,
         "Group": "Group 1",
         "_deepnote_index_column": 50
        },
        {
         "x": 2.724994309909978,
         "y": 11.375444848236784,
         "Group": "Group 1",
         "_deepnote_index_column": 51
        },
        {
         "x": 3.1370428240369788,
         "y": 11.445448555473472,
         "Group": "Group 1",
         "_deepnote_index_column": 52
        },
        {
         "x": 3.582060891069905,
         "y": 11.580480417028593,
         "Group": "Group 1",
         "_deepnote_index_column": 53
        },
        {
         "x": 3.2559048575797434,
         "y": 13.748298349045989,
         "Group": "Group 1",
         "_deepnote_index_column": 54
        },
        {
         "x": 2.3456739232577526,
         "y": 14.734969919211906,
         "Group": "Group 1",
         "_deepnote_index_column": 55
        },
        {
         "x": 2.4195166753196156,
         "y": 11.185228962750859,
         "Group": "Group 1",
         "_deepnote_index_column": 56
        },
        {
         "x": 3.3834584271159427,
         "y": 10.731517522021322,
         "Group": "Group 1",
         "_deepnote_index_column": 57
        },
        {
         "x": 3.002417251752283,
         "y": 10.299840170287503,
         "Group": "Group 1",
         "_deepnote_index_column": 58
        },
        {
         "x": 3.1278535972294637,
         "y": 12.669340645699764,
         "Group": "Group 1",
         "_deepnote_index_column": 59
        },
        {
         "x": 3.004170943248497,
         "y": 11.281855717456445,
         "Group": "Group 1",
         "_deepnote_index_column": 60
        },
        {
         "x": 2.912755641267593,
         "y": 13.62338935703197,
         "Group": "Group 1",
         "_deepnote_index_column": 61
        },
        {
         "x": 3.126953826056451,
         "y": 11.436295279420609,
         "Group": "Group 1",
         "_deepnote_index_column": 62
        },
        {
         "x": 3.046710651787856,
         "y": 12.157767988334031,
         "Group": "Group 1",
         "_deepnote_index_column": 63
        },
        {
         "x": 2.561931905912015,
         "y": 15.99559293557564,
         "Group": "Group 1",
         "_deepnote_index_column": 64
        },
        {
         "x": 3.435045591851737,
         "y": 10.951260590901603,
         "Group": "Group 1",
         "_deepnote_index_column": 65
        },
        {
         "x": 3.5382440992481454,
         "y": 10.626060561690688,
         "Group": "Group 1",
         "_deepnote_index_column": 66
        },
        {
         "x": 3.053036013021995,
         "y": 11.613232080556378,
         "Group": "Group 1",
         "_deepnote_index_column": 67
        },
        {
         "x": 3.1547977453923166,
         "y": 13.493534556710527,
         "Group": "Group 1",
         "_deepnote_index_column": 68
        },
        {
         "x": 2.7694794014571156,
         "y": 13.989453946437699,
         "Group": "Group 1",
         "_deepnote_index_column": 69
        },
        {
         "x": 3.149617794233393,
         "y": 11.274737254006086,
         "Group": "Group 1",
         "_deepnote_index_column": 70
        },
        {
         "x": 2.822520483003602,
         "y": 12.25546365530587,
         "Group": "Group 1",
         "_deepnote_index_column": 71
        },
        {
         "x": 3.1616322901713723,
         "y": 12.843012942332129,
         "Group": "Group 1",
         "_deepnote_index_column": 72
        },
        {
         "x": 3.3418749383168924,
         "y": 12.366984298382809,
         "Group": "Group 1",
         "_deepnote_index_column": 73
        },
        {
         "x": 2.887991775762232,
         "y": 12.817169509543211,
         "Group": "Group 1",
         "_deepnote_index_column": 74
        },
        {
         "x": 2.8483781588543033,
         "y": 12.188245026434833,
         "Group": "Group 1",
         "_deepnote_index_column": 75
        },
        {
         "x": 3.3017402800100353,
         "y": 9.947882283077691,
         "Group": "Group 1",
         "_deepnote_index_column": 76
        },
        {
         "x": 3.0705170563078936,
         "y": 10.285813328652598,
         "Group": "Group 1",
         "_deepnote_index_column": 77
        },
        {
         "x": 3.1079539822095614,
         "y": 11.82997993042402,
         "Group": "Group 1",
         "_deepnote_index_column": 78
        },
        {
         "x": 2.9286998682048435,
         "y": 12.92344796203327,
         "Group": "Group 1",
         "_deepnote_index_column": 79
        },
        {
         "x": 3.3034764176512232,
         "y": 8.133122852761252,
         "Group": "Group 1",
         "_deepnote_index_column": 80
        },
        {
         "x": 3.115107394685902,
         "y": 10.446592833357256,
         "Group": "Group 1",
         "_deepnote_index_column": 81
        },
        {
         "x": 3.0105586827280835,
         "y": 14.000026585003956,
         "Group": "Group 1",
         "_deepnote_index_column": 82
        },
        {
         "x": 3.080154207822943,
         "y": 12.451626242773125,
         "Group": "Group 1",
         "_deepnote_index_column": 83
        },
        {
         "x": 3.3181636572809876,
         "y": 9.02759443032458,
         "Group": "Group 1",
         "_deepnote_index_column": 84
        },
        {
         "x": 2.7178866178230856,
         "y": 13.233601482762214,
         "Group": "Group 1",
         "_deepnote_index_column": 85
        },
        {
         "x": 2.835402323750853,
         "y": 12.801650848606172,
         "Group": "Group 1",
         "_deepnote_index_column": 86
        },
        {
         "x": 3.0811468841159853,
         "y": 14.024984725503721,
         "Group": "Group 1",
         "_deepnote_index_column": 87
        },
        {
         "x": 3.4458692187712017,
         "y": 10.962290794581588,
         "Group": "Group 1",
         "_deepnote_index_column": 88
        },
        {
         "x": 3.5255125140883012,
         "y": 11.664674283855263,
         "Group": "Group 1",
         "_deepnote_index_column": 89
        },
        {
         "x": 3.10493239973824,
         "y": 11.0183352374718,
         "Group": "Group 1",
         "_deepnote_index_column": 90
        },
        {
         "x": 2.782360306846012,
         "y": 12.410036542048156,
         "Group": "Group 1",
         "_deepnote_index_column": 91
        },
        {
         "x": 3.124720109596023,
         "y": 8.532066818947545,
         "Group": "Group 1",
         "_deepnote_index_column": 92
        },
        {
         "x": 2.7246344090608887,
         "y": 14.15194091154088,
         "Group": "Group 1",
         "_deepnote_index_column": 93
        },
        {
         "x": 3.4206998902523384,
         "y": 11.379590161305691,
         "Group": "Group 1",
         "_deepnote_index_column": 94
        },
        {
         "x": 3.077051664538364,
         "y": 13.00228063730182,
         "Group": "Group 1",
         "_deepnote_index_column": 95
        },
        {
         "x": 2.628900367031458,
         "y": 13.679076012754683,
         "Group": "Group 1",
         "_deepnote_index_column": 96
        },
        {
         "x": 3.0129814331918943,
         "y": 12.25270233163811,
         "Group": "Group 1",
         "_deepnote_index_column": 97
        },
        {
         "x": 2.768834422231645,
         "y": 11.658530572330724,
         "Group": "Group 1",
         "_deepnote_index_column": 98
        },
        {
         "x": 2.5205513877754426,
         "y": 12.891461218841984,
         "Group": "Group 1",
         "_deepnote_index_column": 99
        },
        {
         "x": 4.527273468862816,
         "y": 7.633814993981373,
         "Group": "Group 2",
         "_deepnote_index_column": 100
        },
        {
         "x": 5.198916748893014,
         "y": 8.341897492743543,
         "Group": "Group 2",
         "_deepnote_index_column": 101
        },
        {
         "x": 5.93479900210737,
         "y": 11.401401313210737,
         "Group": "Group 2",
         "_deepnote_index_column": 102
        },
        {
         "x": 5.319507127901577,
         "y": 10.187749215789502,
         "Group": "Group 2",
         "_deepnote_index_column": 103
        },
        {
         "x": 4.891205780593788,
         "y": 5.442918219161966,
         "Group": "Group 2",
         "_deepnote_index_column": 104
        },
        {
         "x": 5.70846750526357,
         "y": 12.919760069088538,
         "Group": "Group 2",
         "_deepnote_index_column": 105
        },
        {
         "x": 5.286826221726238,
         "y": 9.31747046902575,
         "Group": "Group 2",
         "_deepnote_index_column": 106
        },
        {
         "x": 5.199550376938392,
         "y": 10.085935992537767,
         "Group": "Group 2",
         "_deepnote_index_column": 107
        },
        {
         "x": 5.044093665731102,
         "y": 8.422262668837426,
         "Group": "Group 2",
         "_deepnote_index_column": 108
        },
        {
         "x": 4.07087440962238,
         "y": 7.033375444688999,
         "Group": "Group 2",
         "_deepnote_index_column": 109
        },
        {
         "x": 5.131402301794105,
         "y": 11.062273889768145,
         "Group": "Group 2",
         "_deepnote_index_column": 110
        },
        {
         "x": 5.679366464156578,
         "y": 9.999050168233545,
         "Group": "Group 2",
         "_deepnote_index_column": 111
        },
        {
         "x": 5.069332476803543,
         "y": 10.855952221365714,
         "Group": "Group 2",
         "_deepnote_index_column": 112
        },
        {
         "x": 4.672199617026375,
         "y": 9.542643141640355,
         "Group": "Group 2",
         "_deepnote_index_column": 113
        },
        {
         "x": 5.333438847578407,
         "y": 8.793201871566566,
         "Group": "Group 2",
         "_deepnote_index_column": 114
        },
        {
         "x": 4.0376938638952975,
         "y": 9.184361071548974,
         "Group": "Group 2",
         "_deepnote_index_column": 115
        },
        {
         "x": 4.252689777793027,
         "y": 5.66315122907306,
         "Group": "Group 2",
         "_deepnote_index_column": 116
        },
        {
         "x": 5.3488966484868135,
         "y": 10.989326247197269,
         "Group": "Group 2",
         "_deepnote_index_column": 117
        },
        {
         "x": 4.582557853232466,
         "y": 9.274728601872294,
         "Group": "Group 2",
         "_deepnote_index_column": 118
        },
        {
         "x": 4.257652083921782,
         "y": 9.328329512452331,
         "Group": "Group 2",
         "_deepnote_index_column": 119
        },
        {
         "x": 5.472881297590106,
         "y": 9.4560990239071,
         "Group": "Group 2",
         "_deepnote_index_column": 120
        },
        {
         "x": 5.196078103028632,
         "y": 7.722388912021993,
         "Group": "Group 2",
         "_deepnote_index_column": 121
        },
        {
         "x": 4.898230813613121,
         "y": 7.91365862426316,
         "Group": "Group 2",
         "_deepnote_index_column": 122
        },
        {
         "x": 5.003227103948231,
         "y": 8.79171086850185,
         "Group": "Group 2",
         "_deepnote_index_column": 123
        },
        {
         "x": 5.621586391216213,
         "y": 11.24712870937921,
         "Group": "Group 2",
         "_deepnote_index_column": 124
        },
        {
         "x": 3.91734486767405,
         "y": 8.116148839484627,
         "Group": "Group 2",
         "_deepnote_index_column": 125
        },
        {
         "x": 5.448372136371784,
         "y": 10.304994440592303,
         "Group": "Group 2",
         "_deepnote_index_column": 126
        },
        {
         "x": 4.845207412600295,
         "y": 9.274832548889968,
         "Group": "Group 2",
         "_deepnote_index_column": 127
        },
        {
         "x": 4.7297714162730955,
         "y": 11.481853664668254,
         "Group": "Group 2",
         "_deepnote_index_column": 128
        },
        {
         "x": 4.336192384006358,
         "y": 7.894147840901492,
         "Group": "Group 2",
         "_deepnote_index_column": 129
        },
        {
         "x": 4.919765643029138,
         "y": 9.578986589057491,
         "Group": "Group 2",
         "_deepnote_index_column": 130
        },
        {
         "x": 5.451389102184982,
         "y": 12.164324590018342,
         "Group": "Group 2",
         "_deepnote_index_column": 131
        },
        {
         "x": 5.144262757652864,
         "y": 8.614586296064289,
         "Group": "Group 2",
         "_deepnote_index_column": 132
        },
        {
         "x": 4.477173727439376,
         "y": 7.95409311627736,
         "Group": "Group 2",
         "_deepnote_index_column": 133
        },
        {
         "x": 4.946657897366164,
         "y": 9.825484855835336,
         "Group": "Group 2",
         "_deepnote_index_column": 134
        },
        {
         "x": 5.319651208684014,
         "y": 10.447209327458731,
         "Group": "Group 2",
         "_deepnote_index_column": 135
        },
        {
         "x": 5.047821445952239,
         "y": 9.171269644687408,
         "Group": "Group 2",
         "_deepnote_index_column": 136
        },
        {
         "x": 5.120295571694321,
         "y": 8.851113219891714,
         "Group": "Group 2",
         "_deepnote_index_column": 137
        },
        {
         "x": 4.250866218962522,
         "y": 8.498076935926955,
         "Group": "Group 2",
         "_deepnote_index_column": 138
        },
        {
         "x": 4.859873458438082,
         "y": 9.138665560054692,
         "Group": "Group 2",
         "_deepnote_index_column": 139
        },
        {
         "x": 4.974872792358465,
         "y": 6.898338227455615,
         "Group": "Group 2",
         "_deepnote_index_column": 140
        },
        {
         "x": 4.326657796948381,
         "y": 8.513374218401491,
         "Group": "Group 2",
         "_deepnote_index_column": 141
        },
        {
         "x": 4.754904066057411,
         "y": 8.92017457942881,
         "Group": "Group 2",
         "_deepnote_index_column": 142
        },
        {
         "x": 4.747172514185958,
         "y": 6.4340482968209,
         "Group": "Group 2",
         "_deepnote_index_column": 143
        },
        {
         "x": 5.022537951006925,
         "y": 7.390611391098684,
         "Group": "Group 2",
         "_deepnote_index_column": 144
        },
        {
         "x": 5.142739747516547,
         "y": 7.607729879295696,
         "Group": "Group 2",
         "_deepnote_index_column": 145
        },
        {
         "x": 5.12665140891072,
         "y": 9.632617425090727,
         "Group": "Group 2",
         "_deepnote_index_column": 146
        },
        {
         "x": 5.148070522277908,
         "y": 7.823557120724435,
         "Group": "Group 2",
         "_deepnote_index_column": 147
        },
        {
         "x": 4.983056272184945,
         "y": 9.772278516243787,
         "Group": "Group 2",
         "_deepnote_index_column": 148
        },
        {
         "x": 4.773927742888424,
         "y": 9.919554340660158,
         "Group": "Group 2",
         "_deepnote_index_column": 149
        },
        {
         "x": 4.697565343893678,
         "y": 7.08589665386129,
         "Group": "Group 2",
         "_deepnote_index_column": 150
        },
        {
         "x": 5.160429119806929,
         "y": 9.086159406011346,
         "Group": "Group 2",
         "_deepnote_index_column": 151
        },
        {
         "x": 5.435387956542177,
         "y": 9.038192487715643,
         "Group": "Group 2",
         "_deepnote_index_column": 152
        },
        {
         "x": 4.920929816554882,
         "y": 7.038052273461046,
         "Group": "Group 2",
         "_deepnote_index_column": 153
        },
        {
         "x": 5.508517138358216,
         "y": 9.27344154384545,
         "Group": "Group 2",
         "_deepnote_index_column": 154
        },
        {
         "x": 5.133848434201357,
         "y": 9.172153720454668,
         "Group": "Group 2",
         "_deepnote_index_column": 155
        },
        {
         "x": 5.642153855250566,
         "y": 11.602506312789405,
         "Group": "Group 2",
         "_deepnote_index_column": 156
        },
        {
         "x": 4.995779581291053,
         "y": 9.931024944983063,
         "Group": "Group 2",
         "_deepnote_index_column": 157
        },
        {
         "x": 4.467723945579201,
         "y": 9.287333771474017,
         "Group": "Group 2",
         "_deepnote_index_column": 158
        },
        {
         "x": 5.041909511154971,
         "y": 7.704117361812223,
         "Group": "Group 2",
         "_deepnote_index_column": 159
        },
        {
         "x": 4.65626981892188,
         "y": 6.328161613662131,
         "Group": "Group 2",
         "_deepnote_index_column": 160
        },
        {
         "x": 5.136000477797746,
         "y": 9.008131995479479,
         "Group": "Group 2",
         "_deepnote_index_column": 161
        },
        {
         "x": 3.9519754532562965,
         "y": 6.55395798201928,
         "Group": "Group 2",
         "_deepnote_index_column": 162
        },
        {
         "x": 5.271681620536511,
         "y": 10.658202864075776,
         "Group": "Group 2",
         "_deepnote_index_column": 163
        },
        {
         "x": 5.635945953819112,
         "y": 9.537626702879615,
         "Group": "Group 2",
         "_deepnote_index_column": 164
        },
        {
         "x": 4.369137150384268,
         "y": 9.354545765543534,
         "Group": "Group 2",
         "_deepnote_index_column": 165
        },
        {
         "x": 5.21229903679246,
         "y": 8.492972548314578,
         "Group": "Group 2",
         "_deepnote_index_column": 166
        },
        {
         "x": 4.807329695570222,
         "y": 8.376690756850488,
         "Group": "Group 2",
         "_deepnote_index_column": 167
        },
        {
         "x": 5.371976461866289,
         "y": 8.027931876896934,
         "Group": "Group 2",
         "_deepnote_index_column": 168
        },
        {
         "x": 4.647187355715583,
         "y": 10.95054621231774,
         "Group": "Group 2",
         "_deepnote_index_column": 169
        },
        {
         "x": 5.138614490513209,
         "y": 11.891993407272592,
         "Group": "Group 2",
         "_deepnote_index_column": 170
        },
        {
         "x": 4.98116139549962,
         "y": 12.10274218238029,
         "Group": "Group 2",
         "_deepnote_index_column": 171
        },
        {
         "x": 5.039870595499753,
         "y": 10.678670760140845,
         "Group": "Group 2",
         "_deepnote_index_column": 172
        },
        {
         "x": 5.267374102766164,
         "y": 8.724296225986002,
         "Group": "Group 2",
         "_deepnote_index_column": 173
        },
        {
         "x": 4.951137522286758,
         "y": 7.876001821488781,
         "Group": "Group 2",
         "_deepnote_index_column": 174
        },
        {
         "x": 5.469718709617202,
         "y": 9.403998230573393,
         "Group": "Group 2",
         "_deepnote_index_column": 175
        },
        {
         "x": 5.926883383582434,
         "y": 10.959093595518382,
         "Group": "Group 2",
         "_deepnote_index_column": 176
        },
        {
         "x": 5.2030062903454475,
         "y": 9.436029425156926,
         "Group": "Group 2",
         "_deepnote_index_column": 177
        },
        {
         "x": 4.61942879254304,
         "y": 8.184213254326396,
         "Group": "Group 2",
         "_deepnote_index_column": 178
        },
        {
         "x": 4.64440623390025,
         "y": 7.030072688050913,
         "Group": "Group 2",
         "_deepnote_index_column": 179
        },
        {
         "x": 5.039862670332564,
         "y": 9.233517616419611,
         "Group": "Group 2",
         "_deepnote_index_column": 180
        },
        {
         "x": 4.660022781745601,
         "y": 9.9243963667326,
         "Group": "Group 2",
         "_deepnote_index_column": 181
        },
        {
         "x": 5.469851545113548,
         "y": 11.582900038245478,
         "Group": "Group 2",
         "_deepnote_index_column": 182
        },
        {
         "x": 5.347937176281572,
         "y": 10.622463119386493,
         "Group": "Group 2",
         "_deepnote_index_column": 183
        },
        {
         "x": 4.704358688486116,
         "y": 7.701478138023754,
         "Group": "Group 2",
         "_deepnote_index_column": 184
        },
        {
         "x": 4.376935234239141,
         "y": 4.044866562308355,
         "Group": "Group 2",
         "_deepnote_index_column": 185
        },
        {
         "x": 5.397633649538363,
         "y": 8.838090095913861,
         "Group": "Group 2",
         "_deepnote_index_column": 186
        },
        {
         "x": 4.602887443762852,
         "y": 6.371156098368084,
         "Group": "Group 2",
         "_deepnote_index_column": 187
        },
        {
         "x": 4.506272052844494,
         "y": 8.60252430969789,
         "Group": "Group 2",
         "_deepnote_index_column": 188
        },
        {
         "x": 4.290798713653664,
         "y": 6.85508999079174,
         "Group": "Group 2",
         "_deepnote_index_column": 189
        },
        {
         "x": 5.542403436902671,
         "y": 10.427966861696483,
         "Group": "Group 2",
         "_deepnote_index_column": 190
        },
        {
         "x": 4.639590614172472,
         "y": 6.84915149892343,
         "Group": "Group 2",
         "_deepnote_index_column": 191
        },
        {
         "x": 5.210535398730043,
         "y": 9.69414895347641,
         "Group": "Group 2",
         "_deepnote_index_column": 192
        },
        {
         "x": 4.475206193759325,
         "y": 6.7522123889005154,
         "Group": "Group 2",
         "_deepnote_index_column": 193
        },
        {
         "x": 5.042579774174057,
         "y": 6.798888657853789,
         "Group": "Group 2",
         "_deepnote_index_column": 194
        },
        {
         "x": 5.530508340639173,
         "y": 12.893364811085375,
         "Group": "Group 2",
         "_deepnote_index_column": 195
        },
        {
         "x": 4.825582241642943,
         "y": 5.743970297115273,
         "Group": "Group 2",
         "_deepnote_index_column": 196
        },
        {
         "x": 5.830940335993939,
         "y": 11.263360348013107,
         "Group": "Group 2",
         "_deepnote_index_column": 197
        },
        {
         "x": 5.214791595885676,
         "y": 9.221500404790685,
         "Group": "Group 2",
         "_deepnote_index_column": 198
        },
        {
         "x": 5.264895465071103,
         "y": 9.107752450602103,
         "Group": "Group 2",
         "_deepnote_index_column": 199
        },
        {
         "x": 6.736247852607631,
         "y": 7.223838585536697,
         "Group": "Group 3",
         "_deepnote_index_column": 200
        },
        {
         "x": 6.880415684308433,
         "y": 5.23753973779618,
         "Group": "Group 3",
         "_deepnote_index_column": 201
        },
        {
         "x": 7.067105721400655,
         "y": 5.700610589998447,
         "Group": "Group 3",
         "_deepnote_index_column": 202
        },
        {
         "x": 6.542700482681491,
         "y": 7.4542568488131105,
         "Group": "Group 3",
         "_deepnote_index_column": 203
        },
        {
         "x": 6.931046105908288,
         "y": 7.194057849031426,
         "Group": "Group 3",
         "_deepnote_index_column": 204
        },
        {
         "x": 6.860451691292023,
         "y": 2.274043451368307,
         "Group": "Group 3",
         "_deepnote_index_column": 205
        },
        {
         "x": 7.191873543180373,
         "y": 5.645247648178922,
         "Group": "Group 3",
         "_deepnote_index_column": 206
        },
        {
         "x": 6.997772052036476,
         "y": 6.766427233112916,
         "Group": "Group 3",
         "_deepnote_index_column": 207
        },
        {
         "x": 7.333468503081195,
         "y": 4.941222672027914,
         "Group": "Group 3",
         "_deepnote_index_column": 208
        },
        {
         "x": 6.584043424627814,
         "y": 5.1197305317652715,
         "Group": "Group 3",
         "_deepnote_index_column": 209
        },
        {
         "x": 6.8114884789980525,
         "y": 5.1660597584307055,
         "Group": "Group 3",
         "_deepnote_index_column": 210
        },
        {
         "x": 6.843216300123575,
         "y": 5.851653689690285,
         "Group": "Group 3",
         "_deepnote_index_column": 211
        },
        {
         "x": 7.259568353550371,
         "y": 5.526317658951366,
         "Group": "Group 3",
         "_deepnote_index_column": 212
        },
        {
         "x": 7.186498379670687,
         "y": 7.035450974880163,
         "Group": "Group 3",
         "_deepnote_index_column": 213
        },
        {
         "x": 6.766459906234066,
         "y": 5.597722036364429,
         "Group": "Group 3",
         "_deepnote_index_column": 214
        },
        {
         "x": 6.94865679842785,
         "y": 5.698693865347218,
         "Group": "Group 3",
         "_deepnote_index_column": 215
        },
        {
         "x": 6.90192376624501,
         "y": 7.0938812059365715,
         "Group": "Group 3",
         "_deepnote_index_column": 216
        },
        {
         "x": 6.706953890475769,
         "y": 4.4338598902240856,
         "Group": "Group 3",
         "_deepnote_index_column": 217
        },
        {
         "x": 6.673568723229029,
         "y": 8.29344106084157,
         "Group": "Group 3",
         "_deepnote_index_column": 218
        },
        {
         "x": 6.89791567375861,
         "y": 4.357064147558492,
         "Group": "Group 3",
         "_deepnote_index_column": 219
        },
        {
         "x": 7.033754263000308,
         "y": 8.289384601994186,
         "Group": "Group 3",
         "_deepnote_index_column": 220
        },
        {
         "x": 6.448203049337986,
         "y": 6.380443172689626,
         "Group": "Group 3",
         "_deepnote_index_column": 221
        },
        {
         "x": 6.999170247736696,
         "y": 4.05152562324742,
         "Group": "Group 3",
         "_deepnote_index_column": 222
        },
        {
         "x": 7.1363813117543025,
         "y": 5.405104951004876,
         "Group": "Group 3",
         "_deepnote_index_column": 223
        },
        {
         "x": 7.3685671517227265,
         "y": 4.566781772452319,
         "Group": "Group 3",
         "_deepnote_index_column": 224
        },
        {
         "x": 6.458583147441384,
         "y": 7.764715931760324,
         "Group": "Group 3",
         "_deepnote_index_column": 225
        },
        {
         "x": 6.902271740685528,
         "y": 6.318678783678709,
         "Group": "Group 3",
         "_deepnote_index_column": 226
        },
        {
         "x": 7.07904028529092,
         "y": 7.875388343389595,
         "Group": "Group 3",
         "_deepnote_index_column": 227
        },
        {
         "x": 6.973305398386793,
         "y": 7.239227508231297,
         "Group": "Group 3",
         "_deepnote_index_column": 228
        },
        {
         "x": 7.7464893547802065,
         "y": 6.408445944969575,
         "Group": "Group 3",
         "_deepnote_index_column": 229
        },
        {
         "x": 6.406248042106777,
         "y": 8.699269250034877,
         "Group": "Group 3",
         "_deepnote_index_column": 230
        },
        {
         "x": 7.084451212776946,
         "y": 6.495616810029273,
         "Group": "Group 3",
         "_deepnote_index_column": 231
        },
        {
         "x": 6.731197743312595,
         "y": 4.60407957954383,
         "Group": "Group 3",
         "_deepnote_index_column": 232
        },
        {
         "x": 7.334600980512609,
         "y": 6.240419549647123,
         "Group": "Group 3",
         "_deepnote_index_column": 233
        },
        {
         "x": 6.853442929154872,
         "y": 6.680046999966702,
         "Group": "Group 3",
         "_deepnote_index_column": 234
        },
        {
         "x": 6.267348108367827,
         "y": 4.620484836145458,
         "Group": "Group 3",
         "_deepnote_index_column": 235
        },
        {
         "x": 6.805138944562638,
         "y": 8.002014041214608,
         "Group": "Group 3",
         "_deepnote_index_column": 236
        },
        {
         "x": 7.11816951545115,
         "y": 4.882739528679801,
         "Group": "Group 3",
         "_deepnote_index_column": 237
        },
        {
         "x": 6.994169631640423,
         "y": 5.888335915853411,
         "Group": "Group 3",
         "_deepnote_index_column": 238
        },
        {
         "x": 6.829823827286288,
         "y": 6.8543203128872285,
         "Group": "Group 3",
         "_deepnote_index_column": 239
        },
        {
         "x": 6.9501111987447715,
         "y": 4.6250023455645515,
         "Group": "Group 3",
         "_deepnote_index_column": 240
        },
        {
         "x": 6.61904815155038,
         "y": 6.085261790247605,
         "Group": "Group 3",
         "_deepnote_index_column": 241
        },
        {
         "x": 6.633416049950751,
         "y": 4.5633289030103485,
         "Group": "Group 3",
         "_deepnote_index_column": 242
        },
        {
         "x": 7.484544164778154,
         "y": 7.060567574137426,
         "Group": "Group 3",
         "_deepnote_index_column": 243
        },
        {
         "x": 6.6804068348216195,
         "y": 7.65552441254216,
         "Group": "Group 3",
         "_deepnote_index_column": 244
        },
        {
         "x": 6.552974459879643,
         "y": 5.0981879394080325,
         "Group": "Group 3",
         "_deepnote_index_column": 245
        },
        {
         "x": 6.830520426001756,
         "y": 8.387641416436391,
         "Group": "Group 3",
         "_deepnote_index_column": 246
        },
        {
         "x": 6.833423555313895,
         "y": 5.951188208400595,
         "Group": "Group 3",
         "_deepnote_index_column": 247
        },
        {
         "x": 6.6329834034098,
         "y": 6.217732204859998,
         "Group": "Group 3",
         "_deepnote_index_column": 248
        },
        {
         "x": 6.680760942902522,
         "y": 5.19351273528545,
         "Group": "Group 3",
         "_deepnote_index_column": 249
        },
        {
         "x": 7.08906312176291,
         "y": 2.9253025912980872,
         "Group": "Group 3",
         "_deepnote_index_column": 250
        },
        {
         "x": 7.339491784478385,
         "y": 6.959417536109876,
         "Group": "Group 3",
         "_deepnote_index_column": 251
        },
        {
         "x": 7.332407278037162,
         "y": 8.026780105301235,
         "Group": "Group 3",
         "_deepnote_index_column": 252
        },
        {
         "x": 7.190040783279054,
         "y": 5.906063920120291,
         "Group": "Group 3",
         "_deepnote_index_column": 253
        },
        {
         "x": 7.2774303280717385,
         "y": 5.309534895121523,
         "Group": "Group 3",
         "_deepnote_index_column": 254
        },
        {
         "x": 6.186227668282299,
         "y": 5.6265074802976685,
         "Group": "Group 3",
         "_deepnote_index_column": 255
        },
        {
         "x": 7.021423220483225,
         "y": 5.9589872323625706,
         "Group": "Group 3",
         "_deepnote_index_column": 256
        },
        {
         "x": 7.165960179662969,
         "y": 4.472369323205513,
         "Group": "Group 3",
         "_deepnote_index_column": 257
        },
        {
         "x": 6.595364938896755,
         "y": 7.543091137776737,
         "Group": "Group 3",
         "_deepnote_index_column": 258
        },
        {
         "x": 7.303584679985806,
         "y": 6.982748012346827,
         "Group": "Group 3",
         "_deepnote_index_column": 259
        },
        {
         "x": 6.844917213264763,
         "y": 4.764500076579211,
         "Group": "Group 3",
         "_deepnote_index_column": 260
        },
        {
         "x": 6.797449719632478,
         "y": 4.5788397073235885,
         "Group": "Group 3",
         "_deepnote_index_column": 261
        },
        {
         "x": 7.40817647837276,
         "y": 5.934993290926985,
         "Group": "Group 3",
         "_deepnote_index_column": 262
        },
        {
         "x": 6.455864464851969,
         "y": 5.169408210893902,
         "Group": "Group 3",
         "_deepnote_index_column": 263
        },
        {
         "x": 6.7656904325782,
         "y": 1.912210418551937,
         "Group": "Group 3",
         "_deepnote_index_column": 264
        },
        {
         "x": 7.06495190832691,
         "y": 4.292513442257843,
         "Group": "Group 3",
         "_deepnote_index_column": 265
        },
        {
         "x": 6.444569671390271,
         "y": 6.298231485226759,
         "Group": "Group 3",
         "_deepnote_index_column": 266
        },
        {
         "x": 6.925943451785305,
         "y": 6.470973447091861,
         "Group": "Group 3",
         "_deepnote_index_column": 267
        },
        {
         "x": 6.8177958265912935,
         "y": 5.670853622080053,
         "Group": "Group 3",
         "_deepnote_index_column": 268
        },
        {
         "x": 7.208101176366864,
         "y": 7.248530410099781,
         "Group": "Group 3",
         "_deepnote_index_column": 269
        },
        {
         "x": 7.402824007441257,
         "y": 6.24338054120017,
         "Group": "Group 3",
         "_deepnote_index_column": 270
        },
        {
         "x": 7.048539480325251,
         "y": 6.045145958838257,
         "Group": "Group 3",
         "_deepnote_index_column": 271
        },
        {
         "x": 6.905356973932372,
         "y": 6.6958941785580794,
         "Group": "Group 3",
         "_deepnote_index_column": 272
        },
        {
         "x": 7.616854728841778,
         "y": 4.437382423641323,
         "Group": "Group 3",
         "_deepnote_index_column": 273
        },
        {
         "x": 6.545194204101807,
         "y": 7.225921064767425,
         "Group": "Group 3",
         "_deepnote_index_column": 274
        },
        {
         "x": 6.627023248228481,
         "y": 4.721826283698606,
         "Group": "Group 3",
         "_deepnote_index_column": 275
        },
        {
         "x": 7.126727046431668,
         "y": 4.0192383623523025,
         "Group": "Group 3",
         "_deepnote_index_column": 276
        },
        {
         "x": 7.135498067345933,
         "y": 7.95277317510273,
         "Group": "Group 3",
         "_deepnote_index_column": 277
        },
        {
         "x": 6.853601801069484,
         "y": 8.026925992019406,
         "Group": "Group 3",
         "_deepnote_index_column": 278
        },
        {
         "x": 6.675686921167467,
         "y": 6.341834916837853,
         "Group": "Group 3",
         "_deepnote_index_column": 279
        },
        {
         "x": 7.375928198923118,
         "y": 6.027934633942037,
         "Group": "Group 3",
         "_deepnote_index_column": 280
        },
        {
         "x": 7.357116606872432,
         "y": 6.927600847631166,
         "Group": "Group 3",
         "_deepnote_index_column": 281
        },
        {
         "x": 7.319426352330386,
         "y": 5.469964764923244,
         "Group": "Group 3",
         "_deepnote_index_column": 282
        },
        {
         "x": 7.197246214684363,
         "y": 7.885272390185657,
         "Group": "Group 3",
         "_deepnote_index_column": 283
        },
        {
         "x": 7.098815800988607,
         "y": 4.192866532201235,
         "Group": "Group 3",
         "_deepnote_index_column": 284
        },
        {
         "x": 6.764774071576753,
         "y": 6.317555871101481,
         "Group": "Group 3",
         "_deepnote_index_column": 285
        },
        {
         "x": 6.715677633811689,
         "y": 4.659971996211458,
         "Group": "Group 3",
         "_deepnote_index_column": 286
        },
        {
         "x": 7.046550157507339,
         "y": 7.493568959781453,
         "Group": "Group 3",
         "_deepnote_index_column": 287
        },
        {
         "x": 6.37105656455622,
         "y": 8.172187033493458,
         "Group": "Group 3",
         "_deepnote_index_column": 288
        },
        {
         "x": 7.560057536943148,
         "y": 6.54923738240003,
         "Group": "Group 3",
         "_deepnote_index_column": 289
        },
        {
         "x": 6.811306182947161,
         "y": 8.3808064402985,
         "Group": "Group 3",
         "_deepnote_index_column": 290
        },
        {
         "x": 7.382881669638242,
         "y": 8.068740753475009,
         "Group": "Group 3",
         "_deepnote_index_column": 291
        },
        {
         "x": 7.074932965515258,
         "y": 7.537044325847938,
         "Group": "Group 3",
         "_deepnote_index_column": 292
        },
        {
         "x": 7.320299040735323,
         "y": 7.313214551299728,
         "Group": "Group 3",
         "_deepnote_index_column": 293
        },
        {
         "x": 6.054310613787024,
         "y": 5.21688798520629,
         "Group": "Group 3",
         "_deepnote_index_column": 294
        },
        {
         "x": 7.373310198641396,
         "y": 7.484664112160154,
         "Group": "Group 3",
         "_deepnote_index_column": 295
        },
        {
         "x": 6.862009571758074,
         "y": 6.9782766696383085,
         "Group": "Group 3",
         "_deepnote_index_column": 296
        },
        {
         "x": 6.452793467981382,
         "y": 5.485321401014141,
         "Group": "Group 3",
         "_deepnote_index_column": 297
        },
        {
         "x": 6.974456728950683,
         "y": 8.123755041274638,
         "Group": "Group 3",
         "_deepnote_index_column": 298
        },
        {
         "x": 6.88286618755919,
         "y": 7.113248066617862,
         "Group": "Group 3",
         "_deepnote_index_column": 299
        }
       ],
       "rows_bottom": null
      },
      "text/plain": "            x          y    Group\n0    3.093067  10.013881  Group 1\n1    2.811000  14.579914  Group 1\n2    2.969336  13.852895  Group 1\n3    3.245217  10.738926  Group 1\n4    2.981071  11.359840  Group 1\n..        ...        ...      ...\n295  7.373310   7.484664  Group 3\n296  6.862010   6.978277  Group 3\n297  6.452793   5.485321  Group 3\n298  6.974457   8.123755  Group 3\n299  6.882866   7.113248  Group 3\n\n[300 rows x 3 columns]",
      "text/html": "<div>\n<style scoped>\n    .dataframe tbody tr th:only-of-type {\n        vertical-align: middle;\n    }\n\n    .dataframe tbody tr th {\n        vertical-align: top;\n    }\n\n    .dataframe thead th {\n        text-align: right;\n    }\n</style>\n<table border=\"1\" class=\"dataframe\">\n  <thead>\n    <tr style=\"text-align: right;\">\n      <th></th>\n      <th>x</th>\n      <th>y</th>\n      <th>Group</th>\n    </tr>\n  </thead>\n  <tbody>\n    <tr>\n      <th>0</th>\n      <td>3.093067</td>\n      <td>10.013881</td>\n      <td>Group 1</td>\n    </tr>\n    <tr>\n      <th>1</th>\n      <td>2.811000</td>\n      <td>14.579914</td>\n      <td>Group 1</td>\n    </tr>\n    <tr>\n      <th>2</th>\n      <td>2.969336</td>\n      <td>13.852895</td>\n      <td>Group 1</td>\n    </tr>\n    <tr>\n      <th>3</th>\n      <td>3.245217</td>\n      <td>10.738926</td>\n      <td>Group 1</td>\n    </tr>\n    <tr>\n      <th>4</th>\n      <td>2.981071</td>\n      <td>11.359840</td>\n      <td>Group 1</td>\n    </tr>\n    <tr>\n      <th>...</th>\n      <td>...</td>\n      <td>...</td>\n      <td>...</td>\n    </tr>\n    <tr>\n      <th>295</th>\n      <td>7.373310</td>\n      <td>7.484664</td>\n      <td>Group 3</td>\n    </tr>\n    <tr>\n      <th>296</th>\n      <td>6.862010</td>\n      <td>6.978277</td>\n      <td>Group 3</td>\n    </tr>\n    <tr>\n      <th>297</th>\n      <td>6.452793</td>\n      <td>5.485321</td>\n      <td>Group 3</td>\n    </tr>\n    <tr>\n      <th>298</th>\n      <td>6.974457</td>\n      <td>8.123755</td>\n      <td>Group 3</td>\n    </tr>\n    <tr>\n      <th>299</th>\n      <td>6.882866</td>\n      <td>7.113248</td>\n      <td>Group 3</td>\n    </tr>\n  </tbody>\n</table>\n<p>300 rows × 3 columns</p>\n</div>"
     },
     "metadata": {}
    }
   ]
  },
  {
   "cell_type": "markdown",
   "source": "Let's quickly get a handle on this data.\n\n>**Your turn:**  \nCreate a `regplot` showing a trend line through all of the data in `simpsons_df`. Plot `x` on the x-axis and `y` on the y-axis.",
   "metadata": {
    "tags": [],
    "cell_id": "00028-a8d3e227-705b-41bb-aba3-778326e6fca5",
    "deepnote_cell_type": "markdown"
   }
  },
  {
   "cell_type": "code",
   "metadata": {
    "tags": [],
    "cell_id": "00029-59f3914d-a330-4103-9bd3-ac82413233a3",
    "deepnote_to_be_reexecuted": false,
    "source_hash": "8814b3f4",
    "execution_start": 1633286699874,
    "execution_millis": 1,
    "deepnote_cell_type": "code"
   },
   "source": "### Enter your code below: ###\n\n\n\n##############################",
   "execution_count": 13,
   "outputs": []
  },
  {
   "cell_type": "code",
   "metadata": {
    "tags": [],
    "cell_id": "00030-95419c3f-f0de-433a-8115-11bf57578e59",
    "deepnote_to_be_reexecuted": false,
    "source_hash": "29c52418",
    "execution_start": 1633286699875,
    "execution_millis": 0,
    "is_code_hidden": true,
    "output_cleared": true,
    "deepnote_cell_type": "code"
   },
   "source": "# Solution\n\n# sns.regplot(data=simpsons_df, x='x', y='y')\n# simpsons_df['x'].corr(simpsons_df['y'])",
   "execution_count": 14,
   "outputs": []
  },
  {
   "cell_type": "markdown",
   "source": ">**Your turn:**  \nWhat do you notice the most about this data? Does the global trendline completely describe the data or is there something else going on too?",
   "metadata": {
    "tags": [],
    "cell_id": "00031-95e49a21-2928-49fe-8b8d-447a052bd915",
    "deepnote_cell_type": "markdown"
   }
  },
  {
   "cell_type": "code",
   "metadata": {
    "tags": [],
    "cell_id": "00032-c4b3d678-e365-4abc-ada3-b0457c888d2b",
    "deepnote_to_be_reexecuted": false,
    "source_hash": "15751943",
    "execution_start": 1633286699876,
    "execution_millis": 0,
    "deepnote_cell_type": "code"
   },
   "source": "\"\"\" Enter your answer below (no code):\n\n\n\n\"\"\";",
   "execution_count": 15,
   "outputs": []
  },
  {
   "cell_type": "code",
   "metadata": {
    "tags": [],
    "cell_id": "00033-9bb9cbc9-7981-4921-9bb8-0986aaa3af32",
    "is_code_hidden": true,
    "deepnote_to_be_reexecuted": false,
    "source_hash": "d8696bbb",
    "execution_start": 1633286699876,
    "execution_millis": 1,
    "output_cleared": true,
    "deepnote_cell_type": "code"
   },
   "source": "\"\"\" Our take:\n\nAt the global level there is definitely a positive trend and correlation\nin the data. However, it also looks like there are three different groups\nwithin the data, and these don't seem to have the same positive trend that\nappears at the global level!\n\n\"\"\";",
   "execution_count": 16,
   "outputs": []
  },
  {
   "cell_type": "markdown",
   "source": "**Spoiler alert:** there is more here than just a global positive trend.\n\n>**Your turn:**  \nPlot the `regplot`'s of each group within `simpsons_df`. Put them in the same figure so you can see them all at once. Instead of having to select each group with handmade filters like in the last section, life is a bit easier and each group is already labeled by the `Group` column.",
   "metadata": {
    "tags": [],
    "cell_id": "00034-48b6e9ef-3197-4716-bf6b-12b0195bd89f",
    "deepnote_cell_type": "markdown"
   }
  },
  {
   "cell_type": "code",
   "metadata": {
    "tags": [],
    "cell_id": "00035-085cd82c-5cb6-4f3d-8b5f-546dc0991015",
    "deepnote_to_be_reexecuted": false,
    "source_hash": "8814b3f4",
    "execution_start": 1633286699880,
    "execution_millis": 3,
    "deepnote_cell_type": "code"
   },
   "source": "### Enter your code below: ###\n\n\n\n##############################",
   "execution_count": 17,
   "outputs": []
  },
  {
   "cell_type": "code",
   "metadata": {
    "tags": [],
    "cell_id": "00036-afa17336-e6cb-4104-9d11-1925e13d40c4",
    "deepnote_to_be_reexecuted": false,
    "source_hash": "a5c4885c",
    "execution_start": 1633286699930,
    "execution_millis": 0,
    "is_code_hidden": true,
    "deepnote_cell_type": "code"
   },
   "source": "# Solution\n\n# sns.regplot(data=simpsons_df[simpsons_df['Group'] == 'Group 1'], x='x', y='y', label='Group 1')\n# sns.regplot(data=simpsons_df[simpsons_df['Group'] == 'Group 2'], x='x', y='y', label='Group 2')\n# sns.regplot(data=simpsons_df[simpsons_df['Group'] == 'Group 3'], x='x', y='y', label='Group 3')\n# plt.legend();",
   "execution_count": 18,
   "outputs": []
  },
  {
   "cell_type": "markdown",
   "source": "As you may have already surmised, each group has a different trend than the global one. You are looking at an instance of Simpson's paradox: where we observe different trends in different subsets of a dataset.\n\n**Run the cell below** to see a visualization we've created with the global trend too.\n\n>**Extra credit:**  \n- Can you figure out what the for loop is doing? What are f-strings in Python?\n- Can you look up the documentation for `regplot` and figure out what `scatter=False` does? What would happen if you set `scatter=True` instead?",
   "metadata": {
    "tags": [],
    "cell_id": "00037-53bd29f3-63de-4a29-a2df-7960b182b6ce",
    "deepnote_cell_type": "markdown"
   }
  },
  {
   "cell_type": "code",
   "metadata": {
    "tags": [],
    "cell_id": "00029-cdbbd94e-b791-4236-bad9-4257b84d97fd",
    "deepnote_to_be_reexecuted": false,
    "source_hash": "acc0a162",
    "execution_start": 1633286699930,
    "execution_millis": 1452,
    "output_cleared": false,
    "deepnote_cell_type": "code"
   },
   "source": "# Run this cell!\nplt.figure(dpi=300)\nfor i in range(3):\n    sns.regplot(\n        data=simpsons_df[simpsons_df['Group'] == f'Group {i+1}'],\n        x='x', y='y', label=f'Group {i}'\n    )\nsns.regplot(data=simpsons_df, x='x', y='y', label='All', scatter=False)\nplt.xlim([2, 8])\nplt.legend();",
   "execution_count": 19,
   "outputs": [
    {
     "data": {
      "text/plain": "<Figure size 1800x1200 with 1 Axes>",
      "image/png": "[encoded data removed]"
     },
     "metadata": {
      "image/png": {
       "width": 1632,
       "height": 1115
      }
     },
     "output_type": "display_data"
    }
   ]
  },
  {
   "cell_type": "markdown",
   "source": "How do we interpret this? Should we trust the global trend showing `x` causes `y` to decrease? Or should we trust the local, group-wise trends and believe that the way `x` affects `y` depends on the group and other, potentially unknown, differences between the groups?\n\nWithout context, or some knowledge about the domain the data comes from, we have no way to resolve this paradox.\n\nTo practice some paradox resolution, let's imagine two different scenarios from which this data came from.\n\n**Scenario 1:** YouTube Videos\n- Each data point is a YouTube video\n- `x` is the video length\n- `y` is the % of viewers that finished the video\n- `Group` indicates which YouTube channel the video is from\n\n**Goal:** Make recommendations to channels on how to maximize viewer retention.",
   "metadata": {
    "tags": [],
    "cell_id": "00039-b78d991b-983a-4673-8423-1791461c96cc",
    "deepnote_cell_type": "markdown"
   }
  },
  {
   "cell_type": "markdown",
   "source": "![](.images/toy_simpsons_youtube.png)",
   "metadata": {
    "tags": [],
    "cell_id": "00040-28c084fb-5d5c-4e63-ae0f-3fb7feb113e2",
    "deepnote_cell_type": "markdown"
   }
  },
  {
   "cell_type": "markdown",
   "source": ">**Your turn:**  \nArmed with this context, would you trust the global trend or the group-wise trends? What recommendation would you make the channels?",
   "metadata": {
    "tags": [],
    "cell_id": "00041-5a8f713f-0b8f-48ea-9062-4e53d75fbaa4",
    "deepnote_cell_type": "markdown"
   }
  },
  {
   "cell_type": "code",
   "metadata": {
    "tags": [],
    "cell_id": "00042-c2c2c8a0-6c47-4306-b5ea-72fd2c89d334",
    "deepnote_to_be_reexecuted": false,
    "source_hash": "15751943",
    "execution_start": 1633286701370,
    "deepnote_cell_type": "code"
   },
   "source": "\"\"\" Enter your answer below (no code):\n\n\n\n\"\"\";",
   "execution_count": 20,
   "outputs": []
  },
  {
   "cell_type": "code",
   "metadata": {
    "tags": [],
    "cell_id": "00043-87eaac3b-fcaf-4eb9-850a-172aeb107776",
    "is_code_hidden": true,
    "deepnote_to_be_reexecuted": false,
    "source_hash": "f28a8803",
    "execution_start": 1633286701389,
    "execution_millis": 0,
    "deepnote_cell_type": "code"
   },
   "source": "\"\"\" Our take:\n\nThe global trend indicates that longer videos have poorer viewer retention,\nhowever if we are trying to make a recommendation to a single channel the global\ntrend is a poor way to recommend whether videos should be longer or not.\n\nThe variance in the trends between groups suggests that there are likely many\nother important features of the videos that determine viewer retention besides\nvideo length. The names of the channels give us clues as to what those might be.\n\nFor 3 Minute Crafts, perhaps viewers are looking for simpler crafts and have \nan expectation for no videos longer than 3 minutes.\n\nFor College Vlog, maybe viewers like longer vlogs since those explore deeper,\nmore interesting aspects of college that require more time to cover.\n\nFor How It's Made, there's no correlation so it seems that viewers don't care\nmuch about how long the videos are.\n\nTo be sure though, we'd have to collect more data and learn more about the\ndifferences between the channels' demographics and content!\n\n\"\"\";",
   "execution_count": 21,
   "outputs": []
  },
  {
   "cell_type": "markdown",
   "source": "**Scenario 2:** Chemistry Experiments\n\nSuppose three students are studying a reaction where reactants $$A$$ and $$B$$ combine to form a product $$C$$:<center>\n$$ A + B \\rightarrow C $$\n</center>\n\n- Each data point is an experimental trial where the concentration of $$A$$ is held constant\n- `x` is the concentration of reactant $$B$$\n- `y` is the time it takes for the reaction to finish\n- `Group` is a student running trials\n\n**Goal:** Determine how the reaction rate is dependent on the concentration of $$B$$.",
   "metadata": {
    "tags": [],
    "cell_id": "00040-2ba10c15-a9aa-45bd-bea8-a8294d0029f1",
    "deepnote_cell_type": "markdown"
   }
  },
  {
   "cell_type": "markdown",
   "source": "![](.images/toy_simpsons_chem.png)",
   "metadata": {
    "tags": [],
    "cell_id": "00045-e39d781a-8791-407a-a4e5-9222109cbfe7",
    "deepnote_cell_type": "markdown"
   }
  },
  {
   "cell_type": "markdown",
   "source": ">**Your turn:**  \nHow does the reaction rate depend on the concentration of $$B$$? Do you trust the negative correlation from the global trend or is the relationship changing based on who performed the experiment? Why?",
   "metadata": {
    "tags": [],
    "cell_id": "00046-a2ec8f16-42c3-4439-b4a3-4d8c48a1b6d9",
    "deepnote_cell_type": "markdown"
   }
  },
  {
   "cell_type": "code",
   "metadata": {
    "tags": [],
    "cell_id": "00046-9cd1b6e6-fbe8-460c-8212-def433eb6ddd",
    "deepnote_to_be_reexecuted": false,
    "source_hash": "15751943",
    "execution_start": 1633286701389,
    "execution_millis": 1,
    "deepnote_cell_type": "code"
   },
   "source": "\"\"\" Enter your answer below (no code):\n\n\n\n\"\"\";",
   "execution_count": 22,
   "outputs": []
  },
  {
   "cell_type": "code",
   "metadata": {
    "tags": [],
    "cell_id": "00047-7835d1ad-661c-4168-a36e-34acbdb25670",
    "is_code_hidden": true,
    "deepnote_to_be_reexecuted": false,
    "source_hash": "5b0a8177",
    "execution_start": 1633286701390,
    "execution_millis": 0,
    "deepnote_cell_type": "code"
   },
   "source": "\"\"\" Our take:\n\nIt is highly unlikely that the laws of nature changed between the trials ran\nby different students. Thus, in this case, the global trend is more likely\nto be reflective of reality than the group-wise trends. The differences\nbetween groups can probably be attributed to experimental errors given that\nthe students are most likely following the protocols for the first time.\nPerhaps the students had difficulty measuring out their reactants across\ntrials. They might also have had a hard time measuring when the reaction\nwas finished, especially since the context we provided didn't describe\nthat either!\n\n\"\"\";",
   "execution_count": 23,
   "outputs": []
  },
  {
   "cell_type": "markdown",
   "source": "Great job finishing this section!\n\nYou've seen two examples exhibiting Simpson's paradox where the same data had to be interpreted differently depending on what it described. To resolve the paradox you relied on your domain knowledge about the data to make accurate interpretations.\n\nIf you'd like to see more examples of Simpson's paradox and how to resolve it, here's an [article](https://towardsdatascience.com/simpsons-paradox-and-interpreting-data-6a0443516765) explaining it more in depth.\n\nOtherwise, feel free to move on to the next section where you'll practice what you've learned on real U.S. Census data.",
   "metadata": {
    "tags": [],
    "cell_id": "00049-04597c52-2728-4080-97d7-98488a582506",
    "deepnote_cell_type": "markdown"
   }
  },
  {
   "cell_type": "markdown",
   "source": "\n## Jojo's Misleading Adventure\n<p style='font-size:20px'>Misleading Data Visualizations</p>\n\n\n<!-- <img src='.images/data_meme.jpg' style=\"margin-left:auto; margin-right:auto;\" width=100%> -->\n\n",
   "metadata": {
    "tags": [],
    "cell_id": "00071-7a83c625-0aad-4dd9-9394-3afc6b1e105b",
    "deepnote_cell_type": "markdown"
   }
  },
  {
   "cell_type": "markdown",
   "source": "<center>\n\n![](.images/data_meme.jpg)\n\n</center>",
   "metadata": {
    "tags": [],
    "cell_id": "00072-df0b6ed6-f232-47e9-b9a1-0085a89ea992",
    "deepnote_cell_type": "markdown"
   }
  },
  {
   "cell_type": "markdown",
   "source": "**Jojo you needs your help!** He has found some trends between the percentage of blacks in a county and the percentage of people with college degrees, but he's not sure how to interpret them.\n\n>Before we move on, **we need to be clear on this:** race does not directly affect any of the other non-demographic variables in the kit including median household income or the % of people with college degrees in a county. The correlations observed between these variables are mediated through complex social structures that are inherently biased.\n\nThis is a big reason why Jojo is concerned about making **equitable interpretations**. He wants your help to make sure his visualizations and interpretations are **considerate of minorities, not easily miscontrued, and accurate** — especially since there are many more demographic and socioeconomic features in the US Census data!\n\nBelow, you will use what you've learned about Simpson's paradox to **help him carefully interpret visualizations and change them to help avoid misinterpretations**.\n\n<!-- Instead of having a robust and thorough analysis to show the whole story, we can hand-pick specific numbers/conditions to manipulate the interpretation. Without being tempered, such meticulously selected numbers can still fit a pre-determined narrative, thus mislead the general public. -->",
   "metadata": {
    "tags": [],
    "cell_id": "00073-fab21321-4972-4565-9c5d-c4a626d77d4c",
    "deepnote_cell_type": "markdown"
   }
  },
  {
   "cell_type": "markdown",
   "source": ">**Your turn:**  \nCreate a `regplot()` with `black` on the x-axis and `college` on the y-axis. Don't forget to compute the correlation coefficient.\n\n>Your plot should look like this:  \n![](.images/college_v_black.png)\n\n>What does this plot & correlation tell you about the relationship between `black`, the percentage of blacks in each county, and `college`, the percentage of individuals with college degrees?\n\n>We'll see soon how this plot is potentially misleading and how by simply subsetting the data differently we can manipulate its interpretation.",
   "metadata": {
    "tags": [],
    "cell_id": "00074-5777970a-12ab-4b3f-8859-ab160dd6d99b",
    "deepnote_cell_type": "markdown"
   }
  },
  {
   "cell_type": "code",
   "metadata": {
    "tags": [],
    "cell_id": "00075-155d9439-1bb1-4090-93b9-33c4d08d1f63",
    "deepnote_to_be_reexecuted": false,
    "source_hash": "8814b3f4",
    "execution_start": 1633286701393,
    "execution_millis": 1,
    "deepnote_cell_type": "code"
   },
   "source": "### Enter your code below: ###\n\n\n\n##############################",
   "execution_count": 24,
   "outputs": []
  },
  {
   "cell_type": "code",
   "metadata": {
    "tags": [],
    "deepnote_to_be_reexecuted": false,
    "source_hash": "759a41e5",
    "execution_millis": 1,
    "execution_start": 1633286701400,
    "is_code_hidden": true,
    "output_cleared": false,
    "cell_id": "00076-90a23cea-8ce7-4be0-b258-98dbbd0c516b",
    "deepnote_cell_type": "code"
   },
   "source": "# Solution\n\n# sns.regplot(data=rep, x='black', y='college')\n# rep['black'].corr(rep['college'])\n\n# The correlation coefficient is very weak so this\n# regression suggests that there is no relationship\n# between black and college.",
   "execution_count": 25,
   "outputs": []
  },
  {
   "cell_type": "markdown",
   "source": "Before we go on, note that **this linear regression looks rather invalid. The data points do not follow the line well and the correlation coefficient is ~0**, which is another indicator that **we should discount this regression**.\n\n>**Food for thought:**  \nDoes this mean that there isn't a relationship between `black` and `college` at all? Not quite. The poor fit of our linear regression only suggests that there isn't a *linear* relationship between `black` and `college`. There might be something non-linear going on, and we could also consider additional variables.\n\nJojo has also tried looking for different subsets of `rep` that have a positive relationship between `black` and `college`. In his first attempt, he's tried subsetting `rep` to the western region of the United States below:",
   "metadata": {
    "tags": [],
    "cell_id": "00077-08bb8179-b42b-448c-976f-9a2617bb6ad5",
    "deepnote_cell_type": "markdown"
   }
  },
  {
   "cell_type": "code",
   "metadata": {
    "tags": [],
    "deepnote_to_be_reexecuted": false,
    "source_hash": "6f24750",
    "execution_start": 1633286701407,
    "execution_millis": 537,
    "cell_id": "00078-b3d970b9-ca14-4e03-81a1-84ce5b127d83",
    "deepnote_cell_type": "code"
   },
   "source": "# Run this cell!\ndf = subset(rep, 'west')\nsns.regplot(data=df, x='black', y='college')\ndf['black'].corr(df['college'])",
   "execution_count": 26,
   "outputs": [
    {
     "output_type": "execute_result",
     "execution_count": 26,
     "data": {
      "text/plain": "-0.019171771414012644"
     },
     "metadata": {}
    },
    {
     "data": {
      "text/plain": "<Figure size 432x288 with 1 Axes>",
      "image/png": "[encoded data removed]"
     },
     "metadata": {
      "image/png": {
       "width": 389,
       "height": 268
      }
     },
     "output_type": "display_data"
    }
   ]
  },
  {
   "cell_type": "markdown",
   "source": "Based on the regression plot and correlation coeffcient, that didn't change the relationship between `black` and `college`. Whether Jojo used the entire dataset in `rep` or subset it to the western states, the correlation is still ~0.\n\n>**Your turn:**  \nHelp Jojo find the US Census region that has the strongest positive linear relationship between `black` and `college` in `rep`. Create a `regplot()` showing this and compute the correlation coefficient.\n\n>What is this new regression plot telling you about the relationship between `black` and `college`?\n\n>Do you think the new regression is valid? How well do the data fit the line?\n\n>How might this plot be misleading or misconstrued? We'll learn how to help Jojo avoid this soon.",
   "metadata": {
    "tags": [],
    "cell_id": "00079-652cae7e-de06-4476-91b9-c9d2746a9c63",
    "deepnote_cell_type": "markdown"
   }
  },
  {
   "cell_type": "code",
   "metadata": {
    "tags": [],
    "cell_id": "00080-8865025b-aeef-4120-a203-38e0f5dc3839",
    "deepnote_to_be_reexecuted": false,
    "source_hash": "8814b3f4",
    "execution_start": 1633286701949,
    "execution_millis": 0,
    "deepnote_cell_type": "code"
   },
   "source": "### Enter your code below: ###\n\n\n\n##############################",
   "execution_count": 27,
   "outputs": []
  },
  {
   "cell_type": "code",
   "metadata": {
    "tags": [],
    "deepnote_to_be_reexecuted": false,
    "source_hash": "60894119",
    "execution_start": 1633286701957,
    "execution_millis": 4,
    "is_code_hidden": true,
    "cell_id": "00081-fdc96228-7937-4900-866d-fc2b53098107",
    "deepnote_cell_type": "code"
   },
   "source": "# Solution\n\n# df = subset(rep, 'northeast')\n# sns.regplot(data=df, x='black', y='college')\n# df['black'].corr(df['college'])\n\n# After subsetting to select counties from the northeast, there is now\n# a moderate positive correlation between black and college! This could\n# be misleading if we don't explicitly state that this is for the \n# northeastern region of the US.\n\n# Furthermore, despite the moderate correlation the data are not following\n# the line very well. Much of the data is clustered to the left of the graph\n# so we don't actually know much about what happens in counties with higher\n# percentages of black individuals.",
   "execution_count": 28,
   "outputs": []
  },
  {
   "cell_type": "markdown",
   "source": "<center>\n\n![](.images/cat_instinct.jpg)\n</center>",
   "metadata": {
    "tags": [],
    "cell_id": "00082-98339b38-9e95-4c54-8125-f7cd46e8419d",
    "deepnote_cell_type": "markdown"
   }
  },
  {
   "cell_type": "markdown",
   "source": "<!-- TO MODIFY\nAs you can see, the slope of the regression line is going upwards as the percentage of black people increases. The scattering of points around the left edge is contributed by counties with very low percentages of black people, which is not too useful for our discussion. However, the regression line indicates that the counties with higher percentages of black people would have higher percentages of college attainability. -->\n\nJojo has also tried finding the subset `rep` with the **strongest negative correlation**. For example, he's tried filtering `rep` such that `black > 20` like so:",
   "metadata": {
    "tags": [],
    "cell_id": "00083-00753a2d-6803-49da-afc9-880daad8384c",
    "deepnote_cell_type": "markdown"
   }
  },
  {
   "cell_type": "code",
   "metadata": {
    "tags": [],
    "deepnote_to_be_reexecuted": false,
    "source_hash": "8691f6e1",
    "execution_start": 1633286701965,
    "execution_millis": 525,
    "cell_id": "00084-16585b5e-dc66-42a2-9200-35d3f132854a",
    "output_cleared": false,
    "deepnote_cell_type": "code"
   },
   "source": "# Run this cell!\nblack_greater_than = rep['black'] > 20\ndf = rep[black_greater_than]\nsns.regplot(data=df, x='black', y='college')\ndf['black'].corr(df['college'])",
   "execution_count": 29,
   "outputs": [
    {
     "output_type": "execute_result",
     "execution_count": 29,
     "data": {
      "text/plain": "-0.14653145132331202"
     },
     "metadata": {}
    },
    {
     "data": {
      "text/plain": "<Figure size 432x288 with 1 Axes>",
      "image/png": "[encoded data removed]"
     },
     "metadata": {
      "image/png": {
       "width": 389,
       "height": 271
      }
     },
     "output_type": "display_data"
    }
   ]
  },
  {
   "cell_type": "markdown",
   "source": ">**Your turn:**  \nSelect a subset of `rep` that has the strongest negative correlation between `black` and `college` you can find.\n\n>Again, interpret the plot! What does the correlation and regression tell you about the relationship between `black` and `college`? Should you trust this regression? Is this plot misleading?",
   "metadata": {
    "tags": [],
    "cell_id": "00085-7a40ed27-f0a5-4978-bf92-e0ff6623abc1",
    "deepnote_cell_type": "markdown"
   }
  },
  {
   "cell_type": "code",
   "metadata": {
    "tags": [],
    "cell_id": "00086-03d33ecf-2e0f-4867-9d6b-8bc8eb1829ab",
    "deepnote_to_be_reexecuted": false,
    "source_hash": "8814b3f4",
    "execution_start": 1633286702495,
    "execution_millis": 0,
    "deepnote_cell_type": "code"
   },
   "source": "### Enter your code below: ###\n\n\n\n##############################",
   "execution_count": 30,
   "outputs": []
  },
  {
   "cell_type": "code",
   "metadata": {
    "tags": [],
    "deepnote_to_be_reexecuted": false,
    "source_hash": "f7af37f7",
    "execution_start": 1633286702502,
    "execution_millis": 6,
    "is_code_hidden": true,
    "cell_id": "00087-b697bd2f-11f2-4a47-b488-2a5b61e072d1",
    "deepnote_cell_type": "code"
   },
   "source": "# Solution\n\n# df = rep[rep['black'] > 12.5]\n# sns.regplot(data=df, x='black', y='college')\n# df['black'].corr(df['college'])\n\n# This yielded a correlation of -0.22, can you find one more extreme than that?\n\n# By now, your trained eye should be able to tell that this regression is also\n# quite poor. The correlation is moderate but the data do not follow the\n# line well.",
   "execution_count": 31,
   "outputs": []
  },
  {
   "cell_type": "markdown",
   "source": "<center>\n\n![](.images/jojo_meme2.jpeg)",
   "metadata": {
    "tags": [],
    "cell_id": "00089-afdef7d9-7be4-4b1d-9a18-74c8158eeeae",
    "deepnote_cell_type": "markdown"
   }
  },
  {
   "cell_type": "markdown",
   "source": "In the examples above, the visualization were misleading because they did't show that they are selecting a subset of the data. Let's remedy this!\n\n>**Your turn:**  \nAdd a `regplot()` of the full dataset \"behind\" the northeast subsetted regression plot from above. This will help show whether the trend in the subset is true in the rest of the data or not. It will also help to **add an informative legend that explains what the subset is**.\n\n>Your plot should look something like this:\n![](.images/northeast_black_v_college.png)",
   "metadata": {
    "tags": [],
    "cell_id": "00090-bda9e191-4a5a-4d07-a62e-d1fad8e4f737",
    "deepnote_cell_type": "markdown"
   }
  },
  {
   "cell_type": "code",
   "metadata": {
    "tags": [],
    "cell_id": "00091-fed8e30a-cc31-4ce6-98bc-47ffb07c560f",
    "deepnote_to_be_reexecuted": false,
    "source_hash": "8814b3f4",
    "execution_start": 1633286702511,
    "execution_millis": 2,
    "deepnote_cell_type": "code"
   },
   "source": "### Enter your code below: ###\n\n\n\n##############################",
   "execution_count": 32,
   "outputs": []
  },
  {
   "cell_type": "code",
   "metadata": {
    "tags": [],
    "deepnote_to_be_reexecuted": false,
    "source_hash": "70f0780e",
    "execution_start": 1633286702516,
    "execution_millis": 2,
    "is_code_hidden": true,
    "output_cleared": false,
    "cell_id": "00092-ba6a220b-d4a6-4252-b3a4-01d9637a6ffe",
    "deepnote_cell_type": "code"
   },
   "source": "# Solution\n\n# sns.regplot(data=rep, x='black', y='college', label='All')\n\n# northeast_rep = subset(rep, 'northeast')\n# sns.regplot(data=northeast_rep, x='black', y='college', label='Northeast')\n# plt.legend()\n\n# northeast_rep['black'].corr(northeast_rep['college'])",
   "execution_count": 33,
   "outputs": []
  },
  {
   "cell_type": "markdown",
   "source": "You should notice that what we're seeing above is an instance of **Simpson's paradox**, where a trend in one subset of data is different in another, or even the whole dataset. For example, if we didn't know better we might expect the trend between `college` and `black` in the entire dataset (blue) to hold in any subset (e.g. orange). This is clearly not the case.",
   "metadata": {
    "tags": [],
    "cell_id": "00093-3008a3fb-e254-4dcd-bfa7-fb8ad0d67a30",
    "deepnote_cell_type": "markdown"
   }
  },
  {
   "cell_type": "markdown",
   "source": "<center><img src=\"https://tabernadozezim.files.wordpress.com/2013/05/homer-simpson-doh-sound-effect-download-i15.jpg\" width=200></center>",
   "metadata": {
    "tags": [],
    "cell_id": "00094-84be7069-b215-4533-8373-5e7922ceebc5",
    "deepnote_cell_type": "markdown"
   }
  },
  {
   "cell_type": "markdown",
   "source": "What about the subset with a negative correlation between `black` and `college`? Let's fix that one too to be less misleading.\n\n>**Your turn:**  \nLike before, add a `regplot()` of the full dataset \"behind\" the `black > X` subsetted regression plot from above. Don't forget to **add an informative legend that explains what the subset is**.",
   "metadata": {
    "tags": [],
    "cell_id": "00095-4f0e9e06-5eaa-4813-8467-27d0cb13b2cc",
    "deepnote_cell_type": "markdown"
   }
  },
  {
   "cell_type": "code",
   "metadata": {
    "tags": [],
    "cell_id": "00096-52081e08-557a-4346-a771-f2cabb738880",
    "deepnote_to_be_reexecuted": false,
    "source_hash": "8814b3f4",
    "execution_start": 1633286702524,
    "execution_millis": 43,
    "deepnote_cell_type": "code"
   },
   "source": "### Enter your code below: ###\n\n\n\n##############################",
   "execution_count": 34,
   "outputs": []
  },
  {
   "cell_type": "code",
   "metadata": {
    "tags": [],
    "deepnote_to_be_reexecuted": false,
    "source_hash": "beba4271",
    "execution_start": 1633286702568,
    "execution_millis": 0,
    "is_code_hidden": true,
    "cell_id": "00097-520fd22d-d320-47f5-92df-f00e823b2469",
    "deepnote_cell_type": "code"
   },
   "source": "# Solution\n\n# sns.regplot(data=rep, x='black', y='college', label='All')\n\n# black_greater_rep = rep[rep['black'] > 12.5]\n# sns.regplot(data=black_greater_rep, x='black', y='college', label=f'Black > 12.5')\n# plt.legend()\n\n# black_greater_rep['black'].corr(black_greater_rep['college'])",
   "execution_count": 35,
   "outputs": []
  },
  {
   "cell_type": "markdown",
   "source": "So what's really going on here? The trend between `black` and `college` seems to be changing in different ways as we look at different subsets. Recall from the section on Simpson's paradox how we should approach interpreting this.\n\nIs this scenario more similar to the one about YouTube viewer retention, or chemistry? How did we resolve the paradox in those situations?\n\nUnlike with the chemistry experiment, we can't claim that the relationship between `college` and `black` should be the same in every county or not. In fact, we can be almost certain that there are many, many factors that affect how many individuals in a county have college degrees. Can you think of some non-racial factors that would affect this?\n\n> **What would you recommend Jojo do next?**\n\nWe would tell Jojo to think critically about the trends he's observing and look for other variables that contribute to or mediate the effect between race and variables related to socioeconomic status.\n\nAs you work on your own project, we hope you'll be cautious about interpreting variables' relationships. Be sure to check if other subsets of data have different trends and think about other factors that could affect the variable you're interested in.",
   "metadata": {
    "tags": [],
    "cell_id": "00098-782b6d15-e6ff-4682-962e-a5b2931b7b22",
    "deepnote_cell_type": "markdown"
   }
  },
  {
   "cell_type": "markdown",
   "source": "# Finished! (almost...)",
   "metadata": {
    "tags": [],
    "cell_id": "00099-c582ea78-df82-4f65-b2ca-8b3ad56da149",
    "deepnote_cell_type": "markdown"
   }
  },
  {
   "cell_type": "markdown",
   "source": "<center>\n\n<img src='https://i.kym-cdn.com/photos/images/facebook/001/585/311/63e.png' width=300>",
   "metadata": {
    "tags": [],
    "cell_id": "00100-965802e3-adf7-419e-99cb-8cf187379ac9",
    "deepnote_cell_type": "markdown"
   }
  },
  {
   "cell_type": "markdown",
   "source": "Congratulations! You finished the starter kit! You've learned to use many new tools to understand data and how to interpret your visualizations. Now, it's time to start your own project.",
   "metadata": {
    "tags": [],
    "cell_id": "00101-e77939ac-b1d9-4307-a2b7-d09f7db8dea0",
    "deepnote_cell_type": "markdown"
   }
  },
  {
   "cell_type": "markdown",
   "source": "## What To Do Next\nCreate a new notebook for your project! Start thinking of ideas, plots, and analyses you can make using the 2016 US primary dataset we've provided you.\n  \nTo start a new notebook, click the folder icon in the top right if it's not open already, and then click the + icon above the files section. A drop down list should appear, where you can click on 'New Notebook'.",
   "metadata": {
    "tags": [],
    "cell_id": "00077-b68fde02-35fe-4a06-8cbb-9fdfd6168d18",
    "deepnote_cell_type": "markdown"
   }
  },
  {
   "cell_type": "markdown",
   "source": "<center>\n\n![](.images/new_notebook.png)",
   "metadata": {
    "tags": [],
    "cell_id": "00102-5c9220ee-1e2b-4857-882b-1a30dbae7c09",
    "deepnote_cell_type": "markdown"
   }
  },
  {
   "cell_type": "markdown",
   "source": "Click the \"Share\" in the upper right corner of your new Notebook. In the drop down menu, click \"Manage collaborators\" and either share the link or invite your teammates via email. If you share the link, make sure to have it where \"Anyone with a link can **edit** this project.\"",
   "metadata": {
    "tags": [],
    "cell_id": "00051-2c8d651b-64d9-4c83-8b58-6f8ef7478190",
    "deepnote_cell_type": "markdown"
   }
  },
  {
   "cell_type": "markdown",
   "source": "<center>\n\n![](.images/share_button.png)",
   "metadata": {
    "tags": [],
    "cell_id": "00052-2953e98c-aaab-43de-a328-07efb6274db9",
    "deepnote_cell_type": "markdown"
   }
  },
  {
   "cell_type": "markdown",
   "source": "\nFrom here, make sure to import all the necessary packages and the data (you can copy-paste the \"Imports & Loading Data\" cell)!",
   "metadata": {
    "tags": [],
    "cell_id": "00103-9537c7b7-2769-4231-8631-74c126daadd5",
    "deepnote_cell_type": "markdown"
   }
  },
  {
   "cell_type": "markdown",
   "source": "## Project Inspiration",
   "metadata": {
    "tags": [],
    "cell_id": "00081-9b100284-ef9b-43ec-b12e-75cc3526c29e",
    "deepnote_cell_type": "markdown"
   }
  },
  {
   "cell_type": "markdown",
   "source": "### Big Questions\nAs you start your own projects, we'd encourage you to try all tools you've learned so far to discover and visualize trends. However, your most important tool for this project will be **your curiosity!**\n\nOne way to go about your project is to **try answering questions that interest you**. If you're not sure what questions to ask, we've put a diagram below that we hope might help.\n\nThe arrows indicate causality between different variables that you can try to prove or disprove. For example, it suggests that `Location`, or where someone lives, influences how they would vote. You could investigate whether this is true with your newly minted data science toolbox.\n\nAlso, note the `?` boxes: the diagram is **not** comprehensive so there could be other variables that belong in the diagram that are not being shown. If you chose to, you could try and figure out what those `?` variables should be!\n\n>**Disclaimer:**  \nThe diagram below is a high-level oversimplification that is **not** ground truth.",
   "metadata": {
    "tags": [],
    "cell_id": "00082-13f23499-3c3e-4c4f-b18f-0ec437974e7c",
    "deepnote_cell_type": "markdown"
   }
  },
  {
   "cell_type": "markdown",
   "source": "![](.images/suggestive_model.png)",
   "metadata": {
    "tags": [],
    "cell_id": "00083-ff103a22-e278-4b35-8fd5-498f32edabcb",
    "deepnote_cell_type": "markdown"
   }
  },
  {
   "cell_type": "markdown",
   "source": "### Get Technical\n\nAnother great way to find new things to try is to go through the documentation for [seaborn](https://seaborn.pydata.org/) and [matplotlib](https://matplotlib.org/stable/contents.html) and **look at examples of other visualizations**. You might have even seen some of them in the data visualization pitch at the start of the hackathon!\n\nOn June 27 there will also be a workshop on **machine learning**. This is an incredibly powerful tool for prediction and inference that could, for example, help you characterize the counties Hillary won without as much legwork or learn to predict the winners of the election.\n\nFinally, if you're feeling competitive keep in mind the [judging criteria](https://www.notion.so/Data-Viz-Judging-Criteria-a6250cb9a677459d878307f58bb252d6) for your project. You'll need to score as highly as you can in each criteria to win some big prizes!",
   "metadata": {
    "tags": [],
    "cell_id": "00084-8c38ecbd-bdab-4e3a-b08a-f06ff92ac9ac",
    "deepnote_cell_type": "markdown"
   }
  },
  {
   "cell_type": "markdown",
   "source": "## Where to get help if you get stuck? \n\nDon't hestitate to ask your TritonHacks mentor or any of the tutors for help! You can reach out to them through Discord or CampusWire.\n\n**Otherwise, the Internet/Google is your best friend!**  \n- Coding tutorial website: geekforgeeks, w3schools\n- Any data science blog posts you come across\n- Documentation: [Python](https://docs.python.org/3/), [pandas](https://pandas.pydata.org/docs/), [seaborn](https://seaborn.pydata.org/), [matplotlib](https://matplotlib.org/stable/contents.html)\n- Online forums: stackoverflow",
   "metadata": {
    "tags": [],
    "cell_id": "00052-2cd0bfdd-2e09-4665-8cf2-cd41e71f8bcb",
    "deepnote_cell_type": "markdown"
   }
  },
  {
   "cell_type": "markdown",
   "source": "## Submission\n\nWhen you're finished with your project you can submit it to the [TritonHacks Devpost](https://tritonhacks-2021.devpost.com/).\n\n<p style='font-size:30px'><b>Good luck and have fun!</b><p>",
   "metadata": {
    "tags": [],
    "cell_id": "00086-d2c40cca-90d1-414c-9eee-05faae6f909e",
    "deepnote_cell_type": "markdown"
   }
  },
  {
   "cell_type": "markdown",
   "source": "## Credits\nThis kit is the joint work of Audrey Zhao, David Laub, Emily Chen, and Renyi Zhao.",
   "metadata": {
    "tags": [],
    "cell_id": "00052-c271be0b-1ca3-4fab-b2a8-4271e22dbe4a",
    "deepnote_cell_type": "markdown"
   }
  },
  {
   "cell_type": "markdown",
   "source": "<a style='text-decoration:none;line-height:16px;display:flex;color:#5B5B62;padding:10px;justify-content:end;' href='https://deepnote.com?utm_source=created-in-deepnote-cell&projectId=6db671ff-4b94-4ec9-9d8f-30a849bb0caf' target=\"_blank\">\n<img alt='Created in deepnote.com' style='display:inline;max-height:16px;margin:0px;margin-right:7.5px;' src='data:image/svg+xml;base64,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' > </img>\nCreated in <span style='font-weight:600;margin-left:4px;'>Deepnote</span></a>",
   "metadata": {
    "tags": [],
    "created_in_deepnote_cell": true,
    "deepnote_cell_type": "markdown"
   }
  }
 ],
 "nbformat": 4,
 "nbformat_minor": 2,
 "metadata": {
  "orig_nbformat": 2,
  "deepnote_notebook_id": "f30fa781-8058-465f-a44a-1710272dc2c1",
  "deepnote": {},
  "deepnote_execution_queue": []
 }
}
