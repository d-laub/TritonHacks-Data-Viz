{
 "cells": [
  {
   "cell_type": "code",
   "metadata": {
    "tags": [],
    "cell_id": "00000-e2515d75-1fa7-4991-986d-20c30b6630ce",
    "deepnote_to_be_reexecuted": false,
    "source_hash": "4b5df529",
    "execution_start": 1624731203776,
    "execution_millis": 360,
    "deepnote_cell_type": "code"
   },
   "source": "import numpy as np\nimport pandas as pd\nimport matplotlib.pyplot as plt\nimport seaborn as sns\nimport plotly.express as px\nfrom utils import *\n\nsns.set_theme() \n\ngeo_cnty, rep, dem, rep_st, dem_st = load_data()",
   "outputs": [
    {
     "name": "stdout",
     "text": "Loading data from Datasets folder...\nFinished loading data!\n",
     "output_type": "stream"
    }
   ],
   "execution_count": null
  },
  {
   "cell_type": "code",
   "source": "both = rep.merge(dem[['fips', 'winner', 'votes', 'total_votes', 'fraction_votes', 'voter_turnout']], on='fips', suffixes=('_rep', '_dem'))",
   "metadata": {
    "tags": [],
    "cell_id": "00001-29d44ab7-0f68-4c1d-9741-93b9054f0265",
    "deepnote_to_be_reexecuted": false,
    "source_hash": "cf1e76fc",
    "execution_start": 1624731694150,
    "execution_millis": 9,
    "deepnote_cell_type": "code"
   },
   "outputs": [],
   "execution_count": null
  },
  {
   "cell_type": "code",
   "source": "both",
   "metadata": {
    "tags": [],
    "cell_id": "00003-08caf430-7877-49b2-992f-752a76b2347b",
    "deepnote_to_be_reexecuted": false,
    "source_hash": "736e9d7d",
    "execution_start": 1624731700535,
    "execution_millis": 111,
    "deepnote_cell_type": "code"
   },
   "outputs": [
    {
     "output_type": "execute_result",
     "execution_count": 10,
     "data": {
      "application/vnd.deepnote.dataframe.v2+json": {
       "row_count": 1537,
       "column_count": 27,
       "columns": [
        {
         "name": "st_abbrev",
         "dtype": "object",
         "stats": {
          "unique_count": 41,
          "nan_count": 0,
          "categories": [
           {
            "name": "NC",
            "count": 85
           },
           {
            "name": "OH",
            "count": 85
           },
           {
            "name": "39 others",
            "count": 1367
           }
          ]
         }
        },
        {
         "name": "fips",
         "dtype": "object",
         "stats": {
          "unique_count": 1536,
          "nan_count": 0,
          "categories": [
           {
            "name": "55093",
            "count": 2
           },
           {
            "name": "01001",
            "count": 1
           },
           {
            "name": "1534 others",
            "count": 1534
           }
          ]
         }
        },
        {
         "name": "population",
         "dtype": "int64",
         "stats": {
          "unique_count": 1524,
          "nan_count": 0,
          "min": "9127",
          "max": "4441370",
          "histogram": [
           {
            "bin_start": 9127,
            "bin_end": 452351.3,
            "count": 1438
           },
           {
            "bin_start": 452351.3,
            "bin_end": 895575.6,
            "count": 59
           },
           {
            "bin_start": 895575.6,
            "bin_end": 1338799.9,
            "count": 23
           },
           {
            "bin_start": 1338799.9,
            "bin_end": 1782024.2,
            "count": 5
           },
           {
            "bin_start": 1782024.2,
            "bin_end": 2225248.5,
            "count": 5
           },
           {
            "bin_start": 2225248.5,
            "bin_end": 2668472.8,
            "count": 3
           },
           {
            "bin_start": 2668472.8,
            "bin_end": 3111697.1,
            "count": 0
           },
           {
            "bin_start": 3111697.1,
            "bin_end": 3554921.4,
            "count": 2
           },
           {
            "bin_start": 3554921.4,
            "bin_end": 3998145.6999999997,
            "count": 0
           },
           {
            "bin_start": 3998145.6999999997,
            "bin_end": 4441370,
            "count": 2
           }
          ]
         }
        },
        {
         "name": "income",
         "dtype": "int64",
         "stats": {
          "unique_count": 1505,
          "nan_count": 0,
          "min": "24038",
          "max": "122238",
          "histogram": [
           {
            "bin_start": 24038,
            "bin_end": 33858,
            "count": 103
           },
           {
            "bin_start": 33858,
            "bin_end": 43678,
            "count": 574
           },
           {
            "bin_start": 43678,
            "bin_end": 53498,
            "count": 517
           },
           {
            "bin_start": 53498,
            "bin_end": 63318,
            "count": 209
           },
           {
            "bin_start": 63318,
            "bin_end": 73138,
            "count": 67
           },
           {
            "bin_start": 73138,
            "bin_end": 82958,
            "count": 34
           },
           {
            "bin_start": 82958,
            "bin_end": 92778,
            "count": 18
           },
           {
            "bin_start": 92778,
            "bin_end": 102598,
            "count": 9
           },
           {
            "bin_start": 102598,
            "bin_end": 112418,
            "count": 5
           },
           {
            "bin_start": 112418,
            "bin_end": 122238,
            "count": 1
           }
          ]
         }
        },
        {
         "name": "hispanic",
         "dtype": "float64",
         "stats": {
          "unique_count": 274,
          "nan_count": 0,
          "min": "0.5",
          "max": "80.4",
          "histogram": [
           {
            "bin_start": 0.5,
            "bin_end": 8.49,
            "count": 1179
           },
           {
            "bin_start": 8.49,
            "bin_end": 16.48,
            "count": 191
           },
           {
            "bin_start": 16.48,
            "bin_end": 24.47,
            "count": 74
           },
           {
            "bin_start": 24.47,
            "bin_end": 32.46,
            "count": 29
           },
           {
            "bin_start": 32.46,
            "bin_end": 40.45,
            "count": 22
           },
           {
            "bin_start": 40.45,
            "bin_end": 48.44,
            "count": 11
           },
           {
            "bin_start": 48.44,
            "bin_end": 56.43,
            "count": 16
           },
           {
            "bin_start": 56.43,
            "bin_end": 64.42,
            "count": 8
           },
           {
            "bin_start": 64.42,
            "bin_end": 72.41,
            "count": 5
           },
           {
            "bin_start": 72.41,
            "bin_end": 80.4,
            "count": 2
           }
          ]
         }
        },
        {
         "name": "asian",
         "dtype": "float64",
         "stats": {
          "unique_count": 103,
          "nan_count": 0,
          "min": "0.1",
          "max": "19.6",
          "histogram": [
           {
            "bin_start": 0.1,
            "bin_end": 2.05,
            "count": 1226
           },
           {
            "bin_start": 2.05,
            "bin_end": 4,
            "count": 189
           },
           {
            "bin_start": 4,
            "bin_end": 5.949999999999999,
            "count": 66
           },
           {
            "bin_start": 5.949999999999999,
            "bin_end": 7.8999999999999995,
            "count": 26
           },
           {
            "bin_start": 7.8999999999999995,
            "bin_end": 9.85,
            "count": 6
           },
           {
            "bin_start": 9.85,
            "bin_end": 11.799999999999999,
            "count": 10
           },
           {
            "bin_start": 11.799999999999999,
            "bin_end": 13.75,
            "count": 2
           },
           {
            "bin_start": 13.75,
            "bin_end": 15.7,
            "count": 2
           },
           {
            "bin_start": 15.7,
            "bin_end": 17.650000000000002,
            "count": 7
           },
           {
            "bin_start": 17.650000000000002,
            "bin_end": 19.6,
            "count": 3
           }
          ]
         }
        },
        {
         "name": "black",
         "dtype": "float64",
         "stats": {
          "unique_count": 376,
          "nan_count": 0,
          "min": "0.3",
          "max": "74.9",
          "histogram": [
           {
            "bin_start": 0.3,
            "bin_end": 7.760000000000001,
            "count": 932
           },
           {
            "bin_start": 7.760000000000001,
            "bin_end": 15.220000000000002,
            "count": 210
           },
           {
            "bin_start": 15.220000000000002,
            "bin_end": 22.680000000000003,
            "count": 115
           },
           {
            "bin_start": 22.680000000000003,
            "bin_end": 30.140000000000004,
            "count": 87
           },
           {
            "bin_start": 30.140000000000004,
            "bin_end": 37.6,
            "count": 75
           },
           {
            "bin_start": 37.6,
            "bin_end": 45.06,
            "count": 56
           },
           {
            "bin_start": 45.06,
            "bin_end": 52.52,
            "count": 30
           },
           {
            "bin_start": 52.52,
            "bin_end": 59.980000000000004,
            "count": 21
           },
           {
            "bin_start": 59.980000000000004,
            "bin_end": 67.44000000000001,
            "count": 5
           },
           {
            "bin_start": 67.44000000000001,
            "bin_end": 74.9,
            "count": 6
           }
          ]
         }
        },
        {
         "name": "white",
         "dtype": "float64",
         "stats": {
          "unique_count": 541,
          "nan_count": 0,
          "min": "14.8",
          "max": "98.1",
          "histogram": [
           {
            "bin_start": 14.8,
            "bin_end": 23.130000000000003,
            "count": 5
           },
           {
            "bin_start": 23.130000000000003,
            "bin_end": 31.46,
            "count": 16
           },
           {
            "bin_start": 31.46,
            "bin_end": 39.790000000000006,
            "count": 36
           },
           {
            "bin_start": 39.790000000000006,
            "bin_end": 48.120000000000005,
            "count": 71
           },
           {
            "bin_start": 48.120000000000005,
            "bin_end": 56.45,
            "count": 90
           },
           {
            "bin_start": 56.45,
            "bin_end": 64.78,
            "count": 152
           },
           {
            "bin_start": 64.78,
            "bin_end": 73.11,
            "count": 167
           },
           {
            "bin_start": 73.11,
            "bin_end": 81.44,
            "count": 210
           },
           {
            "bin_start": 81.44,
            "bin_end": 89.77,
            "count": 302
           },
           {
            "bin_start": 89.77,
            "bin_end": 98.1,
            "count": 488
           }
          ]
         }
        },
        {
         "name": "foreign",
         "dtype": "float64",
         "stats": {
          "unique_count": 184,
          "nan_count": 0,
          "min": "0.1",
          "max": "51.3",
          "histogram": [
           {
            "bin_start": 0.1,
            "bin_end": 5.219999999999999,
            "count": 1097
           },
           {
            "bin_start": 5.219999999999999,
            "bin_end": 10.339999999999998,
            "count": 305
           },
           {
            "bin_start": 10.339999999999998,
            "bin_end": 15.459999999999997,
            "count": 75
           },
           {
            "bin_start": 15.459999999999997,
            "bin_end": 20.58,
            "count": 25
           },
           {
            "bin_start": 20.58,
            "bin_end": 25.699999999999996,
            "count": 27
           },
           {
            "bin_start": 25.699999999999996,
            "bin_end": 30.819999999999997,
            "count": 5
           },
           {
            "bin_start": 30.819999999999997,
            "bin_end": 35.94,
            "count": 2
           },
           {
            "bin_start": 35.94,
            "bin_end": 41.059999999999995,
            "count": 0
           },
           {
            "bin_start": 41.059999999999995,
            "bin_end": 46.17999999999999,
            "count": 0
           },
           {
            "bin_start": 46.17999999999999,
            "bin_end": 51.3,
            "count": 1
           }
          ]
         }
        },
        {
         "name": "college",
         "dtype": "float64",
         "stats": {
          "unique_count": 348,
          "nan_count": 0,
          "min": "7.5",
          "max": "71.7",
          "histogram": [
           {
            "bin_start": 7.5,
            "bin_end": 13.92,
            "count": 330
           },
           {
            "bin_start": 13.92,
            "bin_end": 20.34,
            "count": 557
           },
           {
            "bin_start": 20.34,
            "bin_end": 26.759999999999998,
            "count": 297
           },
           {
            "bin_start": 26.759999999999998,
            "bin_end": 33.18,
            "count": 193
           },
           {
            "bin_start": 33.18,
            "bin_end": 39.6,
            "count": 86
           },
           {
            "bin_start": 39.6,
            "bin_end": 46.019999999999996,
            "count": 45
           },
           {
            "bin_start": 46.019999999999996,
            "bin_end": 52.44,
            "count": 20
           },
           {
            "bin_start": 52.44,
            "bin_end": 58.86,
            "count": 6
           },
           {
            "bin_start": 58.86,
            "bin_end": 65.28,
            "count": 2
           },
           {
            "bin_start": 65.28,
            "bin_end": 71.7,
            "count": 1
           }
          ]
         }
        },
        {
         "name": "density",
         "dtype": "float64",
         "stats": {
          "unique_count": 1206,
          "nan_count": 0,
          "min": "1.5",
          "max": "7993.6",
          "histogram": [
           {
            "bin_start": 1.5,
            "bin_end": 800.71,
            "count": 1449
           },
           {
            "bin_start": 800.71,
            "bin_end": 1599.92,
            "count": 56
           },
           {
            "bin_start": 1599.92,
            "bin_end": 2399.13,
            "count": 17
           },
           {
            "bin_start": 2399.13,
            "bin_end": 3198.34,
            "count": 9
           },
           {
            "bin_start": 3198.34,
            "bin_end": 3997.55,
            "count": 4
           },
           {
            "bin_start": 3997.55,
            "bin_end": 4796.76,
            "count": 1
           },
           {
            "bin_start": 4796.76,
            "bin_end": 5595.97,
            "count": 0
           },
           {
            "bin_start": 5595.97,
            "bin_end": 6395.18,
            "count": 0
           },
           {
            "bin_start": 6395.18,
            "bin_end": 7194.39,
            "count": 0
           },
           {
            "bin_start": 7194.39,
            "bin_end": 7993.6,
            "count": 1
           }
          ]
         }
        },
        {
         "name": "vets",
         "dtype": "int64",
         "stats": {
          "unique_count": 1443,
          "nan_count": 0,
          "min": "630",
          "max": "271518",
          "histogram": [
           {
            "bin_start": 630,
            "bin_end": 27718.8,
            "count": 1407
           },
           {
            "bin_start": 27718.8,
            "bin_end": 54807.6,
            "count": 93
           },
           {
            "bin_start": 54807.6,
            "bin_end": 81896.4,
            "count": 16
           },
           {
            "bin_start": 81896.4,
            "bin_end": 108985.2,
            "count": 13
           },
           {
            "bin_start": 108985.2,
            "bin_end": 136074,
            "count": 4
           },
           {
            "bin_start": 136074,
            "bin_end": 163162.8,
            "count": 1
           },
           {
            "bin_start": 163162.8,
            "bin_end": 190251.6,
            "count": 1
           },
           {
            "bin_start": 190251.6,
            "bin_end": 217340.4,
            "count": 0
           },
           {
            "bin_start": 217340.4,
            "bin_end": 244429.19999999998,
            "count": 1
           },
           {
            "bin_start": 244429.19999999998,
            "bin_end": 271518,
            "count": 1
           }
          ]
         }
        },
        {
         "name": "female",
         "dtype": "float64",
         "stats": {
          "unique_count": 103,
          "nan_count": 0,
          "min": "36.3",
          "max": "55.2",
          "histogram": [
           {
            "bin_start": 36.3,
            "bin_end": 38.19,
            "count": 1
           },
           {
            "bin_start": 38.19,
            "bin_end": 40.08,
            "count": 3
           },
           {
            "bin_start": 40.08,
            "bin_end": 41.97,
            "count": 2
           },
           {
            "bin_start": 41.97,
            "bin_end": 43.86,
            "count": 5
           },
           {
            "bin_start": 43.86,
            "bin_end": 45.75,
            "count": 24
           },
           {
            "bin_start": 45.75,
            "bin_end": 47.64,
            "count": 49
           },
           {
            "bin_start": 47.64,
            "bin_end": 49.53,
            "count": 170
           },
           {
            "bin_start": 49.53,
            "bin_end": 51.42,
            "count": 984
           },
           {
            "bin_start": 51.42,
            "bin_end": 53.31,
            "count": 289
           },
           {
            "bin_start": 53.31,
            "bin_end": 55.2,
            "count": 10
           }
          ]
         }
        },
        {
         "name": "senior",
         "dtype": "float64",
         "stats": {
          "unique_count": 206,
          "nan_count": 0,
          "min": "7.2",
          "max": "52.9",
          "histogram": [
           {
            "bin_start": 7.2,
            "bin_end": 11.77,
            "count": 128
           },
           {
            "bin_start": 11.77,
            "bin_end": 16.34,
            "count": 625
           },
           {
            "bin_start": 16.34,
            "bin_end": 20.909999999999997,
            "count": 619
           },
           {
            "bin_start": 20.909999999999997,
            "bin_end": 25.479999999999997,
            "count": 117
           },
           {
            "bin_start": 25.479999999999997,
            "bin_end": 30.049999999999997,
            "count": 40
           },
           {
            "bin_start": 30.049999999999997,
            "bin_end": 34.62,
            "count": 4
           },
           {
            "bin_start": 34.62,
            "bin_end": 39.19,
            "count": 3
           },
           {
            "bin_start": 39.19,
            "bin_end": 43.76,
            "count": 0
           },
           {
            "bin_start": 43.76,
            "bin_end": 48.33,
            "count": 0
           },
           {
            "bin_start": 48.33,
            "bin_end": 52.9,
            "count": 1
           }
          ]
         }
        },
        {
         "name": "children",
         "dtype": "float64",
         "stats": {
          "unique_count": 155,
          "nan_count": 0,
          "min": "7.4",
          "max": "34.9",
          "histogram": [
           {
            "bin_start": 7.4,
            "bin_end": 10.15,
            "count": 1
           },
           {
            "bin_start": 10.15,
            "bin_end": 12.9,
            "count": 1
           },
           {
            "bin_start": 12.9,
            "bin_end": 15.65,
            "count": 17
           },
           {
            "bin_start": 15.65,
            "bin_end": 18.4,
            "count": 95
           },
           {
            "bin_start": 18.4,
            "bin_end": 21.15,
            "count": 368
           },
           {
            "bin_start": 21.15,
            "bin_end": 23.9,
            "count": 587
           },
           {
            "bin_start": 23.9,
            "bin_end": 26.65,
            "count": 366
           },
           {
            "bin_start": 26.65,
            "bin_end": 29.4,
            "count": 86
           },
           {
            "bin_start": 29.4,
            "bin_end": 32.15,
            "count": 10
           },
           {
            "bin_start": 32.15,
            "bin_end": 34.9,
            "count": 6
           }
          ]
         }
        },
        {
         "name": "st_cnty",
         "dtype": "object",
         "stats": {
          "unique_count": 1536,
          "nan_count": 0,
          "categories": [
           {
            "name": "WI_Pierce",
            "count": 2
           },
           {
            "name": "AL_Autauga",
            "count": 1
           },
           {
            "name": "1534 others",
            "count": 1534
           }
          ]
         }
        },
        {
         "name": "state",
         "dtype": "object",
         "stats": {
          "unique_count": 41,
          "nan_count": 0,
          "categories": [
           {
            "name": "North Carolina",
            "count": 85
           },
           {
            "name": "Ohio",
            "count": 85
           },
           {
            "name": "39 others",
            "count": 1367
           }
          ]
         }
        },
        {
         "name": "winner_rep",
         "dtype": "object",
         "stats": {
          "unique_count": 4,
          "nan_count": 0,
          "categories": [
           {
            "name": "Donald Trump",
            "count": 1161
           },
           {
            "name": "Ted Cruz",
            "count": 290
           },
           {
            "name": "2 others",
            "count": 86
           }
          ]
         }
        },
        {
         "name": "votes_rep",
         "dtype": "int64",
         "stats": {
          "unique_count": 1431,
          "nan_count": 0,
          "min": "274",
          "max": "147721",
          "histogram": [
           {
            "bin_start": 274,
            "bin_end": 15018.7,
            "count": 1325
           },
           {
            "bin_start": 15018.7,
            "bin_end": 29763.4,
            "count": 130
           },
           {
            "bin_start": 29763.4,
            "bin_end": 44508.100000000006,
            "count": 43
           },
           {
            "bin_start": 44508.100000000006,
            "bin_end": 59252.8,
            "count": 16
           },
           {
            "bin_start": 59252.8,
            "bin_end": 73997.5,
            "count": 12
           },
           {
            "bin_start": 73997.5,
            "bin_end": 88742.20000000001,
            "count": 4
           },
           {
            "bin_start": 88742.20000000001,
            "bin_end": 103486.90000000001,
            "count": 2
           },
           {
            "bin_start": 103486.90000000001,
            "bin_end": 118231.6,
            "count": 1
           },
           {
            "bin_start": 118231.6,
            "bin_end": 132976.30000000002,
            "count": 1
           },
           {
            "bin_start": 132976.30000000002,
            "bin_end": 147721,
            "count": 3
           }
          ]
         }
        },
        {
         "name": "fraction_votes_rep",
         "dtype": "float64",
         "stats": {
          "unique_count": 490,
          "nan_count": 0,
          "min": "0.262",
          "max": "0.8959999999999999",
          "histogram": [
           {
            "bin_start": 0.262,
            "bin_end": 0.3254,
            "count": 60
           },
           {
            "bin_start": 0.3254,
            "bin_end": 0.3888,
            "count": 226
           },
           {
            "bin_start": 0.3888,
            "bin_end": 0.45219999999999994,
            "count": 383
           },
           {
            "bin_start": 0.45219999999999994,
            "bin_end": 0.5156,
            "count": 385
           },
           {
            "bin_start": 0.5156,
            "bin_end": 0.579,
            "count": 189
           },
           {
            "bin_start": 0.579,
            "bin_end": 0.6423999999999999,
            "count": 89
           },
           {
            "bin_start": 0.6423999999999999,
            "bin_end": 0.7057999999999999,
            "count": 67
           },
           {
            "bin_start": 0.7057999999999999,
            "bin_end": 0.7691999999999999,
            "count": 64
           },
           {
            "bin_start": 0.7691999999999999,
            "bin_end": 0.8325999999999999,
            "count": 61
           },
           {
            "bin_start": 0.8325999999999999,
            "bin_end": 0.8959999999999999,
            "count": 13
           }
          ]
         }
        },
        {
         "name": "total_votes_rep",
         "dtype": "int64",
         "stats": {
          "unique_count": 1470,
          "nan_count": 0,
          "min": "1016",
          "max": "317328",
          "histogram": [
           {
            "bin_start": 1016,
            "bin_end": 32647.2,
            "count": 1357
           },
           {
            "bin_start": 32647.2,
            "bin_end": 64278.4,
            "count": 108
           },
           {
            "bin_start": 64278.4,
            "bin_end": 95909.6,
            "count": 37
           },
           {
            "bin_start": 95909.6,
            "bin_end": 127540.8,
            "count": 19
           },
           {
            "bin_start": 127540.8,
            "bin_end": 159172,
            "count": 9
           },
           {
            "bin_start": 159172,
            "bin_end": 190803.2,
            "count": 4
           },
           {
            "bin_start": 190803.2,
            "bin_end": 222434.4,
            "count": 1
           },
           {
            "bin_start": 222434.4,
            "bin_end": 254065.6,
            "count": 1
           },
           {
            "bin_start": 254065.6,
            "bin_end": 285696.8,
            "count": 0
           },
           {
            "bin_start": 285696.8,
            "bin_end": 317328,
            "count": 1
           }
          ]
         }
        },
        {
         "name": "voter_turnout_rep",
         "dtype": "float64",
         "stats": {
          "unique_count": 1536,
          "nan_count": 0,
          "min": "0.0508086031308433",
          "max": "0.4071045895252572",
          "histogram": [
           {
            "bin_start": 0.0508086031308433,
            "bin_end": 0.08643820177028469,
            "count": 175
           },
           {
            "bin_start": 0.08643820177028469,
            "bin_end": 0.12206780040972608,
            "count": 217
           },
           {
            "bin_start": 0.12206780040972608,
            "bin_end": 0.15769739904916746,
            "count": 242
           },
           {
            "bin_start": 0.15769739904916746,
            "bin_end": 0.19332699768860884,
            "count": 272
           },
           {
            "bin_start": 0.19332699768860884,
            "bin_end": 0.2289565963280502,
            "count": 297
           },
           {
            "bin_start": 0.2289565963280502,
            "bin_end": 0.26458619496749164,
            "count": 176
           },
           {
            "bin_start": 0.26458619496749164,
            "bin_end": 0.300215793606933,
            "count": 103
           },
           {
            "bin_start": 0.300215793606933,
            "bin_end": 0.3358453922463744,
            "count": 41
           },
           {
            "bin_start": 0.3358453922463744,
            "bin_end": 0.37147499088581576,
            "count": 8
           },
           {
            "bin_start": 0.37147499088581576,
            "bin_end": 0.4071045895252572,
            "count": 6
           }
          ]
         }
        },
        {
         "name": "winner_dem",
         "dtype": "object",
         "stats": {
          "unique_count": 2,
          "nan_count": 0,
          "categories": [
           {
            "name": "Hillary Clinton",
            "count": 898
           },
           {
            "name": "Bernie Sanders",
            "count": 639
           }
          ]
         }
        },
        {
         "name": "votes_dem",
         "dtype": "int64",
         "stats": {
          "unique_count": 1344,
          "nan_count": 0,
          "min": "514",
          "max": "163886",
          "histogram": [
           {
            "bin_start": 514,
            "bin_end": 16851.2,
            "count": 1375
           },
           {
            "bin_start": 16851.2,
            "bin_end": 33188.4,
            "count": 88
           },
           {
            "bin_start": 33188.4,
            "bin_end": 49525.600000000006,
            "count": 29
           },
           {
            "bin_start": 49525.600000000006,
            "bin_end": 65862.8,
            "count": 11
           },
           {
            "bin_start": 65862.8,
            "bin_end": 82200,
            "count": 14
           },
           {
            "bin_start": 82200,
            "bin_end": 98537.20000000001,
            "count": 5
           },
           {
            "bin_start": 98537.20000000001,
            "bin_end": 114874.40000000001,
            "count": 5
           },
           {
            "bin_start": 114874.40000000001,
            "bin_end": 131211.6,
            "count": 5
           },
           {
            "bin_start": 131211.6,
            "bin_end": 147548.80000000002,
            "count": 3
           },
           {
            "bin_start": 147548.80000000002,
            "bin_end": 163886,
            "count": 2
           }
          ]
         }
        },
        {
         "name": "total_votes_dem",
         "dtype": "int64",
         "stats": {
          "unique_count": 1411,
          "nan_count": 0,
          "min": "1004",
          "max": "268885",
          "histogram": [
           {
            "bin_start": 1004,
            "bin_end": 27792.1,
            "count": 1370
           },
           {
            "bin_start": 27792.1,
            "bin_end": 54580.2,
            "count": 91
           },
           {
            "bin_start": 54580.2,
            "bin_end": 81368.29999999999,
            "count": 24
           },
           {
            "bin_start": 81368.29999999999,
            "bin_end": 108156.4,
            "count": 20
           },
           {
            "bin_start": 108156.4,
            "bin_end": 134944.5,
            "count": 12
           },
           {
            "bin_start": 134944.5,
            "bin_end": 161732.59999999998,
            "count": 7
           },
           {
            "bin_start": 161732.59999999998,
            "bin_end": 188520.69999999998,
            "count": 4
           },
           {
            "bin_start": 188520.69999999998,
            "bin_end": 215308.8,
            "count": 3
           },
           {
            "bin_start": 215308.8,
            "bin_end": 242096.9,
            "count": 3
           },
           {
            "bin_start": 242096.9,
            "bin_end": 268885,
            "count": 3
           }
          ]
         }
        },
        {
         "name": "fraction_votes_dem",
         "dtype": "float64",
         "stats": {
          "unique_count": 409,
          "nan_count": 0,
          "min": "0.417",
          "max": "0.93",
          "histogram": [
           {
            "bin_start": 0.417,
            "bin_end": 0.4683,
            "count": 26
           },
           {
            "bin_start": 0.4683,
            "bin_end": 0.5196000000000001,
            "count": 320
           },
           {
            "bin_start": 0.5196000000000001,
            "bin_end": 0.5709,
            "count": 437
           },
           {
            "bin_start": 0.5709,
            "bin_end": 0.6222000000000001,
            "count": 282
           },
           {
            "bin_start": 0.6222000000000001,
            "bin_end": 0.6735,
            "count": 143
           },
           {
            "bin_start": 0.6735,
            "bin_end": 0.7248000000000001,
            "count": 84
           },
           {
            "bin_start": 0.7248000000000001,
            "bin_end": 0.7761,
            "count": 85
           },
           {
            "bin_start": 0.7761,
            "bin_end": 0.8274000000000001,
            "count": 67
           },
           {
            "bin_start": 0.8274000000000001,
            "bin_end": 0.8787,
            "count": 66
           },
           {
            "bin_start": 0.8787,
            "bin_end": 0.93,
            "count": 27
           }
          ]
         }
        },
        {
         "name": "voter_turnout_dem",
         "dtype": "float64",
         "stats": {
          "unique_count": 1536,
          "nan_count": 0,
          "min": "0.0040815625137789",
          "max": "0.4546675484266551",
          "histogram": [
           {
            "bin_start": 0.0040815625137789,
            "bin_end": 0.04914016110506652,
            "count": 143
           },
           {
            "bin_start": 0.04914016110506652,
            "bin_end": 0.09419875969635415,
            "count": 585
           },
           {
            "bin_start": 0.09419875969635415,
            "bin_end": 0.13925735828764174,
            "count": 475
           },
           {
            "bin_start": 0.13925735828764174,
            "bin_end": 0.18431595687892938,
            "count": 209
           },
           {
            "bin_start": 0.18431595687892938,
            "bin_end": 0.229374555470217,
            "count": 81
           },
           {
            "bin_start": 0.229374555470217,
            "bin_end": 0.2744331540615046,
            "count": 29
           },
           {
            "bin_start": 0.2744331540615046,
            "bin_end": 0.3194917526527922,
            "count": 8
           },
           {
            "bin_start": 0.3194917526527922,
            "bin_end": 0.36455035124407986,
            "count": 1
           },
           {
            "bin_start": 0.36455035124407986,
            "bin_end": 0.4096089498353675,
            "count": 3
           },
           {
            "bin_start": 0.4096089498353675,
            "bin_end": 0.4546675484266551,
            "count": 3
           }
          ]
         }
        },
        {
         "name": "_deepnote_index_column",
         "dtype": "int64"
        }
       ],
       "rows_top": [
        {
         "st_abbrev": "AL",
         "fips": "01001",
         "population": 55395,
         "income": 53682,
         "hispanic": 2.7,
         "asian": 1.1,
         "black": 18.7,
         "white": 75.6,
         "foreign": 1.6,
         "college": 20.9,
         "density": 91.8,
         "vets": 5922,
         "female": 51.4,
         "senior": 13.8,
         "children": 25.2,
         "st_cnty": "AL_Autauga",
         "state": "Alabama",
         "winner_rep": "Donald Trump",
         "votes_rep": 5387,
         "fraction_votes_rep": 0.445,
         "total_votes_rep": 11839,
         "voter_turnout_rep": 0.2857214569356778,
         "winner_dem": "Hillary Clinton",
         "votes_dem": 2387,
         "total_votes_dem": 2931,
         "fraction_votes_dem": 0.8,
         "voter_turnout_dem": 0.0707365140872093,
         "_deepnote_index_column": 0
        },
        {
         "st_abbrev": "AL",
         "fips": "01003",
         "population": 200111,
         "income": 50221,
         "hispanic": 4.6,
         "asian": 0.9,
         "black": 9.6,
         "white": 83,
         "foreign": 3.6,
         "college": 27.7,
         "density": 114.6,
         "vets": 19346,
         "female": 51.2,
         "senior": 18.7,
         "children": 22.2,
         "st_cnty": "AL_Baldwin",
         "state": "Alabama",
         "winner_rep": "Donald Trump",
         "votes_rep": 23618,
         "fraction_votes_rep": 0.469,
         "total_votes_rep": 49100,
         "voter_turnout_rep": 0.3153776646249249,
         "winner_dem": "Hillary Clinton",
         "votes_dem": 5290,
         "total_votes_dem": 7984,
         "fraction_votes_dem": 0.647,
         "voter_turnout_dem": 0.0512825921459348,
         "_deepnote_index_column": 1
        },
        {
         "st_abbrev": "AL",
         "fips": "01005",
         "population": 26887,
         "income": 32911,
         "hispanic": 4.5,
         "asian": 0.5,
         "black": 47.6,
         "white": 46.6,
         "foreign": 2.9,
         "college": 13.4,
         "density": 31,
         "vets": 2120,
         "female": 46.6,
         "senior": 16.5,
         "children": 21.2,
         "st_cnty": "AL_Barbour",
         "state": "Alabama",
         "winner_rep": "Donald Trump",
         "votes_rep": 1710,
         "fraction_votes_rep": 0.501,
         "total_votes_rep": 3357,
         "voter_turnout_rep": 0.1584465460729705,
         "winner_dem": "Hillary Clinton",
         "votes_dem": 2567,
         "total_votes_dem": 2789,
         "fraction_votes_dem": 0.906,
         "voter_turnout_dem": 0.1316375981523726,
         "_deepnote_index_column": 2
        },
        {
         "st_abbrev": "AL",
         "fips": "01007",
         "population": 22506,
         "income": 36447,
         "hispanic": 2.1,
         "asian": 0.2,
         "black": 22.1,
         "white": 74.5,
         "foreign": 1.2,
         "college": 12.1,
         "density": 36.8,
         "vets": 1327,
         "female": 45.9,
         "senior": 14.8,
         "children": 21,
         "st_cnty": "AL_Bibb",
         "state": "Alabama",
         "winner_rep": "Donald Trump",
         "votes_rep": 1959,
         "fraction_votes_rep": 0.494,
         "total_votes_rep": 3891,
         "voter_turnout_rep": 0.2188445950278238,
         "winner_dem": "Hillary Clinton",
         "votes_dem": 942,
         "total_votes_dem": 1188,
         "fraction_votes_dem": 0.755,
         "voter_turnout_dem": 0.0668176250046401,
         "_deepnote_index_column": 3
        },
        {
         "st_abbrev": "AL",
         "fips": "01013",
         "population": 20296,
         "income": 29918,
         "hispanic": 1.2,
         "asian": 0.9,
         "black": 44,
         "white": 53.1,
         "foreign": 0.8,
         "college": 14,
         "density": 27,
         "vets": 1497,
         "female": 53.6,
         "senior": 18,
         "children": 23.6,
         "st_cnty": "AL_Butler",
         "state": "Alabama",
         "winner_rep": "Donald Trump",
         "votes_rep": 1720,
         "fraction_votes_rep": 0.5379999999999999,
         "total_votes_rep": 3144,
         "voter_turnout_rep": 0.2027583388881207,
         "winner_dem": "Hillary Clinton",
         "votes_dem": 2196,
         "total_votes_dem": 2352,
         "fraction_votes_dem": 0.921,
         "voter_turnout_dem": 0.1516818107712658,
         "_deepnote_index_column": 4
        },
        {
         "st_abbrev": "AL",
         "fips": "01015",
         "population": 115916,
         "income": 39962,
         "hispanic": 3.5,
         "asian": 0.9,
         "black": 21.1,
         "white": 72.9,
         "foreign": 2.4,
         "college": 16.1,
         "density": 195.7,
         "vets": 11385,
         "female": 51.8,
         "senior": 16,
         "children": 22.2,
         "st_cnty": "AL_Calhoun",
         "state": "Alabama",
         "winner_rep": "Donald Trump",
         "votes_rep": 8960,
         "fraction_votes_rep": 0.451,
         "total_votes_rep": 19377,
         "voter_turnout_rep": 0.2148639503244571,
         "winner_dem": "Hillary Clinton",
         "votes_dem": 5011,
         "total_votes_dem": 6436,
         "fraction_votes_dem": 0.765,
         "voter_turnout_dem": 0.0713662787989991,
         "_deepnote_index_column": 5
        },
        {
         "st_abbrev": "AL",
         "fips": "01017",
         "population": 34076,
         "income": 32402,
         "hispanic": 2,
         "asian": 0.8,
         "black": 39.5,
         "white": 56.8,
         "foreign": 1.1,
         "college": 11.8,
         "density": 57.4,
         "vets": 2691,
         "female": 52.3,
         "senior": 18.3,
         "children": 21.4,
         "st_cnty": "AL_Chambers",
         "state": "Alabama",
         "winner_rep": "Donald Trump",
         "votes_rep": 2169,
         "fraction_votes_rep": 0.476,
         "total_votes_rep": 4441,
         "voter_turnout_rep": 0.1658095793656269,
         "winner_dem": "Hillary Clinton",
         "votes_dem": 2899,
         "total_votes_dem": 3211,
         "fraction_votes_dem": 0.8859999999999999,
         "voter_turnout_dem": 0.1198861876476082,
         "_deepnote_index_column": 6
        },
        {
         "st_abbrev": "AL",
         "fips": "01021",
         "population": 43931,
         "income": 41250,
         "hispanic": 7.7,
         "asian": 0.4,
         "black": 10.6,
         "white": 80.3,
         "foreign": 5.2,
         "college": 12.9,
         "density": 63,
         "vets": 3308,
         "female": 50.8,
         "senior": 15.2,
         "children": 24.2,
         "st_cnty": "AL_Chilton",
         "state": "Alabama",
         "winner_rep": "Donald Trump",
         "votes_rep": 5273,
         "fraction_votes_rep": 0.493,
         "total_votes_rep": 10404,
         "voter_turnout_rep": 0.3124352659294387,
         "winner_dem": "Hillary Clinton",
         "votes_dem": 860,
         "total_votes_dem": 1149,
         "fraction_votes_dem": 0.731,
         "voter_turnout_dem": 0.034504817431077,
         "_deepnote_index_column": 7
        },
        {
         "st_abbrev": "AL",
         "fips": "01023",
         "population": 13323,
         "income": 33941,
         "hispanic": 0.8,
         "asian": 0.3,
         "black": 42.4,
         "white": 56.1,
         "foreign": 0.3,
         "college": 11.8,
         "density": 15.2,
         "vets": 938,
         "female": 52.5,
         "senior": 20.8,
         "children": 20.6,
         "st_cnty": "AL_Choctaw",
         "state": "Alabama",
         "winner_rep": "Donald Trump",
         "votes_rep": 1070,
         "fraction_votes_rep": 0.499,
         "total_votes_rep": 2073,
         "voter_turnout_rep": 0.1959642148357672,
         "winner_dem": "Hillary Clinton",
         "votes_dem": 1772,
         "total_votes_dem": 2045,
         "fraction_votes_dem": 0.802,
         "voter_turnout_dem": 0.1933173272258292,
         "_deepnote_index_column": 8
        },
        {
         "st_abbrev": "AL",
         "fips": "01025",
         "population": 24945,
         "income": 29357,
         "hispanic": 1.3,
         "asian": 0.5,
         "black": 44.2,
         "white": 53.1,
         "foreign": 0.3,
         "college": 11.2,
         "density": 20.9,
         "vets": 1583,
         "female": 52.8,
         "senior": 18,
         "children": 22.6,
         "st_cnty": "AL_Clarke",
         "state": "Alabama",
         "winner_rep": "Donald Trump",
         "votes_rep": 2308,
         "fraction_votes_rep": 0.502,
         "total_votes_rep": 4534,
         "voter_turnout_rep": 0.2348318756043657,
         "winner_dem": "Hillary Clinton",
         "votes_dem": 3148,
         "total_votes_dem": 3361,
         "fraction_votes_dem": 0.93,
         "voter_turnout_dem": 0.1740780621760638,
         "_deepnote_index_column": 9
        },
        {
         "st_abbrev": "AL",
         "fips": "01031",
         "population": 50909,
         "income": 43768,
         "hispanic": 6.4,
         "asian": 1.6,
         "black": 17.7,
         "white": 71.3,
         "foreign": 5.1,
         "college": 22.5,
         "density": 73.6,
         "vets": 6066,
         "female": 50.5,
         "senior": 15.9,
         "children": 23.7,
         "st_cnty": "AL_Coffee",
         "state": "Alabama",
         "winner_rep": "Donald Trump",
         "votes_rep": 4304,
         "fraction_votes_rep": 0.414,
         "total_votes_rep": 10078,
         "voter_turnout_rep": 0.2594509407439332,
         "winner_dem": "Hillary Clinton",
         "votes_dem": 1493,
         "total_votes_dem": 1882,
         "fraction_votes_dem": 0.772,
         "voter_turnout_dem": 0.048450751188736,
         "_deepnote_index_column": 10
        },
        {
         "st_abbrev": "AL",
         "fips": "01033",
         "population": 54543,
         "income": 39077,
         "hispanic": 2.6,
         "asian": 0.5,
         "black": 16.3,
         "white": 78.8,
         "foreign": 2,
         "college": 17.7,
         "density": 91.8,
         "vets": 4376,
         "female": 51.8,
         "senior": 18.5,
         "children": 21.7,
         "st_cnty": "AL_Colbert",
         "state": "Alabama",
         "winner_rep": "Donald Trump",
         "votes_rep": 3858,
         "fraction_votes_rep": 0.474,
         "total_votes_rep": 8036,
         "voter_turnout_rep": 0.1881651298403787,
         "winner_dem": "Hillary Clinton",
         "votes_dem": 3879,
         "total_votes_dem": 5221,
         "fraction_votes_dem": 0.65,
         "voter_turnout_dem": 0.1222511377422371,
         "_deepnote_index_column": 11
        },
        {
         "st_abbrev": "AL",
         "fips": "01035",
         "population": 12670,
         "income": 24658,
         "hispanic": 1.8,
         "asian": 0.1,
         "black": 46.2,
         "white": 51.1,
         "foreign": 0.6,
         "college": 8.8,
         "density": 15.6,
         "vets": 1101,
         "female": 51.9,
         "senior": 20.4,
         "children": 21.4,
         "st_cnty": "AL_Conecuh",
         "state": "Alabama",
         "winner_rep": "Donald Trump",
         "votes_rep": 768,
         "fraction_votes_rep": 0.59,
         "total_votes_rep": 1271,
         "voter_turnout_rep": 0.1276281251820031,
         "winner_dem": "Hillary Clinton",
         "votes_dem": 2031,
         "total_votes_dem": 2575,
         "fraction_votes_dem": 0.7140000000000001,
         "voter_turnout_dem": 0.2585699625048451,
         "_deepnote_index_column": 12
        },
        {
         "st_abbrev": "AL",
         "fips": "01037",
         "population": 10886,
         "income": 37277,
         "hispanic": 2.3,
         "asian": 0.2,
         "black": 31.8,
         "white": 64.8,
         "foreign": 1.8,
         "college": 9.8,
         "density": 17.7,
         "vets": 934,
         "female": 49.5,
         "senior": 18.5,
         "children": 18.3,
         "st_cnty": "AL_Coosa",
         "state": "Alabama",
         "winner_rep": "Donald Trump",
         "votes_rep": 1233,
         "fraction_votes_rep": 0.5529999999999999,
         "total_votes_rep": 2176,
         "voter_turnout_rep": 0.244663117102559,
         "winner_dem": "Hillary Clinton",
         "votes_dem": 1012,
         "total_votes_dem": 1137,
         "fraction_votes_dem": 0.877,
         "voter_turnout_dem": 0.1278409761698573,
         "_deepnote_index_column": 13
        },
        {
         "st_abbrev": "AL",
         "fips": "01041",
         "population": 13977,
         "income": 36275,
         "hispanic": 1.7,
         "asian": 1.8,
         "black": 24,
         "white": 70.6,
         "foreign": 2.3,
         "college": 12.7,
         "density": 22.8,
         "vets": 1098,
         "female": 51.1,
         "senior": 18,
         "children": 22.7,
         "st_cnty": "AL_Crenshaw",
         "state": "Alabama",
         "winner_rep": "Donald Trump",
         "votes_rep": 1496,
         "fraction_votes_rep": 0.545,
         "total_votes_rep": 2704,
         "voter_turnout_rep": 0.2502725555132572,
         "winner_dem": "Hillary Clinton",
         "votes_dem": 908,
         "total_votes_dem": 1015,
         "fraction_votes_dem": 0.878,
         "voter_turnout_dem": 0.0939447647359305,
         "_deepnote_index_column": 14
        },
        {
         "st_abbrev": "AL",
         "fips": "01043",
         "population": 81289,
         "income": 38847,
         "hispanic": 4.4,
         "asian": 0.5,
         "black": 1.4,
         "white": 92.1,
         "foreign": 3,
         "college": 14.8,
         "density": 109.4,
         "vets": 6167,
         "female": 50.5,
         "senior": 17.6,
         "children": 22.5,
         "st_cnty": "AL_Cullman",
         "state": "Alabama",
         "winner_rep": "Donald Trump",
         "votes_rep": 10618,
         "fraction_votes_rep": 0.506,
         "total_votes_rep": 20557,
         "voter_turnout_rep": 0.3263068962629947,
         "winner_dem": "Hillary Clinton",
         "votes_dem": 1275,
         "total_votes_dem": 1998,
         "fraction_votes_dem": 0.608,
         "voter_turnout_dem": 0.0317148017090754,
         "_deepnote_index_column": 15
        },
        {
         "st_abbrev": "AL",
         "fips": "01045",
         "population": 49484,
         "income": 44889,
         "hispanic": 6.1,
         "asian": 1.3,
         "black": 19.7,
         "white": 70.2,
         "foreign": 3.7,
         "college": 17,
         "density": 89.6,
         "vets": 6730,
         "female": 50.5,
         "senior": 15.4,
         "children": 23.6,
         "st_cnty": "AL_Dale",
         "state": "Alabama",
         "winner_rep": "Donald Trump",
         "votes_rep": 4151,
         "fraction_votes_rep": 0.453,
         "total_votes_rep": 8836,
         "voter_turnout_rep": 0.2337209002137663,
         "winner_dem": "Hillary Clinton",
         "votes_dem": 1544,
         "total_votes_dem": 1959,
         "fraction_votes_dem": 0.77,
         "voter_turnout_dem": 0.0518174788952883,
         "_deepnote_index_column": 16
        },
        {
         "st_abbrev": "AL",
         "fips": "01049",
         "population": 71065,
         "income": 37851,
         "hispanic": 14.2,
         "asian": 0.4,
         "black": 2.1,
         "white": 80.6,
         "foreign": 7.5,
         "college": 10.7,
         "density": 91.5,
         "vets": 4371,
         "female": 50.7,
         "senior": 15.7,
         "children": 24.7,
         "st_cnty": "AL_DeKalb",
         "state": "Alabama",
         "winner_rep": "Donald Trump",
         "votes_rep": 6247,
         "fraction_votes_rep": 0.476,
         "total_votes_rep": 12847,
         "voter_turnout_rep": 0.2400772388295734,
         "winner_dem": "Hillary Clinton",
         "votes_dem": 1297,
         "total_votes_dem": 1964,
         "fraction_votes_dem": 0.629,
         "voter_turnout_dem": 0.0367020858613903,
         "_deepnote_index_column": 17
        }
       ],
       "rows_bottom": [
        {
         "st_abbrev": "WI",
         "fips": "55105",
         "population": 161188,
         "income": 49435,
         "hispanic": 8.2,
         "asian": 1.2,
         "black": 5.1,
         "white": 83.6,
         "foreign": 4.4,
         "college": 19.4,
         "density": 223.3,
         "vets": 11930,
         "female": 50.9,
         "senior": 15.1,
         "children": 23.9,
         "st_cnty": "WI_Rock",
         "state": "Wisconsin",
         "winner_rep": "Donald Trump",
         "votes_rep": 10264,
         "fraction_votes_rep": 0.416,
         "total_votes_rep": 24045,
         "voter_turnout_rep": 0.1960231744474673,
         "winner_dem": "Bernie Sanders",
         "votes_dem": 17337,
         "total_votes_dem": 28585,
         "fraction_votes_dem": 0.605,
         "voter_turnout_dem": 0.2330348280965213,
         "_deepnote_index_column": 1518
        },
        {
         "st_abbrev": "WI",
         "fips": "55107",
         "population": 14333,
         "income": 38658,
         "hispanic": 1.7,
         "asian": 0.4,
         "black": 0.6,
         "white": 95.8,
         "foreign": 1.5,
         "college": 14.3,
         "density": 16.2,
         "vets": 1324,
         "female": 49.8,
         "senior": 22.1,
         "children": 21.1,
         "st_cnty": "WI_Rusk",
         "state": "Wisconsin",
         "winner_rep": "Donald Trump",
         "votes_rep": 1617,
         "fraction_votes_rep": 0.495,
         "total_votes_rep": 3176,
         "voter_turnout_rep": 0.2808448016785606,
         "winner_dem": "Bernie Sanders",
         "votes_dem": 1093,
         "total_votes_dem": 1910,
         "fraction_votes_dem": 0.569,
         "voter_turnout_dem": 0.1688959607071948,
         "_deepnote_index_column": 1519
        },
        {
         "st_abbrev": "WI",
         "fips": "55109",
         "population": 86759,
         "income": 68426,
         "hispanic": 2.3,
         "asian": 1,
         "black": 0.7,
         "white": 94.4,
         "foreign": 2.1,
         "college": 33,
         "density": 116.8,
         "vets": 5830,
         "female": 50.1,
         "senior": 12.2,
         "children": 25.9,
         "st_cnty": "WI_St. Croix",
         "state": "Wisconsin",
         "winner_rep": "Ted Cruz",
         "votes_rep": 6892,
         "fraction_votes_rep": 0.405,
         "total_votes_rep": 16247,
         "voter_turnout_rep": 0.2527204783181866,
         "winner_dem": "Bernie Sanders",
         "votes_dem": 5671,
         "total_votes_dem": 10562,
         "fraction_votes_dem": 0.5329999999999999,
         "voter_turnout_dem": 0.1642908655134294,
         "_deepnote_index_column": 1520
        },
        {
         "st_abbrev": "WI",
         "fips": "55111",
         "population": 63379,
         "income": 52140,
         "hispanic": 4.9,
         "asian": 0.8,
         "black": 0.8,
         "white": 91.5,
         "foreign": 3.9,
         "college": 21,
         "density": 74.6,
         "vets": 4960,
         "female": 50.3,
         "senior": 17,
         "children": 23,
         "st_cnty": "WI_Sauk",
         "state": "Wisconsin",
         "winner_rep": "Donald Trump",
         "votes_rep": 4697,
         "fraction_votes_rep": 0.421,
         "total_votes_rep": 10793,
         "voter_turnout_rep": 0.2211597392966616,
         "winner_dem": "Bernie Sanders",
         "votes_dem": 7195,
         "total_votes_dem": 11721,
         "fraction_votes_dem": 0.612,
         "voter_turnout_dem": 0.2401754196512712,
         "_deepnote_index_column": 1521
        },
        {
         "st_abbrev": "WI",
         "fips": "55113",
         "population": 16437,
         "income": 39904,
         "hispanic": 2.1,
         "asian": 0.4,
         "black": 0.6,
         "white": 77.4,
         "foreign": 1.3,
         "college": 22,
         "density": 13.2,
         "vets": 1662,
         "female": 49.3,
         "senior": 23.3,
         "children": 19.9,
         "st_cnty": "WI_Sawyer",
         "state": "Wisconsin",
         "winner_rep": "Donald Trump",
         "votes_rep": 2034,
         "fraction_votes_rep": 0.539,
         "total_votes_rep": 3652,
         "voter_turnout_rep": 0.2773803537085609,
         "winner_dem": "Bernie Sanders",
         "votes_dem": 1652,
         "total_votes_dem": 2627,
         "fraction_votes_dem": 0.626,
         "voter_turnout_dem": 0.1995285293516948,
         "_deepnote_index_column": 1522
        },
        {
         "st_abbrev": "WI",
         "fips": "55115",
         "population": 41579,
         "income": 46559,
         "hispanic": 2.6,
         "asian": 0.5,
         "black": 0.4,
         "white": 87.3,
         "foreign": 1.4,
         "college": 15.3,
         "density": 47,
         "vets": 3646,
         "female": 50,
         "senior": 19.8,
         "children": 21.9,
         "st_cnty": "WI_Shawano",
         "state": "Wisconsin",
         "winner_rep": "Donald Trump",
         "votes_rep": 4269,
         "fraction_votes_rep": 0.459,
         "total_votes_rep": 9110,
         "voter_turnout_rep": 0.2805390377461734,
         "winner_dem": "Bernie Sanders",
         "votes_dem": 2976,
         "total_votes_dem": 5100,
         "fraction_votes_dem": 0.5820000000000001,
         "voter_turnout_dem": 0.1570525897371552,
         "_deepnote_index_column": 1523
        },
        {
         "st_abbrev": "WI",
         "fips": "55117",
         "population": 115290,
         "income": 52920,
         "hispanic": 6,
         "asian": 5.1,
         "black": 1.8,
         "white": 85.6,
         "foreign": 5.2,
         "college": 22.4,
         "density": 225.9,
         "vets": 8535,
         "female": 49.8,
         "senior": 16.2,
         "children": 22.8,
         "st_cnty": "WI_Sheboygan",
         "state": "Wisconsin",
         "winner_rep": "Ted Cruz",
         "votes_rep": 15545,
         "fraction_votes_rep": 0.597,
         "total_votes_rep": 25332,
         "voter_turnout_rep": 0.2846168054696042,
         "winner_dem": "Bernie Sanders",
         "votes_dem": 8537,
         "total_votes_dem": 15712,
         "fraction_votes_dem": 0.54,
         "voter_turnout_dem": 0.1765316298570354,
         "_deepnote_index_column": 1524
        },
        {
         "st_abbrev": "WI",
         "fips": "55119",
         "population": 20540,
         "income": 44869,
         "hispanic": 1.8,
         "asian": 0.4,
         "black": 0.4,
         "white": 96.6,
         "foreign": 1.4,
         "college": 13.6,
         "density": 21.2,
         "vets": 1509,
         "female": 49.1,
         "senior": 18.3,
         "children": 23.7,
         "st_cnty": "WI_Taylor",
         "state": "Wisconsin",
         "winner_rep": "Donald Trump",
         "votes_rep": 2100,
         "fraction_votes_rep": 0.464,
         "total_votes_rep": 4315,
         "voter_turnout_rep": 0.2753314505724214,
         "winner_dem": "Bernie Sanders",
         "votes_dem": 1278,
         "total_votes_dem": 2128,
         "fraction_votes_dem": 0.596,
         "voter_turnout_dem": 0.1357833897608604,
         "_deepnote_index_column": 1525
        },
        {
         "st_abbrev": "WI",
         "fips": "55121",
         "population": 29509,
         "income": 49143,
         "hispanic": 6.8,
         "asian": 0.7,
         "black": 0.5,
         "white": 91.3,
         "foreign": 3.5,
         "college": 17.5,
         "density": 39.3,
         "vets": 2116,
         "female": 49.6,
         "senior": 16.9,
         "children": 24.4,
         "st_cnty": "WI_Trempealeau",
         "state": "Wisconsin",
         "winner_rep": "Donald Trump",
         "votes_rep": 2414,
         "fraction_votes_rep": 0.499,
         "total_votes_rep": 4722,
         "voter_turnout_rep": 0.2116653138375324,
         "winner_dem": "Bernie Sanders",
         "votes_dem": 2429,
         "total_votes_dem": 4417,
         "fraction_votes_dem": 0.5479999999999999,
         "voter_turnout_dem": 0.197993581368145,
         "_deepnote_index_column": 1526
        },
        {
         "st_abbrev": "WI",
         "fips": "55123",
         "population": 30362,
         "income": 45488,
         "hispanic": 1.6,
         "asian": 0.4,
         "black": 0.4,
         "white": 96.5,
         "foreign": 0.9,
         "college": 19.5,
         "density": 37.6,
         "vets": 2341,
         "female": 50.2,
         "senior": 18.5,
         "children": 25.9,
         "st_cnty": "WI_Vernon",
         "state": "Wisconsin",
         "winner_rep": "Donald Trump",
         "votes_rep": 2437,
         "fraction_votes_rep": 0.476,
         "total_votes_rep": 4950,
         "voter_turnout_rep": 0.2200171906764982,
         "winner_dem": "Bernie Sanders",
         "votes_dem": 3476,
         "total_votes_dem": 5410,
         "fraction_votes_dem": 0.6409999999999999,
         "voter_turnout_dem": 0.2404632326383546,
         "_deepnote_index_column": 1527
        },
        {
         "st_abbrev": "WI",
         "fips": "55125",
         "population": 21398,
         "income": 40833,
         "hispanic": 1.9,
         "asian": 0.4,
         "black": 0.4,
         "white": 85.4,
         "foreign": 2,
         "college": 24.1,
         "density": 25,
         "vets": 2572,
         "female": 49.5,
         "senior": 29,
         "children": 16.8,
         "st_cnty": "WI_Vilas",
         "state": "Wisconsin",
         "winner_rep": "Donald Trump",
         "votes_rep": 3241,
         "fraction_votes_rep": 0.521,
         "total_votes_rep": 6079,
         "voter_turnout_rep": 0.3414566961685851,
         "winner_dem": "Bernie Sanders",
         "votes_dem": 2140,
         "total_votes_dem": 3552,
         "fraction_votes_dem": 0.601,
         "voter_turnout_dem": 0.1995154112174394,
         "_deepnote_index_column": 1528
        },
        {
         "st_abbrev": "WI",
         "fips": "55127",
         "population": 103527,
         "income": 54020,
         "hispanic": 11.1,
         "asian": 1.1,
         "black": 1.3,
         "white": 85.6,
         "foreign": 6.1,
         "college": 26.2,
         "density": 184.2,
         "vets": 7046,
         "female": 50,
         "senior": 15.3,
         "children": 21.9,
         "st_cnty": "WI_Walworth",
         "state": "Wisconsin",
         "winner_rep": "Ted Cruz",
         "votes_rep": 10719,
         "fraction_votes_rep": 0.485,
         "total_votes_rep": 21581,
         "voter_turnout_rep": 0.2669112637975629,
         "winner_dem": "Bernie Sanders",
         "votes_dem": 8405,
         "total_votes_dem": 13579,
         "fraction_votes_dem": 0.617,
         "voter_turnout_dem": 0.1679434711601458,
         "_deepnote_index_column": 1529
        },
        {
         "st_abbrev": "WI",
         "fips": "55129",
         "population": 15694,
         "income": 41924,
         "hispanic": 1.6,
         "asian": 0.5,
         "black": 0.5,
         "white": 94.9,
         "foreign": 1.1,
         "college": 20.3,
         "density": 20,
         "vets": 1687,
         "female": 50.4,
         "senior": 23.9,
         "children": 19.5,
         "st_cnty": "WI_Washburn",
         "state": "Wisconsin",
         "winner_rep": "Donald Trump",
         "votes_rep": 1926,
         "fraction_votes_rep": 0.4970000000000001,
         "total_votes_rep": 3728,
         "voter_turnout_rep": 0.2950844845559525,
         "winner_dem": "Bernie Sanders",
         "votes_dem": 1417,
         "total_votes_dem": 2476,
         "fraction_votes_dem": 0.568,
         "voter_turnout_dem": 0.1959842231117324,
         "_deepnote_index_column": 1530
        },
        {
         "st_abbrev": "WI",
         "fips": "55131",
         "population": 133251,
         "income": 66159,
         "hispanic": 3,
         "asian": 1.2,
         "black": 1.1,
         "white": 93.4,
         "foreign": 2.7,
         "college": 27.6,
         "density": 306.2,
         "vets": 8853,
         "female": 50.3,
         "senior": 15.7,
         "children": 23,
         "st_cnty": "WI_Washington",
         "state": "Wisconsin",
         "winner_rep": "Ted Cruz",
         "votes_rep": 25505,
         "fraction_votes_rep": 0.626,
         "total_votes_rep": 39908,
         "voter_turnout_rep": 0.3889544650964828,
         "winner_dem": "Bernie Sanders",
         "votes_dem": 7676,
         "total_votes_dem": 14057,
         "fraction_votes_dem": 0.544,
         "voter_turnout_dem": 0.1370034307873423,
         "_deepnote_index_column": 1531
        },
        {
         "st_abbrev": "WI",
         "fips": "55133",
         "population": 395118,
         "income": 75850,
         "hispanic": 4.6,
         "asian": 3.3,
         "black": 1.4,
         "white": 89.4,
         "foreign": 4.6,
         "college": 40.2,
         "density": 709.4,
         "vets": 26579,
         "female": 50.9,
         "senior": 16.5,
         "children": 22.4,
         "st_cnty": "WI_Waukesha",
         "state": "Wisconsin",
         "winner_rep": "Ted Cruz",
         "votes_rep": 75123,
         "fraction_votes_rep": 0.61,
         "total_votes_rep": 120830,
         "voter_turnout_rep": 0.3940816740482537,
         "winner_dem": "Bernie Sanders",
         "votes_dem": 26339,
         "total_votes_dem": 51123,
         "fraction_votes_dem": 0.514,
         "voter_turnout_dem": 0.166735392058006,
         "_deepnote_index_column": 1532
        },
        {
         "st_abbrev": "WI",
         "fips": "55135",
         "population": 52066,
         "income": 50822,
         "hispanic": 3,
         "asian": 0.5,
         "black": 0.4,
         "white": 94.8,
         "foreign": 1.6,
         "college": 16.6,
         "density": 70.1,
         "vets": 4961,
         "female": 49.7,
         "senior": 19.5,
         "children": 21.2,
         "st_cnty": "WI_Waupaca",
         "state": "Wisconsin",
         "winner_rep": "Ted Cruz",
         "votes_rep": 5194,
         "fraction_votes_rep": 0.471,
         "total_votes_rep": 10748,
         "voter_turnout_rep": 0.2619673857916767,
         "winner_dem": "Bernie Sanders",
         "votes_dem": 3883,
         "total_votes_dem": 6465,
         "fraction_votes_dem": 0.597,
         "voter_turnout_dem": 0.1575752836940072,
         "_deepnote_index_column": 1533
        },
        {
         "st_abbrev": "WI",
         "fips": "55137",
         "population": 24178,
         "income": 43070,
         "hispanic": 6.4,
         "asian": 0.5,
         "black": 2.1,
         "white": 89.8,
         "foreign": 2.4,
         "college": 14.3,
         "density": 39.1,
         "vets": 2616,
         "female": 47.3,
         "senior": 22.5,
         "children": 18.7,
         "st_cnty": "WI_Waushara",
         "state": "Wisconsin",
         "winner_rep": "Donald Trump",
         "votes_rep": 2391,
         "fraction_votes_rep": 0.451,
         "total_votes_rep": 5152,
         "voter_turnout_rep": 0.2620987414274837,
         "winner_dem": "Bernie Sanders",
         "votes_dem": 1502,
         "total_votes_dem": 2683,
         "fraction_votes_dem": 0.557,
         "voter_turnout_dem": 0.1364928034258422,
         "_deepnote_index_column": 1534
        },
        {
         "st_abbrev": "WI",
         "fips": "55139",
         "population": 169511,
         "income": 51010,
         "hispanic": 3.9,
         "asian": 2.7,
         "black": 2,
         "white": 89.6,
         "foreign": 3.2,
         "college": 25.5,
         "density": 384.3,
         "vets": 12863,
         "female": 49.7,
         "senior": 14.7,
         "children": 20.8,
         "st_cnty": "WI_Winnebago",
         "state": "Wisconsin",
         "winner_rep": "Ted Cruz",
         "votes_rep": 16049,
         "fraction_votes_rep": 0.469,
         "total_votes_rep": 33294,
         "voter_turnout_rep": 0.2479949902241081,
         "winner_dem": "Bernie Sanders",
         "votes_dem": 17818,
         "total_votes_dem": 29011,
         "fraction_votes_dem": 0.612,
         "voter_turnout_dem": 0.216092468955115,
         "_deepnote_index_column": 1535
        },
        {
         "st_abbrev": "WI",
         "fips": "55141",
         "population": 73608,
         "income": 47685,
         "hispanic": 2.7,
         "asian": 2,
         "black": 0.7,
         "white": 93.1,
         "foreign": 2.4,
         "college": 18.8,
         "density": 94.2,
         "vets": 6206,
         "female": 50.6,
         "senior": 18.6,
         "children": 21.9,
         "st_cnty": "WI_Wood",
         "state": "Wisconsin",
         "winner_rep": "Ted Cruz",
         "votes_rep": 7220,
         "fraction_votes_rep": 0.45,
         "total_votes_rep": 15640,
         "voter_turnout_rep": 0.2720574963947163,
         "winner_dem": "Bernie Sanders",
         "votes_dem": 6747,
         "total_votes_dem": 11171,
         "fraction_votes_dem": 0.602,
         "voter_turnout_dem": 0.1943193281474025,
         "_deepnote_index_column": 1536
        }
       ]
      },
      "text/plain": "     st_abbrev   fips  population  income  hispanic  asian  black  white  \\\n0           AL  01001       55395   53682       2.7    1.1   18.7   75.6   \n1           AL  01003      200111   50221       4.6    0.9    9.6   83.0   \n2           AL  01005       26887   32911       4.5    0.5   47.6   46.6   \n3           AL  01007       22506   36447       2.1    0.2   22.1   74.5   \n4           AL  01013       20296   29918       1.2    0.9   44.0   53.1   \n...        ...    ...         ...     ...       ...    ...    ...    ...   \n1532        WI  55133      395118   75850       4.6    3.3    1.4   89.4   \n1533        WI  55135       52066   50822       3.0    0.5    0.4   94.8   \n1534        WI  55137       24178   43070       6.4    0.5    2.1   89.8   \n1535        WI  55139      169511   51010       3.9    2.7    2.0   89.6   \n1536        WI  55141       73608   47685       2.7    2.0    0.7   93.1   \n\n      foreign  college  ...    winner_rep  votes_rep  fraction_votes_rep  \\\n0         1.6     20.9  ...  Donald Trump       5387               0.445   \n1         3.6     27.7  ...  Donald Trump      23618               0.469   \n2         2.9     13.4  ...  Donald Trump       1710               0.501   \n3         1.2     12.1  ...  Donald Trump       1959               0.494   \n4         0.8     14.0  ...  Donald Trump       1720               0.538   \n...       ...      ...  ...           ...        ...                 ...   \n1532      4.6     40.2  ...      Ted Cruz      75123               0.610   \n1533      1.6     16.6  ...      Ted Cruz       5194               0.471   \n1534      2.4     14.3  ...  Donald Trump       2391               0.451   \n1535      3.2     25.5  ...      Ted Cruz      16049               0.469   \n1536      2.4     18.8  ...      Ted Cruz       7220               0.450   \n\n      total_votes_rep  voter_turnout_rep       winner_dem votes_dem  \\\n0               11839           0.285721  Hillary Clinton      2387   \n1               49100           0.315378  Hillary Clinton      5290   \n2                3357           0.158447  Hillary Clinton      2567   \n3                3891           0.218845  Hillary Clinton       942   \n4                3144           0.202758  Hillary Clinton      2196   \n...               ...                ...              ...       ...   \n1532           120830           0.394082   Bernie Sanders     26339   \n1533            10748           0.261967   Bernie Sanders      3883   \n1534             5152           0.262099   Bernie Sanders      1502   \n1535            33294           0.247995   Bernie Sanders     17818   \n1536            15640           0.272057   Bernie Sanders      6747   \n\n     total_votes_dem  fraction_votes_dem  voter_turnout_dem  \n0               2931               0.800           0.070737  \n1               7984               0.647           0.051283  \n2               2789               0.906           0.131638  \n3               1188               0.755           0.066818  \n4               2352               0.921           0.151682  \n...              ...                 ...                ...  \n1532           51123               0.514           0.166735  \n1533            6465               0.597           0.157575  \n1534            2683               0.557           0.136493  \n1535           29011               0.612           0.216092  \n1536           11171               0.602           0.194319  \n\n[1537 rows x 27 columns]",
      "text/html": "<div>\n<style scoped>\n    .dataframe tbody tr th:only-of-type {\n        vertical-align: middle;\n    }\n\n    .dataframe tbody tr th {\n        vertical-align: top;\n    }\n\n    .dataframe thead th {\n        text-align: right;\n    }\n</style>\n<table border=\"1\" class=\"dataframe\">\n  <thead>\n    <tr style=\"text-align: right;\">\n      <th></th>\n      <th>st_abbrev</th>\n      <th>fips</th>\n      <th>population</th>\n      <th>income</th>\n      <th>hispanic</th>\n      <th>asian</th>\n      <th>black</th>\n      <th>white</th>\n      <th>foreign</th>\n      <th>college</th>\n      <th>...</th>\n      <th>winner_rep</th>\n      <th>votes_rep</th>\n      <th>fraction_votes_rep</th>\n      <th>total_votes_rep</th>\n      <th>voter_turnout_rep</th>\n      <th>winner_dem</th>\n      <th>votes_dem</th>\n      <th>total_votes_dem</th>\n      <th>fraction_votes_dem</th>\n      <th>voter_turnout_dem</th>\n    </tr>\n  </thead>\n  <tbody>\n    <tr>\n      <th>0</th>\n      <td>AL</td>\n      <td>01001</td>\n      <td>55395</td>\n      <td>53682</td>\n      <td>2.7</td>\n      <td>1.1</td>\n      <td>18.7</td>\n      <td>75.6</td>\n      <td>1.6</td>\n      <td>20.9</td>\n      <td>...</td>\n      <td>Donald Trump</td>\n      <td>5387</td>\n      <td>0.445</td>\n      <td>11839</td>\n      <td>0.285721</td>\n      <td>Hillary Clinton</td>\n      <td>2387</td>\n      <td>2931</td>\n      <td>0.800</td>\n      <td>0.070737</td>\n    </tr>\n    <tr>\n      <th>1</th>\n      <td>AL</td>\n      <td>01003</td>\n      <td>200111</td>\n      <td>50221</td>\n      <td>4.6</td>\n      <td>0.9</td>\n      <td>9.6</td>\n      <td>83.0</td>\n      <td>3.6</td>\n      <td>27.7</td>\n      <td>...</td>\n      <td>Donald Trump</td>\n      <td>23618</td>\n      <td>0.469</td>\n      <td>49100</td>\n      <td>0.315378</td>\n      <td>Hillary Clinton</td>\n      <td>5290</td>\n      <td>7984</td>\n      <td>0.647</td>\n      <td>0.051283</td>\n    </tr>\n    <tr>\n      <th>2</th>\n      <td>AL</td>\n      <td>01005</td>\n      <td>26887</td>\n      <td>32911</td>\n      <td>4.5</td>\n      <td>0.5</td>\n      <td>47.6</td>\n      <td>46.6</td>\n      <td>2.9</td>\n      <td>13.4</td>\n      <td>...</td>\n      <td>Donald Trump</td>\n      <td>1710</td>\n      <td>0.501</td>\n      <td>3357</td>\n      <td>0.158447</td>\n      <td>Hillary Clinton</td>\n      <td>2567</td>\n      <td>2789</td>\n      <td>0.906</td>\n      <td>0.131638</td>\n    </tr>\n    <tr>\n      <th>3</th>\n      <td>AL</td>\n      <td>01007</td>\n      <td>22506</td>\n      <td>36447</td>\n      <td>2.1</td>\n      <td>0.2</td>\n      <td>22.1</td>\n      <td>74.5</td>\n      <td>1.2</td>\n      <td>12.1</td>\n      <td>...</td>\n      <td>Donald Trump</td>\n      <td>1959</td>\n      <td>0.494</td>\n      <td>3891</td>\n      <td>0.218845</td>\n      <td>Hillary Clinton</td>\n      <td>942</td>\n      <td>1188</td>\n      <td>0.755</td>\n      <td>0.066818</td>\n    </tr>\n    <tr>\n      <th>4</th>\n      <td>AL</td>\n      <td>01013</td>\n      <td>20296</td>\n      <td>29918</td>\n      <td>1.2</td>\n      <td>0.9</td>\n      <td>44.0</td>\n      <td>53.1</td>\n      <td>0.8</td>\n      <td>14.0</td>\n      <td>...</td>\n      <td>Donald Trump</td>\n      <td>1720</td>\n      <td>0.538</td>\n      <td>3144</td>\n      <td>0.202758</td>\n      <td>Hillary Clinton</td>\n      <td>2196</td>\n      <td>2352</td>\n      <td>0.921</td>\n      <td>0.151682</td>\n    </tr>\n    <tr>\n      <th>...</th>\n      <td>...</td>\n      <td>...</td>\n      <td>...</td>\n      <td>...</td>\n      <td>...</td>\n      <td>...</td>\n      <td>...</td>\n      <td>...</td>\n      <td>...</td>\n      <td>...</td>\n      <td>...</td>\n      <td>...</td>\n      <td>...</td>\n      <td>...</td>\n      <td>...</td>\n      <td>...</td>\n      <td>...</td>\n      <td>...</td>\n      <td>...</td>\n      <td>...</td>\n      <td>...</td>\n    </tr>\n    <tr>\n      <th>1532</th>\n      <td>WI</td>\n      <td>55133</td>\n      <td>395118</td>\n      <td>75850</td>\n      <td>4.6</td>\n      <td>3.3</td>\n      <td>1.4</td>\n      <td>89.4</td>\n      <td>4.6</td>\n      <td>40.2</td>\n      <td>...</td>\n      <td>Ted Cruz</td>\n      <td>75123</td>\n      <td>0.610</td>\n      <td>120830</td>\n      <td>0.394082</td>\n      <td>Bernie Sanders</td>\n      <td>26339</td>\n      <td>51123</td>\n      <td>0.514</td>\n      <td>0.166735</td>\n    </tr>\n    <tr>\n      <th>1533</th>\n      <td>WI</td>\n      <td>55135</td>\n      <td>52066</td>\n      <td>50822</td>\n      <td>3.0</td>\n      <td>0.5</td>\n      <td>0.4</td>\n      <td>94.8</td>\n      <td>1.6</td>\n      <td>16.6</td>\n      <td>...</td>\n      <td>Ted Cruz</td>\n      <td>5194</td>\n      <td>0.471</td>\n      <td>10748</td>\n      <td>0.261967</td>\n      <td>Bernie Sanders</td>\n      <td>3883</td>\n      <td>6465</td>\n      <td>0.597</td>\n      <td>0.157575</td>\n    </tr>\n    <tr>\n      <th>1534</th>\n      <td>WI</td>\n      <td>55137</td>\n      <td>24178</td>\n      <td>43070</td>\n      <td>6.4</td>\n      <td>0.5</td>\n      <td>2.1</td>\n      <td>89.8</td>\n      <td>2.4</td>\n      <td>14.3</td>\n      <td>...</td>\n      <td>Donald Trump</td>\n      <td>2391</td>\n      <td>0.451</td>\n      <td>5152</td>\n      <td>0.262099</td>\n      <td>Bernie Sanders</td>\n      <td>1502</td>\n      <td>2683</td>\n      <td>0.557</td>\n      <td>0.136493</td>\n    </tr>\n    <tr>\n      <th>1535</th>\n      <td>WI</td>\n      <td>55139</td>\n      <td>169511</td>\n      <td>51010</td>\n      <td>3.9</td>\n      <td>2.7</td>\n      <td>2.0</td>\n      <td>89.6</td>\n      <td>3.2</td>\n      <td>25.5</td>\n      <td>...</td>\n      <td>Ted Cruz</td>\n      <td>16049</td>\n      <td>0.469</td>\n      <td>33294</td>\n      <td>0.247995</td>\n      <td>Bernie Sanders</td>\n      <td>17818</td>\n      <td>29011</td>\n      <td>0.612</td>\n      <td>0.216092</td>\n    </tr>\n    <tr>\n      <th>1536</th>\n      <td>WI</td>\n      <td>55141</td>\n      <td>73608</td>\n      <td>47685</td>\n      <td>2.7</td>\n      <td>2.0</td>\n      <td>0.7</td>\n      <td>93.1</td>\n      <td>2.4</td>\n      <td>18.8</td>\n      <td>...</td>\n      <td>Ted Cruz</td>\n      <td>7220</td>\n      <td>0.450</td>\n      <td>15640</td>\n      <td>0.272057</td>\n      <td>Bernie Sanders</td>\n      <td>6747</td>\n      <td>11171</td>\n      <td>0.602</td>\n      <td>0.194319</td>\n    </tr>\n  </tbody>\n</table>\n<p>1537 rows × 27 columns</p>\n</div>"
     },
     "metadata": {}
    }
   ],
   "execution_count": null
  },
  {
   "cell_type": "markdown",
   "source": "<a style='text-decoration:none;line-height:16px;display:flex;color:#5B5B62;padding:10px;justify-content:end;' href='https://deepnote.com?utm_source=created-in-deepnote-cell&projectId=6db671ff-4b94-4ec9-9d8f-30a849bb0caf' target=\"_blank\">\n<img alt='Created in deepnote.com' style='display:inline;max-height:16px;margin:0px;margin-right:7.5px;' src='data:image/svg+xml;base64,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' > </img>\nCreated in <span style='font-weight:600;margin-left:4px;'>Deepnote</span></a>",
   "metadata": {
    "tags": [],
    "created_in_deepnote_cell": true,
    "deepnote_cell_type": "markdown"
   }
  }
 ],
 "nbformat": 4,
 "nbformat_minor": 2,
 "metadata": {
  "orig_nbformat": 2,
  "deepnote": {
   "is_reactive": false
  },
  "deepnote_notebook_id": "72eb9371-bfc7-401c-a3f0-9397b0be73e4",
  "deepnote_execution_queue": []
 }
}