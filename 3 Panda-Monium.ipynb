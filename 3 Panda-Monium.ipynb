{
 "cells": [
  {
   "cell_type": "code",
   "metadata": {
    "tags": [],
    "deepnote_to_be_reexecuted": false,
    "source_hash": "fd8eed1a",
    "execution_millis": 46,
    "is_code_hidden": true,
    "output_cleared": false,
    "execution_start": 1633286662172,
    "cell_id": "00000-7eeb38e2-b9ba-4661-9cc0-c86ef941c79b",
    "deepnote_cell_type": "code"
   },
   "source": "### Don't push \"Run notebook\"!!!\n\n# assert False, 'Please don\\'t press the \"Run notebook\" button!'",
   "execution_count": 1,
   "outputs": []
  },
  {
   "cell_type": "markdown",
   "source": "# Imports & Loading Data\n\n**Reminder:** you can use the table of contents in the bottom left to quickly navigate notebooks!",
   "metadata": {
    "tags": [],
    "cell_id": "00001-e65977d5-1e4b-473a-879d-00857197c8fe",
    "deepnote_cell_type": "markdown"
   }
  },
  {
   "cell_type": "code",
   "metadata": {
    "tags": [],
    "cell_id": "00001-895b206b-0425-4752-9860-2357e67bd668",
    "deepnote_to_be_reexecuted": false,
    "source_hash": "4b5df529",
    "execution_start": 1633286662218,
    "execution_millis": 1401,
    "deepnote_cell_type": "code"
   },
   "source": "# Run this cell with Ctrl+Enter (or Cmd+Return on a Mac)\n\n# Import necessary libraries\nimport numpy as np\nimport pandas as pd\nimport matplotlib.pyplot as plt\nimport seaborn as sns\nimport plotly.express as px\nfrom utils import *\n\n# Set a plotting theme with seaborn\nsns.set_theme() \n\n# Load our data\nprint('Loading data from Datasets folder...')\n\n(geo_cnty, rep, dem, rep_st, dem_st) = load_data()\n\nprint('Finished loading data!')",
   "execution_count": 2,
   "outputs": [
    {
     "name": "stdout",
     "text": "Loading data from Datasets folder...\nFinished loading data!\n",
     "output_type": "stream"
    }
   ]
  },
  {
   "cell_type": "markdown",
   "source": "# 3. Cleaning the Data Panda-Monium\n<p style='font-size:30px'>Data Manipulation</p>",
   "metadata": {
    "tags": [],
    "cell_id": "00104-8738282d-ab7e-42f7-ae70-a1cd81cf375e",
    "deepnote_cell_type": "markdown"
   }
  },
  {
   "cell_type": "markdown",
   "source": "![](.images/clean.jpeg)",
   "metadata": {
    "tags": [],
    "cell_id": "00105-50c724c1-b8c7-4df2-a717-8a96ca4962e3",
    "deepnote_cell_type": "markdown"
   }
  },
  {
   "cell_type": "markdown",
   "source": "To help with data manipulation we're going to take a closer look at another Python library, `pandas`. Luckily you've already been using `pandas` this whole time! In part **0. `import data_science`** we loaded all of our data in as `pandas` DataFrame objects and have been passing them as arguments to `seaborn` for visualization.\n\nWe imported pandas like this:\n```python\nimport pandas as pd\n```\nso now we can reference `pandas` by its alias `pd`.\n\n`pandas` is a Python library that makes it easier for us to clean and organize data for analysis and visualization. There are several functions that `pandas` has for dataframes that are extremely useful for this project.",
   "metadata": {
    "tags": [],
    "cell_id": "00106-2aba3bcb-8d36-4b13-9e97-07c0b27db05d",
    "deepnote_cell_type": "markdown"
   }
  },
  {
   "cell_type": "markdown",
   "source": "![](.images/sad_panda.jpg)\n\n<!-- <img src='.images/sad_panda.jpg' style=\"margin-left:auto; margin-right:auto;\" width=50%> -->",
   "metadata": {
    "tags": [],
    "cell_id": "00107-a0bd492d-107f-442c-83dd-0d892eb52313",
    "deepnote_cell_type": "markdown"
   }
  },
  {
   "cell_type": "markdown",
   "source": "## Selecting Features\n\nEarlier, we briefly touched on how to select features (or columns) from a dataframe, but here's a quick refresher.\n\nThe following line of code selects a single feature called `column_name` from a dataframe, `df`:\n\n```python\ndf['column_name']\n```\n\nLet's say we want to look at individual columns. For example, if we use `rep['income']`, we will see the income column of the `rep` dataframe.\n\n>**Your Turn:**  \nLet's try it with another column. Can you view the `'population'` column of `rep`?",
   "metadata": {
    "tags": [],
    "cell_id": "00108-e8ce7085-6179-47af-894e-2029e2d79fa0",
    "deepnote_cell_type": "markdown"
   }
  },
  {
   "cell_type": "code",
   "metadata": {
    "tags": [],
    "deepnote_to_be_reexecuted": false,
    "source_hash": "8814b3f4",
    "execution_millis": 3,
    "cell_id": "00109-75859378-aa2e-4a58-a0be-3b12847c9e17",
    "execution_start": 1633286663610,
    "deepnote_cell_type": "code"
   },
   "source": "### Enter your code below: ###\n\n\n\n##############################",
   "execution_count": 3,
   "outputs": []
  },
  {
   "cell_type": "code",
   "metadata": {
    "tags": [],
    "deepnote_to_be_reexecuted": false,
    "source_hash": "a5b5bd21",
    "execution_millis": 4,
    "is_code_hidden": true,
    "cell_id": "00110-47afa1cc-e1a2-4fe6-8939-18c30820f3f0",
    "execution_start": 1633286663617,
    "deepnote_cell_type": "code"
   },
   "source": "# Solution:\n\n# rep['population']",
   "execution_count": 4,
   "outputs": []
  },
  {
   "cell_type": "markdown",
   "source": "## Selecting Observations\n\nWhat if we only wanted to look at one specific row or number of rows?\n\nWe can use the `iloc` function to handle this.",
   "metadata": {
    "tags": [],
    "cell_id": "00112-66fca066-0462-4372-8cd1-e8e0c9e0acc0",
    "deepnote_cell_type": "markdown"
   }
  },
  {
   "cell_type": "code",
   "metadata": {
    "tags": [],
    "deepnote_to_be_reexecuted": false,
    "source_hash": "ea0ead8b",
    "execution_millis": 5,
    "cell_id": "00113-a9fc0d27-2fa5-460b-82e3-b8271920d0d8",
    "execution_start": 1633286663662,
    "deepnote_cell_type": "code"
   },
   "source": "# Run this cell!\n# Output the first row (index 0) of the dataframe\nrep.iloc[0]",
   "execution_count": 5,
   "outputs": [
    {
     "output_type": "execute_result",
     "execution_count": 5,
     "data": {
      "text/plain": "st_abbrev                   AL\nfips                     01001\npopulation               55395\nincome                   53682\nhispanic                   2.7\nasian                      1.1\nblack                     18.7\nwhite                     75.6\nforeign                    1.6\ncollege                   20.9\ndensity                   91.8\nvets                      5922\nfemale                    51.4\nsenior                    13.8\nchildren                  25.2\nst_cnty             AL_Autauga\nstate                  Alabama\nwinner            Donald Trump\nvotes                     5387\nfraction_votes           0.445\ntotal_votes              11839\nvoter_turnout         0.285721\nName: 0, dtype: object"
     },
     "metadata": {}
    }
   ]
  },
  {
   "cell_type": "markdown",
   "source": "We can also select a number or rows! In the cell below we give `iloc` a **list** of indices instead of just one.",
   "metadata": {
    "tags": [],
    "cell_id": "00114-0b930224-8bec-4d18-8c50-9c6a76206bc1",
    "deepnote_cell_type": "markdown"
   }
  },
  {
   "cell_type": "code",
   "metadata": {
    "tags": [],
    "deepnote_to_be_reexecuted": false,
    "source_hash": "8f94f4c2",
    "cell_id": "00115-5f8284b3-8ffb-4dcf-8578-f38126cfbe25",
    "execution_start": 1633286663663,
    "execution_millis": 98,
    "deepnote_cell_type": "code"
   },
   "source": "# 1st and 6th row (index 0 and 5, respectively)\nrep.iloc[[0,5]]",
   "execution_count": 6,
   "outputs": [
    {
     "output_type": "execute_result",
     "execution_count": 6,
     "data": {
      "application/vnd.deepnote.dataframe.v2+json": {
       "row_count": 2,
       "column_count": 22,
       "columns": [
        {
         "name": "st_abbrev",
         "dtype": "object",
         "stats": {
          "unique_count": 1,
          "nan_count": 0,
          "categories": [
           {
            "name": "AL",
            "count": 2
           }
          ]
         }
        },
        {
         "name": "fips",
         "dtype": "object",
         "stats": {
          "unique_count": 2,
          "nan_count": 0,
          "categories": [
           {
            "name": "01001",
            "count": 1
           },
           {
            "name": "01013",
            "count": 1
           }
          ]
         }
        },
        {
         "name": "population",
         "dtype": "int64",
         "stats": {
          "unique_count": 2,
          "nan_count": 0,
          "min": "20296",
          "max": "55395",
          "histogram": [
           {
            "bin_start": 20296,
            "bin_end": 23805.9,
            "count": 1
           },
           {
            "bin_start": 23805.9,
            "bin_end": 27315.8,
            "count": 0
           },
           {
            "bin_start": 27315.8,
            "bin_end": 30825.7,
            "count": 0
           },
           {
            "bin_start": 30825.7,
            "bin_end": 34335.6,
            "count": 0
           },
           {
            "bin_start": 34335.6,
            "bin_end": 37845.5,
            "count": 0
           },
           {
            "bin_start": 37845.5,
            "bin_end": 41355.4,
            "count": 0
           },
           {
            "bin_start": 41355.4,
            "bin_end": 44865.3,
            "count": 0
           },
           {
            "bin_start": 44865.3,
            "bin_end": 48375.2,
            "count": 0
           },
           {
            "bin_start": 48375.2,
            "bin_end": 51885.100000000006,
            "count": 0
           },
           {
            "bin_start": 51885.100000000006,
            "bin_end": 55395,
            "count": 1
           }
          ]
         }
        },
        {
         "name": "income",
         "dtype": "int64",
         "stats": {
          "unique_count": 2,
          "nan_count": 0,
          "min": "29918",
          "max": "53682",
          "histogram": [
           {
            "bin_start": 29918,
            "bin_end": 32294.4,
            "count": 1
           },
           {
            "bin_start": 32294.4,
            "bin_end": 34670.8,
            "count": 0
           },
           {
            "bin_start": 34670.8,
            "bin_end": 37047.2,
            "count": 0
           },
           {
            "bin_start": 37047.2,
            "bin_end": 39423.6,
            "count": 0
           },
           {
            "bin_start": 39423.6,
            "bin_end": 41800,
            "count": 0
           },
           {
            "bin_start": 41800,
            "bin_end": 44176.4,
            "count": 0
           },
           {
            "bin_start": 44176.4,
            "bin_end": 46552.8,
            "count": 0
           },
           {
            "bin_start": 46552.8,
            "bin_end": 48929.2,
            "count": 0
           },
           {
            "bin_start": 48929.2,
            "bin_end": 51305.600000000006,
            "count": 0
           },
           {
            "bin_start": 51305.600000000006,
            "bin_end": 53682,
            "count": 1
           }
          ]
         }
        },
        {
         "name": "hispanic",
         "dtype": "float64",
         "stats": {
          "unique_count": 2,
          "nan_count": 0,
          "min": "1.2",
          "max": "2.7",
          "histogram": [
           {
            "bin_start": 1.2,
            "bin_end": 1.35,
            "count": 1
           },
           {
            "bin_start": 1.35,
            "bin_end": 1.5,
            "count": 0
           },
           {
            "bin_start": 1.5,
            "bin_end": 1.65,
            "count": 0
           },
           {
            "bin_start": 1.65,
            "bin_end": 1.8,
            "count": 0
           },
           {
            "bin_start": 1.8,
            "bin_end": 1.9500000000000002,
            "count": 0
           },
           {
            "bin_start": 1.9500000000000002,
            "bin_end": 2.1,
            "count": 0
           },
           {
            "bin_start": 2.1,
            "bin_end": 2.25,
            "count": 0
           },
           {
            "bin_start": 2.25,
            "bin_end": 2.4000000000000004,
            "count": 0
           },
           {
            "bin_start": 2.4000000000000004,
            "bin_end": 2.55,
            "count": 0
           },
           {
            "bin_start": 2.55,
            "bin_end": 2.7,
            "count": 1
           }
          ]
         }
        },
        {
         "name": "asian",
         "dtype": "float64",
         "stats": {
          "unique_count": 2,
          "nan_count": 0,
          "min": "0.9",
          "max": "1.1",
          "histogram": [
           {
            "bin_start": 0.9,
            "bin_end": 0.92,
            "count": 1
           },
           {
            "bin_start": 0.92,
            "bin_end": 0.9400000000000001,
            "count": 0
           },
           {
            "bin_start": 0.9400000000000001,
            "bin_end": 0.9600000000000001,
            "count": 0
           },
           {
            "bin_start": 0.9600000000000001,
            "bin_end": 0.9800000000000001,
            "count": 0
           },
           {
            "bin_start": 0.9800000000000001,
            "bin_end": 1,
            "count": 0
           },
           {
            "bin_start": 1,
            "bin_end": 1.02,
            "count": 0
           },
           {
            "bin_start": 1.02,
            "bin_end": 1.04,
            "count": 0
           },
           {
            "bin_start": 1.04,
            "bin_end": 1.06,
            "count": 0
           },
           {
            "bin_start": 1.06,
            "bin_end": 1.08,
            "count": 0
           },
           {
            "bin_start": 1.08,
            "bin_end": 1.1,
            "count": 1
           }
          ]
         }
        },
        {
         "name": "black",
         "dtype": "float64",
         "stats": {
          "unique_count": 2,
          "nan_count": 0,
          "min": "18.7",
          "max": "44.0",
          "histogram": [
           {
            "bin_start": 18.7,
            "bin_end": 21.23,
            "count": 1
           },
           {
            "bin_start": 21.23,
            "bin_end": 23.759999999999998,
            "count": 0
           },
           {
            "bin_start": 23.759999999999998,
            "bin_end": 26.29,
            "count": 0
           },
           {
            "bin_start": 26.29,
            "bin_end": 28.82,
            "count": 0
           },
           {
            "bin_start": 28.82,
            "bin_end": 31.35,
            "count": 0
           },
           {
            "bin_start": 31.35,
            "bin_end": 33.88,
            "count": 0
           },
           {
            "bin_start": 33.88,
            "bin_end": 36.41,
            "count": 0
           },
           {
            "bin_start": 36.41,
            "bin_end": 38.94,
            "count": 0
           },
           {
            "bin_start": 38.94,
            "bin_end": 41.47,
            "count": 0
           },
           {
            "bin_start": 41.47,
            "bin_end": 44,
            "count": 1
           }
          ]
         }
        },
        {
         "name": "white",
         "dtype": "float64",
         "stats": {
          "unique_count": 2,
          "nan_count": 0,
          "min": "53.1",
          "max": "75.6",
          "histogram": [
           {
            "bin_start": 53.1,
            "bin_end": 55.35,
            "count": 1
           },
           {
            "bin_start": 55.35,
            "bin_end": 57.6,
            "count": 0
           },
           {
            "bin_start": 57.6,
            "bin_end": 59.85,
            "count": 0
           },
           {
            "bin_start": 59.85,
            "bin_end": 62.099999999999994,
            "count": 0
           },
           {
            "bin_start": 62.099999999999994,
            "bin_end": 64.35,
            "count": 0
           },
           {
            "bin_start": 64.35,
            "bin_end": 66.6,
            "count": 0
           },
           {
            "bin_start": 66.6,
            "bin_end": 68.85,
            "count": 0
           },
           {
            "bin_start": 68.85,
            "bin_end": 71.1,
            "count": 0
           },
           {
            "bin_start": 71.1,
            "bin_end": 73.35,
            "count": 0
           },
           {
            "bin_start": 73.35,
            "bin_end": 75.6,
            "count": 1
           }
          ]
         }
        },
        {
         "name": "foreign",
         "dtype": "float64",
         "stats": {
          "unique_count": 2,
          "nan_count": 0,
          "min": "0.8",
          "max": "1.6",
          "histogram": [
           {
            "bin_start": 0.8,
            "bin_end": 0.88,
            "count": 1
           },
           {
            "bin_start": 0.88,
            "bin_end": 0.9600000000000001,
            "count": 0
           },
           {
            "bin_start": 0.9600000000000001,
            "bin_end": 1.04,
            "count": 0
           },
           {
            "bin_start": 1.04,
            "bin_end": 1.12,
            "count": 0
           },
           {
            "bin_start": 1.12,
            "bin_end": 1.2000000000000002,
            "count": 0
           },
           {
            "bin_start": 1.2000000000000002,
            "bin_end": 1.28,
            "count": 0
           },
           {
            "bin_start": 1.28,
            "bin_end": 1.36,
            "count": 0
           },
           {
            "bin_start": 1.36,
            "bin_end": 1.44,
            "count": 0
           },
           {
            "bin_start": 1.44,
            "bin_end": 1.52,
            "count": 0
           },
           {
            "bin_start": 1.52,
            "bin_end": 1.6,
            "count": 1
           }
          ]
         }
        },
        {
         "name": "college",
         "dtype": "float64",
         "stats": {
          "unique_count": 2,
          "nan_count": 0,
          "min": "14.0",
          "max": "20.9",
          "histogram": [
           {
            "bin_start": 14,
            "bin_end": 14.69,
            "count": 1
           },
           {
            "bin_start": 14.69,
            "bin_end": 15.379999999999999,
            "count": 0
           },
           {
            "bin_start": 15.379999999999999,
            "bin_end": 16.07,
            "count": 0
           },
           {
            "bin_start": 16.07,
            "bin_end": 16.759999999999998,
            "count": 0
           },
           {
            "bin_start": 16.759999999999998,
            "bin_end": 17.45,
            "count": 0
           },
           {
            "bin_start": 17.45,
            "bin_end": 18.14,
            "count": 0
           },
           {
            "bin_start": 18.14,
            "bin_end": 18.83,
            "count": 0
           },
           {
            "bin_start": 18.83,
            "bin_end": 19.52,
            "count": 0
           },
           {
            "bin_start": 19.52,
            "bin_end": 20.209999999999997,
            "count": 0
           },
           {
            "bin_start": 20.209999999999997,
            "bin_end": 20.9,
            "count": 1
           }
          ]
         }
        },
        {
         "name": "density",
         "dtype": "float64",
         "stats": {
          "unique_count": 2,
          "nan_count": 0,
          "min": "27.0",
          "max": "91.8",
          "histogram": [
           {
            "bin_start": 27,
            "bin_end": 33.48,
            "count": 1
           },
           {
            "bin_start": 33.48,
            "bin_end": 39.96,
            "count": 0
           },
           {
            "bin_start": 39.96,
            "bin_end": 46.44,
            "count": 0
           },
           {
            "bin_start": 46.44,
            "bin_end": 52.92,
            "count": 0
           },
           {
            "bin_start": 52.92,
            "bin_end": 59.4,
            "count": 0
           },
           {
            "bin_start": 59.4,
            "bin_end": 65.88,
            "count": 0
           },
           {
            "bin_start": 65.88,
            "bin_end": 72.36,
            "count": 0
           },
           {
            "bin_start": 72.36,
            "bin_end": 78.84,
            "count": 0
           },
           {
            "bin_start": 78.84,
            "bin_end": 85.32,
            "count": 0
           },
           {
            "bin_start": 85.32,
            "bin_end": 91.8,
            "count": 1
           }
          ]
         }
        },
        {
         "name": "vets",
         "dtype": "int64",
         "stats": {
          "unique_count": 2,
          "nan_count": 0,
          "min": "1497",
          "max": "5922",
          "histogram": [
           {
            "bin_start": 1497,
            "bin_end": 1939.5,
            "count": 1
           },
           {
            "bin_start": 1939.5,
            "bin_end": 2382,
            "count": 0
           },
           {
            "bin_start": 2382,
            "bin_end": 2824.5,
            "count": 0
           },
           {
            "bin_start": 2824.5,
            "bin_end": 3267,
            "count": 0
           },
           {
            "bin_start": 3267,
            "bin_end": 3709.5,
            "count": 0
           },
           {
            "bin_start": 3709.5,
            "bin_end": 4152,
            "count": 0
           },
           {
            "bin_start": 4152,
            "bin_end": 4594.5,
            "count": 0
           },
           {
            "bin_start": 4594.5,
            "bin_end": 5037,
            "count": 0
           },
           {
            "bin_start": 5037,
            "bin_end": 5479.5,
            "count": 0
           },
           {
            "bin_start": 5479.5,
            "bin_end": 5922,
            "count": 1
           }
          ]
         }
        },
        {
         "name": "female",
         "dtype": "float64",
         "stats": {
          "unique_count": 2,
          "nan_count": 0,
          "min": "51.4",
          "max": "53.6",
          "histogram": [
           {
            "bin_start": 51.4,
            "bin_end": 51.62,
            "count": 1
           },
           {
            "bin_start": 51.62,
            "bin_end": 51.839999999999996,
            "count": 0
           },
           {
            "bin_start": 51.839999999999996,
            "bin_end": 52.06,
            "count": 0
           },
           {
            "bin_start": 52.06,
            "bin_end": 52.28,
            "count": 0
           },
           {
            "bin_start": 52.28,
            "bin_end": 52.5,
            "count": 0
           },
           {
            "bin_start": 52.5,
            "bin_end": 52.72,
            "count": 0
           },
           {
            "bin_start": 52.72,
            "bin_end": 52.94,
            "count": 0
           },
           {
            "bin_start": 52.94,
            "bin_end": 53.160000000000004,
            "count": 0
           },
           {
            "bin_start": 53.160000000000004,
            "bin_end": 53.38,
            "count": 0
           },
           {
            "bin_start": 53.38,
            "bin_end": 53.6,
            "count": 1
           }
          ]
         }
        },
        {
         "name": "senior",
         "dtype": "float64",
         "stats": {
          "unique_count": 2,
          "nan_count": 0,
          "min": "13.8",
          "max": "18.0",
          "histogram": [
           {
            "bin_start": 13.8,
            "bin_end": 14.22,
            "count": 1
           },
           {
            "bin_start": 14.22,
            "bin_end": 14.64,
            "count": 0
           },
           {
            "bin_start": 14.64,
            "bin_end": 15.06,
            "count": 0
           },
           {
            "bin_start": 15.06,
            "bin_end": 15.48,
            "count": 0
           },
           {
            "bin_start": 15.48,
            "bin_end": 15.9,
            "count": 0
           },
           {
            "bin_start": 15.9,
            "bin_end": 16.32,
            "count": 0
           },
           {
            "bin_start": 16.32,
            "bin_end": 16.740000000000002,
            "count": 0
           },
           {
            "bin_start": 16.740000000000002,
            "bin_end": 17.16,
            "count": 0
           },
           {
            "bin_start": 17.16,
            "bin_end": 17.58,
            "count": 0
           },
           {
            "bin_start": 17.58,
            "bin_end": 18,
            "count": 1
           }
          ]
         }
        },
        {
         "name": "children",
         "dtype": "float64",
         "stats": {
          "unique_count": 2,
          "nan_count": 0,
          "min": "23.6",
          "max": "25.2",
          "histogram": [
           {
            "bin_start": 23.6,
            "bin_end": 23.76,
            "count": 1
           },
           {
            "bin_start": 23.76,
            "bin_end": 23.92,
            "count": 0
           },
           {
            "bin_start": 23.92,
            "bin_end": 24.080000000000002,
            "count": 0
           },
           {
            "bin_start": 24.080000000000002,
            "bin_end": 24.240000000000002,
            "count": 0
           },
           {
            "bin_start": 24.240000000000002,
            "bin_end": 24.4,
            "count": 0
           },
           {
            "bin_start": 24.4,
            "bin_end": 24.56,
            "count": 0
           },
           {
            "bin_start": 24.56,
            "bin_end": 24.72,
            "count": 0
           },
           {
            "bin_start": 24.72,
            "bin_end": 24.88,
            "count": 0
           },
           {
            "bin_start": 24.88,
            "bin_end": 25.04,
            "count": 0
           },
           {
            "bin_start": 25.04,
            "bin_end": 25.2,
            "count": 1
           }
          ]
         }
        },
        {
         "name": "st_cnty",
         "dtype": "object",
         "stats": {
          "unique_count": 2,
          "nan_count": 0,
          "categories": [
           {
            "name": "AL_Autauga",
            "count": 1
           },
           {
            "name": "AL_Butler",
            "count": 1
           }
          ]
         }
        },
        {
         "name": "state",
         "dtype": "object",
         "stats": {
          "unique_count": 1,
          "nan_count": 0,
          "categories": [
           {
            "name": "Alabama",
            "count": 2
           }
          ]
         }
        },
        {
         "name": "winner",
         "dtype": "object",
         "stats": {
          "unique_count": 1,
          "nan_count": 0,
          "categories": [
           {
            "name": "Donald Trump",
            "count": 2
           }
          ]
         }
        },
        {
         "name": "votes",
         "dtype": "int64",
         "stats": {
          "unique_count": 2,
          "nan_count": 0,
          "min": "1720",
          "max": "5387",
          "histogram": [
           {
            "bin_start": 1720,
            "bin_end": 2086.7,
            "count": 1
           },
           {
            "bin_start": 2086.7,
            "bin_end": 2453.4,
            "count": 0
           },
           {
            "bin_start": 2453.4,
            "bin_end": 2820.1,
            "count": 0
           },
           {
            "bin_start": 2820.1,
            "bin_end": 3186.8,
            "count": 0
           },
           {
            "bin_start": 3186.8,
            "bin_end": 3553.5,
            "count": 0
           },
           {
            "bin_start": 3553.5,
            "bin_end": 3920.2,
            "count": 0
           },
           {
            "bin_start": 3920.2,
            "bin_end": 4286.9,
            "count": 0
           },
           {
            "bin_start": 4286.9,
            "bin_end": 4653.6,
            "count": 0
           },
           {
            "bin_start": 4653.6,
            "bin_end": 5020.299999999999,
            "count": 0
           },
           {
            "bin_start": 5020.299999999999,
            "bin_end": 5387,
            "count": 1
           }
          ]
         }
        },
        {
         "name": "fraction_votes",
         "dtype": "float64",
         "stats": {
          "unique_count": 2,
          "nan_count": 0,
          "min": "0.445",
          "max": "0.5379999999999999",
          "histogram": [
           {
            "bin_start": 0.445,
            "bin_end": 0.4543,
            "count": 1
           },
           {
            "bin_start": 0.4543,
            "bin_end": 0.4636,
            "count": 0
           },
           {
            "bin_start": 0.4636,
            "bin_end": 0.4729,
            "count": 0
           },
           {
            "bin_start": 0.4729,
            "bin_end": 0.48219999999999996,
            "count": 0
           },
           {
            "bin_start": 0.48219999999999996,
            "bin_end": 0.49149999999999994,
            "count": 0
           },
           {
            "bin_start": 0.49149999999999994,
            "bin_end": 0.5007999999999999,
            "count": 0
           },
           {
            "bin_start": 0.5007999999999999,
            "bin_end": 0.5101,
            "count": 0
           },
           {
            "bin_start": 0.5101,
            "bin_end": 0.5194,
            "count": 0
           },
           {
            "bin_start": 0.5194,
            "bin_end": 0.5287,
            "count": 0
           },
           {
            "bin_start": 0.5287,
            "bin_end": 0.5379999999999999,
            "count": 1
           }
          ]
         }
        },
        {
         "name": "total_votes",
         "dtype": "int64",
         "stats": {
          "unique_count": 2,
          "nan_count": 0,
          "min": "3144",
          "max": "11839",
          "histogram": [
           {
            "bin_start": 3144,
            "bin_end": 4013.5,
            "count": 1
           },
           {
            "bin_start": 4013.5,
            "bin_end": 4883,
            "count": 0
           },
           {
            "bin_start": 4883,
            "bin_end": 5752.5,
            "count": 0
           },
           {
            "bin_start": 5752.5,
            "bin_end": 6622,
            "count": 0
           },
           {
            "bin_start": 6622,
            "bin_end": 7491.5,
            "count": 0
           },
           {
            "bin_start": 7491.5,
            "bin_end": 8361,
            "count": 0
           },
           {
            "bin_start": 8361,
            "bin_end": 9230.5,
            "count": 0
           },
           {
            "bin_start": 9230.5,
            "bin_end": 10100,
            "count": 0
           },
           {
            "bin_start": 10100,
            "bin_end": 10969.5,
            "count": 0
           },
           {
            "bin_start": 10969.5,
            "bin_end": 11839,
            "count": 1
           }
          ]
         }
        },
        {
         "name": "voter_turnout",
         "dtype": "float64",
         "stats": {
          "unique_count": 2,
          "nan_count": 0,
          "min": "0.2027583388881207",
          "max": "0.2857214569356778",
          "histogram": [
           {
            "bin_start": 0.2027583388881207,
            "bin_end": 0.2110546506928764,
            "count": 1
           },
           {
            "bin_start": 0.2110546506928764,
            "bin_end": 0.2193509624976321,
            "count": 0
           },
           {
            "bin_start": 0.2193509624976321,
            "bin_end": 0.22764727430238782,
            "count": 0
           },
           {
            "bin_start": 0.22764727430238782,
            "bin_end": 0.23594358610714355,
            "count": 0
           },
           {
            "bin_start": 0.23594358610714355,
            "bin_end": 0.24423989791189926,
            "count": 0
           },
           {
            "bin_start": 0.24423989791189926,
            "bin_end": 0.25253620971665497,
            "count": 0
           },
           {
            "bin_start": 0.25253620971665497,
            "bin_end": 0.2608325215214107,
            "count": 0
           },
           {
            "bin_start": 0.2608325215214107,
            "bin_end": 0.2691288333261664,
            "count": 0
           },
           {
            "bin_start": 0.2691288333261664,
            "bin_end": 0.2774251451309221,
            "count": 0
           },
           {
            "bin_start": 0.2774251451309221,
            "bin_end": 0.2857214569356778,
            "count": 1
           }
          ]
         }
        },
        {
         "name": "_deepnote_index_column",
         "dtype": "int64"
        }
       ],
       "rows_top": [
        {
         "st_abbrev": "AL",
         "fips": "01001",
         "population": 55395,
         "income": 53682,
         "hispanic": 2.7,
         "asian": 1.1,
         "black": 18.7,
         "white": 75.6,
         "foreign": 1.6,
         "college": 20.9,
         "density": 91.8,
         "vets": 5922,
         "female": 51.4,
         "senior": 13.8,
         "children": 25.2,
         "st_cnty": "AL_Autauga",
         "state": "Alabama",
         "winner": "Donald Trump",
         "votes": 5387,
         "fraction_votes": 0.445,
         "total_votes": 11839,
         "voter_turnout": 0.2857214569356778,
         "_deepnote_index_column": 0
        },
        {
         "st_abbrev": "AL",
         "fips": "01013",
         "population": 20296,
         "income": 29918,
         "hispanic": 1.2,
         "asian": 0.9,
         "black": 44,
         "white": 53.1,
         "foreign": 0.8,
         "college": 14,
         "density": 27,
         "vets": 1497,
         "female": 53.6,
         "senior": 18,
         "children": 23.6,
         "st_cnty": "AL_Butler",
         "state": "Alabama",
         "winner": "Donald Trump",
         "votes": 1720,
         "fraction_votes": 0.5379999999999999,
         "total_votes": 3144,
         "voter_turnout": 0.2027583388881207,
         "_deepnote_index_column": 5
        }
       ],
       "rows_bottom": null
      },
      "text/plain": "  st_abbrev   fips  population  income  hispanic  asian  black  white  \\\n0        AL  01001       55395   53682       2.7    1.1   18.7   75.6   \n5        AL  01013       20296   29918       1.2    0.9   44.0   53.1   \n\n   foreign  college  ...  female  senior  children     st_cnty    state  \\\n0      1.6     20.9  ...    51.4    13.8      25.2  AL_Autauga  Alabama   \n5      0.8     14.0  ...    53.6    18.0      23.6   AL_Butler  Alabama   \n\n         winner votes fraction_votes  total_votes  voter_turnout  \n0  Donald Trump  5387          0.445        11839       0.285721  \n5  Donald Trump  1720          0.538         3144       0.202758  \n\n[2 rows x 22 columns]",
      "text/html": "<div>\n<style scoped>\n    .dataframe tbody tr th:only-of-type {\n        vertical-align: middle;\n    }\n\n    .dataframe tbody tr th {\n        vertical-align: top;\n    }\n\n    .dataframe thead th {\n        text-align: right;\n    }\n</style>\n<table border=\"1\" class=\"dataframe\">\n  <thead>\n    <tr style=\"text-align: right;\">\n      <th></th>\n      <th>st_abbrev</th>\n      <th>fips</th>\n      <th>population</th>\n      <th>income</th>\n      <th>hispanic</th>\n      <th>asian</th>\n      <th>black</th>\n      <th>white</th>\n      <th>foreign</th>\n      <th>college</th>\n      <th>...</th>\n      <th>female</th>\n      <th>senior</th>\n      <th>children</th>\n      <th>st_cnty</th>\n      <th>state</th>\n      <th>winner</th>\n      <th>votes</th>\n      <th>fraction_votes</th>\n      <th>total_votes</th>\n      <th>voter_turnout</th>\n    </tr>\n  </thead>\n  <tbody>\n    <tr>\n      <th>0</th>\n      <td>AL</td>\n      <td>01001</td>\n      <td>55395</td>\n      <td>53682</td>\n      <td>2.7</td>\n      <td>1.1</td>\n      <td>18.7</td>\n      <td>75.6</td>\n      <td>1.6</td>\n      <td>20.9</td>\n      <td>...</td>\n      <td>51.4</td>\n      <td>13.8</td>\n      <td>25.2</td>\n      <td>AL_Autauga</td>\n      <td>Alabama</td>\n      <td>Donald Trump</td>\n      <td>5387</td>\n      <td>0.445</td>\n      <td>11839</td>\n      <td>0.285721</td>\n    </tr>\n    <tr>\n      <th>5</th>\n      <td>AL</td>\n      <td>01013</td>\n      <td>20296</td>\n      <td>29918</td>\n      <td>1.2</td>\n      <td>0.9</td>\n      <td>44.0</td>\n      <td>53.1</td>\n      <td>0.8</td>\n      <td>14.0</td>\n      <td>...</td>\n      <td>53.6</td>\n      <td>18.0</td>\n      <td>23.6</td>\n      <td>AL_Butler</td>\n      <td>Alabama</td>\n      <td>Donald Trump</td>\n      <td>1720</td>\n      <td>0.538</td>\n      <td>3144</td>\n      <td>0.202758</td>\n    </tr>\n  </tbody>\n</table>\n<p>2 rows × 22 columns</p>\n</div>"
     },
     "metadata": {}
    }
   ]
  },
  {
   "cell_type": "markdown",
   "source": "Finally, we can also use **slice** syntax with `iloc`.",
   "metadata": {
    "tags": [],
    "cell_id": "00116-5dbd1eb3-7f73-4ba2-a4a2-3dab6dd58c2a",
    "deepnote_cell_type": "markdown"
   }
  },
  {
   "cell_type": "code",
   "metadata": {
    "tags": [],
    "deepnote_to_be_reexecuted": false,
    "source_hash": "8e4c1859",
    "cell_id": "00117-daf3db37-8705-4251-9571-4317f7a1b259",
    "execution_start": 1633286663806,
    "execution_millis": 55,
    "deepnote_cell_type": "code"
   },
   "source": "# First 3 rows\nrep.iloc[:3]",
   "execution_count": 7,
   "outputs": [
    {
     "output_type": "execute_result",
     "execution_count": 7,
     "data": {
      "application/vnd.deepnote.dataframe.v2+json": {
       "row_count": 3,
       "column_count": 22,
       "columns": [
        {
         "name": "st_abbrev",
         "dtype": "object",
         "stats": {
          "unique_count": 1,
          "nan_count": 0,
          "categories": [
           {
            "name": "AL",
            "count": 3
           }
          ]
         }
        },
        {
         "name": "fips",
         "dtype": "object",
         "stats": {
          "unique_count": 3,
          "nan_count": 0,
          "categories": [
           {
            "name": "01001",
            "count": 1
           },
           {
            "name": "01003",
            "count": 1
           },
           {
            "name": "01005",
            "count": 1
           }
          ]
         }
        },
        {
         "name": "population",
         "dtype": "int64",
         "stats": {
          "unique_count": 3,
          "nan_count": 0,
          "min": "26887",
          "max": "200111",
          "histogram": [
           {
            "bin_start": 26887,
            "bin_end": 44209.4,
            "count": 1
           },
           {
            "bin_start": 44209.4,
            "bin_end": 61531.8,
            "count": 1
           },
           {
            "bin_start": 61531.8,
            "bin_end": 78854.20000000001,
            "count": 0
           },
           {
            "bin_start": 78854.20000000001,
            "bin_end": 96176.6,
            "count": 0
           },
           {
            "bin_start": 96176.6,
            "bin_end": 113499,
            "count": 0
           },
           {
            "bin_start": 113499,
            "bin_end": 130821.40000000001,
            "count": 0
           },
           {
            "bin_start": 130821.40000000001,
            "bin_end": 148143.80000000002,
            "count": 0
           },
           {
            "bin_start": 148143.80000000002,
            "bin_end": 165466.2,
            "count": 0
           },
           {
            "bin_start": 165466.2,
            "bin_end": 182788.6,
            "count": 0
           },
           {
            "bin_start": 182788.6,
            "bin_end": 200111,
            "count": 1
           }
          ]
         }
        },
        {
         "name": "income",
         "dtype": "int64",
         "stats": {
          "unique_count": 3,
          "nan_count": 0,
          "min": "32911",
          "max": "53682",
          "histogram": [
           {
            "bin_start": 32911,
            "bin_end": 34988.1,
            "count": 1
           },
           {
            "bin_start": 34988.1,
            "bin_end": 37065.2,
            "count": 0
           },
           {
            "bin_start": 37065.2,
            "bin_end": 39142.3,
            "count": 0
           },
           {
            "bin_start": 39142.3,
            "bin_end": 41219.4,
            "count": 0
           },
           {
            "bin_start": 41219.4,
            "bin_end": 43296.5,
            "count": 0
           },
           {
            "bin_start": 43296.5,
            "bin_end": 45373.6,
            "count": 0
           },
           {
            "bin_start": 45373.6,
            "bin_end": 47450.7,
            "count": 0
           },
           {
            "bin_start": 47450.7,
            "bin_end": 49527.8,
            "count": 0
           },
           {
            "bin_start": 49527.8,
            "bin_end": 51604.899999999994,
            "count": 1
           },
           {
            "bin_start": 51604.899999999994,
            "bin_end": 53682,
            "count": 1
           }
          ]
         }
        },
        {
         "name": "hispanic",
         "dtype": "float64",
         "stats": {
          "unique_count": 3,
          "nan_count": 0,
          "min": "2.7",
          "max": "4.6",
          "histogram": [
           {
            "bin_start": 2.7,
            "bin_end": 2.89,
            "count": 1
           },
           {
            "bin_start": 2.89,
            "bin_end": 3.08,
            "count": 0
           },
           {
            "bin_start": 3.08,
            "bin_end": 3.27,
            "count": 0
           },
           {
            "bin_start": 3.27,
            "bin_end": 3.46,
            "count": 0
           },
           {
            "bin_start": 3.46,
            "bin_end": 3.65,
            "count": 0
           },
           {
            "bin_start": 3.65,
            "bin_end": 3.84,
            "count": 0
           },
           {
            "bin_start": 3.84,
            "bin_end": 4.029999999999999,
            "count": 0
           },
           {
            "bin_start": 4.029999999999999,
            "bin_end": 4.22,
            "count": 0
           },
           {
            "bin_start": 4.22,
            "bin_end": 4.41,
            "count": 0
           },
           {
            "bin_start": 4.41,
            "bin_end": 4.6,
            "count": 2
           }
          ]
         }
        },
        {
         "name": "asian",
         "dtype": "float64",
         "stats": {
          "unique_count": 3,
          "nan_count": 0,
          "min": "0.5",
          "max": "1.1",
          "histogram": [
           {
            "bin_start": 0.5,
            "bin_end": 0.56,
            "count": 1
           },
           {
            "bin_start": 0.56,
            "bin_end": 0.62,
            "count": 0
           },
           {
            "bin_start": 0.62,
            "bin_end": 0.68,
            "count": 0
           },
           {
            "bin_start": 0.68,
            "bin_end": 0.74,
            "count": 0
           },
           {
            "bin_start": 0.74,
            "bin_end": 0.8,
            "count": 0
           },
           {
            "bin_start": 0.8,
            "bin_end": 0.8600000000000001,
            "count": 0
           },
           {
            "bin_start": 0.8600000000000001,
            "bin_end": 0.9200000000000002,
            "count": 1
           },
           {
            "bin_start": 0.9200000000000002,
            "bin_end": 0.9800000000000001,
            "count": 0
           },
           {
            "bin_start": 0.9800000000000001,
            "bin_end": 1.04,
            "count": 0
           },
           {
            "bin_start": 1.04,
            "bin_end": 1.1,
            "count": 1
           }
          ]
         }
        },
        {
         "name": "black",
         "dtype": "float64",
         "stats": {
          "unique_count": 3,
          "nan_count": 0,
          "min": "9.6",
          "max": "47.6",
          "histogram": [
           {
            "bin_start": 9.6,
            "bin_end": 13.399999999999999,
            "count": 1
           },
           {
            "bin_start": 13.399999999999999,
            "bin_end": 17.2,
            "count": 0
           },
           {
            "bin_start": 17.2,
            "bin_end": 21,
            "count": 1
           },
           {
            "bin_start": 21,
            "bin_end": 24.799999999999997,
            "count": 0
           },
           {
            "bin_start": 24.799999999999997,
            "bin_end": 28.6,
            "count": 0
           },
           {
            "bin_start": 28.6,
            "bin_end": 32.4,
            "count": 0
           },
           {
            "bin_start": 32.4,
            "bin_end": 36.199999999999996,
            "count": 0
           },
           {
            "bin_start": 36.199999999999996,
            "bin_end": 40,
            "count": 0
           },
           {
            "bin_start": 40,
            "bin_end": 43.8,
            "count": 0
           },
           {
            "bin_start": 43.8,
            "bin_end": 47.6,
            "count": 1
           }
          ]
         }
        },
        {
         "name": "white",
         "dtype": "float64",
         "stats": {
          "unique_count": 3,
          "nan_count": 0,
          "min": "46.6",
          "max": "83.0",
          "histogram": [
           {
            "bin_start": 46.6,
            "bin_end": 50.24,
            "count": 1
           },
           {
            "bin_start": 50.24,
            "bin_end": 53.88,
            "count": 0
           },
           {
            "bin_start": 53.88,
            "bin_end": 57.519999999999996,
            "count": 0
           },
           {
            "bin_start": 57.519999999999996,
            "bin_end": 61.16,
            "count": 0
           },
           {
            "bin_start": 61.16,
            "bin_end": 64.8,
            "count": 0
           },
           {
            "bin_start": 64.8,
            "bin_end": 68.44,
            "count": 0
           },
           {
            "bin_start": 68.44,
            "bin_end": 72.08,
            "count": 0
           },
           {
            "bin_start": 72.08,
            "bin_end": 75.72,
            "count": 1
           },
           {
            "bin_start": 75.72,
            "bin_end": 79.36,
            "count": 0
           },
           {
            "bin_start": 79.36,
            "bin_end": 83,
            "count": 1
           }
          ]
         }
        },
        {
         "name": "foreign",
         "dtype": "float64",
         "stats": {
          "unique_count": 3,
          "nan_count": 0,
          "min": "1.6",
          "max": "3.6",
          "histogram": [
           {
            "bin_start": 1.6,
            "bin_end": 1.8,
            "count": 1
           },
           {
            "bin_start": 1.8,
            "bin_end": 2,
            "count": 0
           },
           {
            "bin_start": 2,
            "bin_end": 2.2,
            "count": 0
           },
           {
            "bin_start": 2.2,
            "bin_end": 2.4000000000000004,
            "count": 0
           },
           {
            "bin_start": 2.4000000000000004,
            "bin_end": 2.6,
            "count": 0
           },
           {
            "bin_start": 2.6,
            "bin_end": 2.8000000000000003,
            "count": 0
           },
           {
            "bin_start": 2.8000000000000003,
            "bin_end": 3,
            "count": 1
           },
           {
            "bin_start": 3,
            "bin_end": 3.2,
            "count": 0
           },
           {
            "bin_start": 3.2,
            "bin_end": 3.4000000000000004,
            "count": 0
           },
           {
            "bin_start": 3.4000000000000004,
            "bin_end": 3.6,
            "count": 1
           }
          ]
         }
        },
        {
         "name": "college",
         "dtype": "float64",
         "stats": {
          "unique_count": 3,
          "nan_count": 0,
          "min": "13.4",
          "max": "27.7",
          "histogram": [
           {
            "bin_start": 13.4,
            "bin_end": 14.83,
            "count": 1
           },
           {
            "bin_start": 14.83,
            "bin_end": 16.26,
            "count": 0
           },
           {
            "bin_start": 16.26,
            "bin_end": 17.69,
            "count": 0
           },
           {
            "bin_start": 17.69,
            "bin_end": 19.12,
            "count": 0
           },
           {
            "bin_start": 19.12,
            "bin_end": 20.55,
            "count": 0
           },
           {
            "bin_start": 20.55,
            "bin_end": 21.98,
            "count": 1
           },
           {
            "bin_start": 21.98,
            "bin_end": 23.41,
            "count": 0
           },
           {
            "bin_start": 23.41,
            "bin_end": 24.84,
            "count": 0
           },
           {
            "bin_start": 24.84,
            "bin_end": 26.27,
            "count": 0
           },
           {
            "bin_start": 26.27,
            "bin_end": 27.7,
            "count": 1
           }
          ]
         }
        },
        {
         "name": "density",
         "dtype": "float64",
         "stats": {
          "unique_count": 3,
          "nan_count": 0,
          "min": "31.0",
          "max": "114.6",
          "histogram": [
           {
            "bin_start": 31,
            "bin_end": 39.36,
            "count": 1
           },
           {
            "bin_start": 39.36,
            "bin_end": 47.72,
            "count": 0
           },
           {
            "bin_start": 47.72,
            "bin_end": 56.08,
            "count": 0
           },
           {
            "bin_start": 56.08,
            "bin_end": 64.44,
            "count": 0
           },
           {
            "bin_start": 64.44,
            "bin_end": 72.8,
            "count": 0
           },
           {
            "bin_start": 72.8,
            "bin_end": 81.16,
            "count": 0
           },
           {
            "bin_start": 81.16,
            "bin_end": 89.52,
            "count": 0
           },
           {
            "bin_start": 89.52,
            "bin_end": 97.88,
            "count": 1
           },
           {
            "bin_start": 97.88,
            "bin_end": 106.24,
            "count": 0
           },
           {
            "bin_start": 106.24,
            "bin_end": 114.6,
            "count": 1
           }
          ]
         }
        },
        {
         "name": "vets",
         "dtype": "int64",
         "stats": {
          "unique_count": 3,
          "nan_count": 0,
          "min": "2120",
          "max": "19346",
          "histogram": [
           {
            "bin_start": 2120,
            "bin_end": 3842.6,
            "count": 1
           },
           {
            "bin_start": 3842.6,
            "bin_end": 5565.2,
            "count": 0
           },
           {
            "bin_start": 5565.2,
            "bin_end": 7287.799999999999,
            "count": 1
           },
           {
            "bin_start": 7287.799999999999,
            "bin_end": 9010.4,
            "count": 0
           },
           {
            "bin_start": 9010.4,
            "bin_end": 10733,
            "count": 0
           },
           {
            "bin_start": 10733,
            "bin_end": 12455.599999999999,
            "count": 0
           },
           {
            "bin_start": 12455.599999999999,
            "bin_end": 14178.199999999999,
            "count": 0
           },
           {
            "bin_start": 14178.199999999999,
            "bin_end": 15900.8,
            "count": 0
           },
           {
            "bin_start": 15900.8,
            "bin_end": 17623.4,
            "count": 0
           },
           {
            "bin_start": 17623.4,
            "bin_end": 19346,
            "count": 1
           }
          ]
         }
        },
        {
         "name": "female",
         "dtype": "float64",
         "stats": {
          "unique_count": 3,
          "nan_count": 0,
          "min": "46.6",
          "max": "51.4",
          "histogram": [
           {
            "bin_start": 46.6,
            "bin_end": 47.08,
            "count": 1
           },
           {
            "bin_start": 47.08,
            "bin_end": 47.56,
            "count": 0
           },
           {
            "bin_start": 47.56,
            "bin_end": 48.04,
            "count": 0
           },
           {
            "bin_start": 48.04,
            "bin_end": 48.52,
            "count": 0
           },
           {
            "bin_start": 48.52,
            "bin_end": 49,
            "count": 0
           },
           {
            "bin_start": 49,
            "bin_end": 49.48,
            "count": 0
           },
           {
            "bin_start": 49.48,
            "bin_end": 49.96,
            "count": 0
           },
           {
            "bin_start": 49.96,
            "bin_end": 50.44,
            "count": 0
           },
           {
            "bin_start": 50.44,
            "bin_end": 50.92,
            "count": 0
           },
           {
            "bin_start": 50.92,
            "bin_end": 51.4,
            "count": 2
           }
          ]
         }
        },
        {
         "name": "senior",
         "dtype": "float64",
         "stats": {
          "unique_count": 3,
          "nan_count": 0,
          "min": "13.8",
          "max": "18.7",
          "histogram": [
           {
            "bin_start": 13.8,
            "bin_end": 14.290000000000001,
            "count": 1
           },
           {
            "bin_start": 14.290000000000001,
            "bin_end": 14.780000000000001,
            "count": 0
           },
           {
            "bin_start": 14.780000000000001,
            "bin_end": 15.27,
            "count": 0
           },
           {
            "bin_start": 15.27,
            "bin_end": 15.76,
            "count": 0
           },
           {
            "bin_start": 15.76,
            "bin_end": 16.25,
            "count": 0
           },
           {
            "bin_start": 16.25,
            "bin_end": 16.740000000000002,
            "count": 1
           },
           {
            "bin_start": 16.740000000000002,
            "bin_end": 17.23,
            "count": 0
           },
           {
            "bin_start": 17.23,
            "bin_end": 17.72,
            "count": 0
           },
           {
            "bin_start": 17.72,
            "bin_end": 18.21,
            "count": 0
           },
           {
            "bin_start": 18.21,
            "bin_end": 18.7,
            "count": 1
           }
          ]
         }
        },
        {
         "name": "children",
         "dtype": "float64",
         "stats": {
          "unique_count": 3,
          "nan_count": 0,
          "min": "21.2",
          "max": "25.2",
          "histogram": [
           {
            "bin_start": 21.2,
            "bin_end": 21.599999999999998,
            "count": 1
           },
           {
            "bin_start": 21.599999999999998,
            "bin_end": 22,
            "count": 0
           },
           {
            "bin_start": 22,
            "bin_end": 22.4,
            "count": 1
           },
           {
            "bin_start": 22.4,
            "bin_end": 22.8,
            "count": 0
           },
           {
            "bin_start": 22.8,
            "bin_end": 23.2,
            "count": 0
           },
           {
            "bin_start": 23.2,
            "bin_end": 23.6,
            "count": 0
           },
           {
            "bin_start": 23.6,
            "bin_end": 24,
            "count": 0
           },
           {
            "bin_start": 24,
            "bin_end": 24.4,
            "count": 0
           },
           {
            "bin_start": 24.4,
            "bin_end": 24.8,
            "count": 0
           },
           {
            "bin_start": 24.8,
            "bin_end": 25.2,
            "count": 1
           }
          ]
         }
        },
        {
         "name": "st_cnty",
         "dtype": "object",
         "stats": {
          "unique_count": 3,
          "nan_count": 0,
          "categories": [
           {
            "name": "AL_Autauga",
            "count": 1
           },
           {
            "name": "AL_Baldwin",
            "count": 1
           },
           {
            "name": "AL_Barbour",
            "count": 1
           }
          ]
         }
        },
        {
         "name": "state",
         "dtype": "object",
         "stats": {
          "unique_count": 1,
          "nan_count": 0,
          "categories": [
           {
            "name": "Alabama",
            "count": 3
           }
          ]
         }
        },
        {
         "name": "winner",
         "dtype": "object",
         "stats": {
          "unique_count": 1,
          "nan_count": 0,
          "categories": [
           {
            "name": "Donald Trump",
            "count": 3
           }
          ]
         }
        },
        {
         "name": "votes",
         "dtype": "int64",
         "stats": {
          "unique_count": 3,
          "nan_count": 0,
          "min": "1710",
          "max": "23618",
          "histogram": [
           {
            "bin_start": 1710,
            "bin_end": 3900.8,
            "count": 1
           },
           {
            "bin_start": 3900.8,
            "bin_end": 6091.6,
            "count": 1
           },
           {
            "bin_start": 6091.6,
            "bin_end": 8282.400000000001,
            "count": 0
           },
           {
            "bin_start": 8282.400000000001,
            "bin_end": 10473.2,
            "count": 0
           },
           {
            "bin_start": 10473.2,
            "bin_end": 12664,
            "count": 0
           },
           {
            "bin_start": 12664,
            "bin_end": 14854.800000000001,
            "count": 0
           },
           {
            "bin_start": 14854.800000000001,
            "bin_end": 17045.600000000002,
            "count": 0
           },
           {
            "bin_start": 17045.600000000002,
            "bin_end": 19236.4,
            "count": 0
           },
           {
            "bin_start": 19236.4,
            "bin_end": 21427.2,
            "count": 0
           },
           {
            "bin_start": 21427.2,
            "bin_end": 23618,
            "count": 1
           }
          ]
         }
        },
        {
         "name": "fraction_votes",
         "dtype": "float64",
         "stats": {
          "unique_count": 3,
          "nan_count": 0,
          "min": "0.445",
          "max": "0.501",
          "histogram": [
           {
            "bin_start": 0.445,
            "bin_end": 0.4506,
            "count": 1
           },
           {
            "bin_start": 0.4506,
            "bin_end": 0.4562,
            "count": 0
           },
           {
            "bin_start": 0.4562,
            "bin_end": 0.4618,
            "count": 0
           },
           {
            "bin_start": 0.4618,
            "bin_end": 0.4674,
            "count": 0
           },
           {
            "bin_start": 0.4674,
            "bin_end": 0.473,
            "count": 1
           },
           {
            "bin_start": 0.473,
            "bin_end": 0.4786,
            "count": 0
           },
           {
            "bin_start": 0.4786,
            "bin_end": 0.4842,
            "count": 0
           },
           {
            "bin_start": 0.4842,
            "bin_end": 0.4898,
            "count": 0
           },
           {
            "bin_start": 0.4898,
            "bin_end": 0.4954,
            "count": 0
           },
           {
            "bin_start": 0.4954,
            "bin_end": 0.501,
            "count": 1
           }
          ]
         }
        },
        {
         "name": "total_votes",
         "dtype": "int64",
         "stats": {
          "unique_count": 3,
          "nan_count": 0,
          "min": "3357",
          "max": "49100",
          "histogram": [
           {
            "bin_start": 3357,
            "bin_end": 7931.3,
            "count": 1
           },
           {
            "bin_start": 7931.3,
            "bin_end": 12505.6,
            "count": 1
           },
           {
            "bin_start": 12505.6,
            "bin_end": 17079.9,
            "count": 0
           },
           {
            "bin_start": 17079.9,
            "bin_end": 21654.2,
            "count": 0
           },
           {
            "bin_start": 21654.2,
            "bin_end": 26228.5,
            "count": 0
           },
           {
            "bin_start": 26228.5,
            "bin_end": 30802.800000000003,
            "count": 0
           },
           {
            "bin_start": 30802.800000000003,
            "bin_end": 35377.100000000006,
            "count": 0
           },
           {
            "bin_start": 35377.100000000006,
            "bin_end": 39951.4,
            "count": 0
           },
           {
            "bin_start": 39951.4,
            "bin_end": 44525.700000000004,
            "count": 0
           },
           {
            "bin_start": 44525.700000000004,
            "bin_end": 49100,
            "count": 1
           }
          ]
         }
        },
        {
         "name": "voter_turnout",
         "dtype": "float64",
         "stats": {
          "unique_count": 3,
          "nan_count": 0,
          "min": "0.1584465460729705",
          "max": "0.3153776646249249",
          "histogram": [
           {
            "bin_start": 0.1584465460729705,
            "bin_end": 0.17413965792816594,
            "count": 1
           },
           {
            "bin_start": 0.17413965792816594,
            "bin_end": 0.1898327697833614,
            "count": 0
           },
           {
            "bin_start": 0.1898327697833614,
            "bin_end": 0.20552588163855684,
            "count": 0
           },
           {
            "bin_start": 0.20552588163855684,
            "bin_end": 0.22121899349375226,
            "count": 0
           },
           {
            "bin_start": 0.22121899349375226,
            "bin_end": 0.2369121053489477,
            "count": 0
           },
           {
            "bin_start": 0.2369121053489477,
            "bin_end": 0.25260521720414314,
            "count": 0
           },
           {
            "bin_start": 0.25260521720414314,
            "bin_end": 0.2682983290593386,
            "count": 0
           },
           {
            "bin_start": 0.2682983290593386,
            "bin_end": 0.283991440914534,
            "count": 0
           },
           {
            "bin_start": 0.283991440914534,
            "bin_end": 0.2996845527697295,
            "count": 1
           },
           {
            "bin_start": 0.2996845527697295,
            "bin_end": 0.3153776646249249,
            "count": 1
           }
          ]
         }
        },
        {
         "name": "_deepnote_index_column",
         "dtype": "int64"
        }
       ],
       "rows_top": [
        {
         "st_abbrev": "AL",
         "fips": "01001",
         "population": 55395,
         "income": 53682,
         "hispanic": 2.7,
         "asian": 1.1,
         "black": 18.7,
         "white": 75.6,
         "foreign": 1.6,
         "college": 20.9,
         "density": 91.8,
         "vets": 5922,
         "female": 51.4,
         "senior": 13.8,
         "children": 25.2,
         "st_cnty": "AL_Autauga",
         "state": "Alabama",
         "winner": "Donald Trump",
         "votes": 5387,
         "fraction_votes": 0.445,
         "total_votes": 11839,
         "voter_turnout": 0.2857214569356778,
         "_deepnote_index_column": 0
        },
        {
         "st_abbrev": "AL",
         "fips": "01003",
         "population": 200111,
         "income": 50221,
         "hispanic": 4.6,
         "asian": 0.9,
         "black": 9.6,
         "white": 83,
         "foreign": 3.6,
         "college": 27.7,
         "density": 114.6,
         "vets": 19346,
         "female": 51.2,
         "senior": 18.7,
         "children": 22.2,
         "st_cnty": "AL_Baldwin",
         "state": "Alabama",
         "winner": "Donald Trump",
         "votes": 23618,
         "fraction_votes": 0.469,
         "total_votes": 49100,
         "voter_turnout": 0.3153776646249249,
         "_deepnote_index_column": 1
        },
        {
         "st_abbrev": "AL",
         "fips": "01005",
         "population": 26887,
         "income": 32911,
         "hispanic": 4.5,
         "asian": 0.5,
         "black": 47.6,
         "white": 46.6,
         "foreign": 2.9,
         "college": 13.4,
         "density": 31,
         "vets": 2120,
         "female": 46.6,
         "senior": 16.5,
         "children": 21.2,
         "st_cnty": "AL_Barbour",
         "state": "Alabama",
         "winner": "Donald Trump",
         "votes": 1710,
         "fraction_votes": 0.501,
         "total_votes": 3357,
         "voter_turnout": 0.1584465460729705,
         "_deepnote_index_column": 2
        }
       ],
       "rows_bottom": null
      },
      "text/plain": "  st_abbrev   fips  population  income  hispanic  asian  black  white  \\\n0        AL  01001       55395   53682       2.7    1.1   18.7   75.6   \n1        AL  01003      200111   50221       4.6    0.9    9.6   83.0   \n2        AL  01005       26887   32911       4.5    0.5   47.6   46.6   \n\n   foreign  college  ...  female  senior  children     st_cnty    state  \\\n0      1.6     20.9  ...    51.4    13.8      25.2  AL_Autauga  Alabama   \n1      3.6     27.7  ...    51.2    18.7      22.2  AL_Baldwin  Alabama   \n2      2.9     13.4  ...    46.6    16.5      21.2  AL_Barbour  Alabama   \n\n         winner  votes fraction_votes  total_votes  voter_turnout  \n0  Donald Trump   5387          0.445        11839       0.285721  \n1  Donald Trump  23618          0.469        49100       0.315378  \n2  Donald Trump   1710          0.501         3357       0.158447  \n\n[3 rows x 22 columns]",
      "text/html": "<div>\n<style scoped>\n    .dataframe tbody tr th:only-of-type {\n        vertical-align: middle;\n    }\n\n    .dataframe tbody tr th {\n        vertical-align: top;\n    }\n\n    .dataframe thead th {\n        text-align: right;\n    }\n</style>\n<table border=\"1\" class=\"dataframe\">\n  <thead>\n    <tr style=\"text-align: right;\">\n      <th></th>\n      <th>st_abbrev</th>\n      <th>fips</th>\n      <th>population</th>\n      <th>income</th>\n      <th>hispanic</th>\n      <th>asian</th>\n      <th>black</th>\n      <th>white</th>\n      <th>foreign</th>\n      <th>college</th>\n      <th>...</th>\n      <th>female</th>\n      <th>senior</th>\n      <th>children</th>\n      <th>st_cnty</th>\n      <th>state</th>\n      <th>winner</th>\n      <th>votes</th>\n      <th>fraction_votes</th>\n      <th>total_votes</th>\n      <th>voter_turnout</th>\n    </tr>\n  </thead>\n  <tbody>\n    <tr>\n      <th>0</th>\n      <td>AL</td>\n      <td>01001</td>\n      <td>55395</td>\n      <td>53682</td>\n      <td>2.7</td>\n      <td>1.1</td>\n      <td>18.7</td>\n      <td>75.6</td>\n      <td>1.6</td>\n      <td>20.9</td>\n      <td>...</td>\n      <td>51.4</td>\n      <td>13.8</td>\n      <td>25.2</td>\n      <td>AL_Autauga</td>\n      <td>Alabama</td>\n      <td>Donald Trump</td>\n      <td>5387</td>\n      <td>0.445</td>\n      <td>11839</td>\n      <td>0.285721</td>\n    </tr>\n    <tr>\n      <th>1</th>\n      <td>AL</td>\n      <td>01003</td>\n      <td>200111</td>\n      <td>50221</td>\n      <td>4.6</td>\n      <td>0.9</td>\n      <td>9.6</td>\n      <td>83.0</td>\n      <td>3.6</td>\n      <td>27.7</td>\n      <td>...</td>\n      <td>51.2</td>\n      <td>18.7</td>\n      <td>22.2</td>\n      <td>AL_Baldwin</td>\n      <td>Alabama</td>\n      <td>Donald Trump</td>\n      <td>23618</td>\n      <td>0.469</td>\n      <td>49100</td>\n      <td>0.315378</td>\n    </tr>\n    <tr>\n      <th>2</th>\n      <td>AL</td>\n      <td>01005</td>\n      <td>26887</td>\n      <td>32911</td>\n      <td>4.5</td>\n      <td>0.5</td>\n      <td>47.6</td>\n      <td>46.6</td>\n      <td>2.9</td>\n      <td>13.4</td>\n      <td>...</td>\n      <td>46.6</td>\n      <td>16.5</td>\n      <td>21.2</td>\n      <td>AL_Barbour</td>\n      <td>Alabama</td>\n      <td>Donald Trump</td>\n      <td>1710</td>\n      <td>0.501</td>\n      <td>3357</td>\n      <td>0.158447</td>\n    </tr>\n  </tbody>\n</table>\n<p>3 rows × 22 columns</p>\n</div>"
     },
     "metadata": {}
    }
   ]
  },
  {
   "cell_type": "code",
   "metadata": {
    "tags": [],
    "deepnote_to_be_reexecuted": false,
    "source_hash": "8a396fc8",
    "cell_id": "00118-f823ce66-e2e9-49d1-9fe3-4f3637b33885",
    "execution_start": 1633286663950,
    "execution_millis": 56,
    "deepnote_cell_type": "code"
   },
   "source": "# Rows 3 through 6\nrep.iloc[3:7]",
   "execution_count": 8,
   "outputs": [
    {
     "output_type": "execute_result",
     "execution_count": 8,
     "data": {
      "application/vnd.deepnote.dataframe.v2+json": {
       "row_count": 4,
       "column_count": 22,
       "columns": [
        {
         "name": "st_abbrev",
         "dtype": "object",
         "stats": {
          "unique_count": 1,
          "nan_count": 0,
          "categories": [
           {
            "name": "AL",
            "count": 4
           }
          ]
         }
        },
        {
         "name": "fips",
         "dtype": "object",
         "stats": {
          "unique_count": 4,
          "nan_count": 0,
          "categories": [
           {
            "name": "01007",
            "count": 1
           },
           {
            "name": "01009",
            "count": 1
           },
           {
            "name": "2 others",
            "count": 2
           }
          ]
         }
        },
        {
         "name": "population",
         "dtype": "int64",
         "stats": {
          "unique_count": 4,
          "nan_count": 0,
          "min": "20296",
          "max": "115916",
          "histogram": [
           {
            "bin_start": 20296,
            "bin_end": 29858,
            "count": 2
           },
           {
            "bin_start": 29858,
            "bin_end": 39420,
            "count": 0
           },
           {
            "bin_start": 39420,
            "bin_end": 48982,
            "count": 0
           },
           {
            "bin_start": 48982,
            "bin_end": 58544,
            "count": 1
           },
           {
            "bin_start": 58544,
            "bin_end": 68106,
            "count": 0
           },
           {
            "bin_start": 68106,
            "bin_end": 77668,
            "count": 0
           },
           {
            "bin_start": 77668,
            "bin_end": 87230,
            "count": 0
           },
           {
            "bin_start": 87230,
            "bin_end": 96792,
            "count": 0
           },
           {
            "bin_start": 96792,
            "bin_end": 106354,
            "count": 0
           },
           {
            "bin_start": 106354,
            "bin_end": 115916,
            "count": 1
           }
          ]
         }
        },
        {
         "name": "income",
         "dtype": "int64",
         "stats": {
          "unique_count": 4,
          "nan_count": 0,
          "min": "29918",
          "max": "44145",
          "histogram": [
           {
            "bin_start": 29918,
            "bin_end": 31340.7,
            "count": 1
           },
           {
            "bin_start": 31340.7,
            "bin_end": 32763.4,
            "count": 0
           },
           {
            "bin_start": 32763.4,
            "bin_end": 34186.1,
            "count": 0
           },
           {
            "bin_start": 34186.1,
            "bin_end": 35608.8,
            "count": 0
           },
           {
            "bin_start": 35608.8,
            "bin_end": 37031.5,
            "count": 1
           },
           {
            "bin_start": 37031.5,
            "bin_end": 38454.2,
            "count": 0
           },
           {
            "bin_start": 38454.2,
            "bin_end": 39876.9,
            "count": 0
           },
           {
            "bin_start": 39876.9,
            "bin_end": 41299.6,
            "count": 1
           },
           {
            "bin_start": 41299.6,
            "bin_end": 42722.3,
            "count": 0
           },
           {
            "bin_start": 42722.3,
            "bin_end": 44145,
            "count": 1
           }
          ]
         }
        },
        {
         "name": "hispanic",
         "dtype": "float64",
         "stats": {
          "unique_count": 4,
          "nan_count": 0,
          "min": "1.2",
          "max": "8.7",
          "histogram": [
           {
            "bin_start": 1.2,
            "bin_end": 1.9499999999999997,
            "count": 1
           },
           {
            "bin_start": 1.9499999999999997,
            "bin_end": 2.6999999999999997,
            "count": 1
           },
           {
            "bin_start": 2.6999999999999997,
            "bin_end": 3.4499999999999993,
            "count": 0
           },
           {
            "bin_start": 3.4499999999999993,
            "bin_end": 4.199999999999999,
            "count": 1
           },
           {
            "bin_start": 4.199999999999999,
            "bin_end": 4.949999999999999,
            "count": 0
           },
           {
            "bin_start": 4.949999999999999,
            "bin_end": 5.699999999999999,
            "count": 0
           },
           {
            "bin_start": 5.699999999999999,
            "bin_end": 6.449999999999999,
            "count": 0
           },
           {
            "bin_start": 6.449999999999999,
            "bin_end": 7.199999999999999,
            "count": 0
           },
           {
            "bin_start": 7.199999999999999,
            "bin_end": 7.949999999999999,
            "count": 0
           },
           {
            "bin_start": 7.949999999999999,
            "bin_end": 8.7,
            "count": 1
           }
          ]
         }
        },
        {
         "name": "asian",
         "dtype": "float64",
         "stats": {
          "unique_count": 3,
          "nan_count": 0,
          "min": "0.2",
          "max": "0.9",
          "histogram": [
           {
            "bin_start": 0.2,
            "bin_end": 0.27,
            "count": 1
           },
           {
            "bin_start": 0.27,
            "bin_end": 0.33999999999999997,
            "count": 1
           },
           {
            "bin_start": 0.33999999999999997,
            "bin_end": 0.41,
            "count": 0
           },
           {
            "bin_start": 0.41,
            "bin_end": 0.48,
            "count": 0
           },
           {
            "bin_start": 0.48,
            "bin_end": 0.55,
            "count": 0
           },
           {
            "bin_start": 0.55,
            "bin_end": 0.6199999999999999,
            "count": 0
           },
           {
            "bin_start": 0.6199999999999999,
            "bin_end": 0.69,
            "count": 0
           },
           {
            "bin_start": 0.69,
            "bin_end": 0.76,
            "count": 0
           },
           {
            "bin_start": 0.76,
            "bin_end": 0.8299999999999998,
            "count": 0
           },
           {
            "bin_start": 0.8299999999999998,
            "bin_end": 0.9,
            "count": 2
           }
          ]
         }
        },
        {
         "name": "black",
         "dtype": "float64",
         "stats": {
          "unique_count": 4,
          "nan_count": 0,
          "min": "1.8",
          "max": "44.0",
          "histogram": [
           {
            "bin_start": 1.8,
            "bin_end": 6.0200000000000005,
            "count": 1
           },
           {
            "bin_start": 6.0200000000000005,
            "bin_end": 10.240000000000002,
            "count": 0
           },
           {
            "bin_start": 10.240000000000002,
            "bin_end": 14.460000000000003,
            "count": 0
           },
           {
            "bin_start": 14.460000000000003,
            "bin_end": 18.680000000000003,
            "count": 0
           },
           {
            "bin_start": 18.680000000000003,
            "bin_end": 22.900000000000002,
            "count": 2
           },
           {
            "bin_start": 22.900000000000002,
            "bin_end": 27.120000000000005,
            "count": 0
           },
           {
            "bin_start": 27.120000000000005,
            "bin_end": 31.340000000000007,
            "count": 0
           },
           {
            "bin_start": 31.340000000000007,
            "bin_end": 35.56,
            "count": 0
           },
           {
            "bin_start": 35.56,
            "bin_end": 39.78,
            "count": 0
           },
           {
            "bin_start": 39.78,
            "bin_end": 44,
            "count": 1
           }
          ]
         }
        },
        {
         "name": "white",
         "dtype": "float64",
         "stats": {
          "unique_count": 4,
          "nan_count": 0,
          "min": "53.1",
          "max": "87.8",
          "histogram": [
           {
            "bin_start": 53.1,
            "bin_end": 56.57,
            "count": 1
           },
           {
            "bin_start": 56.57,
            "bin_end": 60.04,
            "count": 0
           },
           {
            "bin_start": 60.04,
            "bin_end": 63.510000000000005,
            "count": 0
           },
           {
            "bin_start": 63.510000000000005,
            "bin_end": 66.98,
            "count": 0
           },
           {
            "bin_start": 66.98,
            "bin_end": 70.45,
            "count": 0
           },
           {
            "bin_start": 70.45,
            "bin_end": 73.92,
            "count": 1
           },
           {
            "bin_start": 73.92,
            "bin_end": 77.39,
            "count": 1
           },
           {
            "bin_start": 77.39,
            "bin_end": 80.86,
            "count": 0
           },
           {
            "bin_start": 80.86,
            "bin_end": 84.33,
            "count": 0
           },
           {
            "bin_start": 84.33,
            "bin_end": 87.8,
            "count": 1
           }
          ]
         }
        },
        {
         "name": "foreign",
         "dtype": "float64",
         "stats": {
          "unique_count": 4,
          "nan_count": 0,
          "min": "0.8",
          "max": "4.3",
          "histogram": [
           {
            "bin_start": 0.8,
            "bin_end": 1.15,
            "count": 1
           },
           {
            "bin_start": 1.15,
            "bin_end": 1.5,
            "count": 1
           },
           {
            "bin_start": 1.5,
            "bin_end": 1.8499999999999999,
            "count": 0
           },
           {
            "bin_start": 1.8499999999999999,
            "bin_end": 2.2,
            "count": 0
           },
           {
            "bin_start": 2.2,
            "bin_end": 2.55,
            "count": 1
           },
           {
            "bin_start": 2.55,
            "bin_end": 2.8999999999999995,
            "count": 0
           },
           {
            "bin_start": 2.8999999999999995,
            "bin_end": 3.25,
            "count": 0
           },
           {
            "bin_start": 3.25,
            "bin_end": 3.5999999999999996,
            "count": 0
           },
           {
            "bin_start": 3.5999999999999996,
            "bin_end": 3.95,
            "count": 0
           },
           {
            "bin_start": 3.95,
            "bin_end": 4.3,
            "count": 1
           }
          ]
         }
        },
        {
         "name": "college",
         "dtype": "float64",
         "stats": {
          "unique_count": 3,
          "nan_count": 0,
          "min": "12.1",
          "max": "16.1",
          "histogram": [
           {
            "bin_start": 12.1,
            "bin_end": 12.5,
            "count": 2
           },
           {
            "bin_start": 12.5,
            "bin_end": 12.9,
            "count": 0
           },
           {
            "bin_start": 12.9,
            "bin_end": 13.3,
            "count": 0
           },
           {
            "bin_start": 13.3,
            "bin_end": 13.700000000000001,
            "count": 0
           },
           {
            "bin_start": 13.700000000000001,
            "bin_end": 14.100000000000001,
            "count": 1
           },
           {
            "bin_start": 14.100000000000001,
            "bin_end": 14.5,
            "count": 0
           },
           {
            "bin_start": 14.5,
            "bin_end": 14.9,
            "count": 0
           },
           {
            "bin_start": 14.9,
            "bin_end": 15.3,
            "count": 0
           },
           {
            "bin_start": 15.3,
            "bin_end": 15.700000000000001,
            "count": 0
           },
           {
            "bin_start": 15.700000000000001,
            "bin_end": 16.1,
            "count": 1
           }
          ]
         }
        },
        {
         "name": "density",
         "dtype": "float64",
         "stats": {
          "unique_count": 4,
          "nan_count": 0,
          "min": "27.0",
          "max": "195.7",
          "histogram": [
           {
            "bin_start": 27,
            "bin_end": 43.87,
            "count": 2
           },
           {
            "bin_start": 43.87,
            "bin_end": 60.739999999999995,
            "count": 0
           },
           {
            "bin_start": 60.739999999999995,
            "bin_end": 77.60999999999999,
            "count": 0
           },
           {
            "bin_start": 77.60999999999999,
            "bin_end": 94.47999999999999,
            "count": 1
           },
           {
            "bin_start": 94.47999999999999,
            "bin_end": 111.35,
            "count": 0
           },
           {
            "bin_start": 111.35,
            "bin_end": 128.21999999999997,
            "count": 0
           },
           {
            "bin_start": 128.21999999999997,
            "bin_end": 145.08999999999997,
            "count": 0
           },
           {
            "bin_start": 145.08999999999997,
            "bin_end": 161.95999999999998,
            "count": 0
           },
           {
            "bin_start": 161.95999999999998,
            "bin_end": 178.82999999999998,
            "count": 0
           },
           {
            "bin_start": 178.82999999999998,
            "bin_end": 195.7,
            "count": 1
           }
          ]
         }
        },
        {
         "name": "vets",
         "dtype": "int64",
         "stats": {
          "unique_count": 4,
          "nan_count": 0,
          "min": "1327",
          "max": "11385",
          "histogram": [
           {
            "bin_start": 1327,
            "bin_end": 2332.8,
            "count": 2
           },
           {
            "bin_start": 2332.8,
            "bin_end": 3338.6,
            "count": 0
           },
           {
            "bin_start": 3338.6,
            "bin_end": 4344.4,
            "count": 0
           },
           {
            "bin_start": 4344.4,
            "bin_end": 5350.2,
            "count": 1
           },
           {
            "bin_start": 5350.2,
            "bin_end": 6356,
            "count": 0
           },
           {
            "bin_start": 6356,
            "bin_end": 7361.799999999999,
            "count": 0
           },
           {
            "bin_start": 7361.799999999999,
            "bin_end": 8367.599999999999,
            "count": 0
           },
           {
            "bin_start": 8367.599999999999,
            "bin_end": 9373.4,
            "count": 0
           },
           {
            "bin_start": 9373.4,
            "bin_end": 10379.199999999999,
            "count": 0
           },
           {
            "bin_start": 10379.199999999999,
            "bin_end": 11385,
            "count": 1
           }
          ]
         }
        },
        {
         "name": "female",
         "dtype": "float64",
         "stats": {
          "unique_count": 4,
          "nan_count": 0,
          "min": "45.9",
          "max": "53.6",
          "histogram": [
           {
            "bin_start": 45.9,
            "bin_end": 46.67,
            "count": 1
           },
           {
            "bin_start": 46.67,
            "bin_end": 47.44,
            "count": 0
           },
           {
            "bin_start": 47.44,
            "bin_end": 48.21,
            "count": 0
           },
           {
            "bin_start": 48.21,
            "bin_end": 48.98,
            "count": 0
           },
           {
            "bin_start": 48.98,
            "bin_end": 49.75,
            "count": 0
           },
           {
            "bin_start": 49.75,
            "bin_end": 50.519999999999996,
            "count": 1
           },
           {
            "bin_start": 50.519999999999996,
            "bin_end": 51.29,
            "count": 0
           },
           {
            "bin_start": 51.29,
            "bin_end": 52.06,
            "count": 1
           },
           {
            "bin_start": 52.06,
            "bin_end": 52.83,
            "count": 0
           },
           {
            "bin_start": 52.83,
            "bin_end": 53.6,
            "count": 1
           }
          ]
         }
        },
        {
         "name": "senior",
         "dtype": "float64",
         "stats": {
          "unique_count": 4,
          "nan_count": 0,
          "min": "14.8",
          "max": "18.0",
          "histogram": [
           {
            "bin_start": 14.8,
            "bin_end": 15.120000000000001,
            "count": 1
           },
           {
            "bin_start": 15.120000000000001,
            "bin_end": 15.440000000000001,
            "count": 0
           },
           {
            "bin_start": 15.440000000000001,
            "bin_end": 15.76,
            "count": 0
           },
           {
            "bin_start": 15.76,
            "bin_end": 16.080000000000002,
            "count": 1
           },
           {
            "bin_start": 16.080000000000002,
            "bin_end": 16.4,
            "count": 0
           },
           {
            "bin_start": 16.4,
            "bin_end": 16.72,
            "count": 0
           },
           {
            "bin_start": 16.72,
            "bin_end": 17.04,
            "count": 1
           },
           {
            "bin_start": 17.04,
            "bin_end": 17.36,
            "count": 0
           },
           {
            "bin_start": 17.36,
            "bin_end": 17.68,
            "count": 0
           },
           {
            "bin_start": 17.68,
            "bin_end": 18,
            "count": 1
           }
          ]
         }
        },
        {
         "name": "children",
         "dtype": "float64",
         "stats": {
          "unique_count": 3,
          "nan_count": 0,
          "min": "21.0",
          "max": "23.6",
          "histogram": [
           {
            "bin_start": 21,
            "bin_end": 21.26,
            "count": 1
           },
           {
            "bin_start": 21.26,
            "bin_end": 21.52,
            "count": 0
           },
           {
            "bin_start": 21.52,
            "bin_end": 21.78,
            "count": 0
           },
           {
            "bin_start": 21.78,
            "bin_end": 22.04,
            "count": 0
           },
           {
            "bin_start": 22.04,
            "bin_end": 22.3,
            "count": 1
           },
           {
            "bin_start": 22.3,
            "bin_end": 22.560000000000002,
            "count": 0
           },
           {
            "bin_start": 22.560000000000002,
            "bin_end": 22.82,
            "count": 0
           },
           {
            "bin_start": 22.82,
            "bin_end": 23.080000000000002,
            "count": 0
           },
           {
            "bin_start": 23.080000000000002,
            "bin_end": 23.34,
            "count": 0
           },
           {
            "bin_start": 23.34,
            "bin_end": 23.6,
            "count": 2
           }
          ]
         }
        },
        {
         "name": "st_cnty",
         "dtype": "object",
         "stats": {
          "unique_count": 4,
          "nan_count": 0,
          "categories": [
           {
            "name": "AL_Bibb",
            "count": 1
           },
           {
            "name": "AL_Blount",
            "count": 1
           },
           {
            "name": "2 others",
            "count": 2
           }
          ]
         }
        },
        {
         "name": "state",
         "dtype": "object",
         "stats": {
          "unique_count": 1,
          "nan_count": 0,
          "categories": [
           {
            "name": "Alabama",
            "count": 4
           }
          ]
         }
        },
        {
         "name": "winner",
         "dtype": "object",
         "stats": {
          "unique_count": 1,
          "nan_count": 0,
          "categories": [
           {
            "name": "Donald Trump",
            "count": 4
           }
          ]
         }
        },
        {
         "name": "votes",
         "dtype": "int64",
         "stats": {
          "unique_count": 4,
          "nan_count": 0,
          "min": "1720",
          "max": "8960",
          "histogram": [
           {
            "bin_start": 1720,
            "bin_end": 2444,
            "count": 2
           },
           {
            "bin_start": 2444,
            "bin_end": 3168,
            "count": 0
           },
           {
            "bin_start": 3168,
            "bin_end": 3892,
            "count": 0
           },
           {
            "bin_start": 3892,
            "bin_end": 4616,
            "count": 0
           },
           {
            "bin_start": 4616,
            "bin_end": 5340,
            "count": 0
           },
           {
            "bin_start": 5340,
            "bin_end": 6064,
            "count": 0
           },
           {
            "bin_start": 6064,
            "bin_end": 6788,
            "count": 0
           },
           {
            "bin_start": 6788,
            "bin_end": 7512,
            "count": 1
           },
           {
            "bin_start": 7512,
            "bin_end": 8236,
            "count": 0
           },
           {
            "bin_start": 8236,
            "bin_end": 8960,
            "count": 1
           }
          ]
         }
        },
        {
         "name": "fraction_votes",
         "dtype": "float64",
         "stats": {
          "unique_count": 4,
          "nan_count": 0,
          "min": "0.451",
          "max": "0.5379999999999999",
          "histogram": [
           {
            "bin_start": 0.451,
            "bin_end": 0.4597,
            "count": 1
           },
           {
            "bin_start": 0.4597,
            "bin_end": 0.4684,
            "count": 0
           },
           {
            "bin_start": 0.4684,
            "bin_end": 0.47709999999999997,
            "count": 0
           },
           {
            "bin_start": 0.47709999999999997,
            "bin_end": 0.48579999999999995,
            "count": 0
           },
           {
            "bin_start": 0.48579999999999995,
            "bin_end": 0.49449999999999994,
            "count": 2
           },
           {
            "bin_start": 0.49449999999999994,
            "bin_end": 0.5032,
            "count": 0
           },
           {
            "bin_start": 0.5032,
            "bin_end": 0.5118999999999999,
            "count": 0
           },
           {
            "bin_start": 0.5118999999999999,
            "bin_end": 0.5206,
            "count": 0
           },
           {
            "bin_start": 0.5206,
            "bin_end": 0.5292999999999999,
            "count": 0
           },
           {
            "bin_start": 0.5292999999999999,
            "bin_end": 0.5379999999999999,
            "count": 1
           }
          ]
         }
        },
        {
         "name": "total_votes",
         "dtype": "int64",
         "stats": {
          "unique_count": 4,
          "nan_count": 0,
          "min": "3144",
          "max": "19377",
          "histogram": [
           {
            "bin_start": 3144,
            "bin_end": 4767.3,
            "count": 2
           },
           {
            "bin_start": 4767.3,
            "bin_end": 6390.6,
            "count": 0
           },
           {
            "bin_start": 6390.6,
            "bin_end": 8013.9,
            "count": 0
           },
           {
            "bin_start": 8013.9,
            "bin_end": 9637.2,
            "count": 0
           },
           {
            "bin_start": 9637.2,
            "bin_end": 11260.5,
            "count": 0
           },
           {
            "bin_start": 11260.5,
            "bin_end": 12883.8,
            "count": 0
           },
           {
            "bin_start": 12883.8,
            "bin_end": 14507.1,
            "count": 0
           },
           {
            "bin_start": 14507.1,
            "bin_end": 16130.4,
            "count": 1
           },
           {
            "bin_start": 16130.4,
            "bin_end": 17753.699999999997,
            "count": 0
           },
           {
            "bin_start": 17753.699999999997,
            "bin_end": 19377,
            "count": 1
           }
          ]
         }
        },
        {
         "name": "voter_turnout",
         "dtype": "float64",
         "stats": {
          "unique_count": 4,
          "nan_count": 0,
          "min": "0.2027583388881207",
          "max": "0.3354172394528502",
          "histogram": [
           {
            "bin_start": 0.2027583388881207,
            "bin_end": 0.21602422894459364,
            "count": 2
           },
           {
            "bin_start": 0.21602422894459364,
            "bin_end": 0.2292901190010666,
            "count": 1
           },
           {
            "bin_start": 0.2292901190010666,
            "bin_end": 0.24255600905753955,
            "count": 0
           },
           {
            "bin_start": 0.24255600905753955,
            "bin_end": 0.2558218991140125,
            "count": 0
           },
           {
            "bin_start": 0.2558218991140125,
            "bin_end": 0.2690877891704854,
            "count": 0
           },
           {
            "bin_start": 0.2690877891704854,
            "bin_end": 0.2823536792269584,
            "count": 0
           },
           {
            "bin_start": 0.2823536792269584,
            "bin_end": 0.29561956928343136,
            "count": 0
           },
           {
            "bin_start": 0.29561956928343136,
            "bin_end": 0.3088854593399043,
            "count": 0
           },
           {
            "bin_start": 0.3088854593399043,
            "bin_end": 0.32215134939637724,
            "count": 0
           },
           {
            "bin_start": 0.32215134939637724,
            "bin_end": 0.3354172394528502,
            "count": 1
           }
          ]
         }
        },
        {
         "name": "_deepnote_index_column",
         "dtype": "int64"
        }
       ],
       "rows_top": [
        {
         "st_abbrev": "AL",
         "fips": "01007",
         "population": 22506,
         "income": 36447,
         "hispanic": 2.1,
         "asian": 0.2,
         "black": 22.1,
         "white": 74.5,
         "foreign": 1.2,
         "college": 12.1,
         "density": 36.8,
         "vets": 1327,
         "female": 45.9,
         "senior": 14.8,
         "children": 21,
         "st_cnty": "AL_Bibb",
         "state": "Alabama",
         "winner": "Donald Trump",
         "votes": 1959,
         "fraction_votes": 0.494,
         "total_votes": 3891,
         "voter_turnout": 0.2188445950278238,
         "_deepnote_index_column": 3
        },
        {
         "st_abbrev": "AL",
         "fips": "01009",
         "population": 57719,
         "income": 44145,
         "hispanic": 8.7,
         "asian": 0.3,
         "black": 1.8,
         "white": 87.8,
         "foreign": 4.3,
         "college": 12.1,
         "density": 88.9,
         "vets": 4540,
         "female": 50.5,
         "senior": 17,
         "children": 23.6,
         "st_cnty": "AL_Blount",
         "state": "Alabama",
         "winner": "Donald Trump",
         "votes": 7390,
         "fraction_votes": 0.487,
         "total_votes": 14791,
         "voter_turnout": 0.3354172394528502,
         "_deepnote_index_column": 4
        },
        {
         "st_abbrev": "AL",
         "fips": "01013",
         "population": 20296,
         "income": 29918,
         "hispanic": 1.2,
         "asian": 0.9,
         "black": 44,
         "white": 53.1,
         "foreign": 0.8,
         "college": 14,
         "density": 27,
         "vets": 1497,
         "female": 53.6,
         "senior": 18,
         "children": 23.6,
         "st_cnty": "AL_Butler",
         "state": "Alabama",
         "winner": "Donald Trump",
         "votes": 1720,
         "fraction_votes": 0.5379999999999999,
         "total_votes": 3144,
         "voter_turnout": 0.2027583388881207,
         "_deepnote_index_column": 5
        },
        {
         "st_abbrev": "AL",
         "fips": "01015",
         "population": 115916,
         "income": 39962,
         "hispanic": 3.5,
         "asian": 0.9,
         "black": 21.1,
         "white": 72.9,
         "foreign": 2.4,
         "college": 16.1,
         "density": 195.7,
         "vets": 11385,
         "female": 51.8,
         "senior": 16,
         "children": 22.2,
         "st_cnty": "AL_Calhoun",
         "state": "Alabama",
         "winner": "Donald Trump",
         "votes": 8960,
         "fraction_votes": 0.451,
         "total_votes": 19377,
         "voter_turnout": 0.2148639503244571,
         "_deepnote_index_column": 6
        }
       ],
       "rows_bottom": null
      },
      "text/plain": "  st_abbrev   fips  population  income  hispanic  asian  black  white  \\\n3        AL  01007       22506   36447       2.1    0.2   22.1   74.5   \n4        AL  01009       57719   44145       8.7    0.3    1.8   87.8   \n5        AL  01013       20296   29918       1.2    0.9   44.0   53.1   \n6        AL  01015      115916   39962       3.5    0.9   21.1   72.9   \n\n   foreign  college  ...  female  senior  children     st_cnty    state  \\\n3      1.2     12.1  ...    45.9    14.8      21.0     AL_Bibb  Alabama   \n4      4.3     12.1  ...    50.5    17.0      23.6   AL_Blount  Alabama   \n5      0.8     14.0  ...    53.6    18.0      23.6   AL_Butler  Alabama   \n6      2.4     16.1  ...    51.8    16.0      22.2  AL_Calhoun  Alabama   \n\n         winner votes fraction_votes  total_votes  voter_turnout  \n3  Donald Trump  1959          0.494         3891       0.218845  \n4  Donald Trump  7390          0.487        14791       0.335417  \n5  Donald Trump  1720          0.538         3144       0.202758  \n6  Donald Trump  8960          0.451        19377       0.214864  \n\n[4 rows x 22 columns]",
      "text/html": "<div>\n<style scoped>\n    .dataframe tbody tr th:only-of-type {\n        vertical-align: middle;\n    }\n\n    .dataframe tbody tr th {\n        vertical-align: top;\n    }\n\n    .dataframe thead th {\n        text-align: right;\n    }\n</style>\n<table border=\"1\" class=\"dataframe\">\n  <thead>\n    <tr style=\"text-align: right;\">\n      <th></th>\n      <th>st_abbrev</th>\n      <th>fips</th>\n      <th>population</th>\n      <th>income</th>\n      <th>hispanic</th>\n      <th>asian</th>\n      <th>black</th>\n      <th>white</th>\n      <th>foreign</th>\n      <th>college</th>\n      <th>...</th>\n      <th>female</th>\n      <th>senior</th>\n      <th>children</th>\n      <th>st_cnty</th>\n      <th>state</th>\n      <th>winner</th>\n      <th>votes</th>\n      <th>fraction_votes</th>\n      <th>total_votes</th>\n      <th>voter_turnout</th>\n    </tr>\n  </thead>\n  <tbody>\n    <tr>\n      <th>3</th>\n      <td>AL</td>\n      <td>01007</td>\n      <td>22506</td>\n      <td>36447</td>\n      <td>2.1</td>\n      <td>0.2</td>\n      <td>22.1</td>\n      <td>74.5</td>\n      <td>1.2</td>\n      <td>12.1</td>\n      <td>...</td>\n      <td>45.9</td>\n      <td>14.8</td>\n      <td>21.0</td>\n      <td>AL_Bibb</td>\n      <td>Alabama</td>\n      <td>Donald Trump</td>\n      <td>1959</td>\n      <td>0.494</td>\n      <td>3891</td>\n      <td>0.218845</td>\n    </tr>\n    <tr>\n      <th>4</th>\n      <td>AL</td>\n      <td>01009</td>\n      <td>57719</td>\n      <td>44145</td>\n      <td>8.7</td>\n      <td>0.3</td>\n      <td>1.8</td>\n      <td>87.8</td>\n      <td>4.3</td>\n      <td>12.1</td>\n      <td>...</td>\n      <td>50.5</td>\n      <td>17.0</td>\n      <td>23.6</td>\n      <td>AL_Blount</td>\n      <td>Alabama</td>\n      <td>Donald Trump</td>\n      <td>7390</td>\n      <td>0.487</td>\n      <td>14791</td>\n      <td>0.335417</td>\n    </tr>\n    <tr>\n      <th>5</th>\n      <td>AL</td>\n      <td>01013</td>\n      <td>20296</td>\n      <td>29918</td>\n      <td>1.2</td>\n      <td>0.9</td>\n      <td>44.0</td>\n      <td>53.1</td>\n      <td>0.8</td>\n      <td>14.0</td>\n      <td>...</td>\n      <td>53.6</td>\n      <td>18.0</td>\n      <td>23.6</td>\n      <td>AL_Butler</td>\n      <td>Alabama</td>\n      <td>Donald Trump</td>\n      <td>1720</td>\n      <td>0.538</td>\n      <td>3144</td>\n      <td>0.202758</td>\n    </tr>\n    <tr>\n      <th>6</th>\n      <td>AL</td>\n      <td>01015</td>\n      <td>115916</td>\n      <td>39962</td>\n      <td>3.5</td>\n      <td>0.9</td>\n      <td>21.1</td>\n      <td>72.9</td>\n      <td>2.4</td>\n      <td>16.1</td>\n      <td>...</td>\n      <td>51.8</td>\n      <td>16.0</td>\n      <td>22.2</td>\n      <td>AL_Calhoun</td>\n      <td>Alabama</td>\n      <td>Donald Trump</td>\n      <td>8960</td>\n      <td>0.451</td>\n      <td>19377</td>\n      <td>0.214864</td>\n    </tr>\n  </tbody>\n</table>\n<p>4 rows × 22 columns</p>\n</div>"
     },
     "metadata": {}
    }
   ]
  },
  {
   "cell_type": "markdown",
   "source": "The `iloc` function accesses and returns groups of rows by index integers. Remember, Python is 0-indexed so if you want to access the nth row, you access the (n-1)th index.\n\n>**Your turn:**  \nGet the 10th row of the `rep` dataframe.",
   "metadata": {
    "tags": [],
    "cell_id": "00119-3b1d9205-3cdb-4094-9961-2eadf2ead090",
    "deepnote_cell_type": "markdown"
   }
  },
  {
   "cell_type": "code",
   "metadata": {
    "tags": [],
    "deepnote_to_be_reexecuted": false,
    "source_hash": "8814b3f4",
    "execution_millis": 0,
    "cell_id": "00120-3ff5c058-7fa9-4130-949e-268706484565",
    "execution_start": 1633286664048,
    "deepnote_cell_type": "code"
   },
   "source": "### Enter your code below: ###\n\n\n\n##############################",
   "execution_count": 9,
   "outputs": []
  },
  {
   "cell_type": "code",
   "metadata": {
    "tags": [],
    "is_code_hidden": true,
    "deepnote_to_be_reexecuted": false,
    "source_hash": "73bdd8a1",
    "execution_millis": 1,
    "cell_id": "00121-de7b1fa9-871f-4db3-bf94-67a1da731299",
    "execution_start": 1633286664048,
    "deepnote_cell_type": "code"
   },
   "source": "# Solution\n\n# rep.iloc[9]",
   "execution_count": 10,
   "outputs": []
  },
  {
   "cell_type": "markdown",
   "source": "## Selecting Observations based on Conditions\n\n<p style='font-size:20px'>...and more plotting options!</p>",
   "metadata": {
    "tags": [],
    "cell_id": "00122-65f98bdd-79d3-41f9-9ce7-9a32b963713c",
    "deepnote_cell_type": "markdown"
   }
  },
  {
   "cell_type": "markdown",
   "source": "We can select rows based on a condition. Let's say we only wanted to view counties with an income of less than $30,000. We can do this by utilizing brackets `[]` to filter rows that meet this requirement.",
   "metadata": {
    "tags": [],
    "cell_id": "00123-bec87c7f-f4f4-45b5-98a6-5c348780bf1a",
    "deepnote_cell_type": "markdown"
   }
  },
  {
   "cell_type": "code",
   "metadata": {
    "tags": [],
    "deepnote_to_be_reexecuted": false,
    "source_hash": "143d5875",
    "execution_millis": 118,
    "output_cleared": false,
    "cell_id": "00124-bff3f0a1-6c42-4500-b2f7-0b0866d2a9ee",
    "execution_start": 1633286664049,
    "deepnote_cell_type": "code"
   },
   "source": "# Run this cell!\nrep[rep['income'] < 30000]",
   "execution_count": 11,
   "outputs": [
    {
     "output_type": "execute_result",
     "execution_count": 11,
     "data": {
      "application/vnd.deepnote.dataframe.v2+json": {
       "row_count": 62,
       "column_count": 22,
       "columns": [
        {
         "name": "st_abbrev",
         "dtype": "object",
         "stats": {
          "unique_count": 15,
          "nan_count": 0,
          "categories": [
           {
            "name": "KY",
            "count": 13
           },
           {
            "name": "MS",
            "count": 11
           },
           {
            "name": "13 others",
            "count": 38
           }
          ]
         }
        },
        {
         "name": "fips",
         "dtype": "object",
         "stats": {
          "unique_count": 62,
          "nan_count": 0,
          "categories": [
           {
            "name": "01013",
            "count": 1
           },
           {
            "name": "01025",
            "count": 1
           },
           {
            "name": "60 others",
            "count": 60
           }
          ]
         }
        },
        {
         "name": "population",
         "dtype": "int64",
         "stats": {
          "unique_count": 62,
          "nan_count": 0,
          "min": "7765",
          "max": "48958",
          "histogram": [
           {
            "bin_start": 7765,
            "bin_end": 11884.3,
            "count": 13
           },
           {
            "bin_start": 11884.3,
            "bin_end": 16003.6,
            "count": 10
           },
           {
            "bin_start": 16003.6,
            "bin_end": 20122.9,
            "count": 10
           },
           {
            "bin_start": 20122.9,
            "bin_end": 24242.2,
            "count": 10
           },
           {
            "bin_start": 24242.2,
            "bin_end": 28361.5,
            "count": 9
           },
           {
            "bin_start": 28361.5,
            "bin_end": 32480.800000000003,
            "count": 5
           },
           {
            "bin_start": 32480.800000000003,
            "bin_end": 36600.100000000006,
            "count": 4
           },
           {
            "bin_start": 36600.100000000006,
            "bin_end": 40719.4,
            "count": 0
           },
           {
            "bin_start": 40719.4,
            "bin_end": 44838.700000000004,
            "count": 0
           },
           {
            "bin_start": 44838.700000000004,
            "bin_end": 48958,
            "count": 1
           }
          ]
         }
        },
        {
         "name": "income",
         "dtype": "int64",
         "stats": {
          "unique_count": 62,
          "nan_count": 0,
          "min": "20972",
          "max": "29934",
          "histogram": [
           {
            "bin_start": 20972,
            "bin_end": 21868.2,
            "count": 1
           },
           {
            "bin_start": 21868.2,
            "bin_end": 22764.4,
            "count": 1
           },
           {
            "bin_start": 22764.4,
            "bin_end": 23660.6,
            "count": 0
           },
           {
            "bin_start": 23660.6,
            "bin_end": 24556.8,
            "count": 2
           },
           {
            "bin_start": 24556.8,
            "bin_end": 25453,
            "count": 1
           },
           {
            "bin_start": 25453,
            "bin_end": 26349.2,
            "count": 4
           },
           {
            "bin_start": 26349.2,
            "bin_end": 27245.4,
            "count": 6
           },
           {
            "bin_start": 27245.4,
            "bin_end": 28141.6,
            "count": 7
           },
           {
            "bin_start": 28141.6,
            "bin_end": 29037.8,
            "count": 17
           },
           {
            "bin_start": 29037.8,
            "bin_end": 29934,
            "count": 23
           }
          ]
         }
        },
        {
         "name": "hispanic",
         "dtype": "float64",
         "stats": {
          "unique_count": 38,
          "nan_count": 0,
          "min": "0.4",
          "max": "64.9",
          "histogram": [
           {
            "bin_start": 0.4,
            "bin_end": 6.8500000000000005,
            "count": 56
           },
           {
            "bin_start": 6.8500000000000005,
            "bin_end": 13.3,
            "count": 3
           },
           {
            "bin_start": 13.3,
            "bin_end": 19.75,
            "count": 1
           },
           {
            "bin_start": 19.75,
            "bin_end": 26.2,
            "count": 0
           },
           {
            "bin_start": 26.2,
            "bin_end": 32.65,
            "count": 1
           },
           {
            "bin_start": 32.65,
            "bin_end": 39.1,
            "count": 0
           },
           {
            "bin_start": 39.1,
            "bin_end": 45.55,
            "count": 0
           },
           {
            "bin_start": 45.55,
            "bin_end": 52,
            "count": 0
           },
           {
            "bin_start": 52,
            "bin_end": 58.45,
            "count": 0
           },
           {
            "bin_start": 58.45,
            "bin_end": 64.9,
            "count": 1
           }
          ]
         }
        },
        {
         "name": "asian",
         "dtype": "float64",
         "stats": {
          "unique_count": 9,
          "nan_count": 0,
          "min": "0.1",
          "max": "0.9",
          "histogram": [
           {
            "bin_start": 0.1,
            "bin_end": 0.18,
            "count": 5
           },
           {
            "bin_start": 0.18,
            "bin_end": 0.26,
            "count": 8
           },
           {
            "bin_start": 0.26,
            "bin_end": 0.33999999999999997,
            "count": 14
           },
           {
            "bin_start": 0.33999999999999997,
            "bin_end": 0.42000000000000004,
            "count": 12
           },
           {
            "bin_start": 0.42000000000000004,
            "bin_end": 0.5,
            "count": 0
           },
           {
            "bin_start": 0.5,
            "bin_end": 0.58,
            "count": 5
           },
           {
            "bin_start": 0.58,
            "bin_end": 0.66,
            "count": 2
           },
           {
            "bin_start": 0.66,
            "bin_end": 0.74,
            "count": 7
           },
           {
            "bin_start": 0.74,
            "bin_end": 0.82,
            "count": 7
           },
           {
            "bin_start": 0.82,
            "bin_end": 0.9,
            "count": 2
           }
          ]
         }
        },
        {
         "name": "black",
         "dtype": "float64",
         "stats": {
          "unique_count": 50,
          "nan_count": 0,
          "min": "0.3",
          "max": "74.9",
          "histogram": [
           {
            "bin_start": 0.3,
            "bin_end": 7.760000000000001,
            "count": 26
           },
           {
            "bin_start": 7.760000000000001,
            "bin_end": 15.220000000000002,
            "count": 1
           },
           {
            "bin_start": 15.220000000000002,
            "bin_end": 22.680000000000003,
            "count": 0
           },
           {
            "bin_start": 22.680000000000003,
            "bin_end": 30.140000000000004,
            "count": 4
           },
           {
            "bin_start": 30.140000000000004,
            "bin_end": 37.6,
            "count": 3
           },
           {
            "bin_start": 37.6,
            "bin_end": 45.06,
            "count": 10
           },
           {
            "bin_start": 45.06,
            "bin_end": 52.52,
            "count": 6
           },
           {
            "bin_start": 52.52,
            "bin_end": 59.980000000000004,
            "count": 5
           },
           {
            "bin_start": 59.980000000000004,
            "bin_end": 67.44000000000001,
            "count": 3
           },
           {
            "bin_start": 67.44000000000001,
            "bin_end": 74.9,
            "count": 4
           }
          ]
         }
        },
        {
         "name": "white",
         "dtype": "float64",
         "stats": {
          "unique_count": 55,
          "nan_count": 0,
          "min": "22.6",
          "max": "98.1",
          "histogram": [
           {
            "bin_start": 22.6,
            "bin_end": 30.150000000000002,
            "count": 4
           },
           {
            "bin_start": 30.150000000000002,
            "bin_end": 37.7,
            "count": 7
           },
           {
            "bin_start": 37.7,
            "bin_end": 45.25,
            "count": 5
           },
           {
            "bin_start": 45.25,
            "bin_end": 52.8,
            "count": 6
           },
           {
            "bin_start": 52.8,
            "bin_end": 60.35,
            "count": 9
           },
           {
            "bin_start": 60.35,
            "bin_end": 67.9,
            "count": 3
           },
           {
            "bin_start": 67.9,
            "bin_end": 75.45,
            "count": 3
           },
           {
            "bin_start": 75.45,
            "bin_end": 83,
            "count": 0
           },
           {
            "bin_start": 83,
            "bin_end": 90.55000000000001,
            "count": 2
           },
           {
            "bin_start": 90.55000000000001,
            "bin_end": 98.1,
            "count": 23
           }
          ]
         }
        },
        {
         "name": "foreign",
         "dtype": "float64",
         "stats": {
          "unique_count": 29,
          "nan_count": 0,
          "min": "0.1",
          "max": "15.6",
          "histogram": [
           {
            "bin_start": 0.1,
            "bin_end": 1.6500000000000001,
            "count": 45
           },
           {
            "bin_start": 1.6500000000000001,
            "bin_end": 3.2,
            "count": 9
           },
           {
            "bin_start": 3.2,
            "bin_end": 4.75,
            "count": 4
           },
           {
            "bin_start": 4.75,
            "bin_end": 6.3,
            "count": 2
           },
           {
            "bin_start": 6.3,
            "bin_end": 7.85,
            "count": 0
           },
           {
            "bin_start": 7.85,
            "bin_end": 9.4,
            "count": 0
           },
           {
            "bin_start": 9.4,
            "bin_end": 10.95,
            "count": 1
           },
           {
            "bin_start": 10.95,
            "bin_end": 12.5,
            "count": 0
           },
           {
            "bin_start": 12.5,
            "bin_end": 14.05,
            "count": 0
           },
           {
            "bin_start": 14.05,
            "bin_end": 15.6,
            "count": 1
           }
          ]
         }
        },
        {
         "name": "college",
         "dtype": "float64",
         "stats": {
          "unique_count": 42,
          "nan_count": 0,
          "min": "7.0",
          "max": "21.2",
          "histogram": [
           {
            "bin_start": 7,
            "bin_end": 8.42,
            "count": 9
           },
           {
            "bin_start": 8.42,
            "bin_end": 9.84,
            "count": 12
           },
           {
            "bin_start": 9.84,
            "bin_end": 11.26,
            "count": 16
           },
           {
            "bin_start": 11.26,
            "bin_end": 12.68,
            "count": 7
           },
           {
            "bin_start": 12.68,
            "bin_end": 14.1,
            "count": 9
           },
           {
            "bin_start": 14.1,
            "bin_end": 15.52,
            "count": 3
           },
           {
            "bin_start": 15.52,
            "bin_end": 16.939999999999998,
            "count": 0
           },
           {
            "bin_start": 16.939999999999998,
            "bin_end": 18.36,
            "count": 2
           },
           {
            "bin_start": 18.36,
            "bin_end": 19.78,
            "count": 2
           },
           {
            "bin_start": 19.78,
            "bin_end": 21.2,
            "count": 2
           }
          ]
         }
        },
        {
         "name": "density",
         "dtype": "float64",
         "stats": {
          "unique_count": 61,
          "nan_count": 0,
          "min": "2.9",
          "max": "113.4",
          "histogram": [
           {
            "bin_start": 2.9,
            "bin_end": 13.950000000000001,
            "count": 3
           },
           {
            "bin_start": 13.950000000000001,
            "bin_end": 25,
            "count": 12
           },
           {
            "bin_start": 25,
            "bin_end": 36.050000000000004,
            "count": 16
           },
           {
            "bin_start": 36.050000000000004,
            "bin_end": 47.1,
            "count": 14
           },
           {
            "bin_start": 47.1,
            "bin_end": 58.15,
            "count": 5
           },
           {
            "bin_start": 58.15,
            "bin_end": 69.20000000000002,
            "count": 4
           },
           {
            "bin_start": 69.20000000000002,
            "bin_end": 80.25000000000001,
            "count": 5
           },
           {
            "bin_start": 80.25000000000001,
            "bin_end": 91.30000000000001,
            "count": 2
           },
           {
            "bin_start": 91.30000000000001,
            "bin_end": 102.35000000000001,
            "count": 0
           },
           {
            "bin_start": 102.35000000000001,
            "bin_end": 113.4,
            "count": 1
           }
          ]
         }
        },
        {
         "name": "vets",
         "dtype": "int64",
         "stats": {
          "unique_count": 62,
          "nan_count": 0,
          "min": "465",
          "max": "2820",
          "histogram": [
           {
            "bin_start": 465,
            "bin_end": 700.5,
            "count": 7
           },
           {
            "bin_start": 700.5,
            "bin_end": 936,
            "count": 7
           },
           {
            "bin_start": 936,
            "bin_end": 1171.5,
            "count": 11
           },
           {
            "bin_start": 1171.5,
            "bin_end": 1407,
            "count": 14
           },
           {
            "bin_start": 1407,
            "bin_end": 1642.5,
            "count": 9
           },
           {
            "bin_start": 1642.5,
            "bin_end": 1878,
            "count": 5
           },
           {
            "bin_start": 1878,
            "bin_end": 2113.5,
            "count": 4
           },
           {
            "bin_start": 2113.5,
            "bin_end": 2349,
            "count": 2
           },
           {
            "bin_start": 2349,
            "bin_end": 2584.5,
            "count": 1
           },
           {
            "bin_start": 2584.5,
            "bin_end": 2820,
            "count": 2
           }
          ]
         }
        },
        {
         "name": "female",
         "dtype": "float64",
         "stats": {
          "unique_count": 41,
          "nan_count": 0,
          "min": "40.7",
          "max": "53.9",
          "histogram": [
           {
            "bin_start": 40.7,
            "bin_end": 42.02,
            "count": 1
           },
           {
            "bin_start": 42.02,
            "bin_end": 43.34,
            "count": 0
           },
           {
            "bin_start": 43.34,
            "bin_end": 44.660000000000004,
            "count": 2
           },
           {
            "bin_start": 44.660000000000004,
            "bin_end": 45.980000000000004,
            "count": 1
           },
           {
            "bin_start": 45.980000000000004,
            "bin_end": 47.3,
            "count": 6
           },
           {
            "bin_start": 47.3,
            "bin_end": 48.620000000000005,
            "count": 1
           },
           {
            "bin_start": 48.620000000000005,
            "bin_end": 49.94,
            "count": 5
           },
           {
            "bin_start": 49.94,
            "bin_end": 51.26,
            "count": 21
           },
           {
            "bin_start": 51.26,
            "bin_end": 52.58,
            "count": 15
           },
           {
            "bin_start": 52.58,
            "bin_end": 53.9,
            "count": 10
           }
          ]
         }
        },
        {
         "name": "senior",
         "dtype": "float64",
         "stats": {
          "unique_count": 49,
          "nan_count": 0,
          "min": "11.6",
          "max": "34.0",
          "histogram": [
           {
            "bin_start": 11.6,
            "bin_end": 13.84,
            "count": 8
           },
           {
            "bin_start": 13.84,
            "bin_end": 16.08,
            "count": 12
           },
           {
            "bin_start": 16.08,
            "bin_end": 18.32,
            "count": 20
           },
           {
            "bin_start": 18.32,
            "bin_end": 20.56,
            "count": 13
           },
           {
            "bin_start": 20.56,
            "bin_end": 22.799999999999997,
            "count": 4
           },
           {
            "bin_start": 22.799999999999997,
            "bin_end": 25.04,
            "count": 1
           },
           {
            "bin_start": 25.04,
            "bin_end": 27.279999999999998,
            "count": 3
           },
           {
            "bin_start": 27.279999999999998,
            "bin_end": 29.519999999999996,
            "count": 0
           },
           {
            "bin_start": 29.519999999999996,
            "bin_end": 31.759999999999998,
            "count": 0
           },
           {
            "bin_start": 31.759999999999998,
            "bin_end": 34,
            "count": 1
           }
          ]
         }
        },
        {
         "name": "children",
         "dtype": "float64",
         "stats": {
          "unique_count": 47,
          "nan_count": 0,
          "min": "15.2",
          "max": "27.6",
          "histogram": [
           {
            "bin_start": 15.2,
            "bin_end": 16.439999999999998,
            "count": 1
           },
           {
            "bin_start": 16.439999999999998,
            "bin_end": 17.68,
            "count": 2
           },
           {
            "bin_start": 17.68,
            "bin_end": 18.92,
            "count": 2
           },
           {
            "bin_start": 18.92,
            "bin_end": 20.16,
            "count": 3
           },
           {
            "bin_start": 20.16,
            "bin_end": 21.4,
            "count": 9
           },
           {
            "bin_start": 21.4,
            "bin_end": 22.64,
            "count": 18
           },
           {
            "bin_start": 22.64,
            "bin_end": 23.880000000000003,
            "count": 8
           },
           {
            "bin_start": 23.880000000000003,
            "bin_end": 25.12,
            "count": 9
           },
           {
            "bin_start": 25.12,
            "bin_end": 26.36,
            "count": 6
           },
           {
            "bin_start": 26.36,
            "bin_end": 27.6,
            "count": 4
           }
          ]
         }
        },
        {
         "name": "st_cnty",
         "dtype": "object",
         "stats": {
          "unique_count": 62,
          "nan_count": 0,
          "categories": [
           {
            "name": "AL_Butler",
            "count": 1
           },
           {
            "name": "AL_Clarke",
            "count": 1
           },
           {
            "name": "60 others",
            "count": 60
           }
          ]
         }
        },
        {
         "name": "state",
         "dtype": "object",
         "stats": {
          "unique_count": 15,
          "nan_count": 0,
          "categories": [
           {
            "name": "Kentucky",
            "count": 13
           },
           {
            "name": "Mississippi",
            "count": 11
           },
           {
            "name": "13 others",
            "count": 38
           }
          ]
         }
        },
        {
         "name": "winner",
         "dtype": "object",
         "stats": {
          "unique_count": 2,
          "nan_count": 0,
          "categories": [
           {
            "name": "Donald Trump",
            "count": 61
           },
           {
            "name": "Ted Cruz",
            "count": 1
           }
          ]
         }
        },
        {
         "name": "votes",
         "dtype": "int64",
         "stats": {
          "unique_count": 61,
          "nan_count": 0,
          "min": "503",
          "max": "2454",
          "histogram": [
           {
            "bin_start": 503,
            "bin_end": 698.1,
            "count": 10
           },
           {
            "bin_start": 698.1,
            "bin_end": 893.2,
            "count": 17
           },
           {
            "bin_start": 893.2,
            "bin_end": 1088.3,
            "count": 11
           },
           {
            "bin_start": 1088.3,
            "bin_end": 1283.4,
            "count": 7
           },
           {
            "bin_start": 1283.4,
            "bin_end": 1478.5,
            "count": 7
           },
           {
            "bin_start": 1478.5,
            "bin_end": 1673.6,
            "count": 3
           },
           {
            "bin_start": 1673.6,
            "bin_end": 1868.7,
            "count": 2
           },
           {
            "bin_start": 1868.7,
            "bin_end": 2063.8,
            "count": 2
           },
           {
            "bin_start": 2063.8,
            "bin_end": 2258.8999999999996,
            "count": 1
           },
           {
            "bin_start": 2258.8999999999996,
            "bin_end": 2454,
            "count": 2
           }
          ]
         }
        },
        {
         "name": "fraction_votes",
         "dtype": "float64",
         "stats": {
          "unique_count": 53,
          "nan_count": 0,
          "min": "0.363",
          "max": "0.825",
          "histogram": [
           {
            "bin_start": 0.363,
            "bin_end": 0.4092,
            "count": 2
           },
           {
            "bin_start": 0.4092,
            "bin_end": 0.45539999999999997,
            "count": 6
           },
           {
            "bin_start": 0.45539999999999997,
            "bin_end": 0.5016,
            "count": 17
           },
           {
            "bin_start": 0.5016,
            "bin_end": 0.5478,
            "count": 17
           },
           {
            "bin_start": 0.5478,
            "bin_end": 0.594,
            "count": 13
           },
           {
            "bin_start": 0.594,
            "bin_end": 0.6402,
            "count": 2
           },
           {
            "bin_start": 0.6402,
            "bin_end": 0.6863999999999999,
            "count": 0
           },
           {
            "bin_start": 0.6863999999999999,
            "bin_end": 0.7325999999999999,
            "count": 1
           },
           {
            "bin_start": 0.7325999999999999,
            "bin_end": 0.7787999999999999,
            "count": 3
           },
           {
            "bin_start": 0.7787999999999999,
            "bin_end": 0.825,
            "count": 1
           }
          ]
         }
        },
        {
         "name": "total_votes",
         "dtype": "int64",
         "stats": {
          "unique_count": 62,
          "nan_count": 0,
          "min": "1020",
          "max": "4600",
          "histogram": [
           {
            "bin_start": 1020,
            "bin_end": 1378,
            "count": 17
           },
           {
            "bin_start": 1378,
            "bin_end": 1736,
            "count": 13
           },
           {
            "bin_start": 1736,
            "bin_end": 2094,
            "count": 9
           },
           {
            "bin_start": 2094,
            "bin_end": 2452,
            "count": 5
           },
           {
            "bin_start": 2452,
            "bin_end": 2810,
            "count": 8
           },
           {
            "bin_start": 2810,
            "bin_end": 3168,
            "count": 4
           },
           {
            "bin_start": 3168,
            "bin_end": 3526,
            "count": 2
           },
           {
            "bin_start": 3526,
            "bin_end": 3884,
            "count": 1
           },
           {
            "bin_start": 3884,
            "bin_end": 4242,
            "count": 1
           },
           {
            "bin_start": 4242,
            "bin_end": 4600,
            "count": 2
           }
          ]
         }
        },
        {
         "name": "voter_turnout",
         "dtype": "float64",
         "stats": {
          "unique_count": 62,
          "nan_count": 0,
          "min": "0.0576270900036881",
          "max": "0.2904388254008643",
          "histogram": [
           {
            "bin_start": 0.0576270900036881,
            "bin_end": 0.08090826354340572,
            "count": 9
           },
           {
            "bin_start": 0.08090826354340572,
            "bin_end": 0.10418943708312334,
            "count": 9
           },
           {
            "bin_start": 0.10418943708312334,
            "bin_end": 0.12747061062284096,
            "count": 11
           },
           {
            "bin_start": 0.12747061062284096,
            "bin_end": 0.15075178416255858,
            "count": 6
           },
           {
            "bin_start": 0.15075178416255858,
            "bin_end": 0.1740329577022762,
            "count": 12
           },
           {
            "bin_start": 0.1740329577022762,
            "bin_end": 0.19731413124199382,
            "count": 4
           },
           {
            "bin_start": 0.19731413124199382,
            "bin_end": 0.22059530478171144,
            "count": 5
           },
           {
            "bin_start": 0.22059530478171144,
            "bin_end": 0.24387647832142906,
            "count": 3
           },
           {
            "bin_start": 0.24387647832142906,
            "bin_end": 0.2671576518611467,
            "count": 1
           },
           {
            "bin_start": 0.2671576518611467,
            "bin_end": 0.2904388254008643,
            "count": 2
           }
          ]
         }
        },
        {
         "name": "_deepnote_index_column",
         "dtype": "int64"
        }
       ],
       "rows_top": [
        {
         "st_abbrev": "AL",
         "fips": "01013",
         "population": 20296,
         "income": 29918,
         "hispanic": 1.2,
         "asian": 0.9,
         "black": 44,
         "white": 53.1,
         "foreign": 0.8,
         "college": 14,
         "density": 27,
         "vets": 1497,
         "female": 53.6,
         "senior": 18,
         "children": 23.6,
         "st_cnty": "AL_Butler",
         "state": "Alabama",
         "winner": "Donald Trump",
         "votes": 1720,
         "fraction_votes": 0.5379999999999999,
         "total_votes": 3144,
         "voter_turnout": 0.2027583388881207,
         "_deepnote_index_column": 5
        },
        {
         "st_abbrev": "AL",
         "fips": "01025",
         "population": 24945,
         "income": 29357,
         "hispanic": 1.3,
         "asian": 0.5,
         "black": 44.2,
         "white": 53.1,
         "foreign": 0.3,
         "college": 11.2,
         "density": 20.9,
         "vets": 1583,
         "female": 52.8,
         "senior": 18,
         "children": 22.6,
         "st_cnty": "AL_Clarke",
         "state": "Alabama",
         "winner": "Donald Trump",
         "votes": 2308,
         "fraction_votes": 0.502,
         "total_votes": 4534,
         "voter_turnout": 0.2348318756043657,
         "_deepnote_index_column": 11
        },
        {
         "st_abbrev": "AL",
         "fips": "01035",
         "population": 12670,
         "income": 24658,
         "hispanic": 1.8,
         "asian": 0.1,
         "black": 46.2,
         "white": 51.1,
         "foreign": 0.6,
         "college": 8.8,
         "density": 15.6,
         "vets": 1101,
         "female": 51.9,
         "senior": 20.4,
         "children": 21.4,
         "st_cnty": "AL_Conecuh",
         "state": "Alabama",
         "winner": "Donald Trump",
         "votes": 768,
         "fraction_votes": 0.59,
         "total_votes": 1271,
         "voter_turnout": 0.1276281251820031,
         "_deepnote_index_column": 16
        },
        {
         "st_abbrev": "AL",
         "fips": "01099",
         "population": 21947,
         "income": 29203,
         "hispanic": 1.2,
         "asian": 0.4,
         "black": 41.1,
         "white": 54.7,
         "foreign": 0.9,
         "college": 10.6,
         "density": 22.5,
         "vets": 1237,
         "female": 52.6,
         "senior": 17.9,
         "children": 23.4,
         "st_cnty": "AL_Monroe",
         "state": "Alabama",
         "winner": "Donald Trump",
         "votes": 1966,
         "fraction_votes": 0.521,
         "total_votes": 3701,
         "voter_turnout": 0.2201482065564787,
         "_deepnote_index_column": 44
        },
        {
         "st_abbrev": "AL",
         "fips": "01107",
         "population": 20365,
         "income": 28741,
         "hispanic": 4.1,
         "asian": 0.3,
         "black": 40.2,
         "white": 54.7,
         "foreign": 0.3,
         "college": 11,
         "density": 22.4,
         "vets": 1610,
         "female": 50.6,
         "senior": 17.8,
         "children": 20.5,
         "st_cnty": "AL_Pickens",
         "state": "Alabama",
         "winner": "Donald Trump",
         "votes": 1124,
         "fraction_votes": 0.441,
         "total_votes": 2487,
         "voter_turnout": 0.1536116811584804,
         "_deepnote_index_column": 47
        },
        {
         "st_abbrev": "AR",
         "fips": "05137",
         "population": 12494,
         "income": 29832,
         "hispanic": 1.8,
         "asian": 0.4,
         "black": 0.4,
         "white": 95,
         "foreign": 0.8,
         "college": 14.2,
         "density": 20.4,
         "vets": 1342,
         "female": 50.4,
         "senior": 25.4,
         "children": 20.1,
         "st_cnty": "AR_Stone",
         "state": "Arkansas",
         "winner": "Donald Trump",
         "votes": 993,
         "fraction_votes": 0.392,
         "total_votes": 2459,
         "voter_turnout": 0.2463259961777898,
         "_deepnote_index_column": 126
        },
        {
         "st_abbrev": "GA",
         "fips": "13017",
         "population": 17464,
         "income": 28547,
         "hispanic": 6.3,
         "asian": 0.8,
         "black": 35.5,
         "white": 56.5,
         "foreign": 1.6,
         "college": 9.8,
         "density": 70.5,
         "vets": 1133,
         "female": 52.5,
         "senior": 15.4,
         "children": 25.4,
         "st_cnty": "GA_Ben Hill",
         "state": "Georgia",
         "winner": "Donald Trump",
         "votes": 1020,
         "fraction_votes": 0.5589999999999999,
         "total_votes": 1799,
         "voter_turnout": 0.1380856705298928,
         "_deepnote_index_column": 245
        },
        {
         "st_abbrev": "GA",
         "fips": "13093",
         "population": 14188,
         "income": 29012,
         "hispanic": 7.3,
         "asian": 0.7,
         "black": 50.5,
         "white": 42.2,
         "foreign": 4.2,
         "college": 10.1,
         "density": 38.1,
         "vets": 1214,
         "female": 46,
         "senior": 15.7,
         "children": 19.8,
         "st_cnty": "GA_Dooly",
         "state": "Georgia",
         "winner": "Donald Trump",
         "votes": 584,
         "fraction_votes": 0.555,
         "total_votes": 1038,
         "voter_turnout": 0.0912224654040118,
         "_deepnote_index_column": 276
        },
        {
         "st_abbrev": "GA",
         "fips": "13099",
         "population": 10491,
         "income": 28853,
         "hispanic": 2.2,
         "asian": 0.6,
         "black": 49.9,
         "white": 46.5,
         "foreign": 0.8,
         "college": 12.9,
         "density": 21.5,
         "vets": 728,
         "female": 52.8,
         "senior": 18.4,
         "children": 25.2,
         "st_cnty": "GA_Early",
         "state": "Georgia",
         "winner": "Donald Trump",
         "votes": 760,
         "fraction_votes": 0.561,
         "total_votes": 1326,
         "voter_turnout": 0.1689760054072321,
         "_deepnote_index_column": 279
        },
        {
         "st_abbrev": "GA",
         "fips": "13163",
         "population": 16272,
         "income": 26968,
         "hispanic": 3.3,
         "asian": 0.7,
         "black": 53.6,
         "white": 41.9,
         "foreign": 1.2,
         "college": 8.8,
         "density": 32.2,
         "vets": 1109,
         "female": 51.4,
         "senior": 17,
         "children": 24.1,
         "st_cnty": "GA_Jefferson",
         "state": "Georgia",
         "winner": "Donald Trump",
         "votes": 821,
         "fraction_votes": 0.478,
         "total_votes": 1694,
         "voter_turnout": 0.137161016345318,
         "_deepnote_index_column": 308
        },
        {
         "st_abbrev": "GA",
         "fips": "13269",
         "population": 8442,
         "income": 27455,
         "hispanic": 2.3,
         "asian": 0.8,
         "black": 38.2,
         "white": 58.4,
         "foreign": 1.4,
         "college": 10.1,
         "density": 23.6,
         "vets": 668,
         "female": 52.5,
         "senior": 18.2,
         "children": 21,
         "st_cnty": "GA_Taylor",
         "state": "Georgia",
         "winner": "Donald Trump",
         "votes": 550,
         "fraction_votes": 0.517,
         "total_votes": 1047,
         "voter_turnout": 0.1569908144629474,
         "_deepnote_index_column": 349
        },
        {
         "st_abbrev": "GA",
         "fips": "13271",
         "population": 16518,
         "income": 26634,
         "hispanic": 14.7,
         "asian": 0.8,
         "black": 36.6,
         "white": 49.4,
         "foreign": 10.8,
         "college": 10.9,
         "density": 37.7,
         "vets": 1021,
         "female": 40.7,
         "senior": 15.3,
         "children": 17.7,
         "st_cnty": "GA_Telfair",
         "state": "Georgia",
         "winner": "Donald Trump",
         "votes": 626,
         "fraction_votes": 0.515,
         "total_votes": 1193,
         "voter_turnout": 0.0877572785210051,
         "_deepnote_index_column": 350
        },
        {
         "st_abbrev": "GA",
         "fips": "13287",
         "population": 8153,
         "income": 28326,
         "hispanic": 4.5,
         "asian": 0.8,
         "black": 39.4,
         "white": 55,
         "foreign": 3.4,
         "college": 9.8,
         "density": 31.3,
         "vets": 491,
         "female": 50.9,
         "senior": 18.6,
         "children": 26.3,
         "st_cnty": "GA_Turner",
         "state": "Georgia",
         "winner": "Donald Trump",
         "votes": 652,
         "fraction_votes": 0.569,
         "total_votes": 1131,
         "voter_turnout": 0.1882251598956923,
         "_deepnote_index_column": 357
        },
        {
         "st_abbrev": "GA",
         "fips": "13317",
         "population": 9940,
         "income": 28983,
         "hispanic": 3.9,
         "asian": 0.8,
         "black": 42.6,
         "white": 51.7,
         "foreign": 1.5,
         "college": 14.5,
         "density": 22.6,
         "vets": 630,
         "female": 52.2,
         "senior": 21.4,
         "children": 21.7,
         "st_cnty": "GA_Wilkes",
         "state": "Georgia",
         "winner": "Donald Trump",
         "votes": 734,
         "fraction_votes": 0.486,
         "total_votes": 1488,
         "voter_turnout": 0.1911854267366652,
         "_deepnote_index_column": 369
        },
        {
         "st_abbrev": "KY",
         "fips": "21013",
         "population": 27778,
         "income": 26228,
         "hispanic": 1,
         "asian": 0.4,
         "black": 2.4,
         "white": 94.4,
         "foreign": 0.3,
         "college": 10.8,
         "density": 79.9,
         "vets": 1668,
         "female": 51.3,
         "senior": 17.3,
         "children": 21.6,
         "st_cnty": "KY_Bell",
         "state": "Kentucky",
         "winner": "Donald Trump",
         "votes": 692,
         "fraction_votes": 0.542,
         "total_votes": 1255,
         "voter_turnout": 0.0576270900036881,
         "_deepnote_index_column": 633
        },
        {
         "st_abbrev": "KY",
         "fips": "21045",
         "population": 15891,
         "income": 29934,
         "hispanic": 2.9,
         "asian": 0.3,
         "black": 0.7,
         "white": 95.1,
         "foreign": 1.2,
         "college": 8.4,
         "density": 35.9,
         "vets": 1211,
         "female": 51.3,
         "senior": 18.8,
         "children": 22.6,
         "st_cnty": "KY_Casey",
         "state": "Kentucky",
         "winner": "Donald Trump",
         "votes": 1029,
         "fraction_votes": 0.5329999999999999,
         "total_votes": 1902,
         "voter_turnout": 0.1546387477871292,
         "_deepnote_index_column": 642
        },
        {
         "st_abbrev": "KY",
         "fips": "21051",
         "population": 21147,
         "income": 21883,
         "hispanic": 2,
         "asian": 0.2,
         "black": 4.3,
         "white": 92.6,
         "foreign": 0.7,
         "college": 9,
         "density": 46.3,
         "vets": 843,
         "female": 47,
         "senior": 13.5,
         "children": 21.1,
         "st_cnty": "KY_Clay",
         "state": "Kentucky",
         "winner": "Donald Trump",
         "votes": 887,
         "fraction_votes": 0.579,
         "total_votes": 1494,
         "voter_turnout": 0.0895415955772924,
         "_deepnote_index_column": 644
        },
        {
         "st_abbrev": "KY",
         "fips": "21053",
         "population": 10165,
         "income": 27100,
         "hispanic": 2.8,
         "asian": 0.2,
         "black": 0.6,
         "white": 95.1,
         "foreign": 1.3,
         "college": 7,
         "density": 52.1,
         "vets": 752,
         "female": 50.3,
         "senior": 18.2,
         "children": 22.8,
         "st_cnty": "KY_Clinton",
         "state": "Kentucky",
         "winner": "Donald Trump",
         "votes": 771,
         "fraction_votes": 0.534,
         "total_votes": 1418,
         "voter_turnout": 0.180697251821627,
         "_deepnote_index_column": 645
        },
        {
         "st_abbrev": "KY",
         "fips": "21109",
         "population": 13289,
         "income": 26156,
         "hispanic": 0.7,
         "asian": 0.1,
         "black": 0.3,
         "white": 98.1,
         "foreign": 0.4,
         "college": 8.2,
         "density": 39.1,
         "vets": 739,
         "female": 50,
         "senior": 15.6,
         "children": 22.3,
         "st_cnty": "KY_Jackson",
         "state": "Kentucky",
         "winner": "Donald Trump",
         "votes": 582,
         "fraction_votes": 0.509,
         "total_votes": 1114,
         "voter_turnout": 0.1078876840785186,
         "_deepnote_index_column": 655
        },
        {
         "st_abbrev": "KY",
         "fips": "21121",
         "population": 31798,
         "income": 24038,
         "hispanic": 1.1,
         "asian": 0.3,
         "black": 1.3,
         "white": 96.1,
         "foreign": 1,
         "college": 10.1,
         "density": 82.5,
         "vets": 1564,
         "female": 51.5,
         "senior": 16.9,
         "children": 23.8,
         "st_cnty": "KY_Knox",
         "state": "Kentucky",
         "winner": "Donald Trump",
         "votes": 1285,
         "fraction_votes": 0.5479999999999999,
         "total_votes": 2309,
         "voter_turnout": 0.095294789830622,
         "_deepnote_index_column": 660
        },
        {
         "st_abbrev": "KY",
         "fips": "21131",
         "population": 10918,
         "income": 29293,
         "hispanic": 0.4,
         "asian": 0.2,
         "black": 0.3,
         "white": 98.1,
         "foreign": 0.2,
         "college": 7.3,
         "density": 28.2,
         "vets": 465,
         "female": 50.5,
         "senior": 16.2,
         "children": 21.6,
         "st_cnty": "KY_Leslie",
         "state": "Kentucky",
         "winner": "Donald Trump",
         "votes": 503,
         "fraction_votes": 0.485,
         "total_votes": 1020,
         "voter_turnout": 0.1191628877233252,
         "_deepnote_index_column": 662
        },
        {
         "st_abbrev": "KY",
         "fips": "21135",
         "population": 13880,
         "income": 28388,
         "hispanic": 0.7,
         "asian": 0.1,
         "black": 0.4,
         "white": 97.9,
         "foreign": 0.1,
         "college": 10.6,
         "density": 28.7,
         "vets": 880,
         "female": 50.2,
         "senior": 16.6,
         "children": 22.9,
         "st_cnty": "KY_Lewis",
         "state": "Kentucky",
         "winner": "Donald Trump",
         "votes": 522,
         "fraction_votes": 0.438,
         "total_votes": 1162,
         "voter_turnout": 0.1085831118686387,
         "_deepnote_index_column": 663
        }
       ],
       "rows_bottom": [
        {
         "st_abbrev": "MS",
         "fips": "28153",
         "population": 20490,
         "income": 29925,
         "hispanic": 1.5,
         "asian": 0.2,
         "black": 39.4,
         "white": 58.1,
         "foreign": 0.2,
         "college": 10.2,
         "density": 25.6,
         "vets": 1178,
         "female": 51.9,
         "senior": 15.7,
         "children": 24.8,
         "st_cnty": "MS_Wayne",
         "state": "Mississippi",
         "winner": "Donald Trump",
         "votes": 1735,
         "fraction_votes": 0.518,
         "total_votes": 3261,
         "voter_turnout": 0.211636709136787,
         "_deepnote_index_column": 902
        },
        {
         "st_abbrev": "MS",
         "fips": "28163",
         "population": 27817,
         "income": 26336,
         "hispanic": 5.6,
         "asian": 0.6,
         "black": 57.4,
         "white": 36.1,
         "foreign": 4.3,
         "college": 11.9,
         "density": 30.4,
         "vets": 1658,
         "female": 44.6,
         "senior": 12.4,
         "children": 24.2,
         "st_cnty": "MS_Yazoo",
         "state": "Mississippi",
         "winner": "Donald Trump",
         "votes": 1510,
         "fraction_votes": 0.5479999999999999,
         "total_votes": 2710,
         "voter_turnout": 0.1285256457986863,
         "_deepnote_index_column": 906
        },
        {
         "st_abbrev": "MO",
         "fips": "29133",
         "population": 14232,
         "income": 29787,
         "hispanic": 2,
         "asian": 0.2,
         "black": 24.7,
         "white": 71.9,
         "foreign": 1,
         "college": 9.8,
         "density": 34.9,
         "vets": 1020,
         "female": 46.6,
         "senior": 16.2,
         "children": 22.4,
         "st_cnty": "MO_Mississippi",
         "state": "Missouri",
         "winner": "Donald Trump",
         "votes": 970,
         "fraction_votes": 0.529,
         "total_votes": 1792,
         "voter_turnout": 0.1622595805589842,
         "_deepnote_index_column": 968
        },
        {
         "st_abbrev": "MO",
         "fips": "29149",
         "population": 10911,
         "income": 27743,
         "hispanic": 1.4,
         "asian": 0.4,
         "black": 0.5,
         "white": 94.2,
         "foreign": 1.3,
         "college": 9.8,
         "density": 13.8,
         "vets": 1120,
         "female": 50.8,
         "senior": 22.1,
         "children": 22.3,
         "st_cnty": "MO_Oregon",
         "state": "Missouri",
         "winner": "Donald Trump",
         "votes": 941,
         "fraction_votes": 0.517,
         "total_votes": 1771,
         "voter_turnout": 0.2088973768929776,
         "_deepnote_index_column": 976
        },
        {
         "st_abbrev": "MO",
         "fips": "29155",
         "population": 17650,
         "income": 28889,
         "hispanic": 2.2,
         "asian": 0.4,
         "black": 26.7,
         "white": 69.3,
         "foreign": 0.8,
         "college": 10,
         "density": 37.1,
         "vets": 1264,
         "female": 52.7,
         "senior": 15.3,
         "children": 26.9,
         "st_cnty": "MO_Pemiscot",
         "state": "Missouri",
         "winner": "Donald Trump",
         "votes": 1155,
         "fraction_votes": 0.5710000000000001,
         "total_votes": 1957,
         "voter_turnout": 0.1516801463322004,
         "_deepnote_index_column": 979
        },
        {
         "st_abbrev": "MO",
         "fips": "29229",
         "population": 18291,
         "income": 28645,
         "hispanic": 1.7,
         "asian": 0.3,
         "black": 0.7,
         "white": 95.3,
         "foreign": 2.2,
         "college": 11.1,
         "density": 27.6,
         "vets": 1597,
         "female": 51.1,
         "senior": 19.1,
         "children": 25.1,
         "st_cnty": "MO_Wright",
         "state": "Missouri",
         "winner": "Donald Trump",
         "votes": 1874,
         "fraction_votes": 0.462,
         "total_votes": 3979,
         "voter_turnout": 0.2904388254008643,
         "_deepnote_index_column": 1010
        },
        {
         "st_abbrev": "NM",
         "fips": "35029",
         "population": 24673,
         "income": 29282,
         "hispanic": 64.9,
         "asian": 0.8,
         "black": 1.7,
         "white": 32,
         "foreign": 15.6,
         "college": 13.8,
         "density": 8.5,
         "vets": 2177,
         "female": 50,
         "senior": 20.8,
         "children": 25.9,
         "st_cnty": "NM_Luna",
         "state": "New Mexico",
         "winner": "Donald Trump",
         "votes": 1123,
         "fraction_votes": 0.773,
         "total_votes": 1345,
         "voter_turnout": 0.0735668426965327,
         "_deepnote_index_column": 1116
        },
        {
         "st_abbrev": "NM",
         "fips": "35051",
         "population": 11325,
         "income": 27430,
         "hispanic": 29.4,
         "asian": 0.5,
         "black": 0.8,
         "white": 66.5,
         "foreign": 4.9,
         "college": 21.1,
         "density": 2.9,
         "vets": 1834,
         "female": 50.2,
         "senior": 34,
         "children": 15.2,
         "st_cnty": "NM_Sierra",
         "state": "New Mexico",
         "winner": "Donald Trump",
         "votes": 1013,
         "fraction_votes": 0.825,
         "total_votes": 1164,
         "voter_turnout": 0.1212045482943896,
         "_deepnote_index_column": 1121
        },
        {
         "st_abbrev": "NC",
         "fips": "37165",
         "population": 35576,
         "income": 29592,
         "hispanic": 2.9,
         "asian": 0.8,
         "black": 39.2,
         "white": 44.6,
         "foreign": 2,
         "college": 14.3,
         "density": 113.4,
         "vets": 2648,
         "female": 50.8,
         "senior": 16.1,
         "children": 23.5,
         "st_cnty": "NC_Scotland",
         "state": "North Carolina",
         "winner": "Donald Trump",
         "votes": 956,
         "fraction_votes": 0.489,
         "total_votes": 1876,
         "voter_turnout": 0.0689309529373551,
         "_deepnote_index_column": 1254
        },
        {
         "st_abbrev": "SC",
         "fips": "45033",
         "population": 31127,
         "income": 28817,
         "hispanic": 2.5,
         "asian": 0.3,
         "black": 46.6,
         "white": 46.8,
         "foreign": 2.5,
         "college": 8.2,
         "density": 79.2,
         "vets": 2045,
         "female": 52.7,
         "senior": 15,
         "children": 25.7,
         "st_cnty": "SC_Dillon",
         "state": "South Carolina",
         "winner": "Donald Trump",
         "votes": 972,
         "fraction_votes": 0.363,
         "total_votes": 2675,
         "voter_turnout": 0.1156638667074898,
         "_deepnote_index_column": 1520
        },
        {
         "st_abbrev": "SC",
         "fips": "45061",
         "population": 18343,
         "income": 27373,
         "hispanic": 2.1,
         "asian": 0.4,
         "black": 63.4,
         "white": 33.3,
         "foreign": 1.4,
         "college": 9.1,
         "density": 46.9,
         "vets": 1131,
         "female": 47.8,
         "senior": 16.1,
         "children": 20.7,
         "st_cnty": "SC_Lee",
         "state": "South Carolina",
         "winner": "Donald Trump",
         "votes": 743,
         "fraction_votes": 0.474,
         "total_votes": 1566,
         "voter_turnout": 0.107658470208887,
         "_deepnote_index_column": 1534
        },
        {
         "st_abbrev": "SC",
         "fips": "45067",
         "population": 31933,
         "income": 29149,
         "hispanic": 2.7,
         "asian": 0.7,
         "black": 56.5,
         "white": 39.2,
         "foreign": 2.1,
         "college": 13.6,
         "density": 67.6,
         "vets": 2124,
         "female": 53.8,
         "senior": 17.1,
         "children": 23.4,
         "st_cnty": "SC_Marion",
         "state": "South Carolina",
         "winner": "Donald Trump",
         "votes": 1206,
         "fraction_votes": 0.425,
         "total_votes": 2837,
         "voter_turnout": 0.1159820672182512,
         "_deepnote_index_column": 1537
        },
        {
         "st_abbrev": "SC",
         "fips": "45069",
         "population": 27924,
         "income": 28297,
         "hispanic": 3.2,
         "asian": 0.4,
         "black": 51,
         "white": 39.9,
         "foreign": 1.9,
         "college": 8.7,
         "density": 60.3,
         "vets": 1873,
         "female": 46.8,
         "senior": 15.2,
         "children": 20.7,
         "st_cnty": "SC_Marlboro",
         "state": "South Carolina",
         "winner": "Donald Trump",
         "votes": 737,
         "fraction_votes": 0.421,
         "total_votes": 1749,
         "voter_turnout": 0.0789839761427748,
         "_deepnote_index_column": 1538
        },
        {
         "st_abbrev": "SC",
         "fips": "45089",
         "population": 32695,
         "income": 25849,
         "hispanic": 2.3,
         "asian": 0.4,
         "black": 65.1,
         "white": 31.5,
         "foreign": 1.4,
         "college": 12.2,
         "density": 36.8,
         "vets": 2053,
         "female": 51.5,
         "senior": 17.9,
         "children": 21.7,
         "st_cnty": "SC_Williamsburg",
         "state": "South Carolina",
         "winner": "Donald Trump",
         "votes": 1186,
         "fraction_votes": 0.433,
         "total_votes": 2739,
         "voter_turnout": 0.1069914143198574,
         "_deepnote_index_column": 1548
        },
        {
         "st_abbrev": "TN",
         "fips": "47027",
         "population": 7765,
         "income": 29727,
         "hispanic": 1.9,
         "asian": 0.1,
         "black": 1.6,
         "white": 94.9,
         "foreign": 1.5,
         "college": 12.9,
         "density": 33.2,
         "vets": 499,
         "female": 51.1,
         "senior": 23.7,
         "children": 20.5,
         "st_cnty": "TN_Clay",
         "state": "Tennessee",
         "winner": "Donald Trump",
         "votes": 600,
         "fraction_votes": 0.5710000000000001,
         "total_votes": 1029,
         "voter_turnout": 0.1666889404560862,
         "_deepnote_index_column": 1578
        },
        {
         "st_abbrev": "TN",
         "fips": "47049",
         "population": 17855,
         "income": 29192,
         "hispanic": 1.3,
         "asian": 0.3,
         "black": 0.4,
         "white": 96.9,
         "foreign": 0.7,
         "college": 11.1,
         "density": 36,
         "vets": 1408,
         "female": 51,
         "senior": 20,
         "children": 21.9,
         "st_cnty": "TN_Fentress",
         "state": "Tennessee",
         "winner": "Donald Trump",
         "votes": 1418,
         "fraction_votes": 0.486,
         "total_votes": 2862,
         "voter_turnout": 0.2052384570399408,
         "_deepnote_index_column": 1589
        },
        {
         "st_abbrev": "TN",
         "fips": "47061",
         "population": 13425,
         "income": 26814,
         "hispanic": 1.1,
         "asian": 0.2,
         "black": 0.6,
         "white": 96.4,
         "foreign": 0.7,
         "college": 10,
         "density": 38,
         "vets": 1001,
         "female": 50.5,
         "senior": 20.7,
         "children": 21.6,
         "st_cnty": "TN_Grundy",
         "state": "Tennessee",
         "winner": "Donald Trump",
         "votes": 912,
         "fraction_votes": 0.5579999999999999,
         "total_votes": 1598,
         "voter_turnout": 0.1518260935659179,
         "_deepnote_index_column": 1595
        },
        {
         "st_abbrev": "TN",
         "fips": "47091",
         "population": 17859,
         "income": 29609,
         "hispanic": 1.8,
         "asian": 0.3,
         "black": 2.3,
         "white": 94.4,
         "foreign": 1,
         "college": 9,
         "density": 61.1,
         "vets": 1503,
         "female": 46.5,
         "senior": 20.5,
         "children": 17.5,
         "st_cnty": "TN_Johnson",
         "state": "Tennessee",
         "winner": "Donald Trump",
         "votes": 1306,
         "fraction_votes": 0.46,
         "total_votes": 2769,
         "voter_turnout": 0.1879368182072701,
         "_deepnote_index_column": 1609
        },
        {
         "st_abbrev": "TN",
         "fips": "47151",
         "population": 21987,
         "income": 28401,
         "hispanic": 0.7,
         "asian": 0.3,
         "black": 0.3,
         "white": 97.5,
         "foreign": 0.4,
         "college": 10.3,
         "density": 41.8,
         "vets": 1172,
         "female": 50.8,
         "senior": 15.6,
         "children": 24.5,
         "st_cnty": "TN_Scott",
         "state": "Tennessee",
         "winner": "Donald Trump",
         "votes": 1090,
         "fraction_votes": 0.481,
         "total_votes": 2214,
         "voter_turnout": 0.13337200760112,
         "_deepnote_index_column": 1637
        },
        {
         "st_abbrev": "TX",
         "fips": "48405",
         "population": 8610,
         "income": 28390,
         "hispanic": 7.4,
         "asian": 0.5,
         "black": 22.8,
         "white": 68.3,
         "foreign": 1.7,
         "college": 12.4,
         "density": 16.7,
         "vets": 901,
         "female": 51.3,
         "senior": 25.3,
         "children": 20.4,
         "st_cnty": "TX_San Augustine",
         "state": "Texas",
         "winner": "Ted Cruz",
         "votes": 916,
         "fraction_votes": 0.451,
         "total_votes": 1944,
         "voter_turnout": 0.283648206187733,
         "_deepnote_index_column": 1797
        },
        {
         "st_abbrev": "VA",
         "fips": "51027",
         "population": 23106,
         "income": 29848,
         "hispanic": 0.6,
         "asian": 0.3,
         "black": 2.8,
         "white": 95.7,
         "foreign": 1.4,
         "college": 8.3,
         "density": 47.9,
         "vets": 1175,
         "female": 49.1,
         "senior": 19.4,
         "children": 17.7,
         "st_cnty": "VA_Buchanan",
         "state": "Virginia",
         "winner": "Donald Trump",
         "votes": 1586,
         "fraction_votes": 0.6970000000000001,
         "total_votes": 2267,
         "voter_turnout": 0.1192139055053896,
         "_deepnote_index_column": 1867
        },
        {
         "st_abbrev": "WV",
         "fips": "54027",
         "population": 23483,
         "income": 27766,
         "hispanic": 1.3,
         "asian": 0.3,
         "black": 1.3,
         "white": 95.9,
         "foreign": 0.4,
         "college": 8.2,
         "density": 37.4,
         "vets": 1448,
         "female": 49.3,
         "senior": 19.8,
         "children": 20.1,
         "st_cnty": "WV_Hampshire",
         "state": "West Virginia",
         "winner": "Donald Trump",
         "votes": 2125,
         "fraction_votes": 0.7440000000000001,
         "total_votes": 2621,
         "voter_turnout": 0.1396904329961061,
         "_deepnote_index_column": 1984
        },
        {
         "st_abbrev": "WV",
         "fips": "54087",
         "population": 14664,
         "income": 28513,
         "hispanic": 0.9,
         "asian": 0.3,
         "black": 0.4,
         "white": 97.1,
         "foreign": 0.3,
         "college": 10.3,
         "density": 30.9,
         "vets": 1206,
         "female": 50.4,
         "senior": 19.3,
         "children": 21.9,
         "st_cnty": "WV_Roane",
         "state": "West Virginia",
         "winner": "Donald Trump",
         "votes": 1457,
         "fraction_votes": 0.767,
         "total_votes": 1780,
         "voter_turnout": 0.1554234398106139,
         "_deepnote_index_column": 2011
        }
       ]
      },
      "text/plain": "     st_abbrev   fips  population  income  hispanic  asian  black  white  \\\n5           AL  01013       20296   29918       1.2    0.9   44.0   53.1   \n11          AL  01025       24945   29357       1.3    0.5   44.2   53.1   \n16          AL  01035       12670   24658       1.8    0.1   46.2   51.1   \n44          AL  01099       21947   29203       1.2    0.4   41.1   54.7   \n47          AL  01107       20365   28741       4.1    0.3   40.2   54.7   \n...        ...    ...         ...     ...       ...    ...    ...    ...   \n1637        TN  47151       21987   28401       0.7    0.3    0.3   97.5   \n1797        TX  48405        8610   28390       7.4    0.5   22.8   68.3   \n1867        VA  51027       23106   29848       0.6    0.3    2.8   95.7   \n1984        WV  54027       23483   27766       1.3    0.3    1.3   95.9   \n2011        WV  54087       14664   28513       0.9    0.3    0.4   97.1   \n\n      foreign  college  ...  female  senior  children           st_cnty  \\\n5         0.8     14.0  ...    53.6    18.0      23.6         AL_Butler   \n11        0.3     11.2  ...    52.8    18.0      22.6         AL_Clarke   \n16        0.6      8.8  ...    51.9    20.4      21.4        AL_Conecuh   \n44        0.9     10.6  ...    52.6    17.9      23.4         AL_Monroe   \n47        0.3     11.0  ...    50.6    17.8      20.5        AL_Pickens   \n...       ...      ...  ...     ...     ...       ...               ...   \n1637      0.4     10.3  ...    50.8    15.6      24.5          TN_Scott   \n1797      1.7     12.4  ...    51.3    25.3      20.4  TX_San Augustine   \n1867      1.4      8.3  ...    49.1    19.4      17.7       VA_Buchanan   \n1984      0.4      8.2  ...    49.3    19.8      20.1      WV_Hampshire   \n2011      0.3     10.3  ...    50.4    19.3      21.9          WV_Roane   \n\n              state        winner votes fraction_votes  total_votes  \\\n5           Alabama  Donald Trump  1720          0.538         3144   \n11          Alabama  Donald Trump  2308          0.502         4534   \n16          Alabama  Donald Trump   768          0.590         1271   \n44          Alabama  Donald Trump  1966          0.521         3701   \n47          Alabama  Donald Trump  1124          0.441         2487   \n...             ...           ...   ...            ...          ...   \n1637      Tennessee  Donald Trump  1090          0.481         2214   \n1797          Texas      Ted Cruz   916          0.451         1944   \n1867       Virginia  Donald Trump  1586          0.697         2267   \n1984  West Virginia  Donald Trump  2125          0.744         2621   \n2011  West Virginia  Donald Trump  1457          0.767         1780   \n\n      voter_turnout  \n5          0.202758  \n11         0.234832  \n16         0.127628  \n44         0.220148  \n47         0.153612  \n...             ...  \n1637       0.133372  \n1797       0.283648  \n1867       0.119214  \n1984       0.139690  \n2011       0.155423  \n\n[62 rows x 22 columns]",
      "text/html": "<div>\n<style scoped>\n    .dataframe tbody tr th:only-of-type {\n        vertical-align: middle;\n    }\n\n    .dataframe tbody tr th {\n        vertical-align: top;\n    }\n\n    .dataframe thead th {\n        text-align: right;\n    }\n</style>\n<table border=\"1\" class=\"dataframe\">\n  <thead>\n    <tr style=\"text-align: right;\">\n      <th></th>\n      <th>st_abbrev</th>\n      <th>fips</th>\n      <th>population</th>\n      <th>income</th>\n      <th>hispanic</th>\n      <th>asian</th>\n      <th>black</th>\n      <th>white</th>\n      <th>foreign</th>\n      <th>college</th>\n      <th>...</th>\n      <th>female</th>\n      <th>senior</th>\n      <th>children</th>\n      <th>st_cnty</th>\n      <th>state</th>\n      <th>winner</th>\n      <th>votes</th>\n      <th>fraction_votes</th>\n      <th>total_votes</th>\n      <th>voter_turnout</th>\n    </tr>\n  </thead>\n  <tbody>\n    <tr>\n      <th>5</th>\n      <td>AL</td>\n      <td>01013</td>\n      <td>20296</td>\n      <td>29918</td>\n      <td>1.2</td>\n      <td>0.9</td>\n      <td>44.0</td>\n      <td>53.1</td>\n      <td>0.8</td>\n      <td>14.0</td>\n      <td>...</td>\n      <td>53.6</td>\n      <td>18.0</td>\n      <td>23.6</td>\n      <td>AL_Butler</td>\n      <td>Alabama</td>\n      <td>Donald Trump</td>\n      <td>1720</td>\n      <td>0.538</td>\n      <td>3144</td>\n      <td>0.202758</td>\n    </tr>\n    <tr>\n      <th>11</th>\n      <td>AL</td>\n      <td>01025</td>\n      <td>24945</td>\n      <td>29357</td>\n      <td>1.3</td>\n      <td>0.5</td>\n      <td>44.2</td>\n      <td>53.1</td>\n      <td>0.3</td>\n      <td>11.2</td>\n      <td>...</td>\n      <td>52.8</td>\n      <td>18.0</td>\n      <td>22.6</td>\n      <td>AL_Clarke</td>\n      <td>Alabama</td>\n      <td>Donald Trump</td>\n      <td>2308</td>\n      <td>0.502</td>\n      <td>4534</td>\n      <td>0.234832</td>\n    </tr>\n    <tr>\n      <th>16</th>\n      <td>AL</td>\n      <td>01035</td>\n      <td>12670</td>\n      <td>24658</td>\n      <td>1.8</td>\n      <td>0.1</td>\n      <td>46.2</td>\n      <td>51.1</td>\n      <td>0.6</td>\n      <td>8.8</td>\n      <td>...</td>\n      <td>51.9</td>\n      <td>20.4</td>\n      <td>21.4</td>\n      <td>AL_Conecuh</td>\n      <td>Alabama</td>\n      <td>Donald Trump</td>\n      <td>768</td>\n      <td>0.590</td>\n      <td>1271</td>\n      <td>0.127628</td>\n    </tr>\n    <tr>\n      <th>44</th>\n      <td>AL</td>\n      <td>01099</td>\n      <td>21947</td>\n      <td>29203</td>\n      <td>1.2</td>\n      <td>0.4</td>\n      <td>41.1</td>\n      <td>54.7</td>\n      <td>0.9</td>\n      <td>10.6</td>\n      <td>...</td>\n      <td>52.6</td>\n      <td>17.9</td>\n      <td>23.4</td>\n      <td>AL_Monroe</td>\n      <td>Alabama</td>\n      <td>Donald Trump</td>\n      <td>1966</td>\n      <td>0.521</td>\n      <td>3701</td>\n      <td>0.220148</td>\n    </tr>\n    <tr>\n      <th>47</th>\n      <td>AL</td>\n      <td>01107</td>\n      <td>20365</td>\n      <td>28741</td>\n      <td>4.1</td>\n      <td>0.3</td>\n      <td>40.2</td>\n      <td>54.7</td>\n      <td>0.3</td>\n      <td>11.0</td>\n      <td>...</td>\n      <td>50.6</td>\n      <td>17.8</td>\n      <td>20.5</td>\n      <td>AL_Pickens</td>\n      <td>Alabama</td>\n      <td>Donald Trump</td>\n      <td>1124</td>\n      <td>0.441</td>\n      <td>2487</td>\n      <td>0.153612</td>\n    </tr>\n    <tr>\n      <th>...</th>\n      <td>...</td>\n      <td>...</td>\n      <td>...</td>\n      <td>...</td>\n      <td>...</td>\n      <td>...</td>\n      <td>...</td>\n      <td>...</td>\n      <td>...</td>\n      <td>...</td>\n      <td>...</td>\n      <td>...</td>\n      <td>...</td>\n      <td>...</td>\n      <td>...</td>\n      <td>...</td>\n      <td>...</td>\n      <td>...</td>\n      <td>...</td>\n      <td>...</td>\n      <td>...</td>\n    </tr>\n    <tr>\n      <th>1637</th>\n      <td>TN</td>\n      <td>47151</td>\n      <td>21987</td>\n      <td>28401</td>\n      <td>0.7</td>\n      <td>0.3</td>\n      <td>0.3</td>\n      <td>97.5</td>\n      <td>0.4</td>\n      <td>10.3</td>\n      <td>...</td>\n      <td>50.8</td>\n      <td>15.6</td>\n      <td>24.5</td>\n      <td>TN_Scott</td>\n      <td>Tennessee</td>\n      <td>Donald Trump</td>\n      <td>1090</td>\n      <td>0.481</td>\n      <td>2214</td>\n      <td>0.133372</td>\n    </tr>\n    <tr>\n      <th>1797</th>\n      <td>TX</td>\n      <td>48405</td>\n      <td>8610</td>\n      <td>28390</td>\n      <td>7.4</td>\n      <td>0.5</td>\n      <td>22.8</td>\n      <td>68.3</td>\n      <td>1.7</td>\n      <td>12.4</td>\n      <td>...</td>\n      <td>51.3</td>\n      <td>25.3</td>\n      <td>20.4</td>\n      <td>TX_San Augustine</td>\n      <td>Texas</td>\n      <td>Ted Cruz</td>\n      <td>916</td>\n      <td>0.451</td>\n      <td>1944</td>\n      <td>0.283648</td>\n    </tr>\n    <tr>\n      <th>1867</th>\n      <td>VA</td>\n      <td>51027</td>\n      <td>23106</td>\n      <td>29848</td>\n      <td>0.6</td>\n      <td>0.3</td>\n      <td>2.8</td>\n      <td>95.7</td>\n      <td>1.4</td>\n      <td>8.3</td>\n      <td>...</td>\n      <td>49.1</td>\n      <td>19.4</td>\n      <td>17.7</td>\n      <td>VA_Buchanan</td>\n      <td>Virginia</td>\n      <td>Donald Trump</td>\n      <td>1586</td>\n      <td>0.697</td>\n      <td>2267</td>\n      <td>0.119214</td>\n    </tr>\n    <tr>\n      <th>1984</th>\n      <td>WV</td>\n      <td>54027</td>\n      <td>23483</td>\n      <td>27766</td>\n      <td>1.3</td>\n      <td>0.3</td>\n      <td>1.3</td>\n      <td>95.9</td>\n      <td>0.4</td>\n      <td>8.2</td>\n      <td>...</td>\n      <td>49.3</td>\n      <td>19.8</td>\n      <td>20.1</td>\n      <td>WV_Hampshire</td>\n      <td>West Virginia</td>\n      <td>Donald Trump</td>\n      <td>2125</td>\n      <td>0.744</td>\n      <td>2621</td>\n      <td>0.139690</td>\n    </tr>\n    <tr>\n      <th>2011</th>\n      <td>WV</td>\n      <td>54087</td>\n      <td>14664</td>\n      <td>28513</td>\n      <td>0.9</td>\n      <td>0.3</td>\n      <td>0.4</td>\n      <td>97.1</td>\n      <td>0.3</td>\n      <td>10.3</td>\n      <td>...</td>\n      <td>50.4</td>\n      <td>19.3</td>\n      <td>21.9</td>\n      <td>WV_Roane</td>\n      <td>West Virginia</td>\n      <td>Donald Trump</td>\n      <td>1457</td>\n      <td>0.767</td>\n      <td>1780</td>\n      <td>0.155423</td>\n    </tr>\n  </tbody>\n</table>\n<p>62 rows × 22 columns</p>\n</div>"
     },
     "metadata": {}
    }
   ]
  },
  {
   "cell_type": "markdown",
   "source": "We can now plot subsets of data to, for example, highlight a specific subset of data in a plot.\n\nIn the cells below, we're going to do exactly this by stacking **two plots together**. Namely,\n\n1. A scatterplot of `college` vs. `income` of all counties in `rep`\n2. A scatterplot of `college` vs. `income` of just counties with income < 30,000 in `rep`\n\nFinally, we'll add a legend. Let's take it one plot at a time and when we're done we'll have something like this:\n\n![](.images/low_income.png)\n\n>**Your turn**:  \nCreate a scatter plot with `income` on the x-axis and `college` on the y-axis for just counties with income < 30,000 in `rep`. It should look like this:\n![](.images/just_low_income.png)",
   "metadata": {
    "tags": [],
    "cell_id": "00125-699adb9d-f7ac-4e52-8629-4cb8b81a67ab",
    "deepnote_cell_type": "markdown"
   }
  },
  {
   "cell_type": "code",
   "metadata": {
    "tags": [],
    "deepnote_to_be_reexecuted": false,
    "source_hash": "8814b3f4",
    "execution_millis": 1,
    "output_cleared": true,
    "cell_id": "00126-c13fb89b-b4b6-40a2-a9fe-89cf8bd71855",
    "execution_start": 1633286664159,
    "deepnote_cell_type": "code"
   },
   "source": "### Enter your code below: ###\n\n\n\n##############################",
   "execution_count": 12,
   "outputs": []
  },
  {
   "cell_type": "code",
   "metadata": {
    "tags": [],
    "is_code_hidden": true,
    "deepnote_to_be_reexecuted": false,
    "source_hash": "70c01842",
    "execution_millis": 1,
    "output_cleared": true,
    "cell_id": "00127-bba58cbb-72f0-4722-914b-8a9f213bd61f",
    "execution_start": 1633286664187,
    "deepnote_cell_type": "code"
   },
   "source": "# Solution\n\n# low_income = rep[rep['income'] < 30000]\n# sns.scatterplot(data=low_income, x='income', y='college');",
   "execution_count": 13,
   "outputs": []
  },
  {
   "cell_type": "markdown",
   "source": "Now, we can add a plot to this figure by calling a plotting function like `scatterplot()` **in the same cell**.\n\n>**Your turn**:  \nAdd your old scatter plot with `income` on the x-axis and `college` on the y-axis for counties in `rep`. The one that looked like this:\n\n>![](.images/college_v_income.png)",
   "metadata": {
    "tags": [],
    "cell_id": "00128-2390aaf3-8b44-4a26-9119-8a680ec5734f",
    "deepnote_cell_type": "markdown"
   }
  },
  {
   "cell_type": "code",
   "metadata": {
    "tags": [],
    "deepnote_to_be_reexecuted": false,
    "source_hash": "1abefb60",
    "cell_id": "00129-264a97e8-1057-4959-81b6-4d5ba841e4e8",
    "execution_start": 1633286664188,
    "execution_millis": 0,
    "deepnote_cell_type": "code"
   },
   "source": "# Copy and paste your code from the old plot shown above here:\n\n\n### Now add the new plot below: ###\n\n\n\n###################################",
   "execution_count": 14,
   "outputs": []
  },
  {
   "cell_type": "code",
   "metadata": {
    "tags": [],
    "deepnote_to_be_reexecuted": false,
    "source_hash": "ca02d356",
    "is_code_hidden": true,
    "execution_millis": 1,
    "output_cleared": true,
    "cell_id": "00130-ba0790fe-f8b1-478f-a9c6-a886df280a34",
    "execution_start": 1633286664188,
    "deepnote_cell_type": "code"
   },
   "source": "# Solution\n# low_income = rep[rep['income'] < 30000]\n# sns.scatterplot(data=low_income, x='income', y='college')\n# sns.scatterplot(data=rep, x='income', y='college');",
   "execution_count": 15,
   "outputs": []
  },
  {
   "cell_type": "markdown",
   "source": "**_Wait a minute, why is everything orange?! And where's the low income data?_**\n\nIt turns out that **order matters** when combining consecutive plots. New plots will be stacked on top of old ones and cover up anything from older plots.\n\n>**Your turn:**  \nChange the plotting order so that you show the low income data last!",
   "metadata": {
    "tags": [],
    "cell_id": "00131-3eb22445-d2d8-4a93-9c58-6e4e54daf3f3",
    "deepnote_cell_type": "markdown"
   }
  },
  {
   "cell_type": "code",
   "metadata": {
    "tags": [],
    "deepnote_to_be_reexecuted": false,
    "source_hash": "8814b3f4",
    "cell_id": "00132-48709653-0db7-458c-a756-9b5e2f8fba91",
    "execution_start": 1633286664189,
    "execution_millis": 7,
    "deepnote_cell_type": "code"
   },
   "source": "### Enter your code below: ###\n\n\n\n##############################",
   "execution_count": 16,
   "outputs": []
  },
  {
   "cell_type": "code",
   "metadata": {
    "tags": [],
    "is_code_hidden": true,
    "deepnote_to_be_reexecuted": false,
    "source_hash": "422d1709",
    "cell_id": "00133-3ed78f06-08d4-449f-9c18-6b90f9dee4ea",
    "execution_start": 1633286664197,
    "execution_millis": 0,
    "deepnote_cell_type": "code"
   },
   "source": "# Solution\n\n# sns.scatterplot(data=rep, x='income', y='college')\n# low_income = rep[rep['income'] < 30000]\n# sns.scatterplot(data=low_income, x='income', y='college');",
   "execution_count": 17,
   "outputs": []
  },
  {
   "cell_type": "markdown",
   "source": "**Much better!**\n\n<center>\n\n![](.images/hidethedata_small.png)\n\n</center>\n\nNotice that **data from the new plot has a different color** than the first plot. The first plot is blue and the second is orange. Seaborn and Matplotlib automatically change the colors of consecutive plots using a default color cycle.",
   "metadata": {
    "tags": [],
    "cell_id": "00134-5b010a5a-bdca-44e1-bc98-59af27e1b316",
    "deepnote_cell_type": "markdown"
   }
  },
  {
   "cell_type": "markdown",
   "source": "<center>\n\n![](.images/MPL_default_colors.png)\n\n</center>",
   "metadata": {
    "tags": [],
    "cell_id": "00135-1a279880-713e-43c2-909b-3d1db5bfb9c4",
    "deepnote_cell_type": "markdown"
   }
  },
  {
   "cell_type": "markdown",
   "source": "You can directly use the default colors by their names `'C0'`, `'C1'`, `'C2'`, and so on. Most `seaborn` plotting functions accept a `color` argument that you can specify like this:\n```python\nsns.scatterplot(..., color='C3')\nsns.scatterplot(..., color='C4');\n# The ellipsis is the other required arguments like data=rep, x='income', etc.\n```\n\nWe've changed the colors of the plots below, go ahead and edit the cell to try changing the colors yourself too!",
   "metadata": {
    "tags": [],
    "cell_id": "00136-e6cde419-b0ce-4558-991f-96d06737fee3",
    "deepnote_cell_type": "markdown"
   }
  },
  {
   "cell_type": "code",
   "metadata": {
    "tags": [],
    "deepnote_to_be_reexecuted": false,
    "source_hash": "b976fd3d",
    "execution_millis": 371,
    "execution_start": 1633286664240,
    "cell_id": "00137-803cd890-2310-4715-bc7d-70bfcf1a246a",
    "deepnote_cell_type": "code"
   },
   "source": "# Run this cell!\n\n# Notice the new argument for scatterplot: color\n\nsns.scatterplot(data=rep, x='income', y='college', color='C8')\nlow_income = rep[rep['income'] < 30000]\nsns.scatterplot(data=low_income, x='income', y='college', color='C9');",
   "execution_count": 18,
   "outputs": [
    {
     "data": {
      "text/plain": "<Figure size 432x288 with 1 Axes>",
      "image/png": "[encoded data removed]"
     },
     "metadata": {
      "image/png": {
       "width": 389,
       "height": 268
      }
     },
     "output_type": "display_data"
    }
   ]
  },
  {
   "cell_type": "markdown",
   "source": "We should **add a legend** to indicate what the colors mean. The `scatterplot()` function and many other seaborn functions (including every plot in this kit) have a `label` parameter to help with this. The syntax looks like this:\n```python\nsns.scatterplot(..., label='label 1')\nsns.scatterplot(..., label='label 2')\nplt.legend(); # We also have to call legend() to make sure a legend appears.\n# The ellipsis is the other normal arguments like data=rep, x='income', etc.\n```\nThis would create a scatter plot with a legend showing points from the first plot as 'label 1' and points from the second plot as 'label 2'.\n\n>**Your turn**:  \nUse the `label` parameter to add an informative legend to the figure you've made so far.",
   "metadata": {
    "tags": [],
    "cell_id": "00138-6eb8ff9c-ecad-4a16-9f69-70d5587ad2b1",
    "deepnote_cell_type": "markdown"
   }
  },
  {
   "cell_type": "code",
   "metadata": {
    "tags": [],
    "deepnote_to_be_reexecuted": false,
    "source_hash": "8814b3f4",
    "cell_id": "00139-d1e0a3b0-0708-4639-a562-72a786cca9d9",
    "execution_start": 1633286664626,
    "execution_millis": 1,
    "deepnote_cell_type": "code"
   },
   "source": "### Enter your code below: ###\n\n\n\n##############################",
   "execution_count": 19,
   "outputs": []
  },
  {
   "cell_type": "code",
   "metadata": {
    "tags": [],
    "deepnote_to_be_reexecuted": false,
    "source_hash": "cfa8328b",
    "execution_millis": 0,
    "is_code_hidden": true,
    "cell_id": "00140-e39a9aa4-d5aa-478e-930b-716a4d743df4",
    "execution_start": 1633286664627,
    "deepnote_cell_type": "code"
   },
   "source": "# Solution\n# sns.scatterplot(data=rep, x='income', y='college', label='All')\n# low_income = rep[rep['income'] < 30000]\n# sns.scatterplot(data=low_income, x='income', y='college', label='Income < 30,000')\n# plt.legend();",
   "execution_count": 20,
   "outputs": []
  },
  {
   "cell_type": "markdown",
   "source": "Great job! Hopefully it's clear now how you can subset your data for more targeted visualizations and analysis.",
   "metadata": {
    "tags": [],
    "cell_id": "00141-49f785c4-4f66-45e3-bff9-d11cb79e8ca6",
    "deepnote_cell_type": "markdown"
   }
  },
  {
   "cell_type": "markdown",
   "source": "There are also several other boolean operators you can use to subset your data based on conditions.\n\n**Boolean Operators:** used to compare numeric values.\n* `<`: less than\n    - Example: `rep['income'] < 30000`\n* `>`: greater than\n    - Example: `rep['income'] > 30000`\n* `==`: equal to\n    - Example: `rep['income'] == 30000`\n* `<=`: less than or equal to\n    - Example: `rep['income'] <= 30000`\n* `>=`: greater than or equal to\n    - Example: `rep['income'] >= 30000`\n\n**Combining operators/conditions:**\n* `|`: OR, used to match either condition or both\n    - Example: `(rep['income'] < 30000) | (rep['income'] > 60000)`\n    - Will match counties where the median income is either less than \\$30,000 or greater than \\$60,000.\n* `&`: AND, used to match both conditions\n    - Example: `(rep['income'] < 30000) & (rep['college'] > 15)`\n    - Will match counties where the median income is less than \\$30,000 and more than 15% of population has a college degree.\n\n>**Important Note!** When combining conditions each condition must be wrapped with parentheses `()`!",
   "metadata": {
    "tags": [],
    "cell_id": "00151-1f12be9b-3878-4b43-9ee7-f79d5f191f5a",
    "deepnote_cell_type": "markdown"
   }
  },
  {
   "cell_type": "markdown",
   "source": "### `isin()`\n\nSometimes you will need to compare a feature to several possibilities at the same time. For example, suppose we wanted to select counties from California, New York, and Texas. We could use the following filter:\n```python\nmy_filter = (df['state'] == 'California') | (df['state'] == 'New York') | (df['state'] == 'Texas')\n```\nbut you can imagine that if we wanted to include more states the filter would become very verbose.\n\n`pandas` has a function to help! The `isin()` function checks whether every element you input is in the DataFrame. The function returns True if the element is found in the dataframe and False if it is not.\n\nWe could replace our filter above with the following code instead:\n```python\nmy_filter = df['state'].isin(['California', 'New York', 'Texas'])\n```\nMuch better! In the example above we gave `isin()` a list, but `isin()` also works with any iterable object. This includes lists, sets, dictionaries, and other `pandas` objects like DataFrames and Series (i.e. columns from DataFrames). Check out the [official documentation](https://pandas.pydata.org/docs/reference/api/pandas.Series.isin.html) for more information.\n\n>**Your turn:**  \nCreate a `choropleth()` showing the percentage of whites in counties from the **Republican** primary within the following states:  \n**Delaware, Florida, Georgia, Maryland, North Carolina, South Carolina, Virginia, District of Columbia, West Virginia, Alabama, Kentucky, Mississippi, Tennessee, Arkansas, Louisiana, Oklahoma, and Texas**.  \nThese are all the states in the 'South' US Census region.",
   "metadata": {
    "tags": [],
    "cell_id": "00055-a21ac8d7-c31c-4683-94bb-0af3961ae373",
    "deepnote_cell_type": "markdown"
   }
  },
  {
   "cell_type": "code",
   "metadata": {
    "tags": [],
    "cell_id": "00056-1f6bbd04-afef-441f-b420-0f6fecfeb4eb",
    "deepnote_to_be_reexecuted": false,
    "source_hash": "8814b3f4",
    "execution_start": 1633286664628,
    "execution_millis": 0,
    "deepnote_cell_type": "code"
   },
   "source": "### Enter your code below: ###\n\n\n\n##############################",
   "execution_count": 21,
   "outputs": []
  },
  {
   "cell_type": "code",
   "metadata": {
    "tags": [],
    "cell_id": "00057-930aab40-2265-46d4-8db1-96f5b95e07cd",
    "is_code_hidden": true,
    "deepnote_to_be_reexecuted": false,
    "source_hash": "a3761a4a",
    "execution_start": 1633286664628,
    "execution_millis": 2,
    "deepnote_cell_type": "code"
   },
   "source": "# Solution\n\n# southern_states = ['Delaware', 'Florida', 'Georgia', 'Maryland', 'North Carolina', 'South Carolina', 'Virginia', 'District of Columbia', 'West Virginia', 'Alabama', 'Kentucky', 'Mississippi', 'Tennessee', 'Arkansas', 'Louisiana', 'Oklahoma', 'Texas']\n# southern_states_filter = rep['state'].isin(southern_states)\n# choropleth(rep[southern_states_filter], 'white')",
   "execution_count": 22,
   "outputs": []
  },
  {
   "cell_type": "markdown",
   "source": "### `subset()`\nNow that you've had practice with the `isin()` function and filtering, we want to introduce a function we have created for you to help subset the data by US Census regions and historical voting patterns.  \n\nWhat if we wanted to subset the dataset by the western census region?",
   "metadata": {
    "tags": [],
    "cell_id": "00055-2c4cccf1-bb32-4b99-87dc-2ee7a970c2a2",
    "deepnote_cell_type": "markdown"
   }
  },
  {
   "cell_type": "code",
   "metadata": {
    "tags": [],
    "cell_id": "00056-15748e4a-b932-4d78-a240-330d604bce6e",
    "deepnote_to_be_reexecuted": false,
    "source_hash": "8607c3c6",
    "execution_start": 1633286664730,
    "execution_millis": 19,
    "deepnote_cell_type": "code"
   },
   "source": "# Run this cell!\nsubset(rep_st, 'west')",
   "execution_count": 23,
   "outputs": [
    {
     "output_type": "execute_result",
     "execution_count": 23,
     "data": {
      "application/vnd.deepnote.dataframe.v2+json": {
       "row_count": 8,
       "column_count": 21,
       "columns": [
        {
         "name": "state",
         "dtype": "object",
         "stats": {
          "unique_count": 8,
          "nan_count": 0,
          "categories": [
           {
            "name": "Arizona",
            "count": 1
           },
           {
            "name": "California",
            "count": 1
           },
           {
            "name": "6 others",
            "count": 6
           }
          ]
         }
        },
        {
         "name": "st_abbrev",
         "dtype": "object",
         "stats": {
          "unique_count": 8,
          "nan_count": 0,
          "categories": [
           {
            "name": "AZ",
            "count": 1
           },
           {
            "name": "CA",
            "count": 1
           },
           {
            "name": "6 others",
            "count": 6
           }
          ]
         }
        },
        {
         "name": "fips",
         "dtype": "object",
         "stats": {
          "unique_count": 8,
          "nan_count": 0,
          "categories": [
           {
            "name": "04000",
            "count": 1
           },
           {
            "name": "06000",
            "count": 1
           },
           {
            "name": "6 others",
            "count": 6
           }
          ]
         }
        },
        {
         "name": "population",
         "dtype": "int64",
         "stats": {
          "unique_count": 8,
          "nan_count": 0,
          "min": "1023579",
          "max": "38802500",
          "histogram": [
           {
            "bin_start": 1023579,
            "bin_end": 4801471.1,
            "count": 5
           },
           {
            "bin_start": 4801471.1,
            "bin_end": 8579363.2,
            "count": 2
           },
           {
            "bin_start": 8579363.2,
            "bin_end": 12357255.3,
            "count": 0
           },
           {
            "bin_start": 12357255.3,
            "bin_end": 16135147.4,
            "count": 0
           },
           {
            "bin_start": 16135147.4,
            "bin_end": 19913039.5,
            "count": 0
           },
           {
            "bin_start": 19913039.5,
            "bin_end": 23690931.6,
            "count": 0
           },
           {
            "bin_start": 23690931.6,
            "bin_end": 27468823.7,
            "count": 0
           },
           {
            "bin_start": 27468823.7,
            "bin_end": 31246715.8,
            "count": 0
           },
           {
            "bin_start": 31246715.8,
            "bin_end": 35024607.9,
            "count": 0
           },
           {
            "bin_start": 35024607.9,
            "bin_end": 38802500,
            "count": 1
           }
          ]
         }
        },
        {
         "name": "income",
         "dtype": "int64",
         "stats": {
          "unique_count": 8,
          "nan_count": 0,
          "min": "44927",
          "max": "61094",
          "histogram": [
           {
            "bin_start": 44927,
            "bin_end": 46543.7,
            "count": 2
           },
           {
            "bin_start": 46543.7,
            "bin_end": 48160.4,
            "count": 1
           },
           {
            "bin_start": 48160.4,
            "bin_end": 49777.1,
            "count": 1
           },
           {
            "bin_start": 49777.1,
            "bin_end": 51393.8,
            "count": 1
           },
           {
            "bin_start": 51393.8,
            "bin_end": 53010.5,
            "count": 0
           },
           {
            "bin_start": 53010.5,
            "bin_end": 54627.2,
            "count": 0
           },
           {
            "bin_start": 54627.2,
            "bin_end": 56243.9,
            "count": 0
           },
           {
            "bin_start": 56243.9,
            "bin_end": 57860.6,
            "count": 0
           },
           {
            "bin_start": 57860.6,
            "bin_end": 59477.3,
            "count": 1
           },
           {
            "bin_start": 59477.3,
            "bin_end": 61094,
            "count": 2
           }
          ]
         }
        },
        {
         "name": "hispanic",
         "dtype": "float64",
         "stats": {
          "unique_count": 8,
          "nan_count": 0,
          "min": "3.5",
          "max": "47.7",
          "histogram": [
           {
            "bin_start": 3.5,
            "bin_end": 7.92,
            "count": 1
           },
           {
            "bin_start": 7.92,
            "bin_end": 12.34,
            "count": 2
           },
           {
            "bin_start": 12.34,
            "bin_end": 16.759999999999998,
            "count": 2
           },
           {
            "bin_start": 16.759999999999998,
            "bin_end": 21.18,
            "count": 0
           },
           {
            "bin_start": 21.18,
            "bin_end": 25.6,
            "count": 0
           },
           {
            "bin_start": 25.6,
            "bin_end": 30.02,
            "count": 0
           },
           {
            "bin_start": 30.02,
            "bin_end": 34.44,
            "count": 1
           },
           {
            "bin_start": 34.44,
            "bin_end": 38.86,
            "count": 1
           },
           {
            "bin_start": 38.86,
            "bin_end": 43.28,
            "count": 0
           },
           {
            "bin_start": 43.28,
            "bin_end": 47.7,
            "count": 1
           }
          ]
         }
        },
        {
         "name": "asian",
         "dtype": "float64",
         "stats": {
          "unique_count": 8,
          "nan_count": 0,
          "min": "0.8",
          "max": "14.4",
          "histogram": [
           {
            "bin_start": 0.8,
            "bin_end": 2.16,
            "count": 3
           },
           {
            "bin_start": 2.16,
            "bin_end": 3.5199999999999996,
            "count": 2
           },
           {
            "bin_start": 3.5199999999999996,
            "bin_end": 4.88,
            "count": 1
           },
           {
            "bin_start": 4.88,
            "bin_end": 6.239999999999999,
            "count": 0
           },
           {
            "bin_start": 6.239999999999999,
            "bin_end": 7.599999999999999,
            "count": 0
           },
           {
            "bin_start": 7.599999999999999,
            "bin_end": 8.96,
            "count": 1
           },
           {
            "bin_start": 8.96,
            "bin_end": 10.32,
            "count": 0
           },
           {
            "bin_start": 10.32,
            "bin_end": 11.68,
            "count": 0
           },
           {
            "bin_start": 11.68,
            "bin_end": 13.04,
            "count": 0
           },
           {
            "bin_start": 13.04,
            "bin_end": 14.4,
            "count": 1
           }
          ]
         }
        },
        {
         "name": "black",
         "dtype": "float64",
         "stats": {
          "unique_count": 8,
          "nan_count": 0,
          "min": "0.6",
          "max": "6.5",
          "histogram": [
           {
            "bin_start": 0.6,
            "bin_end": 1.19,
            "count": 2
           },
           {
            "bin_start": 1.19,
            "bin_end": 1.7800000000000002,
            "count": 1
           },
           {
            "bin_start": 1.7800000000000002,
            "bin_end": 2.37,
            "count": 1
           },
           {
            "bin_start": 2.37,
            "bin_end": 2.9600000000000004,
            "count": 1
           },
           {
            "bin_start": 2.9600000000000004,
            "bin_end": 3.5500000000000003,
            "count": 0
           },
           {
            "bin_start": 3.5500000000000003,
            "bin_end": 4.140000000000001,
            "count": 1
           },
           {
            "bin_start": 4.140000000000001,
            "bin_end": 4.73,
            "count": 1
           },
           {
            "bin_start": 4.73,
            "bin_end": 5.32,
            "count": 0
           },
           {
            "bin_start": 5.32,
            "bin_end": 5.91,
            "count": 0
           },
           {
            "bin_start": 5.91,
            "bin_end": 6.5,
            "count": 1
           }
          ]
         }
        },
        {
         "name": "white",
         "dtype": "float64",
         "stats": {
          "unique_count": 8,
          "nan_count": 0,
          "min": "38.5",
          "max": "86.7",
          "histogram": [
           {
            "bin_start": 38.5,
            "bin_end": 43.32,
            "count": 2
           },
           {
            "bin_start": 43.32,
            "bin_end": 48.14,
            "count": 0
           },
           {
            "bin_start": 48.14,
            "bin_end": 52.96,
            "count": 0
           },
           {
            "bin_start": 52.96,
            "bin_end": 57.78,
            "count": 1
           },
           {
            "bin_start": 57.78,
            "bin_end": 62.6,
            "count": 0
           },
           {
            "bin_start": 62.6,
            "bin_end": 67.42,
            "count": 0
           },
           {
            "bin_start": 67.42,
            "bin_end": 72.24000000000001,
            "count": 1
           },
           {
            "bin_start": 72.24000000000001,
            "bin_end": 77.06,
            "count": 1
           },
           {
            "bin_start": 77.06,
            "bin_end": 81.88,
            "count": 1
           },
           {
            "bin_start": 81.88,
            "bin_end": 86.7,
            "count": 2
           }
          ]
         }
        },
        {
         "name": "foreign",
         "dtype": "float64",
         "stats": {
          "unique_count": 7,
          "nan_count": 0,
          "min": "2.0",
          "max": "27.0",
          "histogram": [
           {
            "bin_start": 2,
            "bin_end": 4.5,
            "count": 1
           },
           {
            "bin_start": 4.5,
            "bin_end": 7,
            "count": 1
           },
           {
            "bin_start": 7,
            "bin_end": 9.5,
            "count": 1
           },
           {
            "bin_start": 9.5,
            "bin_end": 12,
            "count": 2
           },
           {
            "bin_start": 12,
            "bin_end": 14.5,
            "count": 2
           },
           {
            "bin_start": 14.5,
            "bin_end": 17,
            "count": 0
           },
           {
            "bin_start": 17,
            "bin_end": 19.5,
            "count": 0
           },
           {
            "bin_start": 19.5,
            "bin_end": 22,
            "count": 0
           },
           {
            "bin_start": 22,
            "bin_end": 24.5,
            "count": 0
           },
           {
            "bin_start": 24.5,
            "bin_end": 27,
            "count": 1
           }
          ]
         }
        },
        {
         "name": "college",
         "dtype": "float64",
         "stats": {
          "unique_count": 8,
          "nan_count": 0,
          "min": "25.1",
          "max": "31.9",
          "histogram": [
           {
            "bin_start": 25.1,
            "bin_end": 25.78,
            "count": 1
           },
           {
            "bin_start": 25.78,
            "bin_end": 26.46,
            "count": 1
           },
           {
            "bin_start": 26.46,
            "bin_end": 27.14,
            "count": 1
           },
           {
            "bin_start": 27.14,
            "bin_end": 27.82,
            "count": 0
           },
           {
            "bin_start": 27.82,
            "bin_end": 28.5,
            "count": 0
           },
           {
            "bin_start": 28.5,
            "bin_end": 29.18,
            "count": 1
           },
           {
            "bin_start": 29.18,
            "bin_end": 29.86,
            "count": 1
           },
           {
            "bin_start": 29.86,
            "bin_end": 30.54,
            "count": 1
           },
           {
            "bin_start": 30.54,
            "bin_end": 31.22,
            "count": 1
           },
           {
            "bin_start": 31.22,
            "bin_end": 31.9,
            "count": 1
           }
          ]
         }
        },
        {
         "name": "density",
         "dtype": "float64",
         "stats": {
          "unique_count": 8,
          "nan_count": 0,
          "min": "6.8",
          "max": "239.1",
          "histogram": [
           {
            "bin_start": 6.8,
            "bin_end": 30.029999999999998,
            "count": 3
           },
           {
            "bin_start": 30.029999999999998,
            "bin_end": 53.25999999999999,
            "count": 2
           },
           {
            "bin_start": 53.25999999999999,
            "bin_end": 76.49,
            "count": 1
           },
           {
            "bin_start": 76.49,
            "bin_end": 99.71999999999998,
            "count": 0
           },
           {
            "bin_start": 99.71999999999998,
            "bin_end": 122.94999999999997,
            "count": 1
           },
           {
            "bin_start": 122.94999999999997,
            "bin_end": 146.18,
            "count": 0
           },
           {
            "bin_start": 146.18,
            "bin_end": 169.41,
            "count": 0
           },
           {
            "bin_start": 169.41,
            "bin_end": 192.64,
            "count": 0
           },
           {
            "bin_start": 192.64,
            "bin_end": 215.86999999999998,
            "count": 0
           },
           {
            "bin_start": 215.86999999999998,
            "bin_end": 239.1,
            "count": 1
           }
          ]
         }
        },
        {
         "name": "vets",
         "dtype": "int64",
         "stats": {
          "unique_count": 8,
          "nan_count": 0,
          "min": "94404",
          "max": "1893539",
          "histogram": [
           {
            "bin_start": 94404,
            "bin_end": 274317.5,
            "count": 4
           },
           {
            "bin_start": 274317.5,
            "bin_end": 454231,
            "count": 1
           },
           {
            "bin_start": 454231,
            "bin_end": 634144.5,
            "count": 2
           },
           {
            "bin_start": 634144.5,
            "bin_end": 814058,
            "count": 0
           },
           {
            "bin_start": 814058,
            "bin_end": 993971.5,
            "count": 0
           },
           {
            "bin_start": 993971.5,
            "bin_end": 1173885,
            "count": 0
           },
           {
            "bin_start": 1173885,
            "bin_end": 1353798.5,
            "count": 0
           },
           {
            "bin_start": 1353798.5,
            "bin_end": 1533712,
            "count": 0
           },
           {
            "bin_start": 1533712,
            "bin_end": 1713625.5,
            "count": 0
           },
           {
            "bin_start": 1713625.5,
            "bin_end": 1893539,
            "count": 1
           }
          ]
         }
        },
        {
         "name": "female",
         "dtype": "float64",
         "stats": {
          "unique_count": 6,
          "nan_count": 0,
          "min": "49.7",
          "max": "50.5",
          "histogram": [
           {
            "bin_start": 49.7,
            "bin_end": 49.78,
            "count": 1
           },
           {
            "bin_start": 49.78,
            "bin_end": 49.86,
            "count": 1
           },
           {
            "bin_start": 49.86,
            "bin_end": 49.940000000000005,
            "count": 1
           },
           {
            "bin_start": 49.940000000000005,
            "bin_end": 50.02,
            "count": 1
           },
           {
            "bin_start": 50.02,
            "bin_end": 50.1,
            "count": 0
           },
           {
            "bin_start": 50.1,
            "bin_end": 50.18,
            "count": 0
           },
           {
            "bin_start": 50.18,
            "bin_end": 50.26,
            "count": 0
           },
           {
            "bin_start": 50.26,
            "bin_end": 50.34,
            "count": 2
           },
           {
            "bin_start": 50.34,
            "bin_end": 50.42,
            "count": 0
           },
           {
            "bin_start": 50.42,
            "bin_end": 50.5,
            "count": 2
           }
          ]
         }
        },
        {
         "name": "senior",
         "dtype": "float64",
         "stats": {
          "unique_count": 8,
          "nan_count": 0,
          "min": "10.0",
          "max": "16.7",
          "histogram": [
           {
            "bin_start": 10,
            "bin_end": 10.67,
            "count": 1
           },
           {
            "bin_start": 10.67,
            "bin_end": 11.34,
            "count": 0
           },
           {
            "bin_start": 11.34,
            "bin_end": 12.01,
            "count": 0
           },
           {
            "bin_start": 12.01,
            "bin_end": 12.68,
            "count": 0
           },
           {
            "bin_start": 12.68,
            "bin_end": 13.35,
            "count": 1
           },
           {
            "bin_start": 13.35,
            "bin_end": 14.02,
            "count": 0
           },
           {
            "bin_start": 14.02,
            "bin_end": 14.69,
            "count": 2
           },
           {
            "bin_start": 14.69,
            "bin_end": 15.36,
            "count": 1
           },
           {
            "bin_start": 15.36,
            "bin_end": 16.03,
            "count": 2
           },
           {
            "bin_start": 16.03,
            "bin_end": 16.7,
            "count": 1
           }
          ]
         }
        },
        {
         "name": "children",
         "dtype": "float64",
         "stats": {
          "unique_count": 7,
          "nan_count": 0,
          "min": "21.6",
          "max": "30.7",
          "histogram": [
           {
            "bin_start": 21.6,
            "bin_end": 22.51,
            "count": 2
           },
           {
            "bin_start": 22.51,
            "bin_end": 23.42,
            "count": 1
           },
           {
            "bin_start": 23.42,
            "bin_end": 24.330000000000002,
            "count": 3
           },
           {
            "bin_start": 24.330000000000002,
            "bin_end": 25.240000000000002,
            "count": 0
           },
           {
            "bin_start": 25.240000000000002,
            "bin_end": 26.15,
            "count": 0
           },
           {
            "bin_start": 26.15,
            "bin_end": 27.060000000000002,
            "count": 1
           },
           {
            "bin_start": 27.060000000000002,
            "bin_end": 27.97,
            "count": 0
           },
           {
            "bin_start": 27.97,
            "bin_end": 28.88,
            "count": 0
           },
           {
            "bin_start": 28.88,
            "bin_end": 29.79,
            "count": 0
           },
           {
            "bin_start": 29.79,
            "bin_end": 30.7,
            "count": 1
           }
          ]
         }
        },
        {
         "name": "winner",
         "dtype": "object",
         "stats": {
          "unique_count": 2,
          "nan_count": 0,
          "categories": [
           {
            "name": "Donald Trump",
            "count": 6
           },
           {
            "name": "Ted Cruz",
            "count": 2
           }
          ]
         }
        },
        {
         "name": "votes",
         "dtype": "int64",
         "stats": {
          "unique_count": 8,
          "nan_count": 0,
          "min": "68782",
          "max": "1174210",
          "histogram": [
           {
            "bin_start": 68782,
            "bin_end": 179324.8,
            "count": 4
           },
           {
            "bin_start": 179324.8,
            "bin_end": 289867.6,
            "count": 2
           },
           {
            "bin_start": 289867.6,
            "bin_end": 400410.4,
            "count": 0
           },
           {
            "bin_start": 400410.4,
            "bin_end": 510953.2,
            "count": 1
           },
           {
            "bin_start": 510953.2,
            "bin_end": 621496,
            "count": 0
           },
           {
            "bin_start": 621496,
            "bin_end": 732038.8,
            "count": 0
           },
           {
            "bin_start": 732038.8,
            "bin_end": 842581.6,
            "count": 0
           },
           {
            "bin_start": 842581.6,
            "bin_end": 953124.4,
            "count": 0
           },
           {
            "bin_start": 953124.4,
            "bin_end": 1063667.2000000002,
            "count": 0
           },
           {
            "bin_start": 1063667.2000000002,
            "bin_end": 1174210,
            "count": 1
           }
          ]
         }
        },
        {
         "name": "total_votes",
         "dtype": "int64",
         "stats": {
          "unique_count": 8,
          "nan_count": 0,
          "min": "89060",
          "max": "1494865",
          "histogram": [
           {
            "bin_start": 89060,
            "bin_end": 229640.5,
            "count": 4
           },
           {
            "bin_start": 229640.5,
            "bin_end": 370221,
            "count": 1
           },
           {
            "bin_start": 370221,
            "bin_end": 510801.5,
            "count": 2
           },
           {
            "bin_start": 510801.5,
            "bin_end": 651382,
            "count": 0
           },
           {
            "bin_start": 651382,
            "bin_end": 791962.5,
            "count": 0
           },
           {
            "bin_start": 791962.5,
            "bin_end": 932543,
            "count": 0
           },
           {
            "bin_start": 932543,
            "bin_end": 1073123.5,
            "count": 0
           },
           {
            "bin_start": 1073123.5,
            "bin_end": 1213704,
            "count": 0
           },
           {
            "bin_start": 1213704,
            "bin_end": 1354284.5,
            "count": 0
           },
           {
            "bin_start": 1354284.5,
            "bin_end": 1494865,
            "count": 1
           }
          ]
         }
        },
        {
         "name": "fraction_votes",
         "dtype": "float64",
         "stats": {
          "unique_count": 8,
          "nan_count": 0,
          "min": "0.4701278870013361",
          "max": "0.8167760816261963",
          "histogram": [
           {
            "bin_start": 0.4701278870013361,
            "bin_end": 0.5047927064638221,
            "count": 1
           },
           {
            "bin_start": 0.5047927064638221,
            "bin_end": 0.5394575259263081,
            "count": 0
           },
           {
            "bin_start": 0.5394575259263081,
            "bin_end": 0.5741223453887941,
            "count": 0
           },
           {
            "bin_start": 0.5741223453887941,
            "bin_end": 0.6087871648512801,
            "count": 1
           },
           {
            "bin_start": 0.6087871648512801,
            "bin_end": 0.6434519843137663,
            "count": 0
           },
           {
            "bin_start": 0.6434519843137663,
            "bin_end": 0.6781168037762523,
            "count": 1
           },
           {
            "bin_start": 0.6781168037762523,
            "bin_end": 0.7127816232387383,
            "count": 1
           },
           {
            "bin_start": 0.7127816232387383,
            "bin_end": 0.7474464427012243,
            "count": 0
           },
           {
            "bin_start": 0.7474464427012243,
            "bin_end": 0.7821112621637103,
            "count": 1
           },
           {
            "bin_start": 0.7821112621637103,
            "bin_end": 0.8167760816261963,
            "count": 3
           }
          ]
         }
        },
        {
         "name": "voter_turnout",
         "dtype": "float64",
         "stats": {
          "unique_count": 8,
          "nan_count": 0,
          "min": "0.0504253483964134",
          "max": "0.1742028339991368",
          "histogram": [
           {
            "bin_start": 0.0504253483964134,
            "bin_end": 0.06280309695668573,
            "count": 2
           },
           {
            "bin_start": 0.06280309695668573,
            "bin_end": 0.07518084551695808,
            "count": 0
           },
           {
            "bin_start": 0.07518084551695808,
            "bin_end": 0.08755859407723042,
            "count": 2
           },
           {
            "bin_start": 0.08755859407723042,
            "bin_end": 0.09993634263750276,
            "count": 1
           },
           {
            "bin_start": 0.09993634263750276,
            "bin_end": 0.11231409119777509,
            "count": 0
           },
           {
            "bin_start": 0.11231409119777509,
            "bin_end": 0.12469183975804744,
            "count": 1
           },
           {
            "bin_start": 0.12469183975804744,
            "bin_end": 0.13706958831831978,
            "count": 0
           },
           {
            "bin_start": 0.13706958831831978,
            "bin_end": 0.14944733687859213,
            "count": 0
           },
           {
            "bin_start": 0.14944733687859213,
            "bin_end": 0.16182508543886445,
            "count": 1
           },
           {
            "bin_start": 0.16182508543886445,
            "bin_end": 0.1742028339991368,
            "count": 1
           }
          ]
         }
        },
        {
         "name": "_deepnote_index_column",
         "dtype": "int64"
        }
       ],
       "rows_top": [
        {
         "state": "Arizona",
         "st_abbrev": "AZ",
         "fips": "04000",
         "population": 6731484,
         "income": 49774,
         "hispanic": 30.5,
         "asian": 3.3,
         "black": 4.7,
         "white": 56.2,
         "foreign": 13.4,
         "college": 26.9,
         "density": 56.3,
         "vets": 522382,
         "female": 50.3,
         "senior": 15.9,
         "children": 24.1,
         "winner": "Donald Trump",
         "votes": 249634,
         "total_votes": 434560,
         "fraction_votes": 0.5744523195876289,
         "voter_turnout": 0.0850544723123966,
         "_deepnote_index_column": 1
        },
        {
         "state": "California",
         "st_abbrev": "CA",
         "fips": "06000",
         "population": 38802500,
         "income": 61094,
         "hispanic": 38.6,
         "asian": 14.4,
         "black": 6.5,
         "white": 38.5,
         "foreign": 27,
         "college": 30.7,
         "density": 239.1,
         "vets": 1893539,
         "female": 50.3,
         "senior": 12.9,
         "children": 23.6,
         "winner": "Donald Trump",
         "votes": 1174210,
         "total_votes": 1494865,
         "fraction_votes": 0.7854956802119255,
         "voter_turnout": 0.0504253483964134,
         "_deepnote_index_column": 3
        },
        {
         "state": "Idaho",
         "st_abbrev": "ID",
         "fips": "16000",
         "population": 1634464,
         "income": 46767,
         "hispanic": 12,
         "asian": 1.4,
         "black": 0.8,
         "white": 82.8,
         "foreign": 5.9,
         "college": 25.1,
         "density": 19,
         "vets": 122955,
         "female": 49.9,
         "senior": 14.3,
         "children": 26.4,
         "winner": "Ted Cruz",
         "votes": 98520,
         "total_votes": 209560,
         "fraction_votes": 0.4701278870013361,
         "voter_turnout": 0.1742028339991368,
         "_deepnote_index_column": 8
        },
        {
         "state": "Montana",
         "st_abbrev": "MT",
         "fips": "30000",
         "population": 1023579,
         "income": 46230,
         "hispanic": 3.5,
         "asian": 0.8,
         "black": 0.6,
         "white": 86.7,
         "foreign": 2,
         "college": 28.7,
         "density": 6.8,
         "vets": 94404,
         "female": 49.8,
         "senior": 16.7,
         "children": 22,
         "winner": "Donald Trump",
         "votes": 103265,
         "total_votes": 126430,
         "fraction_votes": 0.8167760816261963,
         "voter_turnout": 0.1583558705187812,
         "_deepnote_index_column": 19
        },
        {
         "state": "New Mexico",
         "st_abbrev": "NM",
         "fips": "35000",
         "population": 2085572,
         "income": 44927,
         "hispanic": 47.7,
         "asian": 1.7,
         "black": 2.5,
         "white": 38.9,
         "foreign": 9.8,
         "college": 25.8,
         "density": 17,
         "vets": 172717,
         "female": 50.5,
         "senior": 15.3,
         "children": 24.1,
         "winner": "Donald Trump",
         "votes": 68782,
         "total_votes": 89060,
         "fraction_votes": 0.7723108017067146,
         "voter_turnout": 0.0562620726714589,
         "_deepnote_index_column": 23
        },
        {
         "state": "Oregon",
         "st_abbrev": "OR",
         "fips": "41000",
         "population": 3970239,
         "income": 50229,
         "hispanic": 12.5,
         "asian": 4.3,
         "black": 2,
         "white": 77,
         "foreign": 9.8,
         "college": 29.7,
         "density": 39.9,
         "vets": 323205,
         "female": 50.5,
         "senior": 16,
         "children": 21.6,
         "winner": "Donald Trump",
         "votes": 240094,
         "total_votes": 360511,
         "fraction_votes": 0.6659824526852163,
         "voter_turnout": 0.1158205990076853,
         "_deepnote_index_column": 28
        },
        {
         "state": "Utah",
         "st_abbrev": "UT",
         "fips": "49000",
         "population": 2942902,
         "income": 58821,
         "hispanic": 13.5,
         "asian": 2.4,
         "black": 1.3,
         "white": 79.3,
         "foreign": 8.2,
         "college": 30.3,
         "density": 33.6,
         "vets": 143771,
         "female": 49.7,
         "senior": 10,
         "children": 30.7,
         "winner": "Ted Cruz",
         "votes": 118962,
         "total_votes": 171722,
         "fraction_votes": 0.6927592271229079,
         "voter_turnout": 0.0842009328870257,
         "_deepnote_index_column": 35
        },
        {
         "state": "Washington",
         "st_abbrev": "WA",
         "fips": "53000",
         "population": 7061530,
         "income": 59478,
         "hispanic": 12.2,
         "asian": 8.2,
         "black": 4.1,
         "white": 70.4,
         "foreign": 13.2,
         "college": 31.9,
         "density": 101.2,
         "vets": 582265,
         "female": 50,
         "senior": 14.1,
         "children": 22.7,
         "winner": "Donald Trump",
         "votes": 401532,
         "total_votes": 509055,
         "fraction_votes": 0.7887792085334591,
         "voter_turnout": 0.0932580660716017,
         "_deepnote_index_column": 38
        }
       ],
       "rows_bottom": null
      },
      "text/plain": "         state st_abbrev   fips  population  income  hispanic  asian  black  \\\n1      Arizona        AZ  04000     6731484   49774      30.5    3.3    4.7   \n3   California        CA  06000    38802500   61094      38.6   14.4    6.5   \n8        Idaho        ID  16000     1634464   46767      12.0    1.4    0.8   \n19     Montana        MT  30000     1023579   46230       3.5    0.8    0.6   \n23  New Mexico        NM  35000     2085572   44927      47.7    1.7    2.5   \n28      Oregon        OR  41000     3970239   50229      12.5    4.3    2.0   \n35        Utah        UT  49000     2942902   58821      13.5    2.4    1.3   \n38  Washington        WA  53000     7061530   59478      12.2    8.2    4.1   \n\n    white  foreign  ...  density     vets  female  senior  children  \\\n1    56.2     13.4  ...     56.3   522382    50.3    15.9      24.1   \n3    38.5     27.0  ...    239.1  1893539    50.3    12.9      23.6   \n8    82.8      5.9  ...     19.0   122955    49.9    14.3      26.4   \n19   86.7      2.0  ...      6.8    94404    49.8    16.7      22.0   \n23   38.9      9.8  ...     17.0   172717    50.5    15.3      24.1   \n28   77.0      9.8  ...     39.9   323205    50.5    16.0      21.6   \n35   79.3      8.2  ...     33.6   143771    49.7    10.0      30.7   \n38   70.4     13.2  ...    101.2   582265    50.0    14.1      22.7   \n\n          winner    votes  total_votes  fraction_votes  voter_turnout  \n1   Donald Trump   249634       434560        0.574452       0.085054  \n3   Donald Trump  1174210      1494865        0.785496       0.050425  \n8       Ted Cruz    98520       209560        0.470128       0.174203  \n19  Donald Trump   103265       126430        0.816776       0.158356  \n23  Donald Trump    68782        89060        0.772311       0.056262  \n28  Donald Trump   240094       360511        0.665982       0.115821  \n35      Ted Cruz   118962       171722        0.692759       0.084201  \n38  Donald Trump   401532       509055        0.788779       0.093258  \n\n[8 rows x 21 columns]",
      "text/html": "<div>\n<style scoped>\n    .dataframe tbody tr th:only-of-type {\n        vertical-align: middle;\n    }\n\n    .dataframe tbody tr th {\n        vertical-align: top;\n    }\n\n    .dataframe thead th {\n        text-align: right;\n    }\n</style>\n<table border=\"1\" class=\"dataframe\">\n  <thead>\n    <tr style=\"text-align: right;\">\n      <th></th>\n      <th>state</th>\n      <th>st_abbrev</th>\n      <th>fips</th>\n      <th>population</th>\n      <th>income</th>\n      <th>hispanic</th>\n      <th>asian</th>\n      <th>black</th>\n      <th>white</th>\n      <th>foreign</th>\n      <th>...</th>\n      <th>density</th>\n      <th>vets</th>\n      <th>female</th>\n      <th>senior</th>\n      <th>children</th>\n      <th>winner</th>\n      <th>votes</th>\n      <th>total_votes</th>\n      <th>fraction_votes</th>\n      <th>voter_turnout</th>\n    </tr>\n  </thead>\n  <tbody>\n    <tr>\n      <th>1</th>\n      <td>Arizona</td>\n      <td>AZ</td>\n      <td>04000</td>\n      <td>6731484</td>\n      <td>49774</td>\n      <td>30.5</td>\n      <td>3.3</td>\n      <td>4.7</td>\n      <td>56.2</td>\n      <td>13.4</td>\n      <td>...</td>\n      <td>56.3</td>\n      <td>522382</td>\n      <td>50.3</td>\n      <td>15.9</td>\n      <td>24.1</td>\n      <td>Donald Trump</td>\n      <td>249634</td>\n      <td>434560</td>\n      <td>0.574452</td>\n      <td>0.085054</td>\n    </tr>\n    <tr>\n      <th>3</th>\n      <td>California</td>\n      <td>CA</td>\n      <td>06000</td>\n      <td>38802500</td>\n      <td>61094</td>\n      <td>38.6</td>\n      <td>14.4</td>\n      <td>6.5</td>\n      <td>38.5</td>\n      <td>27.0</td>\n      <td>...</td>\n      <td>239.1</td>\n      <td>1893539</td>\n      <td>50.3</td>\n      <td>12.9</td>\n      <td>23.6</td>\n      <td>Donald Trump</td>\n      <td>1174210</td>\n      <td>1494865</td>\n      <td>0.785496</td>\n      <td>0.050425</td>\n    </tr>\n    <tr>\n      <th>8</th>\n      <td>Idaho</td>\n      <td>ID</td>\n      <td>16000</td>\n      <td>1634464</td>\n      <td>46767</td>\n      <td>12.0</td>\n      <td>1.4</td>\n      <td>0.8</td>\n      <td>82.8</td>\n      <td>5.9</td>\n      <td>...</td>\n      <td>19.0</td>\n      <td>122955</td>\n      <td>49.9</td>\n      <td>14.3</td>\n      <td>26.4</td>\n      <td>Ted Cruz</td>\n      <td>98520</td>\n      <td>209560</td>\n      <td>0.470128</td>\n      <td>0.174203</td>\n    </tr>\n    <tr>\n      <th>19</th>\n      <td>Montana</td>\n      <td>MT</td>\n      <td>30000</td>\n      <td>1023579</td>\n      <td>46230</td>\n      <td>3.5</td>\n      <td>0.8</td>\n      <td>0.6</td>\n      <td>86.7</td>\n      <td>2.0</td>\n      <td>...</td>\n      <td>6.8</td>\n      <td>94404</td>\n      <td>49.8</td>\n      <td>16.7</td>\n      <td>22.0</td>\n      <td>Donald Trump</td>\n      <td>103265</td>\n      <td>126430</td>\n      <td>0.816776</td>\n      <td>0.158356</td>\n    </tr>\n    <tr>\n      <th>23</th>\n      <td>New Mexico</td>\n      <td>NM</td>\n      <td>35000</td>\n      <td>2085572</td>\n      <td>44927</td>\n      <td>47.7</td>\n      <td>1.7</td>\n      <td>2.5</td>\n      <td>38.9</td>\n      <td>9.8</td>\n      <td>...</td>\n      <td>17.0</td>\n      <td>172717</td>\n      <td>50.5</td>\n      <td>15.3</td>\n      <td>24.1</td>\n      <td>Donald Trump</td>\n      <td>68782</td>\n      <td>89060</td>\n      <td>0.772311</td>\n      <td>0.056262</td>\n    </tr>\n    <tr>\n      <th>28</th>\n      <td>Oregon</td>\n      <td>OR</td>\n      <td>41000</td>\n      <td>3970239</td>\n      <td>50229</td>\n      <td>12.5</td>\n      <td>4.3</td>\n      <td>2.0</td>\n      <td>77.0</td>\n      <td>9.8</td>\n      <td>...</td>\n      <td>39.9</td>\n      <td>323205</td>\n      <td>50.5</td>\n      <td>16.0</td>\n      <td>21.6</td>\n      <td>Donald Trump</td>\n      <td>240094</td>\n      <td>360511</td>\n      <td>0.665982</td>\n      <td>0.115821</td>\n    </tr>\n    <tr>\n      <th>35</th>\n      <td>Utah</td>\n      <td>UT</td>\n      <td>49000</td>\n      <td>2942902</td>\n      <td>58821</td>\n      <td>13.5</td>\n      <td>2.4</td>\n      <td>1.3</td>\n      <td>79.3</td>\n      <td>8.2</td>\n      <td>...</td>\n      <td>33.6</td>\n      <td>143771</td>\n      <td>49.7</td>\n      <td>10.0</td>\n      <td>30.7</td>\n      <td>Ted Cruz</td>\n      <td>118962</td>\n      <td>171722</td>\n      <td>0.692759</td>\n      <td>0.084201</td>\n    </tr>\n    <tr>\n      <th>38</th>\n      <td>Washington</td>\n      <td>WA</td>\n      <td>53000</td>\n      <td>7061530</td>\n      <td>59478</td>\n      <td>12.2</td>\n      <td>8.2</td>\n      <td>4.1</td>\n      <td>70.4</td>\n      <td>13.2</td>\n      <td>...</td>\n      <td>101.2</td>\n      <td>582265</td>\n      <td>50.0</td>\n      <td>14.1</td>\n      <td>22.7</td>\n      <td>Donald Trump</td>\n      <td>401532</td>\n      <td>509055</td>\n      <td>0.788779</td>\n      <td>0.093258</td>\n    </tr>\n  </tbody>\n</table>\n<p>8 rows × 21 columns</p>\n</div>"
     },
     "metadata": {}
    }
   ]
  },
  {
   "cell_type": "markdown",
   "source": "The function will return a dataframe subsetted from the `rep_st` to the states in the `west`. The `subset()` function allows you to easily filter the data with our preset filters. If you want to create your own, you can use a filter formula to subset by race or `isin()` function to subset by geographical location we used earlier.\n  \nThis function is not one provided from python's libraries, it's one we made! If you want to see how it works, you can check out the `utils.py` file. \n  \nWe have several filters you can use:  \n    - `solid_blue`, `solid_red`, `swing`: states that traditionally voted one way in 2016  \n    - `northeast`, `midwest`, `south`, `west`: states that are divided by region  \n\nYou can also run the cell below to view some helpful information about the `subset()` function.",
   "metadata": {
    "tags": [],
    "cell_id": "00057-f14a1441-dc4a-48bd-9c4d-8e2d01e45776",
    "deepnote_cell_type": "markdown"
   }
  },
  {
   "cell_type": "code",
   "metadata": {
    "tags": [],
    "cell_id": "00058-0ad24a99-aa14-4539-990b-53811558ff79",
    "deepnote_to_be_reexecuted": false,
    "source_hash": "dab01edd",
    "execution_start": 1633286664767,
    "execution_millis": 9,
    "deepnote_cell_type": "code"
   },
   "source": "# Run this cell if you want more information!\nhelp(subset)",
   "execution_count": 24,
   "outputs": [
    {
     "name": "stdout",
     "text": "Help on function subset in module utils:\n\nsubset(data, filt)\n    Subset a United States primary election DataFrame using one of the following filters:\n    solid_blue, solid_red, swing :\n        Select regions based on historical voting trends i.e. voting Democrat (blue), Republican (red), or neither (swing).\n    northeast, midwest, south, west :\n        Select regions based on their location within the United States.\n    \n    Parameters\n    ----------\n    data : pandas.DataFrame\n        The data being subset. Should be one of rep, dem, rep_st, or dem_st.\n    filt : str\n        The name of the filter being applied. Should be one of:\n        solid_blue, solid_red, swing, northeast, midwest, south, or west\n    \n    Returns\n    -------\n    data : pandas.DataFrame\n        Subset of the original data with the filter applied.\n\n",
     "output_type": "stream"
    }
   ]
  },
  {
   "cell_type": "markdown",
   "source": ">**Your turn:**  \nUse `subset()` to subset the `rep` dataframe by the `south` filter.",
   "metadata": {
    "tags": [],
    "cell_id": "00059-4493ba8d-99d3-4a4f-a554-1a89625ae894",
    "deepnote_cell_type": "markdown"
   }
  },
  {
   "cell_type": "code",
   "metadata": {
    "tags": [],
    "cell_id": "00060-96ddd932-f7cd-4ee3-bba3-5bbb202b318f",
    "deepnote_to_be_reexecuted": false,
    "source_hash": "8814b3f4",
    "execution_start": 1633286664768,
    "execution_millis": 0,
    "deepnote_cell_type": "code"
   },
   "source": "### Enter your code below: ###\n\n\n\n##############################",
   "execution_count": 25,
   "outputs": []
  },
  {
   "cell_type": "code",
   "metadata": {
    "tags": [],
    "cell_id": "00061-e1c35ebc-6980-4e41-8e6b-9e5374220c95",
    "is_code_hidden": true,
    "deepnote_to_be_reexecuted": false,
    "source_hash": "4fe6c788",
    "execution_start": 1633286664768,
    "execution_millis": 0,
    "deepnote_cell_type": "code"
   },
   "source": "# Solution\n# subset(rep, 'south')",
   "execution_count": 26,
   "outputs": []
  },
  {
   "cell_type": "markdown",
   "source": "For example, we can use `subset()` to explore difference between US Census regions.\n\n>**Your turn:**  \nCreate a choropleth to show the percentage of white people in historically red states from `rep`. You should first subset to select `'solid_red'` states and pass the resulting dataframe to `choropleth` to show the `white` feature.",
   "metadata": {
    "tags": [],
    "cell_id": "00175-680a2cf5-90bb-43f9-80e9-daa401d6b781",
    "deepnote_cell_type": "markdown"
   }
  },
  {
   "cell_type": "code",
   "metadata": {
    "tags": [],
    "deepnote_to_be_reexecuted": false,
    "source_hash": "8814b3f4",
    "cell_id": "00176-42abddd1-4cfb-41e5-9a8f-84fb0369a64b",
    "execution_start": 1633286664771,
    "execution_millis": 0,
    "deepnote_cell_type": "code"
   },
   "source": "### Enter your code below: ###\n\n\n\n##############################",
   "execution_count": 27,
   "outputs": []
  },
  {
   "cell_type": "code",
   "metadata": {
    "tags": [],
    "deepnote_to_be_reexecuted": false,
    "source_hash": "e3a14e43",
    "execution_millis": 0,
    "is_code_hidden": true,
    "cell_id": "00177-8e221118-7a19-4889-89b1-9a97f52faca3",
    "execution_start": 1633286664822,
    "deepnote_cell_type": "code"
   },
   "source": "# Solution\n\n# solid_red_df = subset(rep, 'solid_red')\n# choropleth(solid_red_df, 'white')",
   "execution_count": 28,
   "outputs": []
  },
  {
   "cell_type": "markdown",
   "source": ">**Your turn:**  \n1. Make a scatterplot from `rep` with `income` on the x-axis and `college` on the y-axis.  \n2. Add a second scatterplot from a `solid_blue` subset of `rep` with `income` on the x-axis and `college` on the y-axis.  \n3. Use the `label` argument to create an informative legend.  \n4. Use the `color` argument to make the counties from the solid blue states blue and the rest orange. You can use 'blue' and 'orange' (or use 'C0' and 'C1' to access the default color cycle).\n\n>Your finished plot should look like this:\n![](.images/solid_blue_college_v_income.png)\n\n>*Hint: **don't** use `hue`.*",
   "metadata": {
    "tags": [],
    "cell_id": "00178-875f7d38-f8d6-4a9f-8003-b996082778be",
    "deepnote_cell_type": "markdown"
   }
  },
  {
   "cell_type": "code",
   "metadata": {
    "tags": [],
    "deepnote_to_be_reexecuted": false,
    "source_hash": "8814b3f4",
    "cell_id": "00179-f1fd703c-246e-4be1-9c88-3f6e9997c63b",
    "execution_start": 1633286664823,
    "execution_millis": 0,
    "deepnote_cell_type": "code"
   },
   "source": "### Enter your code below: ###\n\n\n\n##############################",
   "execution_count": 29,
   "outputs": []
  },
  {
   "cell_type": "code",
   "metadata": {
    "tags": [],
    "deepnote_to_be_reexecuted": false,
    "source_hash": "ffeac4c3",
    "execution_millis": 0,
    "output_cleared": true,
    "is_code_hidden": true,
    "cell_id": "00180-0dba8fbd-948d-4764-839f-58d4e8fb186a",
    "execution_start": 1633286664824,
    "deepnote_cell_type": "code"
   },
   "source": "# Solution\n# sns.scatterplot(data=rep, x='income', y='college', color='C1', label='All States')\n# sns.scatterplot(data=subset(rep,'solid_blue'), x='income', y='college', color='C0', label='Solid Blue States');",
   "execution_count": 30,
   "outputs": []
  },
  {
   "cell_type": "markdown",
   "source": "# End of Chapter 3\n",
   "metadata": {
    "tags": [],
    "cell_id": "00057-b11a2032-f2ae-496c-b035-335594bc99ef",
    "deepnote_cell_type": "markdown"
   }
  },
  {
   "cell_type": "markdown",
   "source": "![](.images/yoda.jpg)",
   "metadata": {
    "tags": [],
    "cell_id": "00058-7337f37f-3be0-42c1-9fc0-7055a64aef6a",
    "deepnote_cell_type": "markdown"
   }
  },
  {
   "cell_type": "markdown",
   "source": "Great job finishing chapter 3!\n\nWhen you're ready to move on go to `4 Between the Lines`, the final chapter!",
   "metadata": {
    "tags": [],
    "cell_id": "00058-5878e6f2-c65f-4639-8511-1c1cfc356c9d",
    "deepnote_cell_type": "markdown"
   }
  },
  {
   "cell_type": "markdown",
   "source": "<a style='text-decoration:none;line-height:16px;display:flex;color:#5B5B62;padding:10px;justify-content:end;' href='https://deepnote.com?utm_source=created-in-deepnote-cell&projectId=6db671ff-4b94-4ec9-9d8f-30a849bb0caf' target=\"_blank\">\n<img alt='Created in deepnote.com' style='display:inline;max-height:16px;margin:0px;margin-right:7.5px;' src='data:image/svg+xml;base64,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' > </img>\nCreated in <span style='font-weight:600;margin-left:4px;'>Deepnote</span></a>",
   "metadata": {
    "tags": [],
    "created_in_deepnote_cell": true,
    "deepnote_cell_type": "markdown"
   }
  }
 ],
 "nbformat": 4,
 "nbformat_minor": 2,
 "metadata": {
  "orig_nbformat": 2,
  "deepnote_notebook_id": "ac052b09-6a5b-48ca-a381-9b12a48b862a",
  "deepnote": {},
  "deepnote_execution_queue": []
 }
}