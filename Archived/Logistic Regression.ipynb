{
 "cells": [
  {
   "cell_type": "markdown",
   "source": "### Logistric Lasso Regression for Feature Selection\nAttempt to use L1 regularized logistic regression to predict the winning candidates in each county. Ideally, a good model will only use features that are predictive of who will win and we can zoom in on them for further analysis.\n\nLesson learned:  \nIt's important to recognize class imbalances in the data. In the Republican primaries, Trump won >73% of the vote and the model had accuracy of only 73%, so it's practically worthless (could have just guessed Trump 100% of the time).\n\nWhat does this mean? Maybe we can only predict winners well in swing states/counties. i.e. County demographics are only predictive of winners in swing states.",
   "metadata": {
    "tags": [],
    "cell_id": "00001-d3f60ecf-32ad-440a-b8d5-0d4c7efd7f6d",
    "deepnote_cell_type": "markdown"
   }
  },
  {
   "cell_type": "code",
   "metadata": {
    "tags": [],
    "cell_id": "00000-45db9dbd-d178-4ca6-b031-d3da3e2c4359",
    "deepnote_to_be_reexecuted": false,
    "source_hash": "d5a5aab9",
    "execution_millis": 4139,
    "execution_start": 1612662626777,
    "deepnote_cell_type": "code"
   },
   "source": "import numpy as np\nimport pandas as pd\n\nfrom sklearn import linear_model\nfrom sklearn.preprocessing import StandardScaler\nfrom sklearn.model_selection import StratifiedKFold, train_test_split, GridSearchCV\nfrom sklearn.pipeline import make_pipeline\nfrom sklearn.metrics import (\n    f1_score,\n    confusion_matrix,\n    balanced_accuracy_score,\n    precision_score,\n    recall_score\n    )\n\nimport warnings\nfrom sklearn.exceptions import ConvergenceWarning\nwarnings.filterwarnings(\"ignore\", category=ConvergenceWarning,\n                        module=\"sklearn\")\n\nimport matplotlib.pyplot as plt\nimport seaborn as sns\nsns.set_theme()",
   "execution_count": null,
   "outputs": []
  },
  {
   "cell_type": "code",
   "metadata": {
    "tags": [],
    "cell_id": "00001-da723b21-cd51-4c44-b3d1-ee956507640c",
    "deepnote_to_be_reexecuted": false,
    "source_hash": "933c60d6",
    "execution_millis": 44,
    "execution_start": 1612662630922,
    "deepnote_cell_type": "code"
   },
   "source": "rep = pd.read_csv('Datasets/kaggle-presidential/rep_clean_county_facts.csv')\ndem = pd.read_csv('Datasets/kaggle-presidential/dem_clean_county_facts.csv', index_col=0)",
   "execution_count": null,
   "outputs": []
  },
  {
   "cell_type": "code",
   "metadata": {
    "tags": [],
    "cell_id": "00002-e1f63a22-b54d-478c-aee0-b08d3965668e",
    "deepnote_to_be_reexecuted": false,
    "source_hash": "f5dae556",
    "execution_millis": 0,
    "execution_start": 1612662630975,
    "deepnote_cell_type": "code"
   },
   "source": "rep.set_index('st_cnty', inplace=True)\ndem.set_index('st_cnty', inplace=True)",
   "execution_count": null,
   "outputs": []
  },
  {
   "cell_type": "code",
   "metadata": {
    "tags": [],
    "cell_id": "00004-15d1a7a1-a390-4d80-8a55-f772e95839e3",
    "deepnote_to_be_reexecuted": false,
    "source_hash": "b810689b",
    "execution_millis": 5,
    "execution_start": 1612662630986,
    "deepnote_cell_type": "code"
   },
   "source": "def pproc_data(data, test_size=0.2):\n    remove_cols = ['state', 'votes', 'fraction_votes', 'unity', 'candidate']\n    X = data.loc[:, data.columns[~data.columns.isin(remove_cols)]]\n    y = data.candidate\n    return train_test_split(X, y, test_size=test_size, stratify=y)",
   "execution_count": null,
   "outputs": []
  },
  {
   "cell_type": "code",
   "metadata": {
    "tags": [],
    "cell_id": "00002-d58e1bb1-2e64-4ce8-b954-de9a83fe0a4b",
    "deepnote_to_be_reexecuted": false,
    "source_hash": "d7bc524d",
    "execution_millis": 14,
    "execution_start": 1612662631003,
    "deepnote_cell_type": "code"
   },
   "source": "def logit_train_kfold(X_train, y_train, param_grid, k=10, plot_fts=False):\n\n    kf = StratifiedKFold(n_splits=k, shuffle=True)\n\n    lr_z = make_pipeline(\n        StandardScaler(),\n        linear_model.LogisticRegression(penalty='l1',\n            fit_intercept=False,\n            solver='saga',\n            multi_class='multinomial',\n            max_iter=1e3\n            )\n    )\n\n    # param_grid = {'logisticregression__C': np.logspace(-2, 2, 20)}\n    grid = GridSearchCV(lr_z, param_grid={'logisticregression__C': param_grid}, cv=kf, n_jobs=4)\n    grid.fit(X_train, y_train)\n\n    clf = grid.best_estimator_\n\n    print(f'Best validation accuracy: {grid.best_score_*100:.2f}%')\n    print(f'Best regularization log10(C): {np.log10(grid.best_params_[\"logisticregression__C\"])}')\n    # print(f'Baseline: Trump won 73.9% of counties')\n\n    if plot_fts:\n        feature_importance = pd.DataFrame(\n            clf.coef_,\n            index=y.candidate.factorize()[1],\n            columns=X.columns\n        )\n        fig, ax = plt.subplots(figsize=(15, 8))\n        sns.heatmap(\n            feature_importance,\n            cmap='icefire',\n            robust=True,\n            center=0,\n            cbar_kws={'label': 'Effect Size'},\n            ax=ax\n        )\n        ax.set_yticklabels(\n            feature_importance.index, \n            rotation=0, fontsize=\"10\", va=\"center\"\n        )\n\n    return clf, grid",
   "execution_count": null,
   "outputs": []
  },
  {
   "cell_type": "code",
   "metadata": {
    "tags": [],
    "cell_id": "00006-b35c0093-b2d6-49cf-8ca6-6dea3df9c3ee",
    "deepnote_to_be_reexecuted": false,
    "source_hash": "306ef93e",
    "execution_millis": 11,
    "execution_start": 1612662631023,
    "deepnote_cell_type": "code"
   },
   "source": "def plot_fts(X_train, y_train, clf):\n    feature_importance = pd.DataFrame(\n            clf['logisticregression'].coef_,\n            index=y_train.factorize()[1],\n            columns=X_train.columns\n    )\n    fig, ax = plt.subplots(figsize=(15, 8))\n    sns.heatmap(\n        feature_importance,\n        cmap='icefire',\n        robust=True,\n        center=0,\n        cbar_kws={'label': 'Effect Size'},\n        ax=ax\n    )\n    ax.set_yticklabels(\n        feature_importance.index, \n        rotation=0, fontsize=\"10\", va=\"center\"\n    )",
   "execution_count": null,
   "outputs": []
  },
  {
   "cell_type": "markdown",
   "source": "### Republican Primaries",
   "metadata": {
    "tags": [],
    "cell_id": "00003-4fd7f93c-660c-4439-957d-3eb54534f027",
    "deepnote_cell_type": "markdown"
   }
  },
  {
   "cell_type": "code",
   "metadata": {
    "tags": [],
    "cell_id": "00007-46ae59b1-5327-43e2-af35-cc7e276ec884",
    "deepnote_to_be_reexecuted": false,
    "source_hash": "7cc36fde",
    "execution_millis": 154391,
    "execution_start": 1612662631038,
    "deepnote_cell_type": "code"
   },
   "source": "rep_Xtrain, rep_Xtest, rep_ytrain, rep_ytest = pproc_data(rep)\nrep_clf, rep_grid = logit_train_kfold(rep_Xtrain, rep_ytrain, param_grid = np.logspace(-2, 2, 20), k=10)",
   "execution_count": null,
   "outputs": [
    {
     "name": "stdout",
     "text": "Best validation accuracy: 73.89%\nBest regularization log10(C): -0.10526315789473696\n",
     "output_type": "stream"
    }
   ]
  },
  {
   "cell_type": "code",
   "metadata": {
    "tags": [],
    "cell_id": "00007-8456297b-8c9d-475e-b075-ca56406b5549",
    "deepnote_to_be_reexecuted": false,
    "source_hash": "13a845a6",
    "execution_millis": 456,
    "execution_start": 1612662785426,
    "deepnote_cell_type": "code"
   },
   "source": "pd.DataFrame(grid.cv_results_)",
   "execution_count": null,
   "outputs": [
    {
     "output_type": "error",
     "ename": "NameError",
     "evalue": "name 'grid' is not defined",
     "traceback": [
      "\u001b[0;31m---------------------------------------------------------------------------\u001b[0m",
      "\u001b[0;31mNameError\u001b[0m                                 Traceback (most recent call last)",
      "\u001b[0;32m<ipython-input-8-23b763b57efa>\u001b[0m in \u001b[0;36m<module>\u001b[0;34m\u001b[0m\n\u001b[0;32m----> 1\u001b[0;31m \u001b[0mpd\u001b[0m\u001b[0;34m.\u001b[0m\u001b[0mDataFrame\u001b[0m\u001b[0;34m(\u001b[0m\u001b[0mgrid\u001b[0m\u001b[0;34m.\u001b[0m\u001b[0mcv_results_\u001b[0m\u001b[0;34m)\u001b[0m\u001b[0;34m\u001b[0m\u001b[0;34m\u001b[0m\u001b[0m\n\u001b[0m",
      "\u001b[0;31mNameError\u001b[0m: name 'grid' is not defined"
     ]
    }
   ]
  },
  {
   "cell_type": "markdown",
   "source": "### Democratic Primaries",
   "metadata": {
    "tags": [],
    "cell_id": "00009-29439bfc-6b7f-4897-b376-66dc6357781e",
    "deepnote_cell_type": "markdown"
   }
  },
  {
   "cell_type": "code",
   "metadata": {
    "tags": [],
    "cell_id": "00009-f603df4e-49e3-4949-8d6c-da693af3d662",
    "deepnote_to_be_reexecuted": true,
    "source_hash": "db76401b",
    "execution_millis": 1,
    "deepnote_cell_type": "code"
   },
   "source": "dem_Xtrain, dem_Xtest, dem_ytrain, dem_ytest = pproc_data(dem)",
   "execution_count": null,
   "outputs": []
  },
  {
   "cell_type": "code",
   "metadata": {
    "tags": [],
    "cell_id": "00011-8bbe8e15-2b5b-4e8a-b866-18739453be2a",
    "deepnote_to_be_reexecuted": true,
    "source_hash": "9d20f987",
    "execution_millis": 62143,
    "deepnote_cell_type": "code"
   },
   "source": "dem_clf, dem_grid = logit_train_kfold(dem_Xtrain, dem_ytrain, param_grid=np.logspace(-2, 2, 20), k=10)",
   "execution_count": null,
   "outputs": [
    {
     "name": "stdout",
     "text": "Best validation accuracy: 73.44%\nBest regularization log10(C): 0.10526315789473673\n",
     "output_type": "stream"
    }
   ]
  },
  {
   "cell_type": "code",
   "metadata": {
    "tags": [],
    "cell_id": "00012-b2596590-5d40-4c02-9871-e5f0cf3a1907",
    "deepnote_to_be_reexecuted": true,
    "source_hash": "6d44cf8e",
    "execution_millis": 10,
    "deepnote_cell_type": "code"
   },
   "source": "dem_clf.score(dem_Xtest, dem_ytest)",
   "execution_count": null,
   "outputs": [
    {
     "output_type": "execute_result",
     "execution_count": 54,
     "data": {
      "text/plain": "0.7397504456327986"
     },
     "metadata": {}
    }
   ]
  },
  {
   "cell_type": "code",
   "metadata": {
    "tags": [],
    "cell_id": "00010-0ea4c9b0-b312-4df3-891b-58dc9ef1d23b",
    "deepnote_to_be_reexecuted": true,
    "source_hash": "ed87b08b",
    "execution_millis": 42,
    "deepnote_cell_type": "code"
   },
   "source": "f1_score(dem_ytest, dem_clf.predict(dem_Xtest), average='weighted')",
   "execution_count": null,
   "outputs": [
    {
     "output_type": "execute_result",
     "execution_count": 55,
     "data": {
      "text/plain": "0.7395222087781335"
     },
     "metadata": {}
    }
   ]
  },
  {
   "cell_type": "code",
   "metadata": {
    "tags": [],
    "cell_id": "00014-5092e33f-97dd-4961-8ce4-ade0ab23d298",
    "deepnote_to_be_reexecuted": true,
    "source_hash": "67f27590",
    "execution_millis": 272,
    "deepnote_cell_type": "code"
   },
   "source": "sns.heatmap(confusion_matrix(dem_ytest, dem_clf.predict(dem_Xtest)), cmap='Blues', annot=True,\nxticklabels=dem_ytrain.factorize()[1],\nyticklabels=dem_ytrain.factorize()[1])",
   "execution_count": null,
   "outputs": [
    {
     "output_type": "execute_result",
     "execution_count": 57,
     "data": {
      "text/plain": "<AxesSubplot:>"
     },
     "metadata": {}
    },
    {
     "data": {
      "text/plain": "<Figure size 432x288 with 2 Axes>",
      "image/png": "[encoded data removed]"
     },
     "metadata": {
      "image/png": {
       "width": 359,
       "height": 251
      }
     },
     "output_type": "display_data"
    }
   ]
  },
  {
   "cell_type": "code",
   "metadata": {
    "tags": [],
    "cell_id": "00016-566bb81f-c852-43fd-b5f2-0740e8087c02",
    "deepnote_to_be_reexecuted": true,
    "source_hash": "7574a0d",
    "execution_millis": 40,
    "deepnote_cell_type": "code"
   },
   "source": "dem_clf.steps[1].coef_",
   "execution_count": null,
   "outputs": [
    {
     "output_type": "error",
     "ename": "AttributeError",
     "evalue": "'tuple' object has no attribute 'coef_'",
     "traceback": [
      "\u001b[0;31m---------------------------------------------------------------------------\u001b[0m",
      "\u001b[0;31mAttributeError\u001b[0m                            Traceback (most recent call last)",
      "\u001b[0;32m<ipython-input-77-a43dd5f6383a>\u001b[0m in \u001b[0;36m<module>\u001b[0;34m\u001b[0m\n\u001b[0;32m----> 1\u001b[0;31m \u001b[0mdem_clf\u001b[0m\u001b[0;34m.\u001b[0m\u001b[0msteps\u001b[0m\u001b[0;34m[\u001b[0m\u001b[0;36m1\u001b[0m\u001b[0;34m]\u001b[0m\u001b[0;34m.\u001b[0m\u001b[0mcoef_\u001b[0m\u001b[0;34m\u001b[0m\u001b[0;34m\u001b[0m\u001b[0m\n\u001b[0m",
      "\u001b[0;31mAttributeError\u001b[0m: 'tuple' object has no attribute 'coef_'"
     ]
    }
   ]
  },
  {
   "cell_type": "code",
   "metadata": {
    "tags": [],
    "cell_id": "00016-de19aac3-14ea-4501-896e-5f16a3c5e266",
    "deepnote_to_be_reexecuted": true,
    "source_hash": "1f9556c0",
    "execution_millis": 8,
    "deepnote_cell_type": "code"
   },
   "source": "dem_clf['logisticregression'].coef_.shape",
   "execution_count": null,
   "outputs": [
    {
     "output_type": "execute_result",
     "execution_count": 78,
     "data": {
      "text/plain": "(1, 15)"
     },
     "metadata": {}
    }
   ]
  },
  {
   "cell_type": "code",
   "metadata": {
    "tags": [],
    "cell_id": "00016-4d8aa3b2-fc02-4565-8944-3595bea1d892",
    "deepnote_to_be_reexecuted": true,
    "source_hash": "2411b3fe",
    "execution_millis": 64,
    "deepnote_cell_type": "code"
   },
   "source": "pd.DataFrame(\n    dem_clf['logisticregression'].coef_,\n    index=[0],\n    columns=dem_Xtrain.columns\n    )",
   "execution_count": null,
   "outputs": [
    {
     "output_type": "execute_result",
     "execution_count": 82,
     "data": {
      "application/vnd.deepnote.dataframe.v2+json": {
       "row_count": 1,
       "column_count": 15,
       "columns": [
        {
         "name": "income",
         "dtype": "float64",
         "stats": {
          "unique_count": 1,
          "nan_count": 0,
          "min": 0.23274706010539742,
          "max": 0.23274706010539742,
          "histogram": [
           {
            "bin_start": -0.2672529398946026,
            "bin_end": -0.16725293989460258,
            "count": 0
           },
           {
            "bin_start": -0.16725293989460258,
            "bin_end": -0.06725293989460257,
            "count": 0
           },
           {
            "bin_start": -0.06725293989460257,
            "bin_end": 0.03274706010539746,
            "count": 0
           },
           {
            "bin_start": 0.03274706010539746,
            "bin_end": 0.13274706010539744,
            "count": 0
           },
           {
            "bin_start": 0.13274706010539744,
            "bin_end": 0.23274706010539742,
            "count": 0
           },
           {
            "bin_start": 0.23274706010539742,
            "bin_end": 0.3327470601053975,
            "count": 1
           },
           {
            "bin_start": 0.3327470601053975,
            "bin_end": 0.4327470601053975,
            "count": 0
           },
           {
            "bin_start": 0.4327470601053975,
            "bin_end": 0.5327470601053974,
            "count": 0
           },
           {
            "bin_start": 0.5327470601053974,
            "bin_end": 0.6327470601053975,
            "count": 0
           },
           {
            "bin_start": 0.6327470601053975,
            "bin_end": 0.7327470601053974,
            "count": 0
           }
          ]
         }
        },
        {
         "name": "hispanic",
         "dtype": "float64",
         "stats": {
          "unique_count": 1,
          "nan_count": 0,
          "min": 0.6299051696728061,
          "max": 0.6299051696728061,
          "histogram": [
           {
            "bin_start": 0.12990516967280608,
            "bin_end": 0.22990516967280605,
            "count": 0
           },
           {
            "bin_start": 0.22990516967280605,
            "bin_end": 0.32990516967280603,
            "count": 0
           },
           {
            "bin_start": 0.32990516967280603,
            "bin_end": 0.42990516967280606,
            "count": 0
           },
           {
            "bin_start": 0.42990516967280606,
            "bin_end": 0.5299051696728061,
            "count": 0
           },
           {
            "bin_start": 0.5299051696728061,
            "bin_end": 0.629905169672806,
            "count": 0
           },
           {
            "bin_start": 0.629905169672806,
            "bin_end": 0.729905169672806,
            "count": 1
           },
           {
            "bin_start": 0.729905169672806,
            "bin_end": 0.829905169672806,
            "count": 0
           },
           {
            "bin_start": 0.829905169672806,
            "bin_end": 0.929905169672806,
            "count": 0
           },
           {
            "bin_start": 0.929905169672806,
            "bin_end": 1.0299051696728059,
            "count": 0
           },
           {
            "bin_start": 1.0299051696728059,
            "bin_end": 1.129905169672806,
            "count": 0
           }
          ]
         }
        },
        {
         "name": "asian",
         "dtype": "float64",
         "stats": {
          "unique_count": 1,
          "nan_count": 0,
          "min": 0.1422211950864078,
          "max": 0.1422211950864078,
          "histogram": [
           {
            "bin_start": -0.3577788049135922,
            "bin_end": -0.2577788049135922,
            "count": 0
           },
           {
            "bin_start": -0.2577788049135922,
            "bin_end": -0.1577788049135922,
            "count": 0
           },
           {
            "bin_start": -0.1577788049135922,
            "bin_end": -0.05777880491359216,
            "count": 0
           },
           {
            "bin_start": -0.05777880491359216,
            "bin_end": 0.042221195086407814,
            "count": 0
           },
           {
            "bin_start": 0.042221195086407814,
            "bin_end": 0.1422211950864078,
            "count": 0
           },
           {
            "bin_start": 0.1422211950864078,
            "bin_end": 0.24222119508640788,
            "count": 1
           },
           {
            "bin_start": 0.24222119508640788,
            "bin_end": 0.34222119508640786,
            "count": 0
           },
           {
            "bin_start": 0.34222119508640786,
            "bin_end": 0.44222119508640784,
            "count": 0
           },
           {
            "bin_start": 0.44222119508640784,
            "bin_end": 0.5422211950864078,
            "count": 0
           },
           {
            "bin_start": 0.5422211950864078,
            "bin_end": 0.6422211950864078,
            "count": 0
           }
          ]
         }
        },
        {
         "name": "black",
         "dtype": "float64",
         "stats": {
          "unique_count": 1,
          "nan_count": 0,
          "min": 1.1138059230914905,
          "max": 1.1138059230914905,
          "histogram": [
           {
            "bin_start": 0.6138059230914905,
            "bin_end": 0.7138059230914905,
            "count": 0
           },
           {
            "bin_start": 0.7138059230914905,
            "bin_end": 0.8138059230914905,
            "count": 0
           },
           {
            "bin_start": 0.8138059230914905,
            "bin_end": 0.9138059230914906,
            "count": 0
           },
           {
            "bin_start": 0.9138059230914906,
            "bin_end": 1.0138059230914904,
            "count": 0
           },
           {
            "bin_start": 1.0138059230914904,
            "bin_end": 1.1138059230914905,
            "count": 0
           },
           {
            "bin_start": 1.1138059230914905,
            "bin_end": 1.2138059230914906,
            "count": 1
           },
           {
            "bin_start": 1.2138059230914906,
            "bin_end": 1.3138059230914907,
            "count": 0
           },
           {
            "bin_start": 1.3138059230914907,
            "bin_end": 1.4138059230914906,
            "count": 0
           },
           {
            "bin_start": 1.4138059230914906,
            "bin_end": 1.5138059230914904,
            "count": 0
           },
           {
            "bin_start": 1.5138059230914904,
            "bin_end": 1.6138059230914905,
            "count": 0
           }
          ]
         }
        },
        {
         "name": "white",
         "dtype": "float64",
         "stats": {
          "unique_count": 1,
          "nan_count": 0,
          "min": 0.3359799119012957,
          "max": 0.3359799119012957,
          "histogram": [
           {
            "bin_start": -0.16402008809870428,
            "bin_end": -0.06402008809870427,
            "count": 0
           },
           {
            "bin_start": -0.06402008809870427,
            "bin_end": 0.035979911901295736,
            "count": 0
           },
           {
            "bin_start": 0.035979911901295736,
            "bin_end": 0.13597991190129577,
            "count": 0
           },
           {
            "bin_start": 0.13597991190129577,
            "bin_end": 0.23597991190129575,
            "count": 0
           },
           {
            "bin_start": 0.23597991190129575,
            "bin_end": 0.3359799119012957,
            "count": 0
           },
           {
            "bin_start": 0.3359799119012957,
            "bin_end": 0.4359799119012958,
            "count": 1
           },
           {
            "bin_start": 0.4359799119012958,
            "bin_end": 0.5359799119012958,
            "count": 0
           },
           {
            "bin_start": 0.5359799119012958,
            "bin_end": 0.6359799119012958,
            "count": 0
           },
           {
            "bin_start": 0.6359799119012958,
            "bin_end": 0.7359799119012957,
            "count": 0
           },
           {
            "bin_start": 0.7359799119012957,
            "bin_end": 0.8359799119012957,
            "count": 0
           }
          ]
         }
        },
        {
         "name": "foreign",
         "dtype": "float64",
         "stats": {
          "unique_count": 1,
          "nan_count": 0,
          "min": -0.15214740054113307,
          "max": -0.15214740054113307,
          "histogram": [
           {
            "bin_start": -0.6521474005411331,
            "bin_end": -0.5521474005411331,
            "count": 0
           },
           {
            "bin_start": -0.5521474005411331,
            "bin_end": -0.45214740054113306,
            "count": 0
           },
           {
            "bin_start": -0.45214740054113306,
            "bin_end": -0.352147400541133,
            "count": 0
           },
           {
            "bin_start": -0.352147400541133,
            "bin_end": -0.25214740054113305,
            "count": 0
           },
           {
            "bin_start": -0.25214740054113305,
            "bin_end": -0.15214740054113307,
            "count": 0
           },
           {
            "bin_start": -0.15214740054113307,
            "bin_end": -0.05214740054113298,
            "count": 1
           },
           {
            "bin_start": -0.05214740054113298,
            "bin_end": 0.047852599458866996,
            "count": 0
           },
           {
            "bin_start": 0.047852599458866996,
            "bin_end": 0.14785259945886697,
            "count": 0
           },
           {
            "bin_start": 0.14785259945886697,
            "bin_end": 0.24785259945886695,
            "count": 0
           },
           {
            "bin_start": 0.24785259945886695,
            "bin_end": 0.34785259945886693,
            "count": 0
           }
          ]
         }
        },
        {
         "name": "college",
         "dtype": "float64",
         "stats": {
          "unique_count": 1,
          "nan_count": 0,
          "min": -0.3921698305867101,
          "max": -0.3921698305867101,
          "histogram": [
           {
            "bin_start": -0.8921698305867101,
            "bin_end": -0.7921698305867101,
            "count": 0
           },
           {
            "bin_start": -0.7921698305867101,
            "bin_end": -0.6921698305867101,
            "count": 0
           },
           {
            "bin_start": -0.6921698305867101,
            "bin_end": -0.59216983058671,
            "count": 0
           },
           {
            "bin_start": -0.59216983058671,
            "bin_end": -0.49216983058671004,
            "count": 0
           },
           {
            "bin_start": -0.49216983058671004,
            "bin_end": -0.39216983058671007,
            "count": 1
           },
           {
            "bin_start": -0.39216983058671007,
            "bin_end": -0.29216983058671,
            "count": 0
           },
           {
            "bin_start": -0.29216983058671,
            "bin_end": -0.19216983058671,
            "count": 0
           },
           {
            "bin_start": -0.19216983058671,
            "bin_end": -0.09216983058671002,
            "count": 0
           },
           {
            "bin_start": -0.09216983058671002,
            "bin_end": 0.007830169413289956,
            "count": 0
           },
           {
            "bin_start": 0.007830169413289956,
            "bin_end": 0.10783016941328988,
            "count": 0
           }
          ]
         }
        },
        {
         "name": "density",
         "dtype": "float64",
         "stats": {
          "unique_count": 1,
          "nan_count": 0,
          "min": 0.16474119029795622,
          "max": 0.16474119029795622,
          "histogram": [
           {
            "bin_start": -0.3352588097020438,
            "bin_end": -0.2352588097020438,
            "count": 0
           },
           {
            "bin_start": -0.2352588097020438,
            "bin_end": -0.1352588097020438,
            "count": 0
           },
           {
            "bin_start": -0.1352588097020438,
            "bin_end": -0.03525880970204376,
            "count": 0
           },
           {
            "bin_start": -0.03525880970204376,
            "bin_end": 0.06474119029795622,
            "count": 0
           },
           {
            "bin_start": 0.06474119029795622,
            "bin_end": 0.1647411902979562,
            "count": 0
           },
           {
            "bin_start": 0.1647411902979562,
            "bin_end": 0.2647411902979563,
            "count": 1
           },
           {
            "bin_start": 0.2647411902979563,
            "bin_end": 0.36474119029795626,
            "count": 0
           },
           {
            "bin_start": 0.36474119029795626,
            "bin_end": 0.46474119029795624,
            "count": 0
           },
           {
            "bin_start": 0.46474119029795624,
            "bin_end": 0.5647411902979562,
            "count": 0
           },
           {
            "bin_start": 0.5647411902979562,
            "bin_end": 0.6647411902979562,
            "count": 0
           }
          ]
         }
        },
        {
         "name": "vets",
         "dtype": "float64",
         "stats": {
          "unique_count": 1,
          "nan_count": 0,
          "min": 0.10422427656285366,
          "max": 0.10422427656285366,
          "histogram": [
           {
            "bin_start": -0.39577572343714634,
            "bin_end": -0.2957757234371463,
            "count": 0
           },
           {
            "bin_start": -0.2957757234371463,
            "bin_end": -0.19577572343714633,
            "count": 0
           },
           {
            "bin_start": -0.19577572343714633,
            "bin_end": -0.0957757234371463,
            "count": 0
           },
           {
            "bin_start": -0.0957757234371463,
            "bin_end": 0.004224276562853679,
            "count": 0
           },
           {
            "bin_start": 0.004224276562853679,
            "bin_end": 0.10422427656285366,
            "count": 0
           },
           {
            "bin_start": 0.10422427656285366,
            "bin_end": 0.20422427656285375,
            "count": 1
           },
           {
            "bin_start": 0.20422427656285375,
            "bin_end": 0.3042242765628537,
            "count": 0
           },
           {
            "bin_start": 0.3042242765628537,
            "bin_end": 0.4042242765628537,
            "count": 0
           },
           {
            "bin_start": 0.4042242765628537,
            "bin_end": 0.5042242765628537,
            "count": 0
           },
           {
            "bin_start": 0.5042242765628537,
            "bin_end": 0.6042242765628536,
            "count": 0
           }
          ]
         }
        },
        {
         "name": "female",
         "dtype": "float64",
         "stats": {
          "unique_count": 1,
          "nan_count": 0,
          "min": 0.17135838659271385,
          "max": 0.17135838659271385,
          "histogram": [
           {
            "bin_start": -0.32864161340728615,
            "bin_end": -0.22864161340728614,
            "count": 0
           },
           {
            "bin_start": -0.22864161340728614,
            "bin_end": -0.12864161340728614,
            "count": 0
           },
           {
            "bin_start": -0.12864161340728614,
            "bin_end": -0.028641613407286104,
            "count": 0
           },
           {
            "bin_start": -0.028641613407286104,
            "bin_end": 0.07135838659271387,
            "count": 0
           },
           {
            "bin_start": 0.07135838659271387,
            "bin_end": 0.17135838659271385,
            "count": 0
           },
           {
            "bin_start": 0.17135838659271385,
            "bin_end": 0.27135838659271394,
            "count": 1
           },
           {
            "bin_start": 0.27135838659271394,
            "bin_end": 0.3713583865927139,
            "count": 0
           },
           {
            "bin_start": 0.3713583865927139,
            "bin_end": 0.4713583865927139,
            "count": 0
           },
           {
            "bin_start": 0.4713583865927139,
            "bin_end": 0.5713583865927139,
            "count": 0
           },
           {
            "bin_start": 0.5713583865927139,
            "bin_end": 0.6713583865927139,
            "count": 0
           }
          ]
         }
        },
        {
         "name": "senior",
         "dtype": "float64",
         "stats": {
          "unique_count": 1,
          "nan_count": 0,
          "min": 0.19201518439295132,
          "max": 0.19201518439295132,
          "histogram": [
           {
            "bin_start": -0.3079848156070487,
            "bin_end": -0.2079848156070487,
            "count": 0
           },
           {
            "bin_start": -0.2079848156070487,
            "bin_end": -0.1079848156070487,
            "count": 0
           },
           {
            "bin_start": -0.1079848156070487,
            "bin_end": -0.007984815607048668,
            "count": 0
           },
           {
            "bin_start": -0.007984815607048668,
            "bin_end": 0.09201518439295131,
            "count": 0
           },
           {
            "bin_start": 0.09201518439295131,
            "bin_end": 0.1920151843929513,
            "count": 0
           },
           {
            "bin_start": 0.1920151843929513,
            "bin_end": 0.2920151843929514,
            "count": 1
           },
           {
            "bin_start": 0.2920151843929514,
            "bin_end": 0.39201518439295135,
            "count": 0
           },
           {
            "bin_start": 0.39201518439295135,
            "bin_end": 0.49201518439295133,
            "count": 0
           },
           {
            "bin_start": 0.49201518439295133,
            "bin_end": 0.5920151843929513,
            "count": 0
           },
           {
            "bin_start": 0.5920151843929513,
            "bin_end": 0.6920151843929513,
            "count": 0
           }
          ]
         }
        },
        {
         "name": "children",
         "dtype": "float64",
         "stats": {
          "unique_count": 1,
          "nan_count": 0,
          "min": 0.004191911436686295,
          "max": 0.004191911436686295,
          "histogram": [
           {
            "bin_start": -0.4958080885633137,
            "bin_end": -0.39580808856331373,
            "count": 0
           },
           {
            "bin_start": -0.39580808856331373,
            "bin_end": -0.2958080885633137,
            "count": 0
           },
           {
            "bin_start": -0.2958080885633137,
            "bin_end": -0.19580808856331366,
            "count": 0
           },
           {
            "bin_start": -0.19580808856331366,
            "bin_end": -0.09580808856331369,
            "count": 0
           },
           {
            "bin_start": -0.09580808856331369,
            "bin_end": 0.004191911436686291,
            "count": 0
           },
           {
            "bin_start": 0.004191911436686291,
            "bin_end": 0.10419191143668638,
            "count": 1
           },
           {
            "bin_start": 0.10419191143668638,
            "bin_end": 0.20419191143668636,
            "count": 0
           },
           {
            "bin_start": 0.20419191143668636,
            "bin_end": 0.30419191143668634,
            "count": 0
           },
           {
            "bin_start": 0.30419191143668634,
            "bin_end": 0.4041919114366863,
            "count": 0
           },
           {
            "bin_start": 0.4041919114366863,
            "bin_end": 0.5041919114366863,
            "count": 0
           }
          ]
         }
        },
        {
         "name": "population (2014)",
         "dtype": "float64",
         "stats": {
          "unique_count": 1,
          "nan_count": 0,
          "min": -0.2728927083115779,
          "max": -0.2728927083115779,
          "histogram": [
           {
            "bin_start": -0.772892708311578,
            "bin_end": -0.672892708311578,
            "count": 0
           },
           {
            "bin_start": -0.672892708311578,
            "bin_end": -0.572892708311578,
            "count": 0
           },
           {
            "bin_start": -0.572892708311578,
            "bin_end": -0.4728927083115779,
            "count": 0
           },
           {
            "bin_start": -0.4728927083115779,
            "bin_end": -0.37289270831157795,
            "count": 0
           },
           {
            "bin_start": -0.37289270831157795,
            "bin_end": -0.27289270831157797,
            "count": 0
           },
           {
            "bin_start": -0.27289270831157797,
            "bin_end": -0.17289270831157788,
            "count": 1
           },
           {
            "bin_start": -0.17289270831157788,
            "bin_end": -0.0728927083115779,
            "count": 0
           },
           {
            "bin_start": -0.0728927083115779,
            "bin_end": 0.027107291688422075,
            "count": 0
           },
           {
            "bin_start": 0.027107291688422075,
            "bin_end": 0.12710729168842205,
            "count": 0
           },
           {
            "bin_start": 0.12710729168842205,
            "bin_end": 0.22710729168842209,
            "count": 0
           }
          ]
         }
        },
        {
         "name": "total_votes",
         "dtype": "float64",
         "stats": {
          "unique_count": 1,
          "nan_count": 0,
          "min": 0.33036142421841536,
          "max": 0.33036142421841536,
          "histogram": [
           {
            "bin_start": -0.16963857578158464,
            "bin_end": -0.06963857578158464,
            "count": 0
           },
           {
            "bin_start": -0.06963857578158464,
            "bin_end": 0.030361424218415367,
            "count": 0
           },
           {
            "bin_start": 0.030361424218415367,
            "bin_end": 0.1303614242184154,
            "count": 0
           },
           {
            "bin_start": 0.1303614242184154,
            "bin_end": 0.23036142421841538,
            "count": 0
           },
           {
            "bin_start": 0.23036142421841538,
            "bin_end": 0.33036142421841536,
            "count": 0
           },
           {
            "bin_start": 0.33036142421841536,
            "bin_end": 0.43036142421841544,
            "count": 1
           },
           {
            "bin_start": 0.43036142421841544,
            "bin_end": 0.5303614242184154,
            "count": 0
           },
           {
            "bin_start": 0.5303614242184154,
            "bin_end": 0.6303614242184155,
            "count": 0
           },
           {
            "bin_start": 0.6303614242184155,
            "bin_end": 0.7303614242184153,
            "count": 0
           },
           {
            "bin_start": 0.7303614242184153,
            "bin_end": 0.8303614242184154,
            "count": 0
           }
          ]
         }
        },
        {
         "name": "voter_turnout",
         "dtype": "float64",
         "stats": {
          "unique_count": 1,
          "nan_count": 0,
          "min": -0.3104414168405344,
          "max": -0.3104414168405344,
          "histogram": [
           {
            "bin_start": -0.8104414168405344,
            "bin_end": -0.7104414168405344,
            "count": 0
           },
           {
            "bin_start": -0.7104414168405344,
            "bin_end": -0.6104414168405343,
            "count": 0
           },
           {
            "bin_start": -0.6104414168405343,
            "bin_end": -0.5104414168405343,
            "count": 0
           },
           {
            "bin_start": -0.5104414168405343,
            "bin_end": -0.41044141684053437,
            "count": 0
           },
           {
            "bin_start": -0.41044141684053437,
            "bin_end": -0.3104414168405344,
            "count": 0
           },
           {
            "bin_start": -0.3104414168405344,
            "bin_end": -0.2104414168405343,
            "count": 1
           },
           {
            "bin_start": -0.2104414168405343,
            "bin_end": -0.11044141684053432,
            "count": 0
           },
           {
            "bin_start": -0.11044141684053432,
            "bin_end": -0.010441416840534345,
            "count": 0
           },
           {
            "bin_start": -0.010441416840534345,
            "bin_end": 0.08955858315946563,
            "count": 0
           },
           {
            "bin_start": 0.08955858315946563,
            "bin_end": 0.1895585831594656,
            "count": 0
           }
          ]
         }
        },
        {
         "name": "_deepnote_index_column",
         "dtype": "int64"
        }
       ],
       "rows_top": [
        {
         "income": 0.23274706010539742,
         "hispanic": 0.6299051696728061,
         "asian": 0.1422211950864078,
         "black": 1.1138059230914905,
         "white": 0.3359799119012957,
         "foreign": -0.15214740054113307,
         "college": -0.3921698305867101,
         "density": 0.16474119029795622,
         "vets": 0.10422427656285366,
         "female": 0.17135838659271385,
         "senior": 0.19201518439295132,
         "children": 0.004191911436686295,
         "population (2014)": -0.2728927083115779,
         "total_votes": 0.33036142421841536,
         "voter_turnout": -0.3104414168405344,
         "_deepnote_index_column": 0
        }
       ],
       "rows_bottom": null
      },
      "text/plain": "     income  hispanic     asian     black    white   foreign  college  \\\n0  0.232747  0.629905  0.142221  1.113806  0.33598 -0.152147 -0.39217   \n\n    density      vets    female    senior  children  population (2014)  \\\n0  0.164741  0.104224  0.171358  0.192015  0.004192          -0.272893   \n\n   total_votes  voter_turnout  \n0     0.330361      -0.310441  ",
      "text/html": "<div>\n<style scoped>\n    .dataframe tbody tr th:only-of-type {\n        vertical-align: middle;\n    }\n\n    .dataframe tbody tr th {\n        vertical-align: top;\n    }\n\n    .dataframe thead th {\n        text-align: right;\n    }\n</style>\n<table border=\"1\" class=\"dataframe\">\n  <thead>\n    <tr style=\"text-align: right;\">\n      <th></th>\n      <th>income</th>\n      <th>hispanic</th>\n      <th>asian</th>\n      <th>black</th>\n      <th>white</th>\n      <th>foreign</th>\n      <th>college</th>\n      <th>density</th>\n      <th>vets</th>\n      <th>female</th>\n      <th>senior</th>\n      <th>children</th>\n      <th>population (2014)</th>\n      <th>total_votes</th>\n      <th>voter_turnout</th>\n    </tr>\n  </thead>\n  <tbody>\n    <tr>\n      <th>0</th>\n      <td>0.232747</td>\n      <td>0.629905</td>\n      <td>0.142221</td>\n      <td>1.113806</td>\n      <td>0.33598</td>\n      <td>-0.152147</td>\n      <td>-0.39217</td>\n      <td>0.164741</td>\n      <td>0.104224</td>\n      <td>0.171358</td>\n      <td>0.192015</td>\n      <td>0.004192</td>\n      <td>-0.272893</td>\n      <td>0.330361</td>\n      <td>-0.310441</td>\n    </tr>\n  </tbody>\n</table>\n</div>"
     },
     "metadata": {}
    }
   ]
  },
  {
   "cell_type": "code",
   "metadata": {
    "tags": [],
    "cell_id": "00015-5b7ff45c-eed4-44a0-80ab-fdb710acff40",
    "deepnote_to_be_reexecuted": true,
    "source_hash": "ba182ac",
    "execution_millis": 54,
    "deepnote_cell_type": "code"
   },
   "source": "plot_fts(dem_Xtrain, dem_ytrain, dem_clf)",
   "execution_count": null,
   "outputs": [
    {
     "output_type": "error",
     "ename": "ValueError",
     "evalue": "Shape of passed values is (1, 15), indices imply (2, 15)",
     "traceback": [
      "\u001b[0;31m---------------------------------------------------------------------------\u001b[0m",
      "\u001b[0;31mValueError\u001b[0m                                Traceback (most recent call last)",
      "\u001b[0;32m~/venv/lib/python3.7/site-packages/pandas/core/internals/managers.py\u001b[0m in \u001b[0;36mcreate_block_manager_from_blocks\u001b[0;34m(blocks, axes)\u001b[0m\n\u001b[1;32m   1673\u001b[0m \u001b[0;34m\u001b[0m\u001b[0m\n\u001b[0;32m-> 1674\u001b[0;31m         \u001b[0mmgr\u001b[0m \u001b[0;34m=\u001b[0m \u001b[0mBlockManager\u001b[0m\u001b[0;34m(\u001b[0m\u001b[0mblocks\u001b[0m\u001b[0;34m,\u001b[0m \u001b[0maxes\u001b[0m\u001b[0;34m)\u001b[0m\u001b[0;34m\u001b[0m\u001b[0;34m\u001b[0m\u001b[0m\n\u001b[0m\u001b[1;32m   1675\u001b[0m         \u001b[0mmgr\u001b[0m\u001b[0;34m.\u001b[0m\u001b[0m_consolidate_inplace\u001b[0m\u001b[0;34m(\u001b[0m\u001b[0;34m)\u001b[0m\u001b[0;34m\u001b[0m\u001b[0;34m\u001b[0m\u001b[0m\n",
      "\u001b[0;32m~/venv/lib/python3.7/site-packages/pandas/core/internals/managers.py\u001b[0m in \u001b[0;36m__init__\u001b[0;34m(self, blocks, axes, do_integrity_check)\u001b[0m\n\u001b[1;32m    148\u001b[0m         \u001b[0;32mif\u001b[0m \u001b[0mdo_integrity_check\u001b[0m\u001b[0;34m:\u001b[0m\u001b[0;34m\u001b[0m\u001b[0;34m\u001b[0m\u001b[0m\n\u001b[0;32m--> 149\u001b[0;31m             \u001b[0mself\u001b[0m\u001b[0;34m.\u001b[0m\u001b[0m_verify_integrity\u001b[0m\u001b[0;34m(\u001b[0m\u001b[0;34m)\u001b[0m\u001b[0;34m\u001b[0m\u001b[0;34m\u001b[0m\u001b[0m\n\u001b[0m\u001b[1;32m    150\u001b[0m \u001b[0;34m\u001b[0m\u001b[0m\n",
      "\u001b[0;32m~/venv/lib/python3.7/site-packages/pandas/core/internals/managers.py\u001b[0m in \u001b[0;36m_verify_integrity\u001b[0;34m(self)\u001b[0m\n\u001b[1;32m    328\u001b[0m             \u001b[0;32mif\u001b[0m \u001b[0mblock\u001b[0m\u001b[0;34m.\u001b[0m\u001b[0mshape\u001b[0m\u001b[0;34m[\u001b[0m\u001b[0;36m1\u001b[0m\u001b[0;34m:\u001b[0m\u001b[0;34m]\u001b[0m \u001b[0;34m!=\u001b[0m \u001b[0mmgr_shape\u001b[0m\u001b[0;34m[\u001b[0m\u001b[0;36m1\u001b[0m\u001b[0;34m:\u001b[0m\u001b[0;34m]\u001b[0m\u001b[0;34m:\u001b[0m\u001b[0;34m\u001b[0m\u001b[0;34m\u001b[0m\u001b[0m\n\u001b[0;32m--> 329\u001b[0;31m                 \u001b[0;32mraise\u001b[0m \u001b[0mconstruction_error\u001b[0m\u001b[0;34m(\u001b[0m\u001b[0mtot_items\u001b[0m\u001b[0;34m,\u001b[0m \u001b[0mblock\u001b[0m\u001b[0;34m.\u001b[0m\u001b[0mshape\u001b[0m\u001b[0;34m[\u001b[0m\u001b[0;36m1\u001b[0m\u001b[0;34m:\u001b[0m\u001b[0;34m]\u001b[0m\u001b[0;34m,\u001b[0m \u001b[0mself\u001b[0m\u001b[0;34m.\u001b[0m\u001b[0maxes\u001b[0m\u001b[0;34m)\u001b[0m\u001b[0;34m\u001b[0m\u001b[0;34m\u001b[0m\u001b[0m\n\u001b[0m\u001b[1;32m    330\u001b[0m         \u001b[0;32mif\u001b[0m \u001b[0mlen\u001b[0m\u001b[0;34m(\u001b[0m\u001b[0mself\u001b[0m\u001b[0;34m.\u001b[0m\u001b[0mitems\u001b[0m\u001b[0;34m)\u001b[0m \u001b[0;34m!=\u001b[0m \u001b[0mtot_items\u001b[0m\u001b[0;34m:\u001b[0m\u001b[0;34m\u001b[0m\u001b[0;34m\u001b[0m\u001b[0m\n",
      "\u001b[0;31mValueError\u001b[0m: Shape of passed values is (1, 15), indices imply (2, 15)",
      "\nDuring handling of the above exception, another exception occurred:\n",
      "\u001b[0;31mValueError\u001b[0m                                Traceback (most recent call last)",
      "\u001b[0;32m<ipython-input-65-196e6415d4c8>\u001b[0m in \u001b[0;36m<module>\u001b[0;34m\u001b[0m\n\u001b[0;32m----> 1\u001b[0;31m \u001b[0mplot_fts\u001b[0m\u001b[0;34m(\u001b[0m\u001b[0mdem_Xtrain\u001b[0m\u001b[0;34m,\u001b[0m \u001b[0mdem_ytrain\u001b[0m\u001b[0;34m,\u001b[0m \u001b[0mdem_clf\u001b[0m\u001b[0;34m)\u001b[0m\u001b[0;34m\u001b[0m\u001b[0;34m\u001b[0m\u001b[0m\n\u001b[0m",
      "\u001b[0;32m<ipython-input-64-1aa0e2d70dd7>\u001b[0m in \u001b[0;36mplot_fts\u001b[0;34m(X_train, y_train, clf)\u001b[0m\n\u001b[1;32m      3\u001b[0m             \u001b[0mclf\u001b[0m\u001b[0;34m[\u001b[0m\u001b[0;34m'logisticregression'\u001b[0m\u001b[0;34m]\u001b[0m\u001b[0;34m.\u001b[0m\u001b[0mcoef_\u001b[0m\u001b[0;34m,\u001b[0m\u001b[0;34m\u001b[0m\u001b[0;34m\u001b[0m\u001b[0m\n\u001b[1;32m      4\u001b[0m             \u001b[0mindex\u001b[0m\u001b[0;34m=\u001b[0m\u001b[0my_train\u001b[0m\u001b[0;34m.\u001b[0m\u001b[0mfactorize\u001b[0m\u001b[0;34m(\u001b[0m\u001b[0;34m)\u001b[0m\u001b[0;34m[\u001b[0m\u001b[0;36m1\u001b[0m\u001b[0;34m]\u001b[0m\u001b[0;34m,\u001b[0m\u001b[0;34m\u001b[0m\u001b[0;34m\u001b[0m\u001b[0m\n\u001b[0;32m----> 5\u001b[0;31m             \u001b[0mcolumns\u001b[0m\u001b[0;34m=\u001b[0m\u001b[0mX_train\u001b[0m\u001b[0;34m.\u001b[0m\u001b[0mcolumns\u001b[0m\u001b[0;34m\u001b[0m\u001b[0;34m\u001b[0m\u001b[0m\n\u001b[0m\u001b[1;32m      6\u001b[0m     )\n\u001b[1;32m      7\u001b[0m     \u001b[0mfig\u001b[0m\u001b[0;34m,\u001b[0m \u001b[0max\u001b[0m \u001b[0;34m=\u001b[0m \u001b[0mplt\u001b[0m\u001b[0;34m.\u001b[0m\u001b[0msubplots\u001b[0m\u001b[0;34m(\u001b[0m\u001b[0mfigsize\u001b[0m\u001b[0;34m=\u001b[0m\u001b[0;34m(\u001b[0m\u001b[0;36m15\u001b[0m\u001b[0;34m,\u001b[0m \u001b[0;36m8\u001b[0m\u001b[0;34m)\u001b[0m\u001b[0;34m)\u001b[0m\u001b[0;34m\u001b[0m\u001b[0;34m\u001b[0m\u001b[0m\n",
      "\u001b[0;32m~/venv/lib/python3.7/site-packages/pandas/core/frame.py\u001b[0m in \u001b[0;36m__init__\u001b[0;34m(self, data, index, columns, dtype, copy)\u001b[0m\n\u001b[1;32m    495\u001b[0m                 \u001b[0mmgr\u001b[0m \u001b[0;34m=\u001b[0m \u001b[0minit_dict\u001b[0m\u001b[0;34m(\u001b[0m\u001b[0;34m{\u001b[0m\u001b[0mdata\u001b[0m\u001b[0;34m.\u001b[0m\u001b[0mname\u001b[0m\u001b[0;34m:\u001b[0m \u001b[0mdata\u001b[0m\u001b[0;34m}\u001b[0m\u001b[0;34m,\u001b[0m \u001b[0mindex\u001b[0m\u001b[0;34m,\u001b[0m \u001b[0mcolumns\u001b[0m\u001b[0;34m,\u001b[0m \u001b[0mdtype\u001b[0m\u001b[0;34m=\u001b[0m\u001b[0mdtype\u001b[0m\u001b[0;34m)\u001b[0m\u001b[0;34m\u001b[0m\u001b[0;34m\u001b[0m\u001b[0m\n\u001b[1;32m    496\u001b[0m             \u001b[0;32melse\u001b[0m\u001b[0;34m:\u001b[0m\u001b[0;34m\u001b[0m\u001b[0;34m\u001b[0m\u001b[0m\n\u001b[0;32m--> 497\u001b[0;31m                 \u001b[0mmgr\u001b[0m \u001b[0;34m=\u001b[0m \u001b[0minit_ndarray\u001b[0m\u001b[0;34m(\u001b[0m\u001b[0mdata\u001b[0m\u001b[0;34m,\u001b[0m \u001b[0mindex\u001b[0m\u001b[0;34m,\u001b[0m \u001b[0mcolumns\u001b[0m\u001b[0;34m,\u001b[0m \u001b[0mdtype\u001b[0m\u001b[0;34m=\u001b[0m\u001b[0mdtype\u001b[0m\u001b[0;34m,\u001b[0m \u001b[0mcopy\u001b[0m\u001b[0;34m=\u001b[0m\u001b[0mcopy\u001b[0m\u001b[0;34m)\u001b[0m\u001b[0;34m\u001b[0m\u001b[0;34m\u001b[0m\u001b[0m\n\u001b[0m\u001b[1;32m    498\u001b[0m \u001b[0;34m\u001b[0m\u001b[0m\n\u001b[1;32m    499\u001b[0m         \u001b[0;31m# For data is list-like, or Iterable (will consume into list)\u001b[0m\u001b[0;34m\u001b[0m\u001b[0;34m\u001b[0m\u001b[0;34m\u001b[0m\u001b[0m\n",
      "\u001b[0;32m~/venv/lib/python3.7/site-packages/pandas/core/internals/construction.py\u001b[0m in \u001b[0;36minit_ndarray\u001b[0;34m(values, index, columns, dtype, copy)\u001b[0m\n\u001b[1;32m    232\u001b[0m         \u001b[0mblock_values\u001b[0m \u001b[0;34m=\u001b[0m \u001b[0;34m[\u001b[0m\u001b[0mvalues\u001b[0m\u001b[0;34m]\u001b[0m\u001b[0;34m\u001b[0m\u001b[0;34m\u001b[0m\u001b[0m\n\u001b[1;32m    233\u001b[0m \u001b[0;34m\u001b[0m\u001b[0m\n\u001b[0;32m--> 234\u001b[0;31m     \u001b[0;32mreturn\u001b[0m \u001b[0mcreate_block_manager_from_blocks\u001b[0m\u001b[0;34m(\u001b[0m\u001b[0mblock_values\u001b[0m\u001b[0;34m,\u001b[0m \u001b[0;34m[\u001b[0m\u001b[0mcolumns\u001b[0m\u001b[0;34m,\u001b[0m \u001b[0mindex\u001b[0m\u001b[0;34m]\u001b[0m\u001b[0;34m)\u001b[0m\u001b[0;34m\u001b[0m\u001b[0;34m\u001b[0m\u001b[0m\n\u001b[0m\u001b[1;32m    235\u001b[0m \u001b[0;34m\u001b[0m\u001b[0m\n\u001b[1;32m    236\u001b[0m \u001b[0;34m\u001b[0m\u001b[0m\n",
      "\u001b[0;32m~/venv/lib/python3.7/site-packages/pandas/core/internals/managers.py\u001b[0m in \u001b[0;36mcreate_block_manager_from_blocks\u001b[0;34m(blocks, axes)\u001b[0m\n\u001b[1;32m   1679\u001b[0m         \u001b[0mblocks\u001b[0m \u001b[0;34m=\u001b[0m \u001b[0;34m[\u001b[0m\u001b[0mgetattr\u001b[0m\u001b[0;34m(\u001b[0m\u001b[0mb\u001b[0m\u001b[0;34m,\u001b[0m \u001b[0;34m\"values\"\u001b[0m\u001b[0;34m,\u001b[0m \u001b[0mb\u001b[0m\u001b[0;34m)\u001b[0m \u001b[0;32mfor\u001b[0m \u001b[0mb\u001b[0m \u001b[0;32min\u001b[0m \u001b[0mblocks\u001b[0m\u001b[0;34m]\u001b[0m\u001b[0;34m\u001b[0m\u001b[0;34m\u001b[0m\u001b[0m\n\u001b[1;32m   1680\u001b[0m         \u001b[0mtot_items\u001b[0m \u001b[0;34m=\u001b[0m \u001b[0msum\u001b[0m\u001b[0;34m(\u001b[0m\u001b[0mb\u001b[0m\u001b[0;34m.\u001b[0m\u001b[0mshape\u001b[0m\u001b[0;34m[\u001b[0m\u001b[0;36m0\u001b[0m\u001b[0;34m]\u001b[0m \u001b[0;32mfor\u001b[0m \u001b[0mb\u001b[0m \u001b[0;32min\u001b[0m \u001b[0mblocks\u001b[0m\u001b[0;34m)\u001b[0m\u001b[0;34m\u001b[0m\u001b[0;34m\u001b[0m\u001b[0m\n\u001b[0;32m-> 1681\u001b[0;31m         \u001b[0;32mraise\u001b[0m \u001b[0mconstruction_error\u001b[0m\u001b[0;34m(\u001b[0m\u001b[0mtot_items\u001b[0m\u001b[0;34m,\u001b[0m \u001b[0mblocks\u001b[0m\u001b[0;34m[\u001b[0m\u001b[0;36m0\u001b[0m\u001b[0;34m]\u001b[0m\u001b[0;34m.\u001b[0m\u001b[0mshape\u001b[0m\u001b[0;34m[\u001b[0m\u001b[0;36m1\u001b[0m\u001b[0;34m:\u001b[0m\u001b[0;34m]\u001b[0m\u001b[0;34m,\u001b[0m \u001b[0maxes\u001b[0m\u001b[0;34m,\u001b[0m \u001b[0me\u001b[0m\u001b[0;34m)\u001b[0m\u001b[0;34m\u001b[0m\u001b[0;34m\u001b[0m\u001b[0m\n\u001b[0m\u001b[1;32m   1682\u001b[0m \u001b[0;34m\u001b[0m\u001b[0m\n\u001b[1;32m   1683\u001b[0m \u001b[0;34m\u001b[0m\u001b[0m\n",
      "\u001b[0;31mValueError\u001b[0m: Shape of passed values is (1, 15), indices imply (2, 15)"
     ]
    }
   ]
  },
  {
   "cell_type": "markdown",
   "source": "### Ignore",
   "metadata": {
    "tags": [],
    "cell_id": "00011-70e2f705-442c-4b6e-a9ee-56eb24bad200",
    "deepnote_cell_type": "markdown"
   }
  },
  {
   "cell_type": "code",
   "metadata": {
    "tags": [],
    "cell_id": "00011-d13a4d87-1707-4432-9e4f-60472da0612f",
    "deepnote_to_be_reexecuted": true,
    "source_hash": "ee6a26a5",
    "execution_millis": 0,
    "deepnote_cell_type": "code"
   },
   "source": "# f1_score(y_test, model.predict(X_test_scaled), average='macro')",
   "execution_count": null,
   "outputs": [
    {
     "output_type": "execute_result",
     "execution_count": 155,
     "data": {
      "text/plain": "0.4421005594806211"
     },
     "metadata": {}
    }
   ]
  },
  {
   "cell_type": "code",
   "metadata": {
    "tags": [],
    "cell_id": "00012-2b38dbff-d843-4e83-945d-e487b499a505",
    "deepnote_to_be_reexecuted": true,
    "source_hash": "2376b506",
    "execution_millis": 4,
    "deepnote_cell_type": "code"
   },
   "source": "# balanced_accuracy_score(y_test, model.predict(X_test_scaled))",
   "execution_count": null,
   "outputs": [
    {
     "output_type": "execute_result",
     "execution_count": 140,
     "data": {
      "text/plain": "0.4819912570985006"
     },
     "metadata": {}
    }
   ]
  },
  {
   "cell_type": "code",
   "metadata": {
    "tags": [],
    "cell_id": "00013-f4a04f0a-47a8-4e58-9ecf-9a093943d07b",
    "deepnote_to_be_reexecuted": true,
    "source_hash": "9a0f4862",
    "execution_millis": 3,
    "deepnote_cell_type": "code"
   },
   "source": "# precision_score(y_test, model.predict(X_test_scaled), average='macro')",
   "execution_count": null,
   "outputs": [
    {
     "output_type": "execute_result",
     "execution_count": 153,
     "data": {
      "text/plain": "0.4526641751244953"
     },
     "metadata": {}
    }
   ]
  },
  {
   "cell_type": "code",
   "metadata": {
    "tags": [],
    "cell_id": "00014-0fab7e9e-d99e-4744-9448-5b176a72ff81",
    "deepnote_to_be_reexecuted": true,
    "source_hash": "2db1abbc",
    "execution_millis": 4,
    "deepnote_cell_type": "code"
   },
   "source": "# recall_score(y_test, model.predict(X_test_scaled), average='macro')",
   "execution_count": null,
   "outputs": [
    {
     "output_type": "execute_result",
     "execution_count": 154,
     "data": {
      "text/plain": "0.4819912570985006"
     },
     "metadata": {}
    }
   ]
  },
  {
   "cell_type": "code",
   "metadata": {
    "tags": [],
    "cell_id": "00012-6089799e-3a2a-43b7-bb14-023a6cf1b865",
    "deepnote_to_be_reexecuted": true,
    "source_hash": "cf2e39cc",
    "execution_millis": 312,
    "deepnote_cell_type": "code"
   },
   "source": "# sns.heatmap(confusion_matrix(y_test, model.predict(X_test_scaled)), xticklabels=feature_importance.index, yticklabels=feature_importance.index,\n# cmap='Blues', annot=True)",
   "execution_count": null,
   "outputs": [
    {
     "output_type": "execute_result",
     "execution_count": 159,
     "data": {
      "text/plain": "<AxesSubplot:>"
     },
     "metadata": {}
    },
    {
     "data": {
      "text/plain": "<Figure size 432x288 with 2 Axes>",
      "image/png": "[encoded data removed]"
     },
     "metadata": {
      "image/png": {
       "width": 426,
       "height": 251
      }
     },
     "output_type": "display_data"
    }
   ]
  },
  {
   "cell_type": "markdown",
   "source": "<a style='text-decoration:none;line-height:16px;display:flex;color:#5B5B62;padding:10px;justify-content:end;' href='https://deepnote.com?utm_source=created-in-deepnote-cell&projectId=6db671ff-4b94-4ec9-9d8f-30a849bb0caf' target=\"_blank\">\n<img alt='Created in deepnote.com' style='display:inline;max-height:16px;margin:0px;margin-right:7.5px;' src='data:image/svg+xml;base64,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' > </img>\nCreated in <span style='font-weight:600;margin-left:4px;'>Deepnote</span></a>",
   "metadata": {
    "tags": [],
    "created_in_deepnote_cell": true,
    "deepnote_cell_type": "markdown"
   }
  }
 ],
 "nbformat": 4,
 "nbformat_minor": 2,
 "metadata": {
  "orig_nbformat": 2,
  "deepnote_notebook_id": "27633886-2c5e-4d75-a27d-c20f8aea692a",
  "deepnote_execution_queue": [],
  "deepnote": {}
 }
}