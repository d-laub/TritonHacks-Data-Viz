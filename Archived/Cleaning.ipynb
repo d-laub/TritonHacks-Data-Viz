{
 "cells": [
  {
   "cell_type": "code",
   "metadata": {
    "tags": [],
    "cell_id": "00000-470e3f03-1007-4bc0-b51a-0dfe773f90f5",
    "deepnote_to_be_reexecuted": false,
    "source_hash": "6665ab6d",
    "execution_millis": 0,
    "execution_start": 1614734350191,
    "deepnote_cell_type": "code"
   },
   "source": "import numpy as np\nimport pandas as pd\n# import matplotlib.pyplot as plt\n# import seaborn as sns\n# sns.set_theme()\n\n# from utils import unity",
   "execution_count": null,
   "outputs": []
  },
  {
   "cell_type": "code",
   "metadata": {
    "tags": [],
    "cell_id": "00001-602c8696-0ce2-4ec9-b610-249d65c21dab",
    "deepnote_to_be_reexecuted": false,
    "source_hash": "378f633e",
    "execution_millis": 128,
    "execution_start": 1614734350196,
    "deepnote_cell_type": "code"
   },
   "source": "prim = pd.read_csv('Datasets/kaggle-presidential/primary_results.csv')\ncnty = pd.read_csv('Datasets/kaggle-presidential/county_facts.csv', dtype={'fips': str})\ncnty_sub = pd.read_csv(\n    'Datasets/us_census_ansi_codes/national_cousub2_utf.txt',\n    skip_blank_lines=True,\n    dtype=str\n    )\n# cnty_sub pre-cleaning command:\n# sed -E 's/,([^,]*, [^,]*),/,\"\\1\",/g'\n# then re-encode as utf-8 (why sed, why???)",
   "execution_count": null,
   "outputs": []
  },
  {
   "cell_type": "code",
   "metadata": {
    "tags": [],
    "cell_id": "00002-93959fc8-0040-4582-9e8d-32a646f5a88b",
    "deepnote_to_be_reexecuted": false,
    "source_hash": "dbfcb1fa",
    "execution_millis": 130,
    "execution_start": 1614734350332,
    "deepnote_cell_type": "code"
   },
   "source": "# Add state+county fips to Census subcounty data\ncnty_sub['prim_fips'] = cnty_sub['STATEFP'] + cnty_sub['COUNTYFP']\n\n# Replace nan fips in prim with actual fips from Census\nnan_regex = prim.loc[prim.fips.isna(), 'county'].drop_duplicates().str.cat(sep='|')\nnan_to_fill = cnty_sub[\n    cnty_sub['COUNTYNAME'].str.contains(nan_regex)\n    & (cnty_sub['STATE'] == 'NH')\n    ].drop_duplicates(subset=['COUNTYNAME'])\nfor row in nan_to_fill.itertuples():\n    county = row.COUNTYNAME\n    prim_cnty = county.split()[0]\n    prim.loc[prim['county'] == prim_cnty, 'fips'] = row.prim_fips\n\n# ^ this can probably be done faster using some combination of replace()\n# and combine()/combine_first()\n# rule of thumb for performant Python: avoid loops wherever possible\n\n# Cast fips to string & pad with 0 to at least 5 chars\nprim.fips = prim.fips.astype(int).astype(str).str.pad(5, fillchar='0')\n\n# All counties are non-counties and have no map in cnty_sub\nprim = prim[~prim.state_abbreviation.isin(['AK', 'KS'])]\n# Remove all subcounties (& subcounties) that have <100 votes for a party\n# Will apply a more aggressive filter on finalized county level data\nprim = prim[prim.groupby(['state', 'county', 'party']).votes.transform(sum) >= 100]",
   "execution_count": null,
   "outputs": []
  },
  {
   "cell_type": "markdown",
   "source": "# Aggregate County Subdivisions",
   "metadata": {
    "tags": [],
    "cell_id": "00003-cad83c03-05f2-4d43-a1f6-4b049825a641",
    "deepnote_cell_type": "markdown"
   }
  },
  {
   "cell_type": "code",
   "metadata": {
    "tags": [],
    "cell_id": "00003-1bfb4efc-2524-4ff6-afd8-6bb4380828e4",
    "deepnote_to_be_reexecuted": false,
    "source_hash": "64e7ad95",
    "execution_millis": 0,
    "is_code_hidden": true,
    "execution_start": 1614734350507,
    "deepnote_cell_type": "code"
   },
   "source": "# Not named county\n# city, Parish, District of Columbia, Census Area, Borough, Municipality\n# cnty.loc[~cnty.state_abbreviation.isna() & ~cnty['area_name'].str.contains('County'), 'area_name'].tolist()",
   "execution_count": null,
   "outputs": []
  },
  {
   "cell_type": "code",
   "metadata": {
    "tags": [],
    "cell_id": "00005-c36273c5-2997-4db5-afcd-88a764298e4a",
    "deepnote_to_be_reexecuted": false,
    "source_hash": "1efaadfd",
    "execution_millis": 0,
    "output_cleared": false,
    "is_code_hidden": true,
    "execution_start": 1614734350508,
    "deepnote_cell_type": "code"
   },
   "source": "# prim.loc[prim.fips.str.len() > 5, 'state_abbreviation'].unique()",
   "execution_count": null,
   "outputs": []
  },
  {
   "cell_type": "code",
   "metadata": {
    "tags": [],
    "cell_id": "00009-cbcd13a9-c490-40f4-af36-19ae99082246",
    "is_code_hidden": true,
    "deepnote_to_be_reexecuted": false,
    "source_hash": "e1c81a01",
    "execution_millis": 0,
    "execution_start": 1614734350509,
    "deepnote_cell_type": "code"
   },
   "source": "# IL is the only state with data for the county and its county subs\n# will process separately: sum IL duplicates together",
   "execution_count": null,
   "outputs": []
  },
  {
   "cell_type": "code",
   "metadata": {
    "tags": [],
    "cell_id": "00015-8811721e-84a9-44e6-96b7-1dd31a0db741",
    "deepnote_to_be_reexecuted": false,
    "source_hash": "370ba662",
    "execution_millis": 13,
    "is_code_hidden": true,
    "execution_start": 1614734350510,
    "deepnote_cell_type": "code"
   },
   "source": "# prim2 = prim.copy()\n# # prim2.loc[prim2['state_abbreviation'] == 'CT', 'county'] = prim2['county'].replace('Andover', 'wrong_thing')\n# # prim2.loc[len(prim2.index)] = ['Connecticut', 'CT', 'Fairfield', '09001', 'Democrat', 'Bernie Sanders', 1000, 0.54]\n\n# state = 'WY'\n# # Get non-county entries in prim, CT\n# prim_ct_cousub = prim2.loc[\n#     (prim2.fips.str.len() > 5)\n#     & (prim2.state_abbreviation == state)\n# ].copy()\n# prim_ct_cousub['old_idx'] = prim_ct_cousub.index\n# prim_ct_cousub = prim_ct_cousub.reset_index(drop=True)\n\n# # Get unique county subdivisions in prim, CT & sort\n# prim_ct_notcnty_short = prim_ct_cousub['county'].drop_duplicates().sort_values()\n# ct_cnty_sub_regex = cnty_sub.loc[cnty_sub['STATE'] == state, 'COUSUBNAME'].str.split().apply(lambda x: ' '.join(x[:-1])).str.cat(sep='|')\n# prim_ct_notcnty_short = prim_ct_notcnty_short[prim_ct_notcnty_short.str.contains(ct_cnty_sub_regex)]\n\n# # Get the unique county subdivisions by their full name\n# prim_ct_notcnty_regex = prim_ct_notcnty_short.str.cat(sep='|')\n# cnty_sub_regex = cnty_sub.loc[cnty_sub['STATE'] == state, 'COUSUBNAME'].str.cat(sep='|')\n\n# prim_ct_notcnty_full = cnty_sub.loc[\n#     cnty_sub['COUSUBNAME'].str.contains(prim_ct_notcnty_regex)\n#     & (cnty_sub['STATE'] == state),\n#     'COUSUBNAME'\n# ].drop_duplicates().sort_values()\n\n# # Create a dictionary to map across\n# ct_mapper = dict(zip(prim_ct_notcnty_short, prim_ct_notcnty_full))\n\n# # Replace incomplete names with full Census names\n# prim_ct_cousub['cousub'] = prim_ct_cousub['county'].replace(ct_mapper)\n\n# # What if some non-county prim entries are missing in cnty_sub? Drop them from prim!\n# not_in_cnty_sub = prim_ct_cousub[prim_ct_cousub['county'] == prim_ct_cousub['cousub']]\n# prim2 = prim2.drop(index=not_in_cnty_sub['old_idx'])\n\n# # Aggregate to county level votes from county subdivisions\n# ct_cousub_agg = (\n#     prim_ct_cousub\n#     .merge(cnty_sub, left_on=['state_abbreviation', 'cousub'], right_on=['STATE', 'COUSUBNAME'])\n#     .groupby(['STATE', 'COUNTYNAME', 'party', 'candidate', 'prim_fips'])['votes'].sum().reset_index()\n#     .rename(columns={'STATE': 'state_abbreviation', 'COUNTYNAME': 'county', 'prim_fips': 'fips'})\n# )\n# if state == 'IL':\n#     # Chicago is 99% in Cook county but also spans DuPage\n#     ct_cousub_agg = ct_cousub_agg[ct_cousub_agg['county'] != 'DuPage County']\n\n# # Check if new votes are already in prim\n# err = None\n# if prim2[['candidate', 'fips']].isin(ct_cousub_agg[['candidate', 'fips']].to_dict('list')).all(1).any():\n#     print(f\"\"\"\n#     New candidate-fips entry is already in prim!\n#     State: {state}\n#     \"\"\")\n#     err = prim2[prim2[['candidate', 'fips']].isin(ct_cousub_agg[['candidate', 'fips']].to_dict('list')).all(1)]",
   "execution_count": null,
   "outputs": []
  },
  {
   "cell_type": "code",
   "metadata": {
    "tags": [],
    "cell_id": "00008-219b55e5-34ad-40af-9595-30e37170d461",
    "deepnote_to_be_reexecuted": false,
    "source_hash": "fd4242a5",
    "execution_millis": 2,
    "is_code_hidden": true,
    "execution_start": 1614734350526,
    "deepnote_cell_type": "code"
   },
   "source": "# # Very special case! Chicago city is primarily in Cook county but is ALSO in DuPage county!\n# # https://en.wikipedia.org/wiki/Chicago\n# # Will drop the DuPage county values after aggregation\n# # This explains the duplicated vote counts for Cook and DuPage\n# prim_ct_cousub.merge(cnty_sub, left_on=['state_abbreviation', 'cousub'], right_on=['STATE', 'COUSUBNAME'])",
   "execution_count": null,
   "outputs": []
  },
  {
   "cell_type": "code",
   "metadata": {
    "tags": [],
    "cell_id": "00010-0399d70a-7639-4343-82e0-971509dd14f9",
    "deepnote_to_be_reexecuted": false,
    "source_hash": "62204df1",
    "execution_millis": 1,
    "is_code_hidden": false,
    "execution_start": 1614734350589,
    "deepnote_cell_type": "code"
   },
   "source": "def aggregate_cousub(prim, cnty_sub, state):\n    prim2 = prim.copy()\n\n    # Get non-county entries in prim2, CT\n    prim_ct_cousub = prim2.loc[\n        (prim2.fips.str.len() > 5)\n        & (prim2.state_abbreviation == state)\n    ].copy()\n    prim_ct_cousub['old_idx'] = prim_ct_cousub.index\n    prim_ct_cousub = prim_ct_cousub.reset_index(drop=True)\n\n    # Get unique county subdivisions in prim2, CT & sort\n    prim_ct_notcnty_short = prim_ct_cousub['county'].drop_duplicates().sort_values()\n    ct_cnty_sub_regex = cnty_sub.loc[cnty_sub['STATE'] == state, 'COUSUBNAME'].str.split().apply(lambda x: ' '.join(x[:-1])).str.cat(sep='|')\n    prim_ct_notcnty_short = prim_ct_notcnty_short[prim_ct_notcnty_short.str.contains(ct_cnty_sub_regex)]\n\n    # Get the unique county subdivisions by their full name\n    prim_ct_notcnty_regex = prim_ct_notcnty_short.str.cat(sep='|')\n    cnty_sub_regex = cnty_sub.loc[cnty_sub['STATE'] == state, 'COUSUBNAME'].str.cat(sep='|')\n\n    prim_ct_notcnty_full = cnty_sub.loc[\n        cnty_sub['COUSUBNAME'].str.contains(prim_ct_notcnty_regex)\n        & (cnty_sub['STATE'] == state),\n        'COUSUBNAME'\n    ].drop_duplicates().sort_values()\n\n    # Create a dictionary to map across\n    ct_mapper = dict(zip(prim_ct_notcnty_short, prim_ct_notcnty_full))\n\n    # Replace incomplete names with full Census names\n    prim_ct_cousub['cousub'] = prim_ct_cousub['county'].replace(ct_mapper)\n\n    # What if some non-county prim2 entries are missing in cnty_sub? Drop them from prim2!\n    not_in_cnty_sub = prim_ct_cousub[prim_ct_cousub['county'] == prim_ct_cousub['cousub']]\n    prim2 = prim2.drop(index=not_in_cnty_sub['old_idx'])\n\n    # Aggregate to county level votes from county subdivisions\n    ct_cousub_agg = (\n        prim_ct_cousub\n        .merge(cnty_sub, left_on=['state_abbreviation', 'cousub'], right_on=['STATE', 'COUSUBNAME'])\n        .groupby(['STATE', 'COUNTYNAME', 'party', 'candidate', 'prim_fips'])['votes'].sum().reset_index()\n        .rename(columns={'STATE': 'state_abbreviation', 'COUNTYNAME': 'county', 'prim_fips': 'fips'})\n    )\n    if state == 'IL':\n        # Chicago is 99% in Cook county but also spans DuPage\n        ct_cousub_agg = ct_cousub_agg[ct_cousub_agg['county'] != 'DuPage County']\n\n    # Check if new county is already in prim2, WIP can check via fips\n    if prim2['fips'].isin(ct_cousub_agg['fips']).any():\n        print(f\"\"\"\n        New county is already in prim!\n        Print {state}\n        Print county here\n        Print fips here\n        \"\"\")\n        return prim2[prim2['fips'].isin(ct_cousub_agg['fips'])]\n\n    res_us_state_abbrev = {\n        'AL': 'Alabama',\n        'AK': 'Alaska',\n        'AS': 'American Samoa',\n        'AZ': 'Arizona',\n        'AR': 'Arkansas',\n        'CA': 'California',\n        'CO': 'Colorado',\n        'CT': 'Connecticut',\n        'DE': 'Delaware',\n        'DC': 'District of Columbia',\n        'FL': 'Florida',\n        'GA': 'Georgia',\n        'GU': 'Guam',\n        'HI': 'Hawaii',\n        'ID': 'Idaho',\n        'IL': 'Illinois',\n        'IN': 'Indiana',\n        'IA': 'Iowa',\n        'KS': 'Kansas',\n        'KY': 'Kentucky',\n        'LA': 'Louisiana',\n        'ME': 'Maine',\n        'MD': 'Maryland',\n        'MA': 'Massachusetts',\n        'MI': 'Michigan',\n        'MN': 'Minnesota',\n        'MS': 'Mississippi',\n        'MO': 'Missouri',\n        'MT': 'Montana',\n        'NE': 'Nebraska',\n        'NV': 'Nevada',\n        'NH': 'New Hampshire',\n        'NJ': 'New Jersey',\n        'NM': 'New Mexico',\n        'NY': 'New York',\n        'NC': 'North Carolina',\n        'ND': 'North Dakota',\n        'MP': 'Northern Mariana Islands',\n        'OH': 'Ohio',\n        'OK': 'Oklahoma',\n        'OR': 'Oregon',\n        'PA': 'Pennsylvania',\n        'PR': 'Puerto Rico',\n        'RI': 'Rhode Island',\n        'SC': 'South Carolina',\n        'SD': 'South Dakota',\n        'TN': 'Tennessee',\n        'TX': 'Texas',\n        'UT': 'Utah',\n        'VT': 'Vermont',\n        'VI': 'Virgin Islands',\n        'VA': 'Virginia',\n        'WA': 'Washington',\n        'WV': 'West Virginia',\n        'WI': 'Wisconsin',\n        'WY': 'Wyoming'\n    }\n\n    # Add state and fraction_votes to ct_cousub_agg\n    ct_cousub_agg['state'] = ct_cousub_agg['state_abbreviation'].replace(res_us_state_abbrev)\n    # add fraction_votes to ct_cousub_agg\n    # Get total votes\n    ct_cousub_agg['total_votes'] = (ct_cousub_agg\n    .groupby(['county', 'state','party'])\n    .votes\n    .transform(sum)\n    )\n\n    ct_cousub_agg['fraction_votes'] = ct_cousub_agg['votes'] / ct_cousub_agg['total_votes']\n    ct_cousub_agg = ct_cousub_agg.drop(columns=[\"total_votes\"])\n    ct_cousub_agg['county'] = ct_cousub_agg.county.str.rsplit(' ', 1, expand=True).iloc[:, 0]\n\n    # Add them to their respective counties in prim2\n    # For new counties (fips id wasn't present in prim2), simply append to prim2\n    # and remove the county subdivision entries\n    # ct_cousub_agg = ct_cousub_agg[prim2.columns]\n    prim2 = prim2.append(ct_cousub_agg, ignore_index=True)\n    prim2 = prim2[~(prim2.county.isin(prim_ct_notcnty_short) & (prim2.state_abbreviation == state))]\n    return prim2",
   "execution_count": null,
   "outputs": []
  },
  {
   "cell_type": "code",
   "metadata": {
    "tags": [],
    "cell_id": "00010-956f30ba-5436-4359-92ec-511a23accab7",
    "deepnote_to_be_reexecuted": false,
    "source_hash": "2a46b8f5",
    "execution_millis": 1189,
    "execution_start": 1614734350590,
    "deepnote_cell_type": "code"
   },
   "source": "# Aggregate county subdivisions to county level\nstates = prim.loc[prim.fips.str.len() > 5, 'state_abbreviation'].unique()\nfor state in states:\n    prim = aggregate_cousub(prim, cnty_sub, state)",
   "execution_count": null,
   "outputs": []
  },
  {
   "cell_type": "code",
   "metadata": {
    "tags": [],
    "cell_id": "00012-88879463-09e0-4e01-a3c3-a81b7f75dedd",
    "deepnote_to_be_reexecuted": false,
    "source_hash": "971adc3a",
    "execution_millis": 78,
    "execution_start": 1614734351794,
    "deepnote_cell_type": "code"
   },
   "source": "# Drop rows where state/county does not match fips\n# These are nonidentifiable rows\n# e.g. CT, Cheshire, 33005 -> is it Cheshire, New Haven County, CT\n# Or is it Cheshire County, New Hampshire?\nprim['STATEFP'] = prim.fips.str[:2]\nmapper = cnty_sub[['STATE', 'STATEFP']].drop_duplicates().set_index('STATEFP')['STATE'].to_dict()\nprim['STATE'] = prim['STATEFP'].replace(mapper)\nprim = prim[prim['state_abbreviation'] == prim['STATE']]\nprim.drop(columns=['STATE', 'STATEFP'], inplace=True)",
   "execution_count": null,
   "outputs": []
  },
  {
   "cell_type": "code",
   "metadata": {
    "tags": [],
    "cell_id": "00011-ccf3fb7b-567c-4b3e-9673-4d874238c263",
    "deepnote_to_be_reexecuted": false,
    "source_hash": "c10a9a1c",
    "execution_millis": 17,
    "execution_start": 1614734351875,
    "deepnote_cell_type": "code"
   },
   "source": "# Only keep county votes with >= 1000 votes per party\nprim = prim[prim.groupby(['state', 'county', 'party'])['votes'].transform(sum) >= 1000]",
   "execution_count": null,
   "outputs": []
  },
  {
   "cell_type": "markdown",
   "source": "# County Level Data",
   "metadata": {
    "tags": [],
    "cell_id": "00002-74f751a3-698e-4ea1-a02d-141cccad1fe8",
    "deepnote_cell_type": "markdown"
   }
  },
  {
   "cell_type": "code",
   "metadata": {
    "tags": [],
    "cell_id": "00010-17d53a84-e9e1-4b5e-a968-248c00a8493c",
    "deepnote_to_be_reexecuted": false,
    "source_hash": "bd529d54",
    "execution_millis": 22,
    "execution_start": 1614734351895,
    "deepnote_cell_type": "code"
   },
   "source": "# Get unique area names where state_abbreviation is NA\n# 1. Get rows where state_abbreviation is NA\n# 2. Get only the area_name column\n# 3. Get unique values\nnot_counties = cnty.loc[cnty.state_abbreviation.isna(), 'area_name'].unique()\n\n# income = INC110213, hispanic = RHI725214, white= RHI825214, college = EDU685213, density = POP060210\n# VET605213,\"Veterans, 2009-2013\" # vets\n# POP645213,\"Foreign born persons, percent, 2009-2013\" # foreign\n# RHI425214,\"Asian alone, percent, 2014\" # asian\n# RHI225214,\"Black or African American alone, percent, 2014\" # black\n# SEX255214,\"Female persons, percent, 2014\" # female\n# AGE775214,\"Persons 65 years and over, percent, 2014\" # senior\n# AGE295214,\"Persons under 18 years, percent, 2014\" # children\n# county = area_name\n# st_cnty = state_abbreviation + county\n\n\nfts = ['PST045214','INC110213', 'RHI725214', 'RHI425214', 'RHI225214', 'RHI825214', 'POP645213', 'EDU685213', 'POP060210',\n 'VET605213', 'SEX255214', 'AGE775214', 'AGE295214']\nvals = ['population', 'income', 'hispanic', 'asian', 'black', 'white', 'foreign', 'college', 'density', 'vets',\n 'female', 'senior', 'children']\n\ncnty_fts = cnty[[\"area_name\", \"state_abbreviation\", 'fips'] + fts].copy()\ncnty_fts.rename(columns=dict(zip(fts, vals)), inplace=True)\ncnty_fts.rename(columns={\"area_name\": 'county'}, inplace=True)\ncnty_fts = cnty_fts[~cnty_fts.county.isin(not_counties)]\ncnty_fts.county = cnty_fts.county.str[:-7]\ncnty_fts['st_cnty'] = cnty_fts.state_abbreviation + '_' + cnty_fts.county\ncnty_fts.drop(columns=['county'], inplace=True)\ncnty_fts.rename(columns={'state_abbreviation': 'st_abbrev'}, inplace=True)",
   "execution_count": null,
   "outputs": []
  },
  {
   "cell_type": "markdown",
   "source": "### Republican",
   "metadata": {
    "tags": [],
    "cell_id": "00004-391eae73-da48-4d3f-9941-b55f40a81f9a",
    "deepnote_cell_type": "markdown"
   }
  },
  {
   "cell_type": "code",
   "metadata": {
    "tags": [],
    "cell_id": "00002-bf3e9f46-7e60-4e15-a1d4-87afedf1a27b",
    "deepnote_to_be_reexecuted": false,
    "source_hash": "dfdc9231",
    "execution_millis": 33,
    "execution_start": 1614734351920,
    "deepnote_cell_type": "code"
   },
   "source": "rep = prim.loc[prim.party == 'Republican'].copy()\n\n# Create new column \"state_county\" that is concatenation of state abbreviation, _, and county\n# Remove state_abbreviation, county, and fips\n\nrep['st_cnty'] = rep.state_abbreviation + '_' + rep.county\nrep.drop(columns=['county', 'fips', 'state_abbreviation'], inplace=True)\n\n# Get total votes\nrep['total_votes'] = (rep\n.groupby('st_cnty')\n.votes\n.transform(sum)\n)\n\n# Compute unity (WIP)\n# rep['unity'] = (rep\n# .groupby('st_cnty')\n# .fraction_votes\n# .transform(unity, n=11) # 11 Democratic candidates\n# )\n\n# Pick out winners, votes, fraction_votes, and state_county from dem\n# Add these stats to rep_cnty_fts via .merge()\n\nwin_df_rep = rep.loc[(rep.groupby('st_cnty').votes.transform(max) == rep.votes), rep.columns[rep.columns != 'party']]\nwin_df_rep = win_df_rep.loc[win_df_rep.votes > 0]\nwin_df_rep.rename(columns= {'candidate': \"winner\"}, inplace=True)\nrep_cnty_fts = cnty_fts.merge(win_df_rep, on = 'st_cnty')\n# Compute voter turnout %\nrep_cnty_fts['voter_turnout'] = rep_cnty_fts['total_votes'] / (rep_cnty_fts['population']-(rep_cnty_fts['children']/100*rep_cnty_fts['population']))\n# Filter counties that have poor turnout (< 5%)\nrep_cnty_fts = rep_cnty_fts[rep_cnty_fts.voter_turnout >= 0.05]",
   "execution_count": null,
   "outputs": []
  },
  {
   "cell_type": "markdown",
   "source": "### Democratic",
   "metadata": {
    "tags": [],
    "cell_id": "00011-a13ad1a8-28b9-4562-97cf-6a0556f7b6a7",
    "deepnote_cell_type": "markdown"
   }
  },
  {
   "cell_type": "code",
   "metadata": {
    "tags": [],
    "cell_id": "00012-5fed29e4-ff20-4732-abec-43c01b203a0d",
    "deepnote_to_be_reexecuted": false,
    "source_hash": "8e5423df",
    "execution_millis": 1,
    "execution_start": 1614734352001,
    "deepnote_cell_type": "code"
   },
   "source": "dem = prim.loc[prim.party == 'Democrat'].copy()\n\n# Create new column \"state_county\" that is concatenation of state abbreviation, _, and county\n# Remove state_abbreviation, county, and fips\n\ndem['st_cnty'] = dem.state_abbreviation + '_' + dem.county\ndem.drop(columns=['county', 'fips', 'state_abbreviation'], inplace=True)\n\n# Get total votes\ndem['total_votes'] = (dem\n.groupby('st_cnty')\n.votes\n.transform(sum)\n)\n\n# Compute unity (WIP)\n# dem['unity'] = (dem\n# .groupby('st_cnty')\n# .fraction_votes\n# .transform(unity, n=4) # 4 Democratic candidates\n# )\n\n# Pick out winners, votes, fraction_votes, and state_county from dem\n# Add these stats to dem_cnty_fts via .merge()\n\nwin_df_dem = dem.loc[(dem.groupby('st_cnty').votes.transform(max) == dem.votes), dem.columns[dem.columns != 'party']]\nwin_df_dem = win_df_dem.loc[win_df_dem.votes > 0]\nwin_df_dem.rename(columns= {'candidate': \"winner\"}, inplace=True)\ndem_cnty_fts = cnty_fts.merge(win_df_dem, on = 'st_cnty')\n# Compute voter turnout %\ndem_cnty_fts['voter_turnout'] = dem_cnty_fts['total_votes'] / (dem_cnty_fts['population']-(dem_cnty_fts['children']/100*dem_cnty_fts['population']))\n# Filter counties that have poor turnout (< 5%)\n# dem_cnty_fts = dem_cnty_fts[dem_cnty_fts.voter_turnout >= 0.05]",
   "execution_count": null,
   "outputs": []
  },
  {
   "cell_type": "markdown",
   "source": "### Save",
   "metadata": {
    "tags": [],
    "cell_id": "00009-86ad5b85-5db6-47ed-bfe4-c6dc871ac0d7",
    "deepnote_cell_type": "markdown"
   }
  },
  {
   "cell_type": "code",
   "metadata": {
    "tags": [],
    "cell_id": "00013-2d1d6ed8-4723-4dcc-b906-5668a59100b3",
    "deepnote_to_be_reexecuted": false,
    "source_hash": "7a34916b",
    "execution_millis": 61,
    "execution_start": 1614734352045,
    "deepnote_cell_type": "code"
   },
   "source": "rep_cnty_fts.to_csv('Datasets/kaggle-presidential/rep_clean_county_facts.csv', index=False)\ndem_cnty_fts.to_csv('Datasets/kaggle-presidential/dem_clean_county_facts.csv', index=False)",
   "execution_count": null,
   "outputs": []
  },
  {
   "cell_type": "markdown",
   "source": "# State Level Data\n\n* Get Republican and Democratic winners for each state\n* Get voting data for each state (e.g. fraction of votes, etc.)\n* Get demographic data for each state",
   "metadata": {
    "tags": [],
    "cell_id": "00010-ffb0f845-4cc1-42b3-bf4a-b26faf24729f",
    "deepnote_cell_type": "markdown"
   }
  },
  {
   "cell_type": "code",
   "metadata": {
    "tags": [],
    "cell_id": "00010-2c93bfc0-5c0f-4a81-832f-6192ec32d54a",
    "deepnote_to_be_reexecuted": true,
    "source_hash": "f23f5a7d",
    "execution_millis": 0,
    "deepnote_cell_type": "code"
   },
   "source": "prim_st = prim.groupby(['state', 'party', 'candidate'])['votes'].sum().reset_index()\nprim_st['total_votes'] = prim_st.groupby(['state', 'party'])['votes'].transform(sum)\nprim_st['fraction_votes'] = prim_st.votes / prim_st.total_votes",
   "execution_count": null,
   "outputs": []
  },
  {
   "cell_type": "code",
   "metadata": {
    "tags": [],
    "cell_id": "00010-33d95dbe-7634-4cee-b249-6fc58ecbc6a0",
    "deepnote_to_be_reexecuted": true,
    "source_hash": "4cac2a64",
    "execution_millis": 53,
    "deepnote_cell_type": "code"
   },
   "source": "prim_st.head()",
   "execution_count": null,
   "outputs": [
    {
     "output_type": "execute_result",
     "execution_count": 21,
     "data": {
      "application/vnd.deepnote.dataframe.v2+json": {
       "row_count": 5,
       "column_count": 6,
       "columns": [
        {
         "name": "state",
         "dtype": "object",
         "stats": {
          "unique_count": 1,
          "nan_count": 0,
          "categories": [
           {
            "name": "Alabama",
            "count": 5
           }
          ]
         }
        },
        {
         "name": "party",
         "dtype": "object",
         "stats": {
          "unique_count": 2,
          "nan_count": 0,
          "categories": [
           {
            "name": "Republican",
            "count": 3
           },
           {
            "name": "Democrat",
            "count": 2
           }
          ]
         }
        },
        {
         "name": "candidate",
         "dtype": "object",
         "stats": {
          "unique_count": 5,
          "nan_count": 0,
          "categories": [
           {
            "name": "Bernie Sanders",
            "count": 1
           },
           {
            "name": "Hillary Clinton",
            "count": 1
           },
           {
            "name": "3 others",
            "count": 3
           }
          ]
         }
        },
        {
         "name": "votes",
         "dtype": "int64",
         "stats": {
          "unique_count": 5,
          "nan_count": 0,
          "min": 37831,
          "max": 369251,
          "histogram": [
           {
            "bin_start": 37831,
            "bin_end": 70973,
            "count": 1
           },
           {
            "bin_start": 70973,
            "bin_end": 104115,
            "count": 2
           },
           {
            "bin_start": 104115,
            "bin_end": 137257,
            "count": 0
           },
           {
            "bin_start": 137257,
            "bin_end": 170399,
            "count": 0
           },
           {
            "bin_start": 170399,
            "bin_end": 203541,
            "count": 0
           },
           {
            "bin_start": 203541,
            "bin_end": 236683,
            "count": 0
           },
           {
            "bin_start": 236683,
            "bin_end": 269825,
            "count": 0
           },
           {
            "bin_start": 269825,
            "bin_end": 302967,
            "count": 0
           },
           {
            "bin_start": 302967,
            "bin_end": 336109,
            "count": 1
           },
           {
            "bin_start": 336109,
            "bin_end": 369251,
            "count": 1
           }
          ]
         }
        },
        {
         "name": "total_votes",
         "dtype": "int64",
         "stats": {
          "unique_count": 2,
          "nan_count": 0,
          "min": 378840,
          "max": 833251,
          "histogram": [
           {
            "bin_start": 378840,
            "bin_end": 424281.1,
            "count": 2
           },
           {
            "bin_start": 424281.1,
            "bin_end": 469722.2,
            "count": 0
           },
           {
            "bin_start": 469722.2,
            "bin_end": 515163.3,
            "count": 0
           },
           {
            "bin_start": 515163.3,
            "bin_end": 560604.4,
            "count": 0
           },
           {
            "bin_start": 560604.4,
            "bin_end": 606045.5,
            "count": 0
           },
           {
            "bin_start": 606045.5,
            "bin_end": 651486.6,
            "count": 0
           },
           {
            "bin_start": 651486.6,
            "bin_end": 696927.7,
            "count": 0
           },
           {
            "bin_start": 696927.7,
            "bin_end": 742368.8,
            "count": 0
           },
           {
            "bin_start": 742368.8,
            "bin_end": 787809.8999999999,
            "count": 0
           },
           {
            "bin_start": 787809.8999999999,
            "bin_end": 833251,
            "count": 3
           }
          ]
         }
        },
        {
         "name": "fraction_votes",
         "dtype": "float64",
         "stats": {
          "unique_count": 5,
          "nan_count": 0,
          "min": 0.04540168568654583,
          "max": 0.8034288881849857,
          "histogram": [
           {
            "bin_start": 0.04540168568654583,
            "bin_end": 0.12120440593638983,
            "count": 2
           },
           {
            "bin_start": 0.12120440593638983,
            "bin_end": 0.19700712618623384,
            "count": 1
           },
           {
            "bin_start": 0.19700712618623384,
            "bin_end": 0.2728098464360778,
            "count": 0
           },
           {
            "bin_start": 0.2728098464360778,
            "bin_end": 0.34861256668592183,
            "count": 0
           },
           {
            "bin_start": 0.34861256668592183,
            "bin_end": 0.42441528693576586,
            "count": 0
           },
           {
            "bin_start": 0.42441528693576586,
            "bin_end": 0.5002180071856098,
            "count": 1
           },
           {
            "bin_start": 0.5002180071856098,
            "bin_end": 0.5760207274354537,
            "count": 0
           },
           {
            "bin_start": 0.5760207274354537,
            "bin_end": 0.6518234476852978,
            "count": 0
           },
           {
            "bin_start": 0.6518234476852978,
            "bin_end": 0.7276261679351418,
            "count": 0
           },
           {
            "bin_start": 0.7276261679351418,
            "bin_end": 0.8034288881849857,
            "count": 1
           }
          ]
         }
        },
        {
         "name": "_deepnote_index_column",
         "dtype": "int64"
        }
       ],
       "rows_top": [
        {
         "state": "Alabama",
         "party": "Democrat",
         "candidate": "Bernie Sanders",
         "votes": 74469,
         "total_votes": 378840,
         "fraction_votes": 0.19657111181501424,
         "_deepnote_index_column": 0
        },
        {
         "state": "Alabama",
         "party": "Democrat",
         "candidate": "Hillary Clinton",
         "votes": 304371,
         "total_votes": 378840,
         "fraction_votes": 0.8034288881849857,
         "_deepnote_index_column": 1
        },
        {
         "state": "Alabama",
         "party": "Republican",
         "candidate": "Ben Carson",
         "votes": 87143,
         "total_votes": 833251,
         "fraction_votes": 0.10458193269495027,
         "_deepnote_index_column": 2
        },
        {
         "state": "Alabama",
         "party": "Republican",
         "candidate": "Donald Trump",
         "votes": 369251,
         "total_votes": 833251,
         "fraction_votes": 0.44314498272429315,
         "_deepnote_index_column": 3
        },
        {
         "state": "Alabama",
         "party": "Republican",
         "candidate": "John Kasich",
         "votes": 37831,
         "total_votes": 833251,
         "fraction_votes": 0.04540168568654583,
         "_deepnote_index_column": 4
        }
       ],
       "rows_bottom": null
      },
      "text/plain": "     state       party        candidate   votes  total_votes  fraction_votes\n0  Alabama    Democrat   Bernie Sanders   74469       378840        0.196571\n1  Alabama    Democrat  Hillary Clinton  304371       378840        0.803429\n2  Alabama  Republican       Ben Carson   87143       833251        0.104582\n3  Alabama  Republican     Donald Trump  369251       833251        0.443145\n4  Alabama  Republican      John Kasich   37831       833251        0.045402",
      "text/html": "<div>\n<style scoped>\n    .dataframe tbody tr th:only-of-type {\n        vertical-align: middle;\n    }\n\n    .dataframe tbody tr th {\n        vertical-align: top;\n    }\n\n    .dataframe thead th {\n        text-align: right;\n    }\n</style>\n<table border=\"1\" class=\"dataframe\">\n  <thead>\n    <tr style=\"text-align: right;\">\n      <th></th>\n      <th>state</th>\n      <th>party</th>\n      <th>candidate</th>\n      <th>votes</th>\n      <th>total_votes</th>\n      <th>fraction_votes</th>\n    </tr>\n  </thead>\n  <tbody>\n    <tr>\n      <th>0</th>\n      <td>Alabama</td>\n      <td>Democrat</td>\n      <td>Bernie Sanders</td>\n      <td>74469</td>\n      <td>378840</td>\n      <td>0.196571</td>\n    </tr>\n    <tr>\n      <th>1</th>\n      <td>Alabama</td>\n      <td>Democrat</td>\n      <td>Hillary Clinton</td>\n      <td>304371</td>\n      <td>378840</td>\n      <td>0.803429</td>\n    </tr>\n    <tr>\n      <th>2</th>\n      <td>Alabama</td>\n      <td>Republican</td>\n      <td>Ben Carson</td>\n      <td>87143</td>\n      <td>833251</td>\n      <td>0.104582</td>\n    </tr>\n    <tr>\n      <th>3</th>\n      <td>Alabama</td>\n      <td>Republican</td>\n      <td>Donald Trump</td>\n      <td>369251</td>\n      <td>833251</td>\n      <td>0.443145</td>\n    </tr>\n    <tr>\n      <th>4</th>\n      <td>Alabama</td>\n      <td>Republican</td>\n      <td>John Kasich</td>\n      <td>37831</td>\n      <td>833251</td>\n      <td>0.045402</td>\n    </tr>\n  </tbody>\n</table>\n</div>"
     },
     "metadata": {}
    }
   ]
  },
  {
   "cell_type": "code",
   "metadata": {
    "tags": [],
    "cell_id": "00009-15727447-9c08-4d1a-a172-10abea536264",
    "deepnote_to_be_reexecuted": true,
    "source_hash": "3bdd68fc",
    "execution_millis": 1,
    "deepnote_cell_type": "code"
   },
   "source": "# Get unique area names where state_abbreviation is NA\n# 1. Get rows where state_abbreviation is NA\n# 2. Get only the area_name column\n# 3. Get unique values\nstates = cnty.loc[\n    cnty.state_abbreviation.isna()\n    & (cnty.area_name != 'United States'),\n    'area_name'].unique()\n\n# income = INC110213, hispanic = RHI725214, white= RHI825214, college = EDU685213, density = POP060210\n# VET605213,\"Veterans, 2009-2013\" # vets\n# POP645213,\"Foreign born persons, percent, 2009-2013\" # foreign\n# RHI425214,\"Asian alone, percent, 2014\" # asian\n# RHI225214,\"Black or African American alone, percent, 2014\" # black\n# SEX255214,\"Female persons, percent, 2014\" # female\n# AGE775214,\"Persons 65 years and over, percent, 2014\" # senior\n# AGE295214,\"Persons under 18 years, percent, 2014\" # children\n# county = area_name\n# st_cnty = state_abbreviation + county\n\nfts = ['PST045214','INC110213', 'RHI725214', 'RHI425214', 'RHI225214', 'RHI825214', 'POP645213', 'EDU685213', 'POP060210',\n 'VET605213', 'SEX255214', 'AGE775214', 'AGE295214']\nvals = ['population', 'income', 'hispanic', 'asian', 'black', 'white', 'foreign', 'college', 'density', 'vets',\n 'female', 'senior', 'children']\n\nst_fts = cnty[[\"area_name\", \"state_abbreviation\", 'fips'] + fts].copy()\nst_fts.rename(columns=dict(zip(fts, vals)), inplace=True)\nst_fts.rename(columns={\"area_name\": 'state'}, inplace=True)\nst_fts = st_fts[st_fts.state.isin(states)]\nus_state_abbrev = {\n    'Alabama': 'AL',\n    'Alaska': 'AK',\n    'American Samoa': 'AS',\n    'Arizona': 'AZ',\n    'Arkansas': 'AR',\n    'California': 'CA',\n    'Colorado': 'CO',\n    'Connecticut': 'CT',\n    'Delaware': 'DE',\n    'District of Columbia': 'DC',\n    'Florida': 'FL',\n    'Georgia': 'GA',\n    'Guam': 'GU',\n    'Hawaii': 'HI',\n    'Idaho': 'ID',\n    'Illinois': 'IL',\n    'Indiana': 'IN',\n    'Iowa': 'IA',\n    'Kansas': 'KS',\n    'Kentucky': 'KY',\n    'Louisiana': 'LA',\n    'Maine': 'ME',\n    'Maryland': 'MD',\n    'Massachusetts': 'MA',\n    'Michigan': 'MI',\n    'Minnesota': 'MN',\n    'Mississippi': 'MS',\n    'Missouri': 'MO',\n    'Montana': 'MT',\n    'Nebraska': 'NE',\n    'Nevada': 'NV',\n    'New Hampshire': 'NH',\n    'New Jersey': 'NJ',\n    'New Mexico': 'NM',\n    'New York': 'NY',\n    'North Carolina': 'NC',\n    'North Dakota': 'ND',\n    'Northern Mariana Islands':'MP',\n    'Ohio': 'OH',\n    'Oklahoma': 'OK',\n    'Oregon': 'OR',\n    'Pennsylvania': 'PA',\n    'Puerto Rico': 'PR',\n    'Rhode Island': 'RI',\n    'South Carolina': 'SC',\n    'South Dakota': 'SD',\n    'Tennessee': 'TN',\n    'Texas': 'TX',\n    'Utah': 'UT',\n    'Vermont': 'VT',\n    'Virgin Islands': 'VI',\n    'Virginia': 'VA',\n    'Washington': 'WA',\n    'West Virginia': 'WV',\n    'Wisconsin': 'WI',\n    'Wyoming': 'WY'\n}\nst_fts['state_abbreviation'] = st_fts.state.replace(us_state_abbrev)\nst_fts.rename(columns={'state_abbreviation': 'st_abbrev'}, inplace=True)",
   "execution_count": null,
   "outputs": []
  },
  {
   "cell_type": "code",
   "metadata": {
    "tags": [],
    "cell_id": "00014-3518c0f8-4d89-4e96-a804-9be8be356e27",
    "deepnote_to_be_reexecuted": true,
    "source_hash": "5a51d3e0",
    "execution_millis": 32,
    "deepnote_cell_type": "code"
   },
   "source": "st_fts.head()",
   "execution_count": null,
   "outputs": [
    {
     "output_type": "execute_result",
     "execution_count": 23,
     "data": {
      "application/vnd.deepnote.dataframe.v2+json": {
       "row_count": 5,
       "column_count": 16,
       "columns": [
        {
         "name": "state",
         "dtype": "object",
         "stats": {
          "unique_count": 5,
          "nan_count": 0,
          "categories": [
           {
            "name": "Alabama",
            "count": 1
           },
           {
            "name": "Alaska",
            "count": 1
           },
           {
            "name": "3 others",
            "count": 3
           }
          ]
         }
        },
        {
         "name": "st_abbrev",
         "dtype": "object",
         "stats": {
          "unique_count": 5,
          "nan_count": 0,
          "categories": [
           {
            "name": "AL",
            "count": 1
           },
           {
            "name": "AK",
            "count": 1
           },
           {
            "name": "3 others",
            "count": 3
           }
          ]
         }
        },
        {
         "name": "fips",
         "dtype": "object",
         "stats": {
          "unique_count": 5,
          "nan_count": 0,
          "categories": [
           {
            "name": "01000",
            "count": 1
           },
           {
            "name": "02000",
            "count": 1
           },
           {
            "name": "3 others",
            "count": 3
           }
          ]
         }
        },
        {
         "name": "population",
         "dtype": "int64",
         "stats": {
          "unique_count": 5,
          "nan_count": 0,
          "min": 736732,
          "max": 38802500,
          "histogram": [
           {
            "bin_start": 736732,
            "bin_end": 4543308.8,
            "count": 2
           },
           {
            "bin_start": 4543308.8,
            "bin_end": 8349885.6,
            "count": 2
           },
           {
            "bin_start": 8349885.6,
            "bin_end": 12156462.399999999,
            "count": 0
           },
           {
            "bin_start": 12156462.399999999,
            "bin_end": 15963039.2,
            "count": 0
           },
           {
            "bin_start": 15963039.2,
            "bin_end": 19769616,
            "count": 0
           },
           {
            "bin_start": 19769616,
            "bin_end": 23576192.799999997,
            "count": 0
           },
           {
            "bin_start": 23576192.799999997,
            "bin_end": 27382769.599999998,
            "count": 0
           },
           {
            "bin_start": 27382769.599999998,
            "bin_end": 31189346.4,
            "count": 0
           },
           {
            "bin_start": 31189346.4,
            "bin_end": 34995923.199999996,
            "count": 0
           },
           {
            "bin_start": 34995923.199999996,
            "bin_end": 38802500,
            "count": 1
           }
          ]
         }
        },
        {
         "name": "income",
         "dtype": "int64",
         "stats": {
          "unique_count": 5,
          "nan_count": 0,
          "min": 40768,
          "max": 70760,
          "histogram": [
           {
            "bin_start": 40768,
            "bin_end": 43767.2,
            "count": 2
           },
           {
            "bin_start": 43767.2,
            "bin_end": 46766.4,
            "count": 0
           },
           {
            "bin_start": 46766.4,
            "bin_end": 49765.6,
            "count": 0
           },
           {
            "bin_start": 49765.6,
            "bin_end": 52764.8,
            "count": 1
           },
           {
            "bin_start": 52764.8,
            "bin_end": 55764,
            "count": 0
           },
           {
            "bin_start": 55764,
            "bin_end": 58763.2,
            "count": 0
           },
           {
            "bin_start": 58763.2,
            "bin_end": 61762.399999999994,
            "count": 1
           },
           {
            "bin_start": 61762.399999999994,
            "bin_end": 64761.6,
            "count": 0
           },
           {
            "bin_start": 64761.6,
            "bin_end": 67760.8,
            "count": 0
           },
           {
            "bin_start": 67760.8,
            "bin_end": 70760,
            "count": 1
           }
          ]
         }
        },
        {
         "name": "hispanic",
         "dtype": "float64",
         "stats": {
          "unique_count": 5,
          "nan_count": 0,
          "min": 4.1,
          "max": 38.6,
          "histogram": [
           {
            "bin_start": 4.1,
            "bin_end": 7.55,
            "count": 3
           },
           {
            "bin_start": 7.55,
            "bin_end": 11,
            "count": 0
           },
           {
            "bin_start": 11,
            "bin_end": 14.450000000000001,
            "count": 0
           },
           {
            "bin_start": 14.450000000000001,
            "bin_end": 17.9,
            "count": 0
           },
           {
            "bin_start": 17.9,
            "bin_end": 21.35,
            "count": 0
           },
           {
            "bin_start": 21.35,
            "bin_end": 24.800000000000004,
            "count": 0
           },
           {
            "bin_start": 24.800000000000004,
            "bin_end": 28.25,
            "count": 0
           },
           {
            "bin_start": 28.25,
            "bin_end": 31.700000000000003,
            "count": 1
           },
           {
            "bin_start": 31.700000000000003,
            "bin_end": 35.15,
            "count": 0
           },
           {
            "bin_start": 35.15,
            "bin_end": 38.6,
            "count": 1
           }
          ]
         }
        },
        {
         "name": "asian",
         "dtype": "float64",
         "stats": {
          "unique_count": 5,
          "nan_count": 0,
          "min": 1.3,
          "max": 14.4,
          "histogram": [
           {
            "bin_start": 1.3,
            "bin_end": 2.6100000000000003,
            "count": 2
           },
           {
            "bin_start": 2.6100000000000003,
            "bin_end": 3.92,
            "count": 1
           },
           {
            "bin_start": 3.92,
            "bin_end": 5.23,
            "count": 0
           },
           {
            "bin_start": 5.23,
            "bin_end": 6.54,
            "count": 1
           },
           {
            "bin_start": 6.54,
            "bin_end": 7.8500000000000005,
            "count": 0
           },
           {
            "bin_start": 7.8500000000000005,
            "bin_end": 9.16,
            "count": 0
           },
           {
            "bin_start": 9.16,
            "bin_end": 10.47,
            "count": 0
           },
           {
            "bin_start": 10.47,
            "bin_end": 11.780000000000001,
            "count": 0
           },
           {
            "bin_start": 11.780000000000001,
            "bin_end": 13.090000000000002,
            "count": 0
           },
           {
            "bin_start": 13.090000000000002,
            "bin_end": 14.4,
            "count": 1
           }
          ]
         }
        },
        {
         "name": "black",
         "dtype": "float64",
         "stats": {
          "unique_count": 5,
          "nan_count": 0,
          "min": 3.9,
          "max": 26.7,
          "histogram": [
           {
            "bin_start": 3.9,
            "bin_end": 6.18,
            "count": 2
           },
           {
            "bin_start": 6.18,
            "bin_end": 8.46,
            "count": 1
           },
           {
            "bin_start": 8.46,
            "bin_end": 10.74,
            "count": 0
           },
           {
            "bin_start": 10.74,
            "bin_end": 13.020000000000001,
            "count": 0
           },
           {
            "bin_start": 13.020000000000001,
            "bin_end": 15.300000000000002,
            "count": 0
           },
           {
            "bin_start": 15.300000000000002,
            "bin_end": 17.580000000000002,
            "count": 1
           },
           {
            "bin_start": 17.580000000000002,
            "bin_end": 19.86,
            "count": 0
           },
           {
            "bin_start": 19.86,
            "bin_end": 22.14,
            "count": 0
           },
           {
            "bin_start": 22.14,
            "bin_end": 24.42,
            "count": 0
           },
           {
            "bin_start": 24.42,
            "bin_end": 26.7,
            "count": 1
           }
          ]
         }
        },
        {
         "name": "white",
         "dtype": "float64",
         "stats": {
          "unique_count": 5,
          "nan_count": 0,
          "min": 38.5,
          "max": 73.4,
          "histogram": [
           {
            "bin_start": 38.5,
            "bin_end": 41.99,
            "count": 1
           },
           {
            "bin_start": 41.99,
            "bin_end": 45.480000000000004,
            "count": 0
           },
           {
            "bin_start": 45.480000000000004,
            "bin_end": 48.97,
            "count": 0
           },
           {
            "bin_start": 48.97,
            "bin_end": 52.46,
            "count": 0
           },
           {
            "bin_start": 52.46,
            "bin_end": 55.95,
            "count": 0
           },
           {
            "bin_start": 55.95,
            "bin_end": 59.440000000000005,
            "count": 1
           },
           {
            "bin_start": 59.440000000000005,
            "bin_end": 62.93000000000001,
            "count": 1
           },
           {
            "bin_start": 62.93000000000001,
            "bin_end": 66.42,
            "count": 1
           },
           {
            "bin_start": 66.42,
            "bin_end": 69.91000000000001,
            "count": 0
           },
           {
            "bin_start": 69.91000000000001,
            "bin_end": 73.4,
            "count": 1
           }
          ]
         }
        },
        {
         "name": "foreign",
         "dtype": "float64",
         "stats": {
          "unique_count": 5,
          "nan_count": 0,
          "min": 3.5,
          "max": 27,
          "histogram": [
           {
            "bin_start": 3.5,
            "bin_end": 5.85,
            "count": 2
           },
           {
            "bin_start": 5.85,
            "bin_end": 8.2,
            "count": 1
           },
           {
            "bin_start": 8.2,
            "bin_end": 10.55,
            "count": 0
           },
           {
            "bin_start": 10.55,
            "bin_end": 12.9,
            "count": 0
           },
           {
            "bin_start": 12.9,
            "bin_end": 15.25,
            "count": 1
           },
           {
            "bin_start": 15.25,
            "bin_end": 17.6,
            "count": 0
           },
           {
            "bin_start": 17.6,
            "bin_end": 19.95,
            "count": 0
           },
           {
            "bin_start": 19.95,
            "bin_end": 22.3,
            "count": 0
           },
           {
            "bin_start": 22.3,
            "bin_end": 24.650000000000002,
            "count": 0
           },
           {
            "bin_start": 24.650000000000002,
            "bin_end": 27,
            "count": 1
           }
          ]
         }
        },
        {
         "name": "college",
         "dtype": "float64",
         "stats": {
          "unique_count": 5,
          "nan_count": 0,
          "min": 20.1,
          "max": 30.7,
          "histogram": [
           {
            "bin_start": 20.1,
            "bin_end": 21.16,
            "count": 1
           },
           {
            "bin_start": 21.16,
            "bin_end": 22.220000000000002,
            "count": 0
           },
           {
            "bin_start": 22.220000000000002,
            "bin_end": 23.28,
            "count": 1
           },
           {
            "bin_start": 23.28,
            "bin_end": 24.34,
            "count": 0
           },
           {
            "bin_start": 24.34,
            "bin_end": 25.4,
            "count": 0
           },
           {
            "bin_start": 25.4,
            "bin_end": 26.46,
            "count": 0
           },
           {
            "bin_start": 26.46,
            "bin_end": 27.52,
            "count": 2
           },
           {
            "bin_start": 27.52,
            "bin_end": 28.58,
            "count": 0
           },
           {
            "bin_start": 28.58,
            "bin_end": 29.64,
            "count": 0
           },
           {
            "bin_start": 29.64,
            "bin_end": 30.7,
            "count": 1
           }
          ]
         }
        },
        {
         "name": "density",
         "dtype": "float64",
         "stats": {
          "unique_count": 5,
          "nan_count": 0,
          "min": 1.2,
          "max": 239.1,
          "histogram": [
           {
            "bin_start": 1.2,
            "bin_end": 24.99,
            "count": 1
           },
           {
            "bin_start": 24.99,
            "bin_end": 48.78,
            "count": 0
           },
           {
            "bin_start": 48.78,
            "bin_end": 72.57000000000001,
            "count": 2
           },
           {
            "bin_start": 72.57000000000001,
            "bin_end": 96.36,
            "count": 1
           },
           {
            "bin_start": 96.36,
            "bin_end": 120.14999999999999,
            "count": 0
           },
           {
            "bin_start": 120.14999999999999,
            "bin_end": 143.94,
            "count": 0
           },
           {
            "bin_start": 143.94,
            "bin_end": 167.73,
            "count": 0
           },
           {
            "bin_start": 167.73,
            "bin_end": 191.51999999999998,
            "count": 0
           },
           {
            "bin_start": 191.51999999999998,
            "bin_end": 215.30999999999997,
            "count": 0
           },
           {
            "bin_start": 215.30999999999997,
            "bin_end": 239.1,
            "count": 1
           }
          ]
         }
        },
        {
         "name": "vets",
         "dtype": "int64",
         "stats": {
          "unique_count": 5,
          "nan_count": 0,
          "min": 71004,
          "max": 1893539,
          "histogram": [
           {
            "bin_start": 71004,
            "bin_end": 253257.5,
            "count": 2
           },
           {
            "bin_start": 253257.5,
            "bin_end": 435511,
            "count": 1
           },
           {
            "bin_start": 435511,
            "bin_end": 617764.5,
            "count": 1
           },
           {
            "bin_start": 617764.5,
            "bin_end": 800018,
            "count": 0
           },
           {
            "bin_start": 800018,
            "bin_end": 982271.5,
            "count": 0
           },
           {
            "bin_start": 982271.5,
            "bin_end": 1164525,
            "count": 0
           },
           {
            "bin_start": 1164525,
            "bin_end": 1346778.5,
            "count": 0
           },
           {
            "bin_start": 1346778.5,
            "bin_end": 1529032,
            "count": 0
           },
           {
            "bin_start": 1529032,
            "bin_end": 1711285.5,
            "count": 0
           },
           {
            "bin_start": 1711285.5,
            "bin_end": 1893539,
            "count": 1
           }
          ]
         }
        },
        {
         "name": "female",
         "dtype": "float64",
         "stats": {
          "unique_count": 4,
          "nan_count": 0,
          "min": 47.4,
          "max": 51.5,
          "histogram": [
           {
            "bin_start": 47.4,
            "bin_end": 47.81,
            "count": 1
           },
           {
            "bin_start": 47.81,
            "bin_end": 48.22,
            "count": 0
           },
           {
            "bin_start": 48.22,
            "bin_end": 48.629999999999995,
            "count": 0
           },
           {
            "bin_start": 48.629999999999995,
            "bin_end": 49.04,
            "count": 0
           },
           {
            "bin_start": 49.04,
            "bin_end": 49.45,
            "count": 0
           },
           {
            "bin_start": 49.45,
            "bin_end": 49.86,
            "count": 0
           },
           {
            "bin_start": 49.86,
            "bin_end": 50.269999999999996,
            "count": 0
           },
           {
            "bin_start": 50.269999999999996,
            "bin_end": 50.68,
            "count": 2
           },
           {
            "bin_start": 50.68,
            "bin_end": 51.09,
            "count": 1
           },
           {
            "bin_start": 51.09,
            "bin_end": 51.5,
            "count": 1
           }
          ]
         }
        },
        {
         "name": "senior",
         "dtype": "float64",
         "stats": {
          "unique_count": 5,
          "nan_count": 0,
          "min": 9.4,
          "max": 15.9,
          "histogram": [
           {
            "bin_start": 9.4,
            "bin_end": 10.05,
            "count": 1
           },
           {
            "bin_start": 10.05,
            "bin_end": 10.700000000000001,
            "count": 0
           },
           {
            "bin_start": 10.700000000000001,
            "bin_end": 11.350000000000001,
            "count": 0
           },
           {
            "bin_start": 11.350000000000001,
            "bin_end": 12,
            "count": 0
           },
           {
            "bin_start": 12,
            "bin_end": 12.65,
            "count": 0
           },
           {
            "bin_start": 12.65,
            "bin_end": 13.3,
            "count": 1
           },
           {
            "bin_start": 13.3,
            "bin_end": 13.95,
            "count": 0
           },
           {
            "bin_start": 13.95,
            "bin_end": 14.600000000000001,
            "count": 0
           },
           {
            "bin_start": 14.600000000000001,
            "bin_end": 15.25,
            "count": 0
           },
           {
            "bin_start": 15.25,
            "bin_end": 15.9,
            "count": 3
           }
          ]
         }
        },
        {
         "name": "children",
         "dtype": "float64",
         "stats": {
          "unique_count": 5,
          "nan_count": 0,
          "min": 22.8,
          "max": 25.3,
          "histogram": [
           {
            "bin_start": 22.8,
            "bin_end": 23.05,
            "count": 1
           },
           {
            "bin_start": 23.05,
            "bin_end": 23.3,
            "count": 0
           },
           {
            "bin_start": 23.3,
            "bin_end": 23.55,
            "count": 0
           },
           {
            "bin_start": 23.55,
            "bin_end": 23.8,
            "count": 1
           },
           {
            "bin_start": 23.8,
            "bin_end": 24.05,
            "count": 1
           },
           {
            "bin_start": 24.05,
            "bin_end": 24.3,
            "count": 1
           },
           {
            "bin_start": 24.3,
            "bin_end": 24.55,
            "count": 0
           },
           {
            "bin_start": 24.55,
            "bin_end": 24.8,
            "count": 0
           },
           {
            "bin_start": 24.8,
            "bin_end": 25.05,
            "count": 0
           },
           {
            "bin_start": 25.05,
            "bin_end": 25.3,
            "count": 1
           }
          ]
         }
        },
        {
         "name": "_deepnote_index_column",
         "dtype": "int64"
        }
       ],
       "rows_top": [
        {
         "state": "Alabama",
         "st_abbrev": "AL",
         "fips": "01000",
         "population": 4849377,
         "income": 43253,
         "hispanic": 4.1,
         "asian": 1.3,
         "black": 26.7,
         "white": 66.2,
         "foreign": 3.5,
         "college": 22.6,
         "density": 94.4,
         "vets": 388865,
         "female": 51.5,
         "senior": 15.3,
         "children": 22.8,
         "_deepnote_index_column": 1
        },
        {
         "state": "Alaska",
         "st_abbrev": "AK",
         "fips": "02000",
         "population": 736732,
         "income": 70760,
         "hispanic": 6.8,
         "asian": 6.1,
         "black": 3.9,
         "white": 61.9,
         "foreign": 7,
         "college": 27.5,
         "density": 1.2,
         "vets": 71004,
         "female": 47.4,
         "senior": 9.4,
         "children": 25.3,
         "_deepnote_index_column": 69
        },
        {
         "state": "Arizona",
         "st_abbrev": "AZ",
         "fips": "04000",
         "population": 6731484,
         "income": 49774,
         "hispanic": 30.5,
         "asian": 3.3,
         "black": 4.7,
         "white": 56.2,
         "foreign": 13.4,
         "college": 26.9,
         "density": 56.3,
         "vets": 522382,
         "female": 50.3,
         "senior": 15.9,
         "children": 24.1,
         "_deepnote_index_column": 99
        },
        {
         "state": "Arkansas",
         "st_abbrev": "AR",
         "fips": "05000",
         "population": 2966369,
         "income": 40768,
         "hispanic": 7,
         "asian": 1.5,
         "black": 15.6,
         "white": 73.4,
         "foreign": 4.5,
         "college": 20.1,
         "density": 56,
         "vets": 237311,
         "female": 50.9,
         "senior": 15.7,
         "children": 23.8,
         "_deepnote_index_column": 115
        },
        {
         "state": "California",
         "st_abbrev": "CA",
         "fips": "06000",
         "population": 38802500,
         "income": 61094,
         "hispanic": 38.6,
         "asian": 14.4,
         "black": 6.5,
         "white": 38.5,
         "foreign": 27,
         "college": 30.7,
         "density": 239.1,
         "vets": 1893539,
         "female": 50.3,
         "senior": 12.9,
         "children": 23.6,
         "_deepnote_index_column": 191
        }
       ],
       "rows_bottom": null
      },
      "text/plain": "          state st_abbrev   fips  population  income  hispanic  asian  black  \\\n1       Alabama        AL  01000     4849377   43253       4.1    1.3   26.7   \n69       Alaska        AK  02000      736732   70760       6.8    6.1    3.9   \n99      Arizona        AZ  04000     6731484   49774      30.5    3.3    4.7   \n115    Arkansas        AR  05000     2966369   40768       7.0    1.5   15.6   \n191  California        CA  06000    38802500   61094      38.6   14.4    6.5   \n\n     white  foreign  college  density     vets  female  senior  children  \n1     66.2      3.5     22.6     94.4   388865    51.5    15.3      22.8  \n69    61.9      7.0     27.5      1.2    71004    47.4     9.4      25.3  \n99    56.2     13.4     26.9     56.3   522382    50.3    15.9      24.1  \n115   73.4      4.5     20.1     56.0   237311    50.9    15.7      23.8  \n191   38.5     27.0     30.7    239.1  1893539    50.3    12.9      23.6  ",
      "text/html": "<div>\n<style scoped>\n    .dataframe tbody tr th:only-of-type {\n        vertical-align: middle;\n    }\n\n    .dataframe tbody tr th {\n        vertical-align: top;\n    }\n\n    .dataframe thead th {\n        text-align: right;\n    }\n</style>\n<table border=\"1\" class=\"dataframe\">\n  <thead>\n    <tr style=\"text-align: right;\">\n      <th></th>\n      <th>state</th>\n      <th>st_abbrev</th>\n      <th>fips</th>\n      <th>population</th>\n      <th>income</th>\n      <th>hispanic</th>\n      <th>asian</th>\n      <th>black</th>\n      <th>white</th>\n      <th>foreign</th>\n      <th>college</th>\n      <th>density</th>\n      <th>vets</th>\n      <th>female</th>\n      <th>senior</th>\n      <th>children</th>\n    </tr>\n  </thead>\n  <tbody>\n    <tr>\n      <th>1</th>\n      <td>Alabama</td>\n      <td>AL</td>\n      <td>01000</td>\n      <td>4849377</td>\n      <td>43253</td>\n      <td>4.1</td>\n      <td>1.3</td>\n      <td>26.7</td>\n      <td>66.2</td>\n      <td>3.5</td>\n      <td>22.6</td>\n      <td>94.4</td>\n      <td>388865</td>\n      <td>51.5</td>\n      <td>15.3</td>\n      <td>22.8</td>\n    </tr>\n    <tr>\n      <th>69</th>\n      <td>Alaska</td>\n      <td>AK</td>\n      <td>02000</td>\n      <td>736732</td>\n      <td>70760</td>\n      <td>6.8</td>\n      <td>6.1</td>\n      <td>3.9</td>\n      <td>61.9</td>\n      <td>7.0</td>\n      <td>27.5</td>\n      <td>1.2</td>\n      <td>71004</td>\n      <td>47.4</td>\n      <td>9.4</td>\n      <td>25.3</td>\n    </tr>\n    <tr>\n      <th>99</th>\n      <td>Arizona</td>\n      <td>AZ</td>\n      <td>04000</td>\n      <td>6731484</td>\n      <td>49774</td>\n      <td>30.5</td>\n      <td>3.3</td>\n      <td>4.7</td>\n      <td>56.2</td>\n      <td>13.4</td>\n      <td>26.9</td>\n      <td>56.3</td>\n      <td>522382</td>\n      <td>50.3</td>\n      <td>15.9</td>\n      <td>24.1</td>\n    </tr>\n    <tr>\n      <th>115</th>\n      <td>Arkansas</td>\n      <td>AR</td>\n      <td>05000</td>\n      <td>2966369</td>\n      <td>40768</td>\n      <td>7.0</td>\n      <td>1.5</td>\n      <td>15.6</td>\n      <td>73.4</td>\n      <td>4.5</td>\n      <td>20.1</td>\n      <td>56.0</td>\n      <td>237311</td>\n      <td>50.9</td>\n      <td>15.7</td>\n      <td>23.8</td>\n    </tr>\n    <tr>\n      <th>191</th>\n      <td>California</td>\n      <td>CA</td>\n      <td>06000</td>\n      <td>38802500</td>\n      <td>61094</td>\n      <td>38.6</td>\n      <td>14.4</td>\n      <td>6.5</td>\n      <td>38.5</td>\n      <td>27.0</td>\n      <td>30.7</td>\n      <td>239.1</td>\n      <td>1893539</td>\n      <td>50.3</td>\n      <td>12.9</td>\n      <td>23.6</td>\n    </tr>\n  </tbody>\n</table>\n</div>"
     },
     "metadata": {}
    }
   ]
  },
  {
   "cell_type": "markdown",
   "source": "### Republican",
   "metadata": {
    "tags": [],
    "cell_id": "00014-4debb1a9-3579-49b3-9e8a-250f7b4a31ec",
    "deepnote_cell_type": "markdown"
   }
  },
  {
   "cell_type": "code",
   "metadata": {
    "tags": [],
    "cell_id": "00015-d4548f93-61c6-4a2b-9784-a4085a7351b8",
    "deepnote_to_be_reexecuted": true,
    "source_hash": "8111ef6d",
    "execution_millis": 6,
    "deepnote_cell_type": "code"
   },
   "source": "rep_st = prim_st.loc[prim_st.party == 'Republican'].copy()\n\n# Pick out winners, votes, fraction_votes, and state from rep\n# Add these stats to rep_st_fts via .merge()\n\nwin_df_rep_st = rep_st.loc[(rep_st.groupby('state').votes.transform(max) == rep_st.votes), rep_st.columns[rep_st.columns != 'party']]\nwin_df_rep_st = win_df_rep_st.loc[win_df_rep_st.votes > 0]\nwin_df_rep_st.rename(columns= {'candidate': \"winner\"}, inplace=True)\nrep_st_fts = st_fts.merge(win_df_rep_st, on = 'state')\n# Compute voter turnout %\nrep_st_fts['voter_turnout'] = rep_st_fts['total_votes'] / (rep_st_fts['population']-(rep_st_fts['children']/100*rep_st_fts['population']))\n# Filter states that have poor turnout (< 5%)\nrep_st_fts = rep_st_fts[rep_st_fts.voter_turnout >= 0.05]",
   "execution_count": null,
   "outputs": []
  },
  {
   "cell_type": "code",
   "metadata": {
    "tags": [],
    "cell_id": "00018-1ae152d5-aefd-4ed6-85e3-fde7cce203c0",
    "deepnote_to_be_reexecuted": true,
    "source_hash": "67ad9588",
    "execution_millis": 79,
    "deepnote_cell_type": "code"
   },
   "source": "rep_st_fts.head()",
   "execution_count": null,
   "outputs": [
    {
     "output_type": "execute_result",
     "execution_count": 25,
     "data": {
      "application/vnd.deepnote.dataframe.v2+json": {
       "row_count": 5,
       "column_count": 21,
       "columns": [
        {
         "name": "state",
         "dtype": "object",
         "stats": {
          "unique_count": 5,
          "nan_count": 0,
          "categories": [
           {
            "name": "Alabama",
            "count": 1
           },
           {
            "name": "Arizona",
            "count": 1
           },
           {
            "name": "3 others",
            "count": 3
           }
          ]
         }
        },
        {
         "name": "st_abbrev",
         "dtype": "object",
         "stats": {
          "unique_count": 5,
          "nan_count": 0,
          "categories": [
           {
            "name": "AL",
            "count": 1
           },
           {
            "name": "AZ",
            "count": 1
           },
           {
            "name": "3 others",
            "count": 3
           }
          ]
         }
        },
        {
         "name": "fips",
         "dtype": "object",
         "stats": {
          "unique_count": 5,
          "nan_count": 0,
          "categories": [
           {
            "name": "01000",
            "count": 1
           },
           {
            "name": "04000",
            "count": 1
           },
           {
            "name": "3 others",
            "count": 3
           }
          ]
         }
        },
        {
         "name": "population",
         "dtype": "int64",
         "stats": {
          "unique_count": 5,
          "nan_count": 0,
          "min": 2966369,
          "max": 38802500,
          "histogram": [
           {
            "bin_start": 2966369,
            "bin_end": 6549982.1,
            "count": 3
           },
           {
            "bin_start": 6549982.1,
            "bin_end": 10133595.2,
            "count": 1
           },
           {
            "bin_start": 10133595.2,
            "bin_end": 13717208.3,
            "count": 0
           },
           {
            "bin_start": 13717208.3,
            "bin_end": 17300821.4,
            "count": 0
           },
           {
            "bin_start": 17300821.4,
            "bin_end": 20884434.5,
            "count": 0
           },
           {
            "bin_start": 20884434.5,
            "bin_end": 24468047.6,
            "count": 0
           },
           {
            "bin_start": 24468047.6,
            "bin_end": 28051660.7,
            "count": 0
           },
           {
            "bin_start": 28051660.7,
            "bin_end": 31635273.8,
            "count": 0
           },
           {
            "bin_start": 31635273.8,
            "bin_end": 35218886.900000006,
            "count": 0
           },
           {
            "bin_start": 35218886.900000006,
            "bin_end": 38802500,
            "count": 1
           }
          ]
         }
        },
        {
         "name": "income",
         "dtype": "int64",
         "stats": {
          "unique_count": 5,
          "nan_count": 0,
          "min": 40768,
          "max": 69461,
          "histogram": [
           {
            "bin_start": 40768,
            "bin_end": 43637.3,
            "count": 2
           },
           {
            "bin_start": 43637.3,
            "bin_end": 46506.6,
            "count": 0
           },
           {
            "bin_start": 46506.6,
            "bin_end": 49375.9,
            "count": 0
           },
           {
            "bin_start": 49375.9,
            "bin_end": 52245.2,
            "count": 1
           },
           {
            "bin_start": 52245.2,
            "bin_end": 55114.5,
            "count": 0
           },
           {
            "bin_start": 55114.5,
            "bin_end": 57983.8,
            "count": 0
           },
           {
            "bin_start": 57983.8,
            "bin_end": 60853.100000000006,
            "count": 0
           },
           {
            "bin_start": 60853.100000000006,
            "bin_end": 63722.4,
            "count": 1
           },
           {
            "bin_start": 63722.4,
            "bin_end": 66591.7,
            "count": 0
           },
           {
            "bin_start": 66591.7,
            "bin_end": 69461,
            "count": 1
           }
          ]
         }
        },
        {
         "name": "hispanic",
         "dtype": "float64",
         "stats": {
          "unique_count": 5,
          "nan_count": 0,
          "min": 4.1,
          "max": 38.6,
          "histogram": [
           {
            "bin_start": 4.1,
            "bin_end": 7.55,
            "count": 2
           },
           {
            "bin_start": 7.55,
            "bin_end": 11,
            "count": 0
           },
           {
            "bin_start": 11,
            "bin_end": 14.450000000000001,
            "count": 0
           },
           {
            "bin_start": 14.450000000000001,
            "bin_end": 17.9,
            "count": 1
           },
           {
            "bin_start": 17.9,
            "bin_end": 21.35,
            "count": 0
           },
           {
            "bin_start": 21.35,
            "bin_end": 24.800000000000004,
            "count": 0
           },
           {
            "bin_start": 24.800000000000004,
            "bin_end": 28.25,
            "count": 0
           },
           {
            "bin_start": 28.25,
            "bin_end": 31.700000000000003,
            "count": 1
           },
           {
            "bin_start": 31.700000000000003,
            "bin_end": 35.15,
            "count": 0
           },
           {
            "bin_start": 35.15,
            "bin_end": 38.6,
            "count": 1
           }
          ]
         }
        },
        {
         "name": "asian",
         "dtype": "float64",
         "stats": {
          "unique_count": 5,
          "nan_count": 0,
          "min": 1.3,
          "max": 14.4,
          "histogram": [
           {
            "bin_start": 1.3,
            "bin_end": 2.6100000000000003,
            "count": 2
           },
           {
            "bin_start": 2.6100000000000003,
            "bin_end": 3.92,
            "count": 1
           },
           {
            "bin_start": 3.92,
            "bin_end": 5.23,
            "count": 1
           },
           {
            "bin_start": 5.23,
            "bin_end": 6.54,
            "count": 0
           },
           {
            "bin_start": 6.54,
            "bin_end": 7.8500000000000005,
            "count": 0
           },
           {
            "bin_start": 7.8500000000000005,
            "bin_end": 9.16,
            "count": 0
           },
           {
            "bin_start": 9.16,
            "bin_end": 10.47,
            "count": 0
           },
           {
            "bin_start": 10.47,
            "bin_end": 11.780000000000001,
            "count": 0
           },
           {
            "bin_start": 11.780000000000001,
            "bin_end": 13.090000000000002,
            "count": 0
           },
           {
            "bin_start": 13.090000000000002,
            "bin_end": 14.4,
            "count": 1
           }
          ]
         }
        },
        {
         "name": "black",
         "dtype": "float64",
         "stats": {
          "unique_count": 5,
          "nan_count": 0,
          "min": 4.7,
          "max": 26.7,
          "histogram": [
           {
            "bin_start": 4.7,
            "bin_end": 6.9,
            "count": 2
           },
           {
            "bin_start": 6.9,
            "bin_end": 9.100000000000001,
            "count": 0
           },
           {
            "bin_start": 9.100000000000001,
            "bin_end": 11.3,
            "count": 0
           },
           {
            "bin_start": 11.3,
            "bin_end": 13.5,
            "count": 1
           },
           {
            "bin_start": 13.5,
            "bin_end": 15.7,
            "count": 1
           },
           {
            "bin_start": 15.7,
            "bin_end": 17.900000000000002,
            "count": 0
           },
           {
            "bin_start": 17.900000000000002,
            "bin_end": 20.1,
            "count": 0
           },
           {
            "bin_start": 20.1,
            "bin_end": 22.3,
            "count": 0
           },
           {
            "bin_start": 22.3,
            "bin_end": 24.5,
            "count": 0
           },
           {
            "bin_start": 24.5,
            "bin_end": 26.7,
            "count": 1
           }
          ]
         }
        },
        {
         "name": "white",
         "dtype": "float64",
         "stats": {
          "unique_count": 5,
          "nan_count": 0,
          "min": 38.5,
          "max": 73.4,
          "histogram": [
           {
            "bin_start": 38.5,
            "bin_end": 41.99,
            "count": 1
           },
           {
            "bin_start": 41.99,
            "bin_end": 45.480000000000004,
            "count": 0
           },
           {
            "bin_start": 45.480000000000004,
            "bin_end": 48.97,
            "count": 0
           },
           {
            "bin_start": 48.97,
            "bin_end": 52.46,
            "count": 0
           },
           {
            "bin_start": 52.46,
            "bin_end": 55.95,
            "count": 0
           },
           {
            "bin_start": 55.95,
            "bin_end": 59.440000000000005,
            "count": 1
           },
           {
            "bin_start": 59.440000000000005,
            "bin_end": 62.93000000000001,
            "count": 0
           },
           {
            "bin_start": 62.93000000000001,
            "bin_end": 66.42,
            "count": 1
           },
           {
            "bin_start": 66.42,
            "bin_end": 69.91000000000001,
            "count": 1
           },
           {
            "bin_start": 69.91000000000001,
            "bin_end": 73.4,
            "count": 1
           }
          ]
         }
        },
        {
         "name": "foreign",
         "dtype": "float64",
         "stats": {
          "unique_count": 5,
          "nan_count": 0,
          "min": 3.5,
          "max": 27,
          "histogram": [
           {
            "bin_start": 3.5,
            "bin_end": 5.85,
            "count": 2
           },
           {
            "bin_start": 5.85,
            "bin_end": 8.2,
            "count": 0
           },
           {
            "bin_start": 8.2,
            "bin_end": 10.55,
            "count": 0
           },
           {
            "bin_start": 10.55,
            "bin_end": 12.9,
            "count": 0
           },
           {
            "bin_start": 12.9,
            "bin_end": 15.25,
            "count": 2
           },
           {
            "bin_start": 15.25,
            "bin_end": 17.6,
            "count": 0
           },
           {
            "bin_start": 17.6,
            "bin_end": 19.95,
            "count": 0
           },
           {
            "bin_start": 19.95,
            "bin_end": 22.3,
            "count": 0
           },
           {
            "bin_start": 22.3,
            "bin_end": 24.650000000000002,
            "count": 0
           },
           {
            "bin_start": 24.650000000000002,
            "bin_end": 27,
            "count": 1
           }
          ]
         }
        },
        {
         "name": "college",
         "dtype": "float64",
         "stats": {
          "unique_count": 5,
          "nan_count": 0,
          "min": 20.1,
          "max": 36.5,
          "histogram": [
           {
            "bin_start": 20.1,
            "bin_end": 21.740000000000002,
            "count": 1
           },
           {
            "bin_start": 21.740000000000002,
            "bin_end": 23.380000000000003,
            "count": 1
           },
           {
            "bin_start": 23.380000000000003,
            "bin_end": 25.020000000000003,
            "count": 0
           },
           {
            "bin_start": 25.020000000000003,
            "bin_end": 26.66,
            "count": 0
           },
           {
            "bin_start": 26.66,
            "bin_end": 28.3,
            "count": 1
           },
           {
            "bin_start": 28.3,
            "bin_end": 29.94,
            "count": 0
           },
           {
            "bin_start": 29.94,
            "bin_end": 31.58,
            "count": 1
           },
           {
            "bin_start": 31.58,
            "bin_end": 33.22,
            "count": 0
           },
           {
            "bin_start": 33.22,
            "bin_end": 34.86,
            "count": 0
           },
           {
            "bin_start": 34.86,
            "bin_end": 36.5,
            "count": 1
           }
          ]
         }
        },
        {
         "name": "density",
         "dtype": "float64",
         "stats": {
          "unique_count": 5,
          "nan_count": 0,
          "min": 56,
          "max": 738.1,
          "histogram": [
           {
            "bin_start": 56,
            "bin_end": 124.21000000000001,
            "count": 3
           },
           {
            "bin_start": 124.21000000000001,
            "bin_end": 192.42000000000002,
            "count": 0
           },
           {
            "bin_start": 192.42000000000002,
            "bin_end": 260.63,
            "count": 1
           },
           {
            "bin_start": 260.63,
            "bin_end": 328.84000000000003,
            "count": 0
           },
           {
            "bin_start": 328.84000000000003,
            "bin_end": 397.05000000000007,
            "count": 0
           },
           {
            "bin_start": 397.05000000000007,
            "bin_end": 465.26000000000005,
            "count": 0
           },
           {
            "bin_start": 465.26000000000005,
            "bin_end": 533.47,
            "count": 0
           },
           {
            "bin_start": 533.47,
            "bin_end": 601.6800000000001,
            "count": 0
           },
           {
            "bin_start": 601.6800000000001,
            "bin_end": 669.8900000000001,
            "count": 0
           },
           {
            "bin_start": 669.8900000000001,
            "bin_end": 738.1,
            "count": 1
           }
          ]
         }
        },
        {
         "name": "vets",
         "dtype": "int64",
         "stats": {
          "unique_count": 5,
          "nan_count": 0,
          "min": 217947,
          "max": 1893539,
          "histogram": [
           {
            "bin_start": 217947,
            "bin_end": 385506.2,
            "count": 2
           },
           {
            "bin_start": 385506.2,
            "bin_end": 553065.4,
            "count": 2
           },
           {
            "bin_start": 553065.4,
            "bin_end": 720624.6000000001,
            "count": 0
           },
           {
            "bin_start": 720624.6000000001,
            "bin_end": 888183.8,
            "count": 0
           },
           {
            "bin_start": 888183.8,
            "bin_end": 1055743,
            "count": 0
           },
           {
            "bin_start": 1055743,
            "bin_end": 1223302.2000000002,
            "count": 0
           },
           {
            "bin_start": 1223302.2000000002,
            "bin_end": 1390861.4000000001,
            "count": 0
           },
           {
            "bin_start": 1390861.4000000001,
            "bin_end": 1558420.6,
            "count": 0
           },
           {
            "bin_start": 1558420.6,
            "bin_end": 1725979.8,
            "count": 0
           },
           {
            "bin_start": 1725979.8,
            "bin_end": 1893539,
            "count": 1
           }
          ]
         }
        },
        {
         "name": "female",
         "dtype": "float64",
         "stats": {
          "unique_count": 4,
          "nan_count": 0,
          "min": 50.3,
          "max": 51.5,
          "histogram": [
           {
            "bin_start": 50.3,
            "bin_end": 50.419999999999995,
            "count": 2
           },
           {
            "bin_start": 50.419999999999995,
            "bin_end": 50.54,
            "count": 0
           },
           {
            "bin_start": 50.54,
            "bin_end": 50.66,
            "count": 0
           },
           {
            "bin_start": 50.66,
            "bin_end": 50.78,
            "count": 0
           },
           {
            "bin_start": 50.78,
            "bin_end": 50.9,
            "count": 0
           },
           {
            "bin_start": 50.9,
            "bin_end": 51.019999999999996,
            "count": 1
           },
           {
            "bin_start": 51.019999999999996,
            "bin_end": 51.14,
            "count": 0
           },
           {
            "bin_start": 51.14,
            "bin_end": 51.26,
            "count": 1
           },
           {
            "bin_start": 51.26,
            "bin_end": 51.38,
            "count": 0
           },
           {
            "bin_start": 51.38,
            "bin_end": 51.5,
            "count": 1
           }
          ]
         }
        },
        {
         "name": "senior",
         "dtype": "float64",
         "stats": {
          "unique_count": 5,
          "nan_count": 0,
          "min": 12.9,
          "max": 15.9,
          "histogram": [
           {
            "bin_start": 12.9,
            "bin_end": 13.200000000000001,
            "count": 1
           },
           {
            "bin_start": 13.200000000000001,
            "bin_end": 13.5,
            "count": 0
           },
           {
            "bin_start": 13.5,
            "bin_end": 13.8,
            "count": 0
           },
           {
            "bin_start": 13.8,
            "bin_end": 14.1,
            "count": 0
           },
           {
            "bin_start": 14.1,
            "bin_end": 14.4,
            "count": 0
           },
           {
            "bin_start": 14.4,
            "bin_end": 14.7,
            "count": 0
           },
           {
            "bin_start": 14.7,
            "bin_end": 15,
            "count": 0
           },
           {
            "bin_start": 15,
            "bin_end": 15.3,
            "count": 0
           },
           {
            "bin_start": 15.3,
            "bin_end": 15.6,
            "count": 2
           },
           {
            "bin_start": 15.6,
            "bin_end": 15.9,
            "count": 2
           }
          ]
         }
        },
        {
         "name": "children",
         "dtype": "float64",
         "stats": {
          "unique_count": 5,
          "nan_count": 0,
          "min": 21.6,
          "max": 24.1,
          "histogram": [
           {
            "bin_start": 21.6,
            "bin_end": 21.85,
            "count": 1
           },
           {
            "bin_start": 21.85,
            "bin_end": 22.1,
            "count": 0
           },
           {
            "bin_start": 22.1,
            "bin_end": 22.35,
            "count": 0
           },
           {
            "bin_start": 22.35,
            "bin_end": 22.6,
            "count": 0
           },
           {
            "bin_start": 22.6,
            "bin_end": 22.85,
            "count": 1
           },
           {
            "bin_start": 22.85,
            "bin_end": 23.1,
            "count": 0
           },
           {
            "bin_start": 23.1,
            "bin_end": 23.35,
            "count": 0
           },
           {
            "bin_start": 23.35,
            "bin_end": 23.6,
            "count": 0
           },
           {
            "bin_start": 23.6,
            "bin_end": 23.85,
            "count": 2
           },
           {
            "bin_start": 23.85,
            "bin_end": 24.1,
            "count": 1
           }
          ]
         }
        },
        {
         "name": "winner",
         "dtype": "object",
         "stats": {
          "unique_count": 1,
          "nan_count": 0,
          "categories": [
           {
            "name": "Donald Trump",
            "count": 5
           }
          ]
         }
        },
        {
         "name": "votes",
         "dtype": "int64",
         "stats": {
          "unique_count": 5,
          "nan_count": 0,
          "min": 123315,
          "max": 1174210,
          "histogram": [
           {
            "bin_start": 123315,
            "bin_end": 228404.5,
            "count": 2
           },
           {
            "bin_start": 228404.5,
            "bin_end": 333494,
            "count": 1
           },
           {
            "bin_start": 333494,
            "bin_end": 438583.5,
            "count": 1
           },
           {
            "bin_start": 438583.5,
            "bin_end": 543673,
            "count": 0
           },
           {
            "bin_start": 543673,
            "bin_end": 648762.5,
            "count": 0
           },
           {
            "bin_start": 648762.5,
            "bin_end": 753852,
            "count": 0
           },
           {
            "bin_start": 753852,
            "bin_end": 858941.5,
            "count": 0
           },
           {
            "bin_start": 858941.5,
            "bin_end": 964031,
            "count": 0
           },
           {
            "bin_start": 964031,
            "bin_end": 1069120.5,
            "count": 0
           },
           {
            "bin_start": 1069120.5,
            "bin_end": 1174210,
            "count": 1
           }
          ]
         }
        },
        {
         "name": "total_votes",
         "dtype": "int64",
         "stats": {
          "unique_count": 5,
          "nan_count": 0,
          "min": 208722,
          "max": 1494865,
          "histogram": [
           {
            "bin_start": 208722,
            "bin_end": 337336.3,
            "count": 1
           },
           {
            "bin_start": 337336.3,
            "bin_end": 465950.6,
            "count": 2
           },
           {
            "bin_start": 465950.6,
            "bin_end": 594564.9,
            "count": 0
           },
           {
            "bin_start": 594564.9,
            "bin_end": 723179.2,
            "count": 0
           },
           {
            "bin_start": 723179.2,
            "bin_end": 851793.5,
            "count": 1
           },
           {
            "bin_start": 851793.5,
            "bin_end": 980407.8,
            "count": 0
           },
           {
            "bin_start": 980407.8,
            "bin_end": 1109022.1,
            "count": 0
           },
           {
            "bin_start": 1109022.1,
            "bin_end": 1237636.4,
            "count": 0
           },
           {
            "bin_start": 1237636.4,
            "bin_end": 1366250.7,
            "count": 0
           },
           {
            "bin_start": 1366250.7,
            "bin_end": 1494865,
            "count": 1
           }
          ]
         }
        },
        {
         "name": "fraction_votes",
         "dtype": "float64",
         "stats": {
          "unique_count": 5,
          "nan_count": 0,
          "min": 0.33372110602337396,
          "max": 0.7854956802119255,
          "histogram": [
           {
            "bin_start": 0.33372110602337396,
            "bin_end": 0.3788985634422291,
            "count": 1
           },
           {
            "bin_start": 0.3788985634422291,
            "bin_end": 0.42407602086108426,
            "count": 0
           },
           {
            "bin_start": 0.42407602086108426,
            "bin_end": 0.46925347827993946,
            "count": 1
           },
           {
            "bin_start": 0.46925347827993946,
            "bin_end": 0.5144309356987946,
            "count": 0
           },
           {
            "bin_start": 0.5144309356987946,
            "bin_end": 0.5596083931176498,
            "count": 0
           },
           {
            "bin_start": 0.5596083931176498,
            "bin_end": 0.6047858505365049,
            "count": 2
           },
           {
            "bin_start": 0.6047858505365049,
            "bin_end": 0.6499633079553601,
            "count": 0
           },
           {
            "bin_start": 0.6499633079553601,
            "bin_end": 0.6951407653742152,
            "count": 0
           },
           {
            "bin_start": 0.6951407653742152,
            "bin_end": 0.7403182227930704,
            "count": 0
           },
           {
            "bin_start": 0.7403182227930704,
            "bin_end": 0.7854956802119255,
            "count": 1
           }
          ]
         }
        },
        {
         "name": "voter_turnout",
         "dtype": "float64",
         "stats": {
          "unique_count": 5,
          "nan_count": 0,
          "min": 0.05042534839641344,
          "max": 0.22257305909091613,
          "histogram": [
           {
            "bin_start": 0.05042534839641344,
            "bin_end": 0.06764011946586371,
            "count": 1
           },
           {
            "bin_start": 0.06764011946586371,
            "bin_end": 0.08485489053531398,
            "count": 1
           },
           {
            "bin_start": 0.08485489053531398,
            "bin_end": 0.10206966160476424,
            "count": 1
           },
           {
            "bin_start": 0.10206966160476424,
            "bin_end": 0.11928443267421451,
            "count": 0
           },
           {
            "bin_start": 0.11928443267421451,
            "bin_end": 0.13649920374366478,
            "count": 0
           },
           {
            "bin_start": 0.13649920374366478,
            "bin_end": 0.15371397481311505,
            "count": 0
           },
           {
            "bin_start": 0.15371397481311505,
            "bin_end": 0.17092874588256532,
            "count": 0
           },
           {
            "bin_start": 0.17092874588256532,
            "bin_end": 0.1881435169520156,
            "count": 1
           },
           {
            "bin_start": 0.1881435169520156,
            "bin_end": 0.20535828802146586,
            "count": 0
           },
           {
            "bin_start": 0.20535828802146586,
            "bin_end": 0.22257305909091613,
            "count": 1
           }
          ]
         }
        },
        {
         "name": "_deepnote_index_column",
         "dtype": "int64"
        }
       ],
       "rows_top": [
        {
         "state": "Alabama",
         "st_abbrev": "AL",
         "fips": "01000",
         "population": 4849377,
         "income": 43253,
         "hispanic": 4.1,
         "asian": 1.3,
         "black": 26.7,
         "white": 66.2,
         "foreign": 3.5,
         "college": 22.6,
         "density": 94.4,
         "vets": 388865,
         "female": 51.5,
         "senior": 15.3,
         "children": 22.8,
         "winner": "Donald Trump",
         "votes": 369251,
         "total_votes": 833251,
         "fraction_votes": 0.44314498272429315,
         "voter_turnout": 0.22257305909091613,
         "_deepnote_index_column": 0
        },
        {
         "state": "Arizona",
         "st_abbrev": "AZ",
         "fips": "04000",
         "population": 6731484,
         "income": 49774,
         "hispanic": 30.5,
         "asian": 3.3,
         "black": 4.7,
         "white": 56.2,
         "foreign": 13.4,
         "college": 26.9,
         "density": 56.3,
         "vets": 522382,
         "female": 50.3,
         "senior": 15.9,
         "children": 24.1,
         "winner": "Donald Trump",
         "votes": 249634,
         "total_votes": 434560,
         "fraction_votes": 0.5744523195876289,
         "voter_turnout": 0.08505447231239668,
         "_deepnote_index_column": 1
        },
        {
         "state": "Arkansas",
         "st_abbrev": "AR",
         "fips": "05000",
         "population": 2966369,
         "income": 40768,
         "hispanic": 7,
         "asian": 1.5,
         "black": 15.6,
         "white": 73.4,
         "foreign": 4.5,
         "college": 20.1,
         "density": 56,
         "vets": 237311,
         "female": 50.9,
         "senior": 15.7,
         "children": 23.8,
         "winner": "Donald Trump",
         "votes": 130239,
         "total_votes": 390263,
         "fraction_votes": 0.33372110602337396,
         "voter_turnout": 0.17265423417619408,
         "_deepnote_index_column": 2
        },
        {
         "state": "California",
         "st_abbrev": "CA",
         "fips": "06000",
         "population": 38802500,
         "income": 61094,
         "hispanic": 38.6,
         "asian": 14.4,
         "black": 6.5,
         "white": 38.5,
         "foreign": 27,
         "college": 30.7,
         "density": 239.1,
         "vets": 1893539,
         "female": 50.3,
         "senior": 12.9,
         "children": 23.6,
         "winner": "Donald Trump",
         "votes": 1174210,
         "total_votes": 1494865,
         "fraction_votes": 0.7854956802119255,
         "voter_turnout": 0.05042534839641344,
         "_deepnote_index_column": 3
        },
        {
         "state": "Connecticut",
         "st_abbrev": "CT",
         "fips": "09000",
         "population": 3596677,
         "income": 69461,
         "hispanic": 15,
         "asian": 4.5,
         "black": 11.5,
         "white": 68.8,
         "foreign": 13.6,
         "college": 36.5,
         "density": 738.1,
         "vets": 217947,
         "female": 51.2,
         "senior": 15.5,
         "children": 21.6,
         "winner": "Donald Trump",
         "votes": 123315,
         "total_votes": 208722,
         "fraction_votes": 0.5908097852646104,
         "voter_turnout": 0.07402028061355705,
         "_deepnote_index_column": 4
        }
       ],
       "rows_bottom": null
      },
      "text/plain": "         state st_abbrev   fips  population  income  hispanic  asian  black  \\\n0      Alabama        AL  01000     4849377   43253       4.1    1.3   26.7   \n1      Arizona        AZ  04000     6731484   49774      30.5    3.3    4.7   \n2     Arkansas        AR  05000     2966369   40768       7.0    1.5   15.6   \n3   California        CA  06000    38802500   61094      38.6   14.4    6.5   \n4  Connecticut        CT  09000     3596677   69461      15.0    4.5   11.5   \n\n   white  foreign  ...  density     vets  female  senior  children  \\\n0   66.2      3.5  ...     94.4   388865    51.5    15.3      22.8   \n1   56.2     13.4  ...     56.3   522382    50.3    15.9      24.1   \n2   73.4      4.5  ...     56.0   237311    50.9    15.7      23.8   \n3   38.5     27.0  ...    239.1  1893539    50.3    12.9      23.6   \n4   68.8     13.6  ...    738.1   217947    51.2    15.5      21.6   \n\n         winner    votes  total_votes  fraction_votes  voter_turnout  \n0  Donald Trump   369251       833251        0.443145       0.222573  \n1  Donald Trump   249634       434560        0.574452       0.085054  \n2  Donald Trump   130239       390263        0.333721       0.172654  \n3  Donald Trump  1174210      1494865        0.785496       0.050425  \n4  Donald Trump   123315       208722        0.590810       0.074020  \n\n[5 rows x 21 columns]",
      "text/html": "<div>\n<style scoped>\n    .dataframe tbody tr th:only-of-type {\n        vertical-align: middle;\n    }\n\n    .dataframe tbody tr th {\n        vertical-align: top;\n    }\n\n    .dataframe thead th {\n        text-align: right;\n    }\n</style>\n<table border=\"1\" class=\"dataframe\">\n  <thead>\n    <tr style=\"text-align: right;\">\n      <th></th>\n      <th>state</th>\n      <th>st_abbrev</th>\n      <th>fips</th>\n      <th>population</th>\n      <th>income</th>\n      <th>hispanic</th>\n      <th>asian</th>\n      <th>black</th>\n      <th>white</th>\n      <th>foreign</th>\n      <th>...</th>\n      <th>density</th>\n      <th>vets</th>\n      <th>female</th>\n      <th>senior</th>\n      <th>children</th>\n      <th>winner</th>\n      <th>votes</th>\n      <th>total_votes</th>\n      <th>fraction_votes</th>\n      <th>voter_turnout</th>\n    </tr>\n  </thead>\n  <tbody>\n    <tr>\n      <th>0</th>\n      <td>Alabama</td>\n      <td>AL</td>\n      <td>01000</td>\n      <td>4849377</td>\n      <td>43253</td>\n      <td>4.1</td>\n      <td>1.3</td>\n      <td>26.7</td>\n      <td>66.2</td>\n      <td>3.5</td>\n      <td>...</td>\n      <td>94.4</td>\n      <td>388865</td>\n      <td>51.5</td>\n      <td>15.3</td>\n      <td>22.8</td>\n      <td>Donald Trump</td>\n      <td>369251</td>\n      <td>833251</td>\n      <td>0.443145</td>\n      <td>0.222573</td>\n    </tr>\n    <tr>\n      <th>1</th>\n      <td>Arizona</td>\n      <td>AZ</td>\n      <td>04000</td>\n      <td>6731484</td>\n      <td>49774</td>\n      <td>30.5</td>\n      <td>3.3</td>\n      <td>4.7</td>\n      <td>56.2</td>\n      <td>13.4</td>\n      <td>...</td>\n      <td>56.3</td>\n      <td>522382</td>\n      <td>50.3</td>\n      <td>15.9</td>\n      <td>24.1</td>\n      <td>Donald Trump</td>\n      <td>249634</td>\n      <td>434560</td>\n      <td>0.574452</td>\n      <td>0.085054</td>\n    </tr>\n    <tr>\n      <th>2</th>\n      <td>Arkansas</td>\n      <td>AR</td>\n      <td>05000</td>\n      <td>2966369</td>\n      <td>40768</td>\n      <td>7.0</td>\n      <td>1.5</td>\n      <td>15.6</td>\n      <td>73.4</td>\n      <td>4.5</td>\n      <td>...</td>\n      <td>56.0</td>\n      <td>237311</td>\n      <td>50.9</td>\n      <td>15.7</td>\n      <td>23.8</td>\n      <td>Donald Trump</td>\n      <td>130239</td>\n      <td>390263</td>\n      <td>0.333721</td>\n      <td>0.172654</td>\n    </tr>\n    <tr>\n      <th>3</th>\n      <td>California</td>\n      <td>CA</td>\n      <td>06000</td>\n      <td>38802500</td>\n      <td>61094</td>\n      <td>38.6</td>\n      <td>14.4</td>\n      <td>6.5</td>\n      <td>38.5</td>\n      <td>27.0</td>\n      <td>...</td>\n      <td>239.1</td>\n      <td>1893539</td>\n      <td>50.3</td>\n      <td>12.9</td>\n      <td>23.6</td>\n      <td>Donald Trump</td>\n      <td>1174210</td>\n      <td>1494865</td>\n      <td>0.785496</td>\n      <td>0.050425</td>\n    </tr>\n    <tr>\n      <th>4</th>\n      <td>Connecticut</td>\n      <td>CT</td>\n      <td>09000</td>\n      <td>3596677</td>\n      <td>69461</td>\n      <td>15.0</td>\n      <td>4.5</td>\n      <td>11.5</td>\n      <td>68.8</td>\n      <td>13.6</td>\n      <td>...</td>\n      <td>738.1</td>\n      <td>217947</td>\n      <td>51.2</td>\n      <td>15.5</td>\n      <td>21.6</td>\n      <td>Donald Trump</td>\n      <td>123315</td>\n      <td>208722</td>\n      <td>0.590810</td>\n      <td>0.074020</td>\n    </tr>\n  </tbody>\n</table>\n<p>5 rows × 21 columns</p>\n</div>"
     },
     "metadata": {}
    }
   ]
  },
  {
   "cell_type": "markdown",
   "source": "### Democrat",
   "metadata": {
    "tags": [],
    "cell_id": "00015-b7c8e916-02b1-4842-a14e-7b99173bd0ce",
    "deepnote_cell_type": "markdown"
   }
  },
  {
   "cell_type": "code",
   "metadata": {
    "tags": [],
    "cell_id": "00017-49929ed6-dc64-4662-9299-2f187f8b7204",
    "deepnote_to_be_reexecuted": true,
    "source_hash": "26099a20",
    "execution_millis": 4,
    "deepnote_cell_type": "code"
   },
   "source": "dem_st = prim_st.loc[prim_st.party == 'Democrat'].copy()\n\n# Pick out winners, votes, fraction_votes, and state_county from dem_st\n# Add these stats to dem_st_fts via .merge()\n\nwin_df_dem_st = dem_st.loc[(dem_st.groupby('state').votes.transform(max) == dem_st.votes), dem_st.columns[dem_st.columns != 'party']]\nwin_df_dem_st = win_df_dem_st.loc[win_df_dem_st.votes > 0]\nwin_df_dem_st.rename(columns= {'candidate': \"winner\"}, inplace=True)\ndem_st_fts = st_fts.merge(win_df_dem_st, on = 'state')\n# Compute voter turnout %\ndem_st_fts['voter_turnout'] = dem_st_fts['total_votes'] / (dem_st_fts['population']-(dem_st_fts['children']/100*dem_st_fts['population']))\n# Filter counties that have poor turnout (< 5%)\ndem_st_fts = dem_st_fts[dem_st_fts.voter_turnout >= 0.05]",
   "execution_count": null,
   "outputs": []
  },
  {
   "cell_type": "code",
   "metadata": {
    "tags": [],
    "cell_id": "00022-c5f2c17f-5cd1-47ad-83cf-5bcecdc252cc",
    "deepnote_to_be_reexecuted": true,
    "source_hash": "a56b56e6",
    "execution_millis": 68,
    "deepnote_cell_type": "code"
   },
   "source": "dem_st_fts.head()",
   "execution_count": null,
   "outputs": [
    {
     "output_type": "execute_result",
     "execution_count": 27,
     "data": {
      "application/vnd.deepnote.dataframe.v2+json": {
       "row_count": 5,
       "column_count": 21,
       "columns": [
        {
         "name": "state",
         "dtype": "object",
         "stats": {
          "unique_count": 5,
          "nan_count": 0,
          "categories": [
           {
            "name": "Alabama",
            "count": 1
           },
           {
            "name": "Arizona",
            "count": 1
           },
           {
            "name": "3 others",
            "count": 3
           }
          ]
         }
        },
        {
         "name": "st_abbrev",
         "dtype": "object",
         "stats": {
          "unique_count": 5,
          "nan_count": 0,
          "categories": [
           {
            "name": "AL",
            "count": 1
           },
           {
            "name": "AZ",
            "count": 1
           },
           {
            "name": "3 others",
            "count": 3
           }
          ]
         }
        },
        {
         "name": "fips",
         "dtype": "object",
         "stats": {
          "unique_count": 5,
          "nan_count": 0,
          "categories": [
           {
            "name": "01000",
            "count": 1
           },
           {
            "name": "04000",
            "count": 1
           },
           {
            "name": "3 others",
            "count": 3
           }
          ]
         }
        },
        {
         "name": "population",
         "dtype": "int64",
         "stats": {
          "unique_count": 5,
          "nan_count": 0,
          "min": 2966369,
          "max": 38802500,
          "histogram": [
           {
            "bin_start": 2966369,
            "bin_end": 6549982.1,
            "count": 3
           },
           {
            "bin_start": 6549982.1,
            "bin_end": 10133595.2,
            "count": 1
           },
           {
            "bin_start": 10133595.2,
            "bin_end": 13717208.3,
            "count": 0
           },
           {
            "bin_start": 13717208.3,
            "bin_end": 17300821.4,
            "count": 0
           },
           {
            "bin_start": 17300821.4,
            "bin_end": 20884434.5,
            "count": 0
           },
           {
            "bin_start": 20884434.5,
            "bin_end": 24468047.6,
            "count": 0
           },
           {
            "bin_start": 24468047.6,
            "bin_end": 28051660.7,
            "count": 0
           },
           {
            "bin_start": 28051660.7,
            "bin_end": 31635273.8,
            "count": 0
           },
           {
            "bin_start": 31635273.8,
            "bin_end": 35218886.900000006,
            "count": 0
           },
           {
            "bin_start": 35218886.900000006,
            "bin_end": 38802500,
            "count": 1
           }
          ]
         }
        },
        {
         "name": "income",
         "dtype": "int64",
         "stats": {
          "unique_count": 5,
          "nan_count": 0,
          "min": 40768,
          "max": 69461,
          "histogram": [
           {
            "bin_start": 40768,
            "bin_end": 43637.3,
            "count": 2
           },
           {
            "bin_start": 43637.3,
            "bin_end": 46506.6,
            "count": 0
           },
           {
            "bin_start": 46506.6,
            "bin_end": 49375.9,
            "count": 0
           },
           {
            "bin_start": 49375.9,
            "bin_end": 52245.2,
            "count": 1
           },
           {
            "bin_start": 52245.2,
            "bin_end": 55114.5,
            "count": 0
           },
           {
            "bin_start": 55114.5,
            "bin_end": 57983.8,
            "count": 0
           },
           {
            "bin_start": 57983.8,
            "bin_end": 60853.100000000006,
            "count": 0
           },
           {
            "bin_start": 60853.100000000006,
            "bin_end": 63722.4,
            "count": 1
           },
           {
            "bin_start": 63722.4,
            "bin_end": 66591.7,
            "count": 0
           },
           {
            "bin_start": 66591.7,
            "bin_end": 69461,
            "count": 1
           }
          ]
         }
        },
        {
         "name": "hispanic",
         "dtype": "float64",
         "stats": {
          "unique_count": 5,
          "nan_count": 0,
          "min": 4.1,
          "max": 38.6,
          "histogram": [
           {
            "bin_start": 4.1,
            "bin_end": 7.55,
            "count": 2
           },
           {
            "bin_start": 7.55,
            "bin_end": 11,
            "count": 0
           },
           {
            "bin_start": 11,
            "bin_end": 14.450000000000001,
            "count": 0
           },
           {
            "bin_start": 14.450000000000001,
            "bin_end": 17.9,
            "count": 1
           },
           {
            "bin_start": 17.9,
            "bin_end": 21.35,
            "count": 0
           },
           {
            "bin_start": 21.35,
            "bin_end": 24.800000000000004,
            "count": 0
           },
           {
            "bin_start": 24.800000000000004,
            "bin_end": 28.25,
            "count": 0
           },
           {
            "bin_start": 28.25,
            "bin_end": 31.700000000000003,
            "count": 1
           },
           {
            "bin_start": 31.700000000000003,
            "bin_end": 35.15,
            "count": 0
           },
           {
            "bin_start": 35.15,
            "bin_end": 38.6,
            "count": 1
           }
          ]
         }
        },
        {
         "name": "asian",
         "dtype": "float64",
         "stats": {
          "unique_count": 5,
          "nan_count": 0,
          "min": 1.3,
          "max": 14.4,
          "histogram": [
           {
            "bin_start": 1.3,
            "bin_end": 2.6100000000000003,
            "count": 2
           },
           {
            "bin_start": 2.6100000000000003,
            "bin_end": 3.92,
            "count": 1
           },
           {
            "bin_start": 3.92,
            "bin_end": 5.23,
            "count": 1
           },
           {
            "bin_start": 5.23,
            "bin_end": 6.54,
            "count": 0
           },
           {
            "bin_start": 6.54,
            "bin_end": 7.8500000000000005,
            "count": 0
           },
           {
            "bin_start": 7.8500000000000005,
            "bin_end": 9.16,
            "count": 0
           },
           {
            "bin_start": 9.16,
            "bin_end": 10.47,
            "count": 0
           },
           {
            "bin_start": 10.47,
            "bin_end": 11.780000000000001,
            "count": 0
           },
           {
            "bin_start": 11.780000000000001,
            "bin_end": 13.090000000000002,
            "count": 0
           },
           {
            "bin_start": 13.090000000000002,
            "bin_end": 14.4,
            "count": 1
           }
          ]
         }
        },
        {
         "name": "black",
         "dtype": "float64",
         "stats": {
          "unique_count": 5,
          "nan_count": 0,
          "min": 4.7,
          "max": 26.7,
          "histogram": [
           {
            "bin_start": 4.7,
            "bin_end": 6.9,
            "count": 2
           },
           {
            "bin_start": 6.9,
            "bin_end": 9.100000000000001,
            "count": 0
           },
           {
            "bin_start": 9.100000000000001,
            "bin_end": 11.3,
            "count": 0
           },
           {
            "bin_start": 11.3,
            "bin_end": 13.5,
            "count": 1
           },
           {
            "bin_start": 13.5,
            "bin_end": 15.7,
            "count": 1
           },
           {
            "bin_start": 15.7,
            "bin_end": 17.900000000000002,
            "count": 0
           },
           {
            "bin_start": 17.900000000000002,
            "bin_end": 20.1,
            "count": 0
           },
           {
            "bin_start": 20.1,
            "bin_end": 22.3,
            "count": 0
           },
           {
            "bin_start": 22.3,
            "bin_end": 24.5,
            "count": 0
           },
           {
            "bin_start": 24.5,
            "bin_end": 26.7,
            "count": 1
           }
          ]
         }
        },
        {
         "name": "white",
         "dtype": "float64",
         "stats": {
          "unique_count": 5,
          "nan_count": 0,
          "min": 38.5,
          "max": 73.4,
          "histogram": [
           {
            "bin_start": 38.5,
            "bin_end": 41.99,
            "count": 1
           },
           {
            "bin_start": 41.99,
            "bin_end": 45.480000000000004,
            "count": 0
           },
           {
            "bin_start": 45.480000000000004,
            "bin_end": 48.97,
            "count": 0
           },
           {
            "bin_start": 48.97,
            "bin_end": 52.46,
            "count": 0
           },
           {
            "bin_start": 52.46,
            "bin_end": 55.95,
            "count": 0
           },
           {
            "bin_start": 55.95,
            "bin_end": 59.440000000000005,
            "count": 1
           },
           {
            "bin_start": 59.440000000000005,
            "bin_end": 62.93000000000001,
            "count": 0
           },
           {
            "bin_start": 62.93000000000001,
            "bin_end": 66.42,
            "count": 1
           },
           {
            "bin_start": 66.42,
            "bin_end": 69.91000000000001,
            "count": 1
           },
           {
            "bin_start": 69.91000000000001,
            "bin_end": 73.4,
            "count": 1
           }
          ]
         }
        },
        {
         "name": "foreign",
         "dtype": "float64",
         "stats": {
          "unique_count": 5,
          "nan_count": 0,
          "min": 3.5,
          "max": 27,
          "histogram": [
           {
            "bin_start": 3.5,
            "bin_end": 5.85,
            "count": 2
           },
           {
            "bin_start": 5.85,
            "bin_end": 8.2,
            "count": 0
           },
           {
            "bin_start": 8.2,
            "bin_end": 10.55,
            "count": 0
           },
           {
            "bin_start": 10.55,
            "bin_end": 12.9,
            "count": 0
           },
           {
            "bin_start": 12.9,
            "bin_end": 15.25,
            "count": 2
           },
           {
            "bin_start": 15.25,
            "bin_end": 17.6,
            "count": 0
           },
           {
            "bin_start": 17.6,
            "bin_end": 19.95,
            "count": 0
           },
           {
            "bin_start": 19.95,
            "bin_end": 22.3,
            "count": 0
           },
           {
            "bin_start": 22.3,
            "bin_end": 24.650000000000002,
            "count": 0
           },
           {
            "bin_start": 24.650000000000002,
            "bin_end": 27,
            "count": 1
           }
          ]
         }
        },
        {
         "name": "college",
         "dtype": "float64",
         "stats": {
          "unique_count": 5,
          "nan_count": 0,
          "min": 20.1,
          "max": 36.5,
          "histogram": [
           {
            "bin_start": 20.1,
            "bin_end": 21.740000000000002,
            "count": 1
           },
           {
            "bin_start": 21.740000000000002,
            "bin_end": 23.380000000000003,
            "count": 1
           },
           {
            "bin_start": 23.380000000000003,
            "bin_end": 25.020000000000003,
            "count": 0
           },
           {
            "bin_start": 25.020000000000003,
            "bin_end": 26.66,
            "count": 0
           },
           {
            "bin_start": 26.66,
            "bin_end": 28.3,
            "count": 1
           },
           {
            "bin_start": 28.3,
            "bin_end": 29.94,
            "count": 0
           },
           {
            "bin_start": 29.94,
            "bin_end": 31.58,
            "count": 1
           },
           {
            "bin_start": 31.58,
            "bin_end": 33.22,
            "count": 0
           },
           {
            "bin_start": 33.22,
            "bin_end": 34.86,
            "count": 0
           },
           {
            "bin_start": 34.86,
            "bin_end": 36.5,
            "count": 1
           }
          ]
         }
        },
        {
         "name": "density",
         "dtype": "float64",
         "stats": {
          "unique_count": 5,
          "nan_count": 0,
          "min": 56,
          "max": 738.1,
          "histogram": [
           {
            "bin_start": 56,
            "bin_end": 124.21000000000001,
            "count": 3
           },
           {
            "bin_start": 124.21000000000001,
            "bin_end": 192.42000000000002,
            "count": 0
           },
           {
            "bin_start": 192.42000000000002,
            "bin_end": 260.63,
            "count": 1
           },
           {
            "bin_start": 260.63,
            "bin_end": 328.84000000000003,
            "count": 0
           },
           {
            "bin_start": 328.84000000000003,
            "bin_end": 397.05000000000007,
            "count": 0
           },
           {
            "bin_start": 397.05000000000007,
            "bin_end": 465.26000000000005,
            "count": 0
           },
           {
            "bin_start": 465.26000000000005,
            "bin_end": 533.47,
            "count": 0
           },
           {
            "bin_start": 533.47,
            "bin_end": 601.6800000000001,
            "count": 0
           },
           {
            "bin_start": 601.6800000000001,
            "bin_end": 669.8900000000001,
            "count": 0
           },
           {
            "bin_start": 669.8900000000001,
            "bin_end": 738.1,
            "count": 1
           }
          ]
         }
        },
        {
         "name": "vets",
         "dtype": "int64",
         "stats": {
          "unique_count": 5,
          "nan_count": 0,
          "min": 217947,
          "max": 1893539,
          "histogram": [
           {
            "bin_start": 217947,
            "bin_end": 385506.2,
            "count": 2
           },
           {
            "bin_start": 385506.2,
            "bin_end": 553065.4,
            "count": 2
           },
           {
            "bin_start": 553065.4,
            "bin_end": 720624.6000000001,
            "count": 0
           },
           {
            "bin_start": 720624.6000000001,
            "bin_end": 888183.8,
            "count": 0
           },
           {
            "bin_start": 888183.8,
            "bin_end": 1055743,
            "count": 0
           },
           {
            "bin_start": 1055743,
            "bin_end": 1223302.2000000002,
            "count": 0
           },
           {
            "bin_start": 1223302.2000000002,
            "bin_end": 1390861.4000000001,
            "count": 0
           },
           {
            "bin_start": 1390861.4000000001,
            "bin_end": 1558420.6,
            "count": 0
           },
           {
            "bin_start": 1558420.6,
            "bin_end": 1725979.8,
            "count": 0
           },
           {
            "bin_start": 1725979.8,
            "bin_end": 1893539,
            "count": 1
           }
          ]
         }
        },
        {
         "name": "female",
         "dtype": "float64",
         "stats": {
          "unique_count": 4,
          "nan_count": 0,
          "min": 50.3,
          "max": 51.5,
          "histogram": [
           {
            "bin_start": 50.3,
            "bin_end": 50.419999999999995,
            "count": 2
           },
           {
            "bin_start": 50.419999999999995,
            "bin_end": 50.54,
            "count": 0
           },
           {
            "bin_start": 50.54,
            "bin_end": 50.66,
            "count": 0
           },
           {
            "bin_start": 50.66,
            "bin_end": 50.78,
            "count": 0
           },
           {
            "bin_start": 50.78,
            "bin_end": 50.9,
            "count": 0
           },
           {
            "bin_start": 50.9,
            "bin_end": 51.019999999999996,
            "count": 1
           },
           {
            "bin_start": 51.019999999999996,
            "bin_end": 51.14,
            "count": 0
           },
           {
            "bin_start": 51.14,
            "bin_end": 51.26,
            "count": 1
           },
           {
            "bin_start": 51.26,
            "bin_end": 51.38,
            "count": 0
           },
           {
            "bin_start": 51.38,
            "bin_end": 51.5,
            "count": 1
           }
          ]
         }
        },
        {
         "name": "senior",
         "dtype": "float64",
         "stats": {
          "unique_count": 5,
          "nan_count": 0,
          "min": 12.9,
          "max": 15.9,
          "histogram": [
           {
            "bin_start": 12.9,
            "bin_end": 13.200000000000001,
            "count": 1
           },
           {
            "bin_start": 13.200000000000001,
            "bin_end": 13.5,
            "count": 0
           },
           {
            "bin_start": 13.5,
            "bin_end": 13.8,
            "count": 0
           },
           {
            "bin_start": 13.8,
            "bin_end": 14.1,
            "count": 0
           },
           {
            "bin_start": 14.1,
            "bin_end": 14.4,
            "count": 0
           },
           {
            "bin_start": 14.4,
            "bin_end": 14.7,
            "count": 0
           },
           {
            "bin_start": 14.7,
            "bin_end": 15,
            "count": 0
           },
           {
            "bin_start": 15,
            "bin_end": 15.3,
            "count": 0
           },
           {
            "bin_start": 15.3,
            "bin_end": 15.6,
            "count": 2
           },
           {
            "bin_start": 15.6,
            "bin_end": 15.9,
            "count": 2
           }
          ]
         }
        },
        {
         "name": "children",
         "dtype": "float64",
         "stats": {
          "unique_count": 5,
          "nan_count": 0,
          "min": 21.6,
          "max": 24.1,
          "histogram": [
           {
            "bin_start": 21.6,
            "bin_end": 21.85,
            "count": 1
           },
           {
            "bin_start": 21.85,
            "bin_end": 22.1,
            "count": 0
           },
           {
            "bin_start": 22.1,
            "bin_end": 22.35,
            "count": 0
           },
           {
            "bin_start": 22.35,
            "bin_end": 22.6,
            "count": 0
           },
           {
            "bin_start": 22.6,
            "bin_end": 22.85,
            "count": 1
           },
           {
            "bin_start": 22.85,
            "bin_end": 23.1,
            "count": 0
           },
           {
            "bin_start": 23.1,
            "bin_end": 23.35,
            "count": 0
           },
           {
            "bin_start": 23.35,
            "bin_end": 23.6,
            "count": 0
           },
           {
            "bin_start": 23.6,
            "bin_end": 23.85,
            "count": 2
           },
           {
            "bin_start": 23.85,
            "bin_end": 24.1,
            "count": 1
           }
          ]
         }
        },
        {
         "name": "winner",
         "dtype": "object",
         "stats": {
          "unique_count": 1,
          "nan_count": 0,
          "categories": [
           {
            "name": "Hillary Clinton",
            "count": 5
           }
          ]
         }
        },
        {
         "name": "votes",
         "dtype": "int64",
         "stats": {
          "unique_count": 5,
          "nan_count": 0,
          "min": 131939,
          "max": 1940017,
          "histogram": [
           {
            "bin_start": 131939,
            "bin_end": 312746.8,
            "count": 4
           },
           {
            "bin_start": 312746.8,
            "bin_end": 493554.6,
            "count": 0
           },
           {
            "bin_start": 493554.6,
            "bin_end": 674362.3999999999,
            "count": 0
           },
           {
            "bin_start": 674362.3999999999,
            "bin_end": 855170.2,
            "count": 0
           },
           {
            "bin_start": 855170.2,
            "bin_end": 1035978,
            "count": 0
           },
           {
            "bin_start": 1035978,
            "bin_end": 1216785.7999999998,
            "count": 0
           },
           {
            "bin_start": 1216785.7999999998,
            "bin_end": 1397593.5999999999,
            "count": 0
           },
           {
            "bin_start": 1397593.5999999999,
            "bin_end": 1578401.4,
            "count": 0
           },
           {
            "bin_start": 1578401.4,
            "bin_end": 1759209.2,
            "count": 0
           },
           {
            "bin_start": 1759209.2,
            "bin_end": 1940017,
            "count": 1
           }
          ]
         }
        },
        {
         "name": "total_votes",
         "dtype": "int64",
         "stats": {
          "unique_count": 5,
          "nan_count": 0,
          "min": 191231,
          "max": 3441376,
          "histogram": [
           {
            "bin_start": 191231,
            "bin_end": 516245.5,
            "count": 4
           },
           {
            "bin_start": 516245.5,
            "bin_end": 841260,
            "count": 0
           },
           {
            "bin_start": 841260,
            "bin_end": 1166274.5,
            "count": 0
           },
           {
            "bin_start": 1166274.5,
            "bin_end": 1491289,
            "count": 0
           },
           {
            "bin_start": 1491289,
            "bin_end": 1816303.5,
            "count": 0
           },
           {
            "bin_start": 1816303.5,
            "bin_end": 2141318,
            "count": 0
           },
           {
            "bin_start": 2141318,
            "bin_end": 2466332.5,
            "count": 0
           },
           {
            "bin_start": 2466332.5,
            "bin_end": 2791347,
            "count": 0
           },
           {
            "bin_start": 2791347,
            "bin_end": 3116361.5,
            "count": 0
           },
           {
            "bin_start": 3116361.5,
            "bin_end": 3441376,
            "count": 1
           }
          ]
         }
        },
        {
         "name": "fraction_votes",
         "dtype": "float64",
         "stats": {
          "unique_count": 5,
          "nan_count": 0,
          "min": 0.5274438282403444,
          "max": 0.8034288881849857,
          "histogram": [
           {
            "bin_start": 0.5274438282403444,
            "bin_end": 0.5550423342348085,
            "count": 1
           },
           {
            "bin_start": 0.5550423342348085,
            "bin_end": 0.5826408402292726,
            "count": 1
           },
           {
            "bin_start": 0.5826408402292726,
            "bin_end": 0.6102393462237368,
            "count": 1
           },
           {
            "bin_start": 0.6102393462237368,
            "bin_end": 0.6378378522182009,
            "count": 0
           },
           {
            "bin_start": 0.6378378522182009,
            "bin_end": 0.665436358212665,
            "count": 0
           },
           {
            "bin_start": 0.665436358212665,
            "bin_end": 0.6930348642071291,
            "count": 1
           },
           {
            "bin_start": 0.6930348642071291,
            "bin_end": 0.7206333702015933,
            "count": 0
           },
           {
            "bin_start": 0.7206333702015933,
            "bin_end": 0.7482318761960575,
            "count": 0
           },
           {
            "bin_start": 0.7482318761960575,
            "bin_end": 0.7758303821905216,
            "count": 0
           },
           {
            "bin_start": 0.7758303821905216,
            "bin_end": 0.8034288881849857,
            "count": 1
           }
          ]
         }
        },
        {
         "name": "voter_turnout",
         "dtype": "float64",
         "stats": {
          "unique_count": 5,
          "nan_count": 0,
          "min": 0.07784140054295459,
          "max": 0.11608578952818863,
          "histogram": [
           {
            "bin_start": 0.07784140054295459,
            "bin_end": 0.081665839441478,
            "count": 1
           },
           {
            "bin_start": 0.081665839441478,
            "bin_end": 0.08549027834000139,
            "count": 1
           },
           {
            "bin_start": 0.08549027834000139,
            "bin_end": 0.0893147172385248,
            "count": 0
           },
           {
            "bin_start": 0.0893147172385248,
            "bin_end": 0.0931391561370482,
            "count": 0
           },
           {
            "bin_start": 0.0931391561370482,
            "bin_end": 0.09696359503557161,
            "count": 0
           },
           {
            "bin_start": 0.09696359503557161,
            "bin_end": 0.10078803393409501,
            "count": 0
           },
           {
            "bin_start": 0.10078803393409501,
            "bin_end": 0.10461247283261842,
            "count": 1
           },
           {
            "bin_start": 0.10461247283261842,
            "bin_end": 0.10843691173114181,
            "count": 0
           },
           {
            "bin_start": 0.10843691173114181,
            "bin_end": 0.11226135062966522,
            "count": 0
           },
           {
            "bin_start": 0.11226135062966522,
            "bin_end": 0.11608578952818863,
            "count": 2
           }
          ]
         }
        },
        {
         "name": "_deepnote_index_column",
         "dtype": "int64"
        }
       ],
       "rows_top": [
        {
         "state": "Alabama",
         "st_abbrev": "AL",
         "fips": "01000",
         "population": 4849377,
         "income": 43253,
         "hispanic": 4.1,
         "asian": 1.3,
         "black": 26.7,
         "white": 66.2,
         "foreign": 3.5,
         "college": 22.6,
         "density": 94.4,
         "vets": 388865,
         "female": 51.5,
         "senior": 15.3,
         "children": 22.8,
         "winner": "Hillary Clinton",
         "votes": 304371,
         "total_votes": 378840,
         "fraction_votes": 0.8034288881849857,
         "voter_turnout": 0.10119349116413022,
         "_deepnote_index_column": 0
        },
        {
         "state": "Arizona",
         "st_abbrev": "AZ",
         "fips": "04000",
         "population": 6731484,
         "income": 49774,
         "hispanic": 30.5,
         "asian": 3.3,
         "black": 4.7,
         "white": 56.2,
         "foreign": 13.4,
         "college": 26.9,
         "density": 56.3,
         "vets": 522382,
         "female": 50.3,
         "senior": 15.9,
         "children": 24.1,
         "winner": "Hillary Clinton",
         "votes": 234891,
         "total_votes": 397707,
         "fraction_votes": 0.5906131901123188,
         "voter_turnout": 0.07784140054295459,
         "_deepnote_index_column": 1
        },
        {
         "state": "Arkansas",
         "st_abbrev": "AR",
         "fips": "05000",
         "population": 2966369,
         "income": 40768,
         "hispanic": 7,
         "asian": 1.5,
         "black": 15.6,
         "white": 73.4,
         "foreign": 4.5,
         "college": 20.1,
         "density": 56,
         "vets": 237311,
         "female": 50.9,
         "senior": 15.7,
         "children": 23.8,
         "winner": "Hillary Clinton",
         "votes": 131939,
         "total_votes": 191231,
         "fraction_votes": 0.6899456678049061,
         "voter_turnout": 0.08460151706861212,
         "_deepnote_index_column": 2
        },
        {
         "state": "California",
         "st_abbrev": "CA",
         "fips": "06000",
         "population": 38802500,
         "income": 61094,
         "hispanic": 38.6,
         "asian": 14.4,
         "black": 6.5,
         "white": 38.5,
         "foreign": 27,
         "college": 30.7,
         "density": 239.1,
         "vets": 1893539,
         "female": 50.3,
         "senior": 12.9,
         "children": 23.6,
         "winner": "Hillary Clinton",
         "votes": 1940017,
         "total_votes": 3441376,
         "fraction_votes": 0.5637329370577351,
         "voter_turnout": 0.11608578952818863,
         "_deepnote_index_column": 3
        },
        {
         "state": "Connecticut",
         "st_abbrev": "CT",
         "fips": "09000",
         "population": 3596677,
         "income": 69461,
         "hispanic": 15,
         "asian": 4.5,
         "black": 11.5,
         "white": 68.8,
         "foreign": 13.6,
         "college": 36.5,
         "density": 738.1,
         "vets": 217947,
         "female": 51.2,
         "senior": 15.5,
         "children": 21.6,
         "winner": "Hillary Clinton",
         "votes": 170050,
         "total_votes": 322404,
         "fraction_votes": 0.5274438282403444,
         "voter_turnout": 0.11433598063899947,
         "_deepnote_index_column": 5
        }
       ],
       "rows_bottom": null
      },
      "text/plain": "         state st_abbrev   fips  population  income  hispanic  asian  black  \\\n0      Alabama        AL  01000     4849377   43253       4.1    1.3   26.7   \n1      Arizona        AZ  04000     6731484   49774      30.5    3.3    4.7   \n2     Arkansas        AR  05000     2966369   40768       7.0    1.5   15.6   \n3   California        CA  06000    38802500   61094      38.6   14.4    6.5   \n5  Connecticut        CT  09000     3596677   69461      15.0    4.5   11.5   \n\n   white  foreign  ...  density     vets  female  senior  children  \\\n0   66.2      3.5  ...     94.4   388865    51.5    15.3      22.8   \n1   56.2     13.4  ...     56.3   522382    50.3    15.9      24.1   \n2   73.4      4.5  ...     56.0   237311    50.9    15.7      23.8   \n3   38.5     27.0  ...    239.1  1893539    50.3    12.9      23.6   \n5   68.8     13.6  ...    738.1   217947    51.2    15.5      21.6   \n\n            winner    votes  total_votes  fraction_votes  voter_turnout  \n0  Hillary Clinton   304371       378840        0.803429       0.101193  \n1  Hillary Clinton   234891       397707        0.590613       0.077841  \n2  Hillary Clinton   131939       191231        0.689946       0.084602  \n3  Hillary Clinton  1940017      3441376        0.563733       0.116086  \n5  Hillary Clinton   170050       322404        0.527444       0.114336  \n\n[5 rows x 21 columns]",
      "text/html": "<div>\n<style scoped>\n    .dataframe tbody tr th:only-of-type {\n        vertical-align: middle;\n    }\n\n    .dataframe tbody tr th {\n        vertical-align: top;\n    }\n\n    .dataframe thead th {\n        text-align: right;\n    }\n</style>\n<table border=\"1\" class=\"dataframe\">\n  <thead>\n    <tr style=\"text-align: right;\">\n      <th></th>\n      <th>state</th>\n      <th>st_abbrev</th>\n      <th>fips</th>\n      <th>population</th>\n      <th>income</th>\n      <th>hispanic</th>\n      <th>asian</th>\n      <th>black</th>\n      <th>white</th>\n      <th>foreign</th>\n      <th>...</th>\n      <th>density</th>\n      <th>vets</th>\n      <th>female</th>\n      <th>senior</th>\n      <th>children</th>\n      <th>winner</th>\n      <th>votes</th>\n      <th>total_votes</th>\n      <th>fraction_votes</th>\n      <th>voter_turnout</th>\n    </tr>\n  </thead>\n  <tbody>\n    <tr>\n      <th>0</th>\n      <td>Alabama</td>\n      <td>AL</td>\n      <td>01000</td>\n      <td>4849377</td>\n      <td>43253</td>\n      <td>4.1</td>\n      <td>1.3</td>\n      <td>26.7</td>\n      <td>66.2</td>\n      <td>3.5</td>\n      <td>...</td>\n      <td>94.4</td>\n      <td>388865</td>\n      <td>51.5</td>\n      <td>15.3</td>\n      <td>22.8</td>\n      <td>Hillary Clinton</td>\n      <td>304371</td>\n      <td>378840</td>\n      <td>0.803429</td>\n      <td>0.101193</td>\n    </tr>\n    <tr>\n      <th>1</th>\n      <td>Arizona</td>\n      <td>AZ</td>\n      <td>04000</td>\n      <td>6731484</td>\n      <td>49774</td>\n      <td>30.5</td>\n      <td>3.3</td>\n      <td>4.7</td>\n      <td>56.2</td>\n      <td>13.4</td>\n      <td>...</td>\n      <td>56.3</td>\n      <td>522382</td>\n      <td>50.3</td>\n      <td>15.9</td>\n      <td>24.1</td>\n      <td>Hillary Clinton</td>\n      <td>234891</td>\n      <td>397707</td>\n      <td>0.590613</td>\n      <td>0.077841</td>\n    </tr>\n    <tr>\n      <th>2</th>\n      <td>Arkansas</td>\n      <td>AR</td>\n      <td>05000</td>\n      <td>2966369</td>\n      <td>40768</td>\n      <td>7.0</td>\n      <td>1.5</td>\n      <td>15.6</td>\n      <td>73.4</td>\n      <td>4.5</td>\n      <td>...</td>\n      <td>56.0</td>\n      <td>237311</td>\n      <td>50.9</td>\n      <td>15.7</td>\n      <td>23.8</td>\n      <td>Hillary Clinton</td>\n      <td>131939</td>\n      <td>191231</td>\n      <td>0.689946</td>\n      <td>0.084602</td>\n    </tr>\n    <tr>\n      <th>3</th>\n      <td>California</td>\n      <td>CA</td>\n      <td>06000</td>\n      <td>38802500</td>\n      <td>61094</td>\n      <td>38.6</td>\n      <td>14.4</td>\n      <td>6.5</td>\n      <td>38.5</td>\n      <td>27.0</td>\n      <td>...</td>\n      <td>239.1</td>\n      <td>1893539</td>\n      <td>50.3</td>\n      <td>12.9</td>\n      <td>23.6</td>\n      <td>Hillary Clinton</td>\n      <td>1940017</td>\n      <td>3441376</td>\n      <td>0.563733</td>\n      <td>0.116086</td>\n    </tr>\n    <tr>\n      <th>5</th>\n      <td>Connecticut</td>\n      <td>CT</td>\n      <td>09000</td>\n      <td>3596677</td>\n      <td>69461</td>\n      <td>15.0</td>\n      <td>4.5</td>\n      <td>11.5</td>\n      <td>68.8</td>\n      <td>13.6</td>\n      <td>...</td>\n      <td>738.1</td>\n      <td>217947</td>\n      <td>51.2</td>\n      <td>15.5</td>\n      <td>21.6</td>\n      <td>Hillary Clinton</td>\n      <td>170050</td>\n      <td>322404</td>\n      <td>0.527444</td>\n      <td>0.114336</td>\n    </tr>\n  </tbody>\n</table>\n<p>5 rows × 21 columns</p>\n</div>"
     },
     "metadata": {}
    }
   ]
  },
  {
   "cell_type": "markdown",
   "source": "### Save",
   "metadata": {
    "tags": [],
    "cell_id": "00023-fbc0f84c-e4fb-42f0-8b55-7d91122166f0",
    "deepnote_cell_type": "markdown"
   }
  },
  {
   "cell_type": "code",
   "metadata": {
    "tags": [],
    "cell_id": "00024-3a55cf6c-f4ce-4062-b48f-d52f8bd6ea8d",
    "deepnote_to_be_reexecuted": true,
    "source_hash": "c966ef4b",
    "execution_millis": 2,
    "deepnote_cell_type": "code"
   },
   "source": "rep_st_fts.to_csv('Datasets/kaggle-presidential/rep_clean_state_facts.csv', index=False)\ndem_st_fts.to_csv('Datasets/kaggle-presidential/dem_clean_state_facts.csv', index=False)",
   "execution_count": null,
   "outputs": []
  },
  {
   "cell_type": "markdown",
   "source": "<a style='text-decoration:none;line-height:16px;display:flex;color:#5B5B62;padding:10px;justify-content:end;' href='https://deepnote.com?utm_source=created-in-deepnote-cell&projectId=6db671ff-4b94-4ec9-9d8f-30a849bb0caf' target=\"_blank\">\n<img alt='Created in deepnote.com' style='display:inline;max-height:16px;margin:0px;margin-right:7.5px;' src='data:image/svg+xml;base64,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' > </img>\nCreated in <span style='font-weight:600;margin-left:4px;'>Deepnote</span></a>",
   "metadata": {
    "tags": [],
    "created_in_deepnote_cell": true,
    "deepnote_cell_type": "markdown"
   }
  }
 ],
 "nbformat": 4,
 "nbformat_minor": 2,
 "metadata": {
  "orig_nbformat": 2,
  "deepnote_notebook_id": "ecff5a4a-213a-4623-b2c4-a7e6499ec0bf",
  "deepnote": {},
  "deepnote_execution_queue": []
 }
}