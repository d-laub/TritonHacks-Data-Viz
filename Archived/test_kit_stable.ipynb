{
  "cells": [
    {
      "cell_type": "code",
      "metadata": {
        "tags": [],
        "deepnote_to_be_reexecuted": false,
        "source_hash": "154eeeb4",
        "execution_millis": 50,
        "is_code_hidden": true,
        "output_cleared": true,
        "execution_start": 1618600549534,
        "cell_id": "00000-0d2d8c21-888a-4bec-9f7b-c638bd467491",
        "deepnote_cell_type": "code"
      },
      "source": "### Don't push \"Run notebook\"!!!\n\nassert False, 'Please don\\'t press the \"Run notebook\" button!'",
      "execution_count": null,
      "outputs": []
    },
    {
      "cell_type": "markdown",
      "source": "# Welcome to the Data Science Kit!\n\n<center><img src='http://www.sintetia.com/wp-content/uploads/2014/05/Data-Scientist-What-I-really-do.png' width=80%></center>\n\nIn this starter kit, you will learn to use data science to analyze **2016 US primary election** data and uncover sociological, geographical, and economic voting patterns. Data science is an important application of computer science that helps distill big data into insightful and interpretable stories. You can find data science being applied in a huge diversity of fields including medicine, finance, biology, manufacturing, social media, and, as you will see in this kit, political science.\n\nThe US primary election dataset you will work with contains voting information for over 2,000 counties and spans demographic, spatial, and economic data! This is an overwhelming amount of information, but data science will give you the tools to find patterns amongst the chaos. You will answer important questions such as... **(WIP)**\n\nBy the time you finish this starter kit, you will be ready to expand your analysis on your own and uncover novel phenomena within the voting data. What discoveries will you make?\n\n>**Pro Tip**:  \nYou can quickly navigate this document using the table of contents tab in the \"Files\" menu.\n![](.images/TOC_files.png)\n![](.images/TOC_location.png)\n<!-- <img src=\".images/TOC_files.png\" width=350>\n<img src='.images/TOC_location.png' width=350> -->",
      "metadata": {
        "tags": [],
        "cell_id": "00001-e1070b05-9ab5-47b5-a47a-b33de2165935",
        "deepnote_cell_type": "markdown"
      }
    },
    {
      "cell_type": "markdown",
      "source": "# Before We Begin...\nLet's also take note of the coding environment we're in: a Deepnote **notebook** running Python.",
      "metadata": {
        "tags": [],
        "cell_id": "00002-c4ceaf4d-20d8-4977-a568-34b97f386e49",
        "deepnote_cell_type": "markdown"
      }
    },
    {
      "cell_type": "markdown",
      "source": "## What is Deepnote?\nDeepnote is a web-based data science platform for real-time collaboration in coding notebooks. Notebooks allows us to work with data interactively and see the outputs from each operation we apply to our data. In your file browser, you can distinguish between notebooks and other file types by their file extension. Notebooks end with `.ipynb`, short for \"IPython notebook.\" The fundamental unit of notebooks are **cells**. In Deepnote, cells come in two flavors: **markdown** cells and **code** cells.",
      "metadata": {
        "tags": [],
        "cell_id": "00003-19c934dd-1bdc-4344-a15e-f13b713e6fbc",
        "deepnote_cell_type": "markdown"
      }
    },
    {
      "cell_type": "markdown",
      "source": "### Markdown Cells\nMarkdown cells allow us to write, edit, and display formatted text. They are written in the Markdown programming language which provides a minimal formatting syntax. All of the texts in this kit are in Markdown cells and if you double click on them you can see (and edit) the underlying Markdown code. Deepnote also provides a Markdown cheat sheet on the right sidebar when you have a Markdown cell selected. **You won't need Markdown until you finish this kit but feel free to check it out.**",
      "metadata": {
        "tags": [],
        "cell_id": "00004-68546c43-b392-44fd-bc20-125bb49a7dbc",
        "deepnote_cell_type": "markdown"
      }
    },
    {
      "cell_type": "markdown",
      "source": "### Code Cells\nCode cells in Deepnote allow us to write and execute Python code. You can run cells by selecting them and pressing **Ctrl+Enter (or Cmd+Return on Mac) or by clicking the Run button in the right sidebar**. Go ahead and run the example below (you might have to wait a few seconds for your environment to boot up).",
      "metadata": {
        "tags": [],
        "cell_id": "00005-08e6580f-84d1-4a8a-8b21-4c818b7506b2",
        "deepnote_cell_type": "markdown"
      }
    },
    {
      "cell_type": "code",
      "metadata": {
        "tags": [],
        "deepnote_to_be_reexecuted": false,
        "source_hash": "93d78429",
        "execution_millis": 25,
        "output_cleared": true,
        "execution_start": 1618766982959,
        "cell_id": "00006-b2d065a6-e864-4e51-87ff-10669036686c",
        "deepnote_cell_type": "code"
      },
      "source": "# This is a code cell\nprint('This is a print statement.')\nmy_var = 'I am a variable :)'\nmy_var2 = 'I am a variable too!'\nmy_var # this will not be output because it's not last\nmy_var2 # this will be output",
      "execution_count": null,
      "outputs": []
    },
    {
      "cell_type": "markdown",
      "source": "You'll know that a cell has been executed by the green check mark in the bottom left\n\n>**Quirky Output:**  \nCode cells show the output of the last line of code if it is not explicitly assigned to a variable. Notice the difference between the `print` output and implicit output. Even though `my_var2` was not in a `print` statement it was output because it was written on a line by itself. You can also see that `my_var` was not output despite being written by itself because it wasn't the last line. Feel free to edit the cell above to get a feel for running code cells and displaying output.",
      "metadata": {
        "tags": [],
        "cell_id": "00007-428af5dd-179f-4e78-93b5-cc1c7d66520a",
        "deepnote_cell_type": "markdown"
      }
    },
    {
      "cell_type": "markdown",
      "source": "**Global Variables**\n\nWhen you run a cell, any values you assigned to variables will be stored for the entire notebook and not just that cell. The `my_var` variable you created in the previous cell can be called from any other cell after you have run that original cell.\n\nSo, if you have properly run the code cell above, `my_var` should print 'I am a variable :)' after you **run the cell below**.",
      "metadata": {
        "tags": [],
        "cell_id": "00008-99fd383d-eaab-4535-bddc-ad826ffacd50",
        "deepnote_cell_type": "markdown"
      }
    },
    {
      "cell_type": "code",
      "metadata": {
        "tags": [],
        "output_cleared": true,
        "cell_id": "00009-f0af157c-ec13-45af-b8de-a7599490a7ab",
        "deepnote_cell_type": "code"
      },
      "source": "# Run this cell\nmy_var",
      "execution_count": null,
      "outputs": []
    },
    {
      "cell_type": "markdown",
      "source": ">**Warning:**  \nIf you happen to change the value of `my_var` at any point and run the cell you changed it in, the value for that variable will update for future use. If you want to restore its previous value, you will need to re-run the cell that assigned that previous value.",
      "metadata": {
        "tags": [],
        "cell_id": "00010-ae718f9b-40a5-4ae8-91e3-93d444cff5b4",
        "deepnote_cell_type": "markdown"
      }
    },
    {
      "cell_type": "code",
      "metadata": {
        "tags": [],
        "deepnote_to_be_reexecuted": false,
        "source_hash": "c4d7b605",
        "execution_millis": 13,
        "execution_start": 1618766987040,
        "output_cleared": true,
        "cell_id": "00011-77347a82-0676-4edb-aad0-bb323ef06e25",
        "deepnote_cell_type": "code"
      },
      "source": "# This cell will change the value of my_var to something different\n# If you want the original value back, you willl need to run the first cell again\n\nmy_var = 'my_var has been changed! :('",
      "execution_count": null,
      "outputs": []
    },
    {
      "cell_type": "markdown",
      "source": "**Semicolons**\n\nAdding a semicolon to the end of the cell will suppress any output that isn't explicit, like a plot or a `print()` statement. Try **running the cell below** to see for yourself!\n\nYou should see that `my_var` is not output from the cell.",
      "metadata": {
        "tags": [],
        "cell_id": "00012-86b8f411-dbe8-4115-8e5a-d5ef13081638",
        "deepnote_cell_type": "markdown"
      }
    },
    {
      "cell_type": "code",
      "metadata": {
        "tags": [],
        "output_cleared": true,
        "cell_id": "00013-1563045a-a4af-4264-9457-672d8cbe5ab9",
        "deepnote_cell_type": "code"
      },
      "source": "# Run this cell to see how ; suppressed output\nmy_var;",
      "execution_count": null,
      "outputs": []
    },
    {
      "cell_type": "markdown",
      "source": "### Adding Cells\nYou can also add your own cells by clicking the \"+ Block\" or \"+ Code\" buttons that pop up when you hover your cursor over the bottom or top left corners of an existing cell. Alternatively, you can use the hotkeys \"Ctrl+J\" and \"Ctrl+K\" to add code cells below and above the selected cell, respectively. There are many more Deepnote shortcuts available too, check them out from the \"?\" menu in the bottom left of Deepnote.",
      "metadata": {
        "tags": [],
        "cell_id": "00014-85479548-4049-4ce6-abf3-c248627e5c96",
        "deepnote_cell_type": "markdown"
      }
    },
    {
      "cell_type": "markdown",
      "source": "# 0. `import data_science`\nBefore we start working with our data we have to get our coding environment ready to do some work.\n\n>**Run the cell below** to `import` the Python packages we need, set a plotting theme, and load our data.",
      "metadata": {
        "tags": [],
        "cell_id": "00015-7877373c-4cf6-4529-8b6c-735843f4e895",
        "deepnote_cell_type": "markdown"
      }
    },
    {
      "cell_type": "markdown",
      "source": "![](.images/import.jpeg)",
      "metadata": {
        "tags": [],
        "cell_id": "00016-29d599c5-d170-4089-92cd-647c7601a3d4",
        "deepnote_cell_type": "markdown"
      }
    },
    {
      "cell_type": "code",
      "metadata": {
        "tags": [],
        "deepnote_to_be_reexecuted": false,
        "source_hash": "bcda74f1",
        "execution_millis": 1512,
        "execution_start": 1619140967668,
        "output_cleared": true,
        "cell_id": "00017-0b7e2327-5de5-4927-83ec-9ad6bb2f13de",
        "deepnote_cell_type": "code"
      },
      "source": "# Run this cell with Ctrl+Enter (or Cmd+Return on a Mac)\n\n# Import necessary libraries\nimport numpy as np\nimport pandas as pd\nimport matplotlib.pyplot as plt\nimport seaborn as sns\nimport plotly.express as px\nfrom utils import *\n\n# Set a plotting theme with seaborn\nsns.set_theme() \n\n# Load our data\nprint('Loading data from Datasets folder...')\n\n(geo_cnty,\nrepublican_primaries_county_level,\ndemocrat_primaries_county_level,\nrepublican_primaries_state_level,\ndemocrat_primaries_state_level) = load_data()\n\nprint('Finished loading data!')",
      "execution_count": null,
      "outputs": []
    },
    {
      "cell_type": "markdown",
      "source": "Now we're ready to start working with our data and explore what we just loaded!\n\n>**Field Notes:**  \nUsually, getting your data isn't as easy as using a `load_data()` function. Often times, the data you want is scattered across different websites, filled with NaN's, or in an unstructured form. These irregularities need to be \"cleaned\" before you can start working with your data. Data cleaning is beyond the scope of this project but you can read more [here](https://towardsdatascience.com/data-cleaning-in-python-the-ultimate-guide-2020-c63b88bf0a0d) if you're interested.",
      "metadata": {
        "tags": [],
        "cell_id": "00018-1ccf67de-a193-4faa-ae98-8d0507ed3808",
        "deepnote_cell_type": "markdown"
      }
    },
    {
      "cell_type": "markdown",
      "source": "# 1. What's In Here?\n<p style='font-size:30px'>Initial Data Exploration</p>",
      "metadata": {
        "tags": [],
        "cell_id": "00019-eb638d72-64f8-457a-b8c1-e081135e204c",
        "deepnote_cell_type": "markdown"
      }
    },
    {
      "cell_type": "markdown",
      "source": "![](.images/dataexploration.jpeg)",
      "metadata": {
        "tags": [],
        "cell_id": "00020-3344dd97-f4ab-4fa1-a579-eccdea8128f5",
        "deepnote_cell_type": "markdown"
      }
    },
    {
      "cell_type": "markdown",
      "source": "Let's take a first look at the primary election data. In the code cell above we loaded in four **dataframes** of interest:\n```python\nrepublican_primaries_county_level\ndemocrat_primaries_county_level\nrepublican_primaries_state_level\ndemocrat_primaries_state_level\n```\nHowever, these variable names are really long! Let's assign them to some more conveniently named variables:",
      "metadata": {
        "tags": [],
        "cell_id": "00021-422d1329-599e-41a1-ae77-7e4e8c4aa063",
        "deepnote_cell_type": "markdown"
      }
    },
    {
      "cell_type": "code",
      "metadata": {
        "tags": [],
        "deepnote_to_be_reexecuted": false,
        "source_hash": "a05dcef0",
        "execution_millis": 0,
        "execution_start": 1618767217839,
        "output_cleared": true,
        "cell_id": "00022-1a4c3463-63eb-400f-8794-6f5cfc1507c3",
        "deepnote_cell_type": "code"
      },
      "source": "# Run this cell with Ctrl+Enter (or Cmd+Return on a Mac)\n\n# Assign:\n#  rep as republican_primaries_county_level\n#  dem as democrat_primaries_county_level\n#  rep_st as republican_primaries_state_level\n#  dem_st as democrat_primaries_state_level\n\n# For example, assign rep as republican_primaries_county_level\n# Run this cell with ctrl + enter (or cmd + enter on a Mac)\nrep = republican_primaries_county_level\nprint('rep has been assigned! When there is a green check mark on the bottom left, it means the cell has ran successfully.')",
      "execution_count": null,
      "outputs": []
    },
    {
      "cell_type": "markdown",
      "source": "When using `=` to assign the object, we are assigning a variable (on the left side of the `=`) to have a particular value (on the right side of the `=`). We can reassign variables or we can create new ones.\n>**Your turn**:  \nAssign the long-named variable to shorter-named variables! We've already set up the new variable names, no need to come up with your own. We will be using these variable names for the rest of the notebook.\n\n>*Hint: use the right side of the `=` to assign values to the new variables.*",
      "metadata": {
        "tags": [],
        "cell_id": "00023-d66c05ca-5a07-41d9-bfb3-8968d4e4aaec",
        "deepnote_cell_type": "markdown"
      }
    },
    {
      "cell_type": "code",
      "metadata": {
        "tags": [],
        "deepnote_to_be_reexecuted": true,
        "source_hash": "ffc6ad03",
        "execution_millis": 10,
        "output_cleared": true,
        "cell_id": "00024-f0c27417-cdb0-40c3-bf74-ca41039a21e3",
        "deepnote_cell_type": "code"
      },
      "source": "### Finish and run this code to reassign the other dataframe variables ###\n\ndem = \nrep_st = \ndem_st = \n\n##########################################################################",
      "execution_count": null,
      "outputs": []
    },
    {
      "cell_type": "markdown",
      "source": "Throughout this notebook we will provide answers in hidden code cells. You can see the answer to this problem by clicking the blue \"Show it.\":",
      "metadata": {
        "tags": [],
        "cell_id": "00025-3c473846-985a-4a31-aa13-0f4cf4ff382c",
        "deepnote_cell_type": "markdown"
      }
    },
    {
      "cell_type": "code",
      "metadata": {
        "tags": [],
        "is_code_hidden": true,
        "deepnote_to_be_reexecuted": true,
        "source_hash": "dd694495",
        "execution_millis": 2,
        "output_cleared": true,
        "cell_id": "00026-9ffe6f5b-6caf-432a-ae57-4bd23bb07c8c",
        "deepnote_cell_type": "code"
      },
      "source": "dem = democrat_primaries_county_level\nrep_st = republican_primaries_state_level\ndem_st = democrat_primaries_state_level",
      "execution_count": null,
      "outputs": []
    },
    {
      "cell_type": "markdown",
      "source": "The first two, `rep` and `dem`, are the county-level primary election results for the Republican and Democrat primaries, respectively. We also have their state-level counterparts, `rep_st` and `dem_st`, that are home to the same data except summarized at the state level. Let's start by looking at `rep`. We can simply type in `rep` and run the cell to see the first and last 5 rows of data.",
      "metadata": {
        "tags": [],
        "cell_id": "00027-a5765ea4-2c82-438a-b195-b8ed350acacf",
        "deepnote_cell_type": "markdown"
      }
    },
    {
      "cell_type": "code",
      "metadata": {
        "tags": [],
        "deepnote_to_be_reexecuted": true,
        "source_hash": "eba1dbbf",
        "execution_millis": 189,
        "output_cleared": true,
        "cell_id": "00028-c0de9e00-80a5-4506-9596-bcb9de167da2",
        "deepnote_cell_type": "code"
      },
      "source": "# Run this cell with Ctrl+Enter (or Cmd+Return on a Mac) to see the output\nrep",
      "execution_count": null,
      "outputs": []
    },
    {
      "cell_type": "markdown",
      "source": "If you ran the cell above you should see a dataframe with 2092 rows and 22 columns. **Dataframes** are tables of data. Each row is an observation (for `rep` this is a county) and each column, or **feature**, is a property of the observations.\n\nWe can also use `head()` to view just the first 5 rows of any dataframe. Note that `head()` is a method for dataframes.",
      "metadata": {
        "tags": [],
        "cell_id": "00029-c081adfe-120b-4688-86d5-fedfc8a20427",
        "deepnote_cell_type": "markdown"
      }
    },
    {
      "cell_type": "code",
      "metadata": {
        "tags": [],
        "deepnote_to_be_reexecuted": true,
        "source_hash": "b2fcfb28",
        "execution_millis": 99,
        "output_cleared": true,
        "cell_id": "00030-61d80eb9-c4d2-4fc4-9784-1b858ed9732b",
        "deepnote_cell_type": "code"
      },
      "source": "# Run this cell!\nrep.head()",
      "execution_count": null,
      "outputs": []
    },
    {
      "cell_type": "markdown",
      "source": "![](.images/NumbersEverywhere.png)\n<!-- <img src='.images/NumbersEverywhere.png' style=\"width:80%; margin-left: auto; margin-right: auto;\"> -->\n\nThe `head()` function is a useful function when you just want to get a quick idea of what is in your data. Let's take stock of what features are in `rep`, the Republican primary election data.\n\nThe 22 features of `rep` are:\n- `st_abbrev`: State abbreviation\n- `fips`: US Census ID (unique identifier for every census region e.g. state, county, etc.)\n- `population`: Total population\n- `income`: Median household income\n- `hispanic`, `asian`, `black`, `white`, `foreign`, `college`, `female`, `senior`, `children`: Percentage of individuals that are in these demographics.\n    - Note that `foreign` refers to foreign born individuals and `college` refers to individuals with Bachelor's degrees.\n- `density`: Population per square mile\n- `vets`: Population of veterans\n- `st_cnty`: Concatenation of state abbreviation with county name\n- `state`: Full state name\n- `winner`: Name of the candidate that won the election for the county\n- `votes`: Number of votes for the winning candidate\n- `fraction_votes`: Fraction of the votes that the winning candidate received\n- `total_votes`: Total number of votes cast in the county\n- `voter_turnout`: Proportion of eligible voters that cast votes in the election",
      "metadata": {
        "tags": [],
        "cell_id": "00031-bfe0b0ed-de9a-4373-91f6-7666e01cabf4",
        "deepnote_cell_type": "markdown"
      }
    },
    {
      "cell_type": "markdown",
      "source": ">**Your turn:**  \nCompare the output from `head()` on `dem`, `rep_st`, and `dem_st`. What are the differences? What can you tell about the data from just the first 5 rows?\n",
      "metadata": {
        "tags": [],
        "cell_id": "00032-a370f306-456a-45b0-a967-deb2979ac901",
        "deepnote_cell_type": "markdown"
      }
    },
    {
      "cell_type": "code",
      "metadata": {
        "tags": [],
        "deepnote_to_be_reexecuted": true,
        "source_hash": "9cbb236a",
        "execution_millis": 1,
        "output_cleared": true,
        "cell_id": "00033-da6483a9-da3e-4eb3-952f-c4c0dd1b07eb",
        "deepnote_cell_type": "code"
      },
      "source": "### Enter your code for dem below: ###\n\n\n\n######################################",
      "execution_count": null,
      "outputs": []
    },
    {
      "cell_type": "code",
      "metadata": {
        "tags": [],
        "deepnote_to_be_reexecuted": true,
        "source_hash": "9edb22e7",
        "execution_millis": 5,
        "output_cleared": true,
        "cell_id": "00034-7ab39cce-bdab-49c0-a643-3ee5fdd9677e",
        "deepnote_cell_type": "code"
      },
      "source": "### Enter your code for rep_st below: ###\n\n\n\n#########################################",
      "execution_count": null,
      "outputs": []
    },
    {
      "cell_type": "code",
      "metadata": {
        "tags": [],
        "deepnote_to_be_reexecuted": true,
        "source_hash": "1dbae38f",
        "execution_millis": 1,
        "output_cleared": true,
        "cell_id": "00035-f2a42648-bed6-4e6d-a10d-aff399c91c23",
        "deepnote_cell_type": "code"
      },
      "source": "### Enter your code for dem_st below: ###\n\n\n\n#########################################",
      "execution_count": null,
      "outputs": []
    },
    {
      "cell_type": "markdown",
      "source": "The answer is hidden in the cell below:",
      "metadata": {
        "tags": [],
        "cell_id": "00036-b9702e34-4616-41f3-819d-62d8ed41ff3b",
        "deepnote_cell_type": "markdown"
      }
    },
    {
      "cell_type": "code",
      "metadata": {
        "tags": [],
        "is_code_hidden": true,
        "deepnote_to_be_reexecuted": true,
        "source_hash": "2f6b3eb2",
        "execution_millis": 2,
        "output_cleared": true,
        "cell_id": "00037-f07f362b-29dc-4af9-9528-36d0565554a7",
        "deepnote_cell_type": "code"
      },
      "source": "# You should have entered:\n# dem.head()\n# rep_st.head()\n# dem_st.head()\n# into separate cells.\n\n# Notice that both `rep` and `dem` have one additional column, `st_cnty`\n# compared to `rep_st` and `dem_st`. This is because they contain county\n# level data.",
      "execution_count": null,
      "outputs": []
    },
    {
      "cell_type": "markdown",
      "source": "# 2. Show Don't Tell!\n<p style='font-size:30px'>Introduction to Data Visualization</p>",
      "metadata": {
        "tags": [],
        "cell_id": "00038-f73b3861-407c-4b57-8030-6afc51bf9b4f",
        "deepnote_cell_type": "markdown"
      }
    },
    {
      "cell_type": "markdown",
      "source": "![](.images/dataviz2.jpeg)\n\n<!-- <img src=\".images/dataviz2.jpeg\" width=100 /> -->",
      "metadata": {
        "tags": [],
        "cell_id": "00039-ec9855ec-90c0-46fe-9638-d65fd6cfa488",
        "deepnote_cell_type": "markdown"
      }
    },
    {
      "cell_type": "markdown",
      "source": "## What is Data Visualization?\nData visualization is the process of presenting the patterns, trends, or outliers in our data through pictures and graphs. It is an important aspect of Data Science because it makes it easier for people to understand our findings from the data. Good visualizations can have a strong impact on the information\nand messages you are trying to convey to your audience, and are a powerful tool in Data Science and Analytics.\n\n<table><tr><td><img src='https://imgs.xkcd.com/comics/fuck_grapefruit.png' width=1000></td><td><img src='https://imgs.xkcd.com/comics/scary_names_2x.png' width=1000></td></tr></table>",
      "metadata": {
        "tags": [],
        "cell_id": "00040-2b68f21d-ce1b-4dad-b61f-6af28e360e47",
        "deepnote_cell_type": "markdown"
      }
    },
    {
      "cell_type": "markdown",
      "source": "### Plotting Libraries\n\nThroughout this notebook we will use **`seaborn`** as our primary plotting library. Seaborn is built upon Matplotlib and allows us to easily create visually appealing data visualizations.\n\nWe imported seaborn earlier in part **0. `import data_science`**:\n\n```python\nimport seaborn as sns\n```\nwhere we aliased `seaborn` to `sns`. Now we can access all of seaborn's plotting functionalities using `sns` instead.\n\n>**Field Notes:**  \nThere are many (many!) other plotting libraries in the data science toolbox and seaborn is just a popular and convenient choice for this project. You can check out some common ones in the graph visualization below. Note that these are *just plotting libraries for Python* and there are even more if you consider other languages and standalone software!\n<img src='https://rougier.github.io/python-visualization-landscape/landscape-colors.png' width=100%>\n<p style='font-size:13px'><em>Source: <a href='https://pyviz.org/overviews/index.html'>PyViz</a></em></p>",
      "metadata": {
        "tags": [],
        "cell_id": "00041-2601f370-f051-4ff7-b6ca-fad8b2b683f3",
        "deepnote_cell_type": "markdown"
      }
    },
    {
      "cell_type": "markdown",
      "source": "## Types of Visualizations",
      "metadata": {
        "tags": [],
        "cell_id": "00042-90ae3839-aaa5-4110-99fa-bb12780360bc",
        "deepnote_cell_type": "markdown"
      }
    },
    {
      "cell_type": "markdown",
      "source": "![](.images/dataviz.jpeg)",
      "metadata": {
        "tags": [],
        "cell_id": "00043-dc948a19-9589-4ce1-95cf-3b93e61d18d5",
        "deepnote_cell_type": "markdown"
      }
    },
    {
      "cell_type": "markdown",
      "source": "### Scatter Plots\n\nScatter plots convey the relationship between two variables $$x,y$$ by plotting a scatter of all your data points at locations $$(x_i,y_i)$$ corresponding to the values of the two variables. Chances are you've already seen some before. They help answer questions about whether two variables are related in some way.\n\nFor example, do you think there is a relationship between the proportion of people with college degrees and the median household income of a county?\n\n**Run the cell below** to plot the variables `college` and `income` to find out. We'll use the `scatterplot()` function from `seaborn` (aliased as `sns`).",
      "metadata": {
        "tags": [],
        "cell_id": "00044-84971efe-84b9-4f8e-95b2-d4998c2e20ab",
        "deepnote_cell_type": "markdown"
      }
    },
    {
      "cell_type": "code",
      "metadata": {
        "tags": [],
        "deepnote_to_be_reexecuted": false,
        "source_hash": "75c92975",
        "execution_millis": 151,
        "output_cleared": true,
        "execution_start": 1618715019005,
        "cell_id": "00045-cbdc1158-58d0-4fa0-8b70-846b0569f579",
        "deepnote_cell_type": "code"
      },
      "source": "# Run this cell!\n\nsns.scatterplot(data=rep, x='college',  y='income');",
      "execution_count": null,
      "outputs": []
    },
    {
      "cell_type": "markdown",
      "source": "We used the **`sns.scatterplot()`** function to create this scatter plot using three arguments: `x`, `y`, and `data`.\n\n- `x`, `y`: features in the dataframe that correspond to the respective x and y axes.\n- `data`: the dataframe you want to plot\n\nFrom this scatter plot we can see that `college` and `income` are indeed related! Recall that the `college` feature is the percentage of individuals with college degrees. This plot shows us that counties with a higher percentage of college graduates tend to have higher median household incomes.\n\n>**Your turn**:  \nWe'd like to see if there is a relationship between the percentage of blacks and the percentage of whites in counties from the **Democratic** primary. Can you create a scatter plot to show this relationship?\n\n>*Hint: use the `white` and `black` features from **`dem`**.*",
      "metadata": {
        "tags": [],
        "cell_id": "00046-d3d116e4-3091-46a5-a2d4-b4e8f07ba4f3",
        "deepnote_cell_type": "markdown"
      }
    },
    {
      "cell_type": "code",
      "metadata": {
        "tags": [],
        "output_cleared": true,
        "cell_id": "00047-ac627643-88a2-4a89-9aec-ad33f18c03ff",
        "deepnote_cell_type": "code"
      },
      "source": "### Enter your code below: ###\n\n\n\n##############################",
      "execution_count": null,
      "outputs": []
    },
    {
      "cell_type": "code",
      "metadata": {
        "tags": [],
        "is_code_hidden": true,
        "deepnote_to_be_reexecuted": false,
        "source_hash": "a7748cce",
        "execution_millis": 140,
        "execution_start": 1618715775981,
        "output_cleared": true,
        "cell_id": "00048-1d970530-4c7c-439d-893e-44679bcf412f",
        "deepnote_cell_type": "code"
      },
      "source": "# Solution:\n\n# sns.scatterplot(data=dem, x='white', y='black');",
      "execution_count": null,
      "outputs": []
    },
    {
      "cell_type": "markdown",
      "source": "From this plot we can see that `white` and `black` are also related, but in a different way than `college` and `income` are. We'll unpack this more later but for now we'll just note that there seem to be **two distinct \"arms\"** in the plot that have different relationships.\n\n>**Food for thought:**  \nCan you think about why that is? What does this mean? What is this plot telling us?",
      "metadata": {
        "tags": [],
        "cell_id": "00049-66d9b434-cead-47c4-98be-d7b603d7b92b",
        "deepnote_cell_type": "markdown"
      }
    },
    {
      "cell_type": "markdown",
      "source": "#### Hue\nAnother parameter for many seaborn functions you should know is called **`hue`**. As you might guess, this parameter lets us specify a unique hue for each data point or plot element. For `scatterplot()`, this parameter allows us to **color each data point based on a third variable**.\n\n**Run the cell below** where we've added `hue='winner'` to color each data point based on which candidate won the county.",
      "metadata": {
        "tags": [],
        "cell_id": "00050-6f1997d0-2471-4409-aa98-c8df466a511e",
        "deepnote_cell_type": "markdown"
      }
    },
    {
      "cell_type": "code",
      "metadata": {
        "tags": [],
        "deepnote_to_be_reexecuted": true,
        "source_hash": "1e74e0c2",
        "execution_millis": 546,
        "output_cleared": true,
        "cell_id": "00051-d5df3e8c-ad59-49c3-8b36-7da582790c36",
        "deepnote_cell_type": "code"
      },
      "source": "# Run this cell!\n\nsns.scatterplot(data=rep, x='college',  y='income', hue='winner');",
      "execution_count": null,
      "outputs": []
    },
    {
      "cell_type": "markdown",
      "source": "From this we can glean some more information from our `income` vs. `college` scatterplot and see that Marco Rubio predominantly won counties that had high incomes and high percentages of college graduates.\n\n>**Your turn:**  \nCan you use the **`hue`** parameter to color each data point in the `black` vs. `white` scatter plot by the `winner`? What new conclusion can we draw about which demographics Hillary and Bernie won?",
      "metadata": {
        "tags": [],
        "cell_id": "00052-7666243f-9303-4620-af05-eee5671b3bdf",
        "deepnote_cell_type": "markdown"
      }
    },
    {
      "cell_type": "code",
      "metadata": {
        "tags": [],
        "output_cleared": true,
        "cell_id": "00053-1563bf70-c6e0-4088-bd0b-2cdbc75c66b0",
        "deepnote_cell_type": "code"
      },
      "source": "### Enter your code below: ###\n\n\n\n##############################",
      "execution_count": null,
      "outputs": []
    },
    {
      "cell_type": "code",
      "metadata": {
        "tags": [],
        "deepnote_to_be_reexecuted": false,
        "source_hash": "c5956a83",
        "execution_start": 1618717029183,
        "execution_millis": 248,
        "is_code_hidden": true,
        "output_cleared": true,
        "cell_id": "00054-a441b7db-7985-46b4-900e-82e5d366c008",
        "deepnote_cell_type": "code"
      },
      "source": "# Solution\n\n# sns.scatterplot(data=dem, x='white', y='black', hue='winner');\n\n# Bernie tends to win counties with low percentages of black individuals\n# and high percentages of white individuals.\n# Vice versa for Hillary.",
      "execution_count": null,
      "outputs": []
    },
    {
      "cell_type": "markdown",
      "source": "Great job so far! Let's come back to the `income` vs. `college` scatter plot briefly. **Run the cell below** so we can take a look at it again.",
      "metadata": {
        "tags": [],
        "cell_id": "00055-0c0fee0e-0867-408d-a254-1a935dcf842a",
        "deepnote_cell_type": "markdown"
      }
    },
    {
      "cell_type": "code",
      "metadata": {
        "tags": [],
        "deepnote_to_be_reexecuted": false,
        "source_hash": "75c92975",
        "execution_start": 1618717231905,
        "execution_millis": 152,
        "output_cleared": true,
        "cell_id": "00056-92bfe956-f328-4229-8487-01561d796b2b",
        "deepnote_cell_type": "code"
      },
      "source": "# Run this cell!\n\nsns.scatterplot(data=rep, x='college',  y='income');",
      "execution_count": null,
      "outputs": []
    },
    {
      "cell_type": "markdown",
      "source": "Earlier we said that based on this scatter plot, we know that `income` and `college` are related. But how exactly? As `college` increases, so does `income`. We would say that these variables have a **positive correlation**.",
      "metadata": {
        "tags": [],
        "cell_id": "00057-00f059ba-45e3-4775-940e-646c55dc610e",
        "deepnote_cell_type": "markdown"
      }
    },
    {
      "cell_type": "markdown",
      "source": "### Correlations\n\nA scatter plot can have one of three types of linear relationships (aka correlations):\n\n- **Positive correlation**: As the x variable increases, the y variable also increases\n- **Negative correlation**: As the x variable increases, the y variable decreases\n- **No correlation**: No relationship or trend between the x and y variable. ",
      "metadata": {
        "tags": [],
        "cell_id": "00058-fb5f3102-f078-465d-b785-5b6051431105",
        "deepnote_cell_type": "markdown"
      }
    },
    {
      "cell_type": "markdown",
      "source": "![](.images/correlation.jpeg)\n<!-- <img src='.images/correlation.jpeg' width=800 style=\"margin:auto\"> -->",
      "metadata": {
        "tags": [],
        "cell_id": "00059-358525fd-165f-4859-bc9e-94ad11f1f2d6",
        "deepnote_cell_type": "markdown"
      }
    },
    {
      "cell_type": "markdown",
      "source": "More specifically, correlations can take on values between -1 and 1 with the strongest correlations being -1 and 1, and the weakest being 0. We want to take note of strong correlations in our data because they can indicate important relationships between variables.\n\nHere are some rules of thumb for correlation values $r$:\n-  $|r| \\leq 0.1$: **weak**\n- $0.1 \\leq |r| \\leq 0.3$: **moderate**\n- $|r| \\geq 0.5$: **strong**\n\nAs the strength of the correlation increases this suggests the variables are more strongly linked.\n\n>**Field notes:**  \nThere are actually many different kinds of correlation coefficients! The one we will be using is one of the most common and called the [Pearson correlation coefficient](https://en.wikipedia.org/wiki/Pearson_correlation_coefficient) developed by Karl Pearson. The Pearson correlation coefficient is formulated to quantify the strength of **linear** relationships. Other correlations can quantify the strength of different relationships that are not necessarily linear.\n\nThe `corr()` function from `pandas` can calculate correlations between features of our data. First, we need to pick out two features, in this case `college` and `income`, and we can do this using `get()` like so:",
      "metadata": {
        "tags": [],
        "cell_id": "00060-de5dadb3-3dfc-44ef-a6c3-9ac05b34cac9",
        "deepnote_cell_type": "markdown"
      }
    },
    {
      "cell_type": "code",
      "metadata": {
        "tags": [],
        "deepnote_to_be_reexecuted": false,
        "source_hash": "619791d2",
        "execution_millis": 11,
        "output_cleared": true,
        "execution_start": 1618718852665,
        "cell_id": "00061-7424ca39-d09e-4087-ad9a-62a056302874",
        "deepnote_cell_type": "code"
      },
      "source": "# Run this cell!\ncollege = rep.get('college') # save college to a new variable\n\n# or\n# college = rep['college']\n\n# or\n# college = rep.college\n\ncollege.head() # and view it",
      "execution_count": null,
      "outputs": []
    },
    {
      "cell_type": "markdown",
      "source": "Even though we've selected just one column, `head()` is showing us what looks like two. The one of the left is the **index** and gives unique id's to each observation. The one on the right are the actual values for `college`.\n\nWe can use the `get()` function to get any column or feature from a dataframe with any of the following syntax\n```python\ndf.get('my_column')\ndf['my_column']\ndf.my_column\n```\nwhere `df` represents the dataframe we want a column from, and `'my_column'` is the name is the column. Note that each of the lines are equivalent.\n\nNote that there are two other ways to extract columns from dataframes using the bracket and dot syntax shown above.\n\n>**Your turn**:  \n`get()` the income feature and save it to a new variable called `income`. Remember using the `=` for variable assginment.",
      "metadata": {
        "tags": [],
        "cell_id": "00062-965bce1c-ee63-440c-a4e1-af77b1e08c98",
        "deepnote_cell_type": "markdown"
      }
    },
    {
      "cell_type": "code",
      "metadata": {
        "tags": [],
        "deepnote_to_be_reexecuted": true,
        "source_hash": "8814b3f4",
        "output_cleared": true,
        "cell_id": "00063-9c5b510f-dc40-44fd-9ea0-d3ddcd2ef9d2",
        "deepnote_cell_type": "code"
      },
      "source": "### Enter your code below: ###\n\n\n\n##############################",
      "execution_count": null,
      "outputs": []
    },
    {
      "cell_type": "code",
      "metadata": {
        "tags": [],
        "is_code_hidden": true,
        "deepnote_to_be_reexecuted": true,
        "source_hash": "5e4c7c00",
        "execution_millis": 1,
        "output_cleared": true,
        "cell_id": "00064-d3d60b79-a17b-4bbb-b178-ec0c41ef20f6",
        "deepnote_cell_type": "code"
      },
      "source": "# Solution\nincome = rep.get('income')",
      "execution_count": null,
      "outputs": []
    },
    {
      "cell_type": "markdown",
      "source": "Now we can **compute the correlation** between `college` and `income` using the `corr()` function:",
      "metadata": {
        "tags": [],
        "cell_id": "00065-f356da72-70d2-4af9-8302-b44450002fb7",
        "deepnote_cell_type": "markdown"
      }
    },
    {
      "cell_type": "code",
      "metadata": {
        "tags": [],
        "deepnote_to_be_reexecuted": true,
        "source_hash": "a7d048ac",
        "execution_millis": 11,
        "output_cleared": true,
        "cell_id": "00066-cf025983-99de-4b19-978c-9f0e0b93d863",
        "deepnote_cell_type": "code"
      },
      "source": "college.corr(income)",
      "execution_count": null,
      "outputs": []
    },
    {
      "cell_type": "markdown",
      "source": "The **correlation coefficient is ~0.7**, so college and income are quite **strongly related**!\n\n**Note:** the Perason correlation coefficient is symmetric, so whether we compute `college.corr(income)` or `income.corr(college)` we will get the same value. Go ahead and try it if you're curious!\n\nThe `corr()` function let's us compute the correlation between any two columns of data with the following syntax:\n```python\ncol1 = df.get('col1')\ncol2 = df.get('col2')\ncol1.corr(col2)\n```\nor in one line:\n```python\ndf.col1.corr(df.col2)\n```\n\nwhere `col1` and `col2` are the columns or features we want to compute a correlation between and `df` is the dataframe we're using.\n\n>**Your turn**:  \nLet's come back to your `black` vs. `white` scatter plot using data from `dem`. Regenerate that plot below and compute the correlation so we can quantify the relationship between `black` and `white`.\n\n>What is the value of the correlation coefficient? What does this tell you about the relationship between the percentages of black and white individuals in counties?",
      "metadata": {
        "tags": [],
        "cell_id": "00067-aa35d999-4ea0-495e-bf43-b2d21bb0f86d",
        "deepnote_cell_type": "markdown"
      }
    },
    {
      "cell_type": "code",
      "metadata": {
        "tags": [],
        "deepnote_to_be_reexecuted": true,
        "source_hash": "8814b3f4",
        "execution_millis": 10,
        "output_cleared": true,
        "cell_id": "00068-35a41f07-17b7-4a0c-a9f1-9805948dfb93",
        "deepnote_cell_type": "code"
      },
      "source": "### Enter your code below: ###\n\n\n\n##############################",
      "execution_count": null,
      "outputs": []
    },
    {
      "cell_type": "code",
      "metadata": {
        "tags": [],
        "deepnote_to_be_reexecuted": false,
        "source_hash": "f4611631",
        "execution_millis": 288,
        "is_code_hidden": true,
        "execution_start": 1618883354361,
        "output_cleared": true,
        "cell_id": "00069-718b1cc8-3d0b-447c-842d-13c644308034",
        "deepnote_cell_type": "code"
      },
      "source": "# Solution:\n\n# sns.scatterplot(data=dem, x='white', y='black', hue='winner');\n\n# black = dem.black\n# white = dem.white\n# black.corr(white)\n\n# r = -0.654. This is a strong negative correlation!\n# As the percentage of blacks increases the percentage of whites decreases\n# and vice versa.",
      "execution_count": null,
      "outputs": []
    },
    {
      "cell_type": "markdown",
      "source": "### Correlation $\\ne$ Causation!\n\nIn the earlier scatter plot we saw that `college` and `income` were positively correlated. This might suggest that being college educated causes an increase in median income. However, whether this is true or not **CANNOT** be determined from this data alone. If a set of data has variables with an existing correlation, it does NOT immediately mean one variable is the cause for the other. There could be other confounding variables (ones outside the scope of this data set) that influence both college education and income that explain the relationship between them.\n\nConsider the situation where individuals from families with high socioeconomic status are more likely to end up in high-income jobs regardless of their education level. However, they are also more likely to attain a college education. Then we would see college and income correlated but both are to some degree caused by familial socioeconomic status. In fact, there is a [body of literature](http://www.shirleymohr.com/JHU/Sample_Articles_JHUP/RHE_2003_27_1.pdf) that suggests this is true. So, we'll say it again, correlation does not equal causation!\n\nTo really sell you on this, [here](https://www.tylervigen.com/spurious-correlations) are many other obviously non-causal examples demonstrating this.",
      "metadata": {
        "tags": [],
        "cell_id": "00070-9a23f9d8-ef4f-46a0-9d98-e7d413531c4c",
        "deepnote_cell_type": "markdown"
      }
    },
    {
      "cell_type": "markdown",
      "source": "![](.images/SpuriousCorr.png)\n![](.images/CausationIthinkNotMeme.png)\n<!-- <img src='.images/SpuriousCorr.png' style=\"float:left;\" width=700>\n\n<img src=\".images/CausationIthinkNotMeme.png\" width=400> -->",
      "metadata": {
        "tags": [],
        "cell_id": "00071-ba895597-164e-4765-a1d2-3ccdcc467392",
        "deepnote_cell_type": "markdown"
      }
    },
    {
      "cell_type": "markdown",
      "source": "### Linear Regression Plots\n\nSometimes plain scatter plots can be hard to interpret if the relationship between two variables is ambiguous. We can use a regression plot in this case to include a **regression line** that will clearly convey the trend between two variables. Note that regressions are not symmetric and show the effect of an independent variable `x` on a dependent variable `y`.\n\nLet's start by revisiting the first scatter plot we made showing a positive correlation between `college` and `income`. **Run the cell below** to plot the effect of `college` on `income` using the `regplot()` function from `seaborn`.",
      "metadata": {
        "tags": [],
        "cell_id": "00072-7d5146d6-1be4-4203-8685-41b88cc5e134",
        "deepnote_cell_type": "markdown"
      }
    },
    {
      "cell_type": "code",
      "metadata": {
        "tags": [],
        "deepnote_to_be_reexecuted": true,
        "source_hash": null,
        "execution_millis": 420,
        "output_cleared": true,
        "cell_id": "00073-43bbe519-1e2e-49ef-9f78-2c3345b996cc",
        "deepnote_cell_type": "code"
      },
      "source": "# Run this cell!\n\nsns.regplot(data=rep, x=\"college\", y=\"income\")\n\n# Compute the correlation coefficient of the regression line\ncollege = rep.get(\"college\")\nincome = rep.get(\"income\")\ncollege.corr(income)\n\n# or\n# rep.college.corr(rep.income)\n\n# recall:\n# abs(r) ~= 0.1 small effect\n# abs(r) ~= 0.3 medium effect\n# abs(r) >= 0.5 large effect\n",
      "execution_count": null,
      "outputs": []
    },
    {
      "cell_type": "markdown",
      "source": "We used the **`sns.regplot()`** function to create a scatter plot with a line of best fit. Its arguments are nearly identical to `sns.scatterplot()`:\n\n- `x`, `y`: features in the dataframe that correspond to the respective x and y axes.\n- `data`: the dataframe you want to plot\n- `hue`: optional, colors the data based on this feature\n\nAs we saw earlier, there is a clear positive relationship between college and income shown by the regression line. Also notice: the data points fit fairly close to the regression line.\n\n>**Your turn:**  \nCan you create a regression line for a new scatter plot to show the effect of `white` on `voter_turnout` in the **Republican** primary?\n\n>*Hint: use the `white` and `voter_turnout` features from **`rep`**.*\n\n>Don't forget to compute the **correlation**!\n\n>What does the regression plot tell you about the relationship between `white` and `voter_turnout`? What is the strength of this relationship?",
      "metadata": {
        "tags": [],
        "cell_id": "00074-317180b3-a428-4be3-b01b-cd1e39e089f1",
        "deepnote_cell_type": "markdown"
      }
    },
    {
      "cell_type": "code",
      "metadata": {
        "tags": [],
        "output_cleared": true,
        "cell_id": "00075-1775d180-777b-4376-8f09-51d524f229c3",
        "deepnote_cell_type": "code"
      },
      "source": "### Enter your code below: ###\n\n\n\n##############################",
      "execution_count": null,
      "outputs": []
    },
    {
      "cell_type": "code",
      "metadata": {
        "tags": [],
        "is_code_hidden": false,
        "deepnote_to_be_reexecuted": false,
        "source_hash": "338a711d",
        "execution_start": 1618719417398,
        "execution_millis": 419,
        "output_cleared": true,
        "cell_id": "00076-6d4200ba-ab97-4c63-a551-892e87fc628b",
        "deepnote_cell_type": "code"
      },
      "source": "# Solution\n\n# sns.regplot(data=rep, x='white', y='voter_turnout');\n# rep.white.corr(rep.voter_turnout)\n\n# r = 0.38. Moderate, positive correlation.\n# The slope of regression is positive as well and sits pretty nicely in the middle\n# of the data. This gives us some confidence in saying that as the percentage of\n# whites increases, so does voter turnout in the Republican primaries.",
      "execution_count": null,
      "outputs": []
    },
    {
      "cell_type": "markdown",
      "source": "**TODO?**",
      "metadata": {
        "tags": [],
        "cell_id": "00077-10ca9f92-5c4e-44a5-a04e-dc6c3668a15d",
        "deepnote_cell_type": "markdown"
      }
    },
    {
      "cell_type": "code",
      "metadata": {
        "tags": [],
        "deepnote_to_be_reexecuted": false,
        "source_hash": "8a13dec6",
        "execution_start": 1618883392524,
        "execution_millis": 388,
        "output_cleared": true,
        "cell_id": "00078-c66599f6-9291-4ae4-86a2-f5b14c06c622",
        "deepnote_cell_type": "code"
      },
      "source": "sns.regplot(data=dem, x='white', y='voter_turnout');",
      "execution_count": null,
      "outputs": []
    },
    {
      "cell_type": "markdown",
      "source": "This time let's consider a different question: do you think there is a correlation between the percentage of a county that is `white` and the percentage that have `college` degrees?\n\n>**Your turn:**  \nCreate a regression plot showing the effect of `college` vs. `white` in the **Republican** primary. Don't forget to **compute the correlation**!",
      "metadata": {
        "tags": [],
        "cell_id": "00079-f22b5c3e-4d7f-4967-83ee-d5964f8d4252",
        "deepnote_cell_type": "markdown"
      }
    },
    {
      "cell_type": "code",
      "metadata": {
        "tags": [],
        "deepnote_to_be_reexecuted": true,
        "source_hash": "8814b3f4",
        "output_cleared": true,
        "cell_id": "00080-a75be119-3cda-4e16-b192-c2ab022d2293",
        "deepnote_cell_type": "code"
      },
      "source": "### Enter your code below: ###\n\n\n\n##############################",
      "execution_count": null,
      "outputs": []
    },
    {
      "cell_type": "code",
      "metadata": {
        "tags": [],
        "deepnote_to_be_reexecuted": true,
        "source_hash": "aab5f592",
        "execution_millis": 365,
        "output_cleared": true,
        "is_code_hidden": true,
        "cell_id": "00081-86f6937f-b198-4b0e-b22e-f24175ce3a23",
        "deepnote_cell_type": "code"
      },
      "source": "# Solution\n\n# sns.regplot(data=rep, x='white', y='college')  # college = m*(white) + b\n# rep.college.corr(rep.white)",
      "execution_count": null,
      "outputs": []
    },
    {
      "cell_type": "markdown",
      "source": "In the plot above, we can see that the regression lines are essentially flat and likewise there is very little correlation between `white` and `college`.\n\nNow let's see an example where a plot appears to have a correlation, but is actually invalid.\n\n>**Your turn:**  \nCreate a regression plot showing the effect of `college` vs. `female`, the percentage of females in a county, in the **Republican** primary. As always, **compute the correlation coefficient** too.",
      "metadata": {
        "tags": [],
        "cell_id": "00082-4db6948e-ace5-4a1c-87aa-f8cf056656a8",
        "deepnote_cell_type": "markdown"
      }
    },
    {
      "cell_type": "code",
      "metadata": {
        "tags": [],
        "deepnote_to_be_reexecuted": true,
        "source_hash": "8814b3f4",
        "output_cleared": true,
        "cell_id": "00083-d0e69918-c0dc-49f2-9994-999c67996f56",
        "deepnote_cell_type": "code"
      },
      "source": "### Enter your code below: ###\n\n\n\n##############################",
      "execution_count": null,
      "outputs": []
    },
    {
      "cell_type": "code",
      "metadata": {
        "tags": [],
        "deepnote_to_be_reexecuted": true,
        "source_hash": "8de9a84b",
        "execution_millis": 381,
        "output_cleared": true,
        "is_code_hidden": true,
        "cell_id": "00084-e119db31-bad8-431e-84ef-c128875012a4",
        "deepnote_cell_type": "code"
      },
      "source": "# Solution\n\n# sns.regplot(data=rep, x='female', y='college')\n# rep.female.corr(rep.college)",
      "execution_count": null,
      "outputs": []
    },
    {
      "cell_type": "markdown",
      "source": "As you can see, there exists a moderate ($\\rho \\approx 0.2$) positive correlation between the two features. However, you can also see that most of the data are centered on one portion of the x-axis and do not follow the line very well. In more advanced settings, you would need to perform a number of statistical tests to ensure the validity of the regression. In short, **the regression above is a poor fit and its result is invalid**. Be careful when making inferences about regression lines and always check the plots & correlation coefficents!",
      "metadata": {
        "tags": [],
        "cell_id": "00085-4576d421-d68d-4af0-b21f-0c603bf11781",
        "deepnote_cell_type": "markdown"
      }
    },
    {
      "cell_type": "markdown",
      "source": "<!-- In many of the cases, if we had just looked at the plain scatter plot we might have thought there is a negative correlation between `college` and `black`. However, the scatter plot somewhat obscures the density of data points in the left of the plot. There are many counties that have a very low proportion of blacks and in these cases it appears that college attainment is independent of the proportion of blacks in the population.\n\nWe can try excluding these counties to better answer our question. It might not make sense to include counties with no blacks to see if being black has an effect on college attainment. We'll revisit this problem in the next part on data manipulation and learn how we can subset the data to exclude these counties. -->\n\nEarlier we also mentioned that regression plots are not symmetric. They estimate the effect of the `x` variable on `y`, and not the other way around.\n\n>**Your turn:**  \nLet's revisit our last plot and try swapping the `x` and `y` variables. Can you plot the effect of `college` on `female`?",
      "metadata": {
        "tags": [],
        "cell_id": "00086-1925bd1d-52df-47f4-bd4a-10f4eb78effa",
        "deepnote_cell_type": "markdown"
      }
    },
    {
      "cell_type": "code",
      "metadata": {
        "tags": [],
        "deepnote_to_be_reexecuted": true,
        "source_hash": "8814b3f4",
        "execution_millis": 0,
        "output_cleared": true,
        "cell_id": "00087-59517199-bc1c-4f58-be94-d3f9e004c38a",
        "deepnote_cell_type": "code"
      },
      "source": "### Enter your code below: ###\n\n\n\n##############################",
      "execution_count": null,
      "outputs": []
    },
    {
      "cell_type": "code",
      "metadata": {
        "tags": [],
        "deepnote_to_be_reexecuted": true,
        "source_hash": "58b1dccf",
        "execution_millis": 4,
        "is_code_hidden": true,
        "output_cleared": true,
        "cell_id": "00088-f73bfa05-a0c2-4b49-9c30-168a516c89c5",
        "deepnote_cell_type": "code"
      },
      "source": "# Solution\n\n# sns.regplot(data=rep, x='college', y='female');",
      "execution_count": null,
      "outputs": []
    },
    {
      "cell_type": "markdown",
      "source": "Before we even try to interpret this plot, let's think about the question it's trying to answer. Does it make sense to ask whether college attainment has an effect on being female?\n\nThis question seems ill-posed since someone's biological sex is determined long before they graduate college. When creating regression plots it's important to use your prior knowledge to justify the x vs. y relationship you're investigating. Otherwise, you might end up with non-sensical results.",
      "metadata": {
        "tags": [],
        "cell_id": "00089-6214c80f-e409-4c98-939d-cc6fd27ce5a3",
        "deepnote_cell_type": "markdown"
      }
    },
    {
      "cell_type": "markdown",
      "source": "### Box Plots\n\n![](.images/boxandwhisk.png)\n<!-- <img src=\".images/boxandwhisk.png\" style=\"width:70%; margin: auto;\"> -->\n\nBox plots (aka box & whisker plots) show a high-level summary of what values your data has. It includes information about where the \"middle\" of your data is, where the central 50% is, and how spread out the values are. All of this provides a quantitative description of the distribution of your data. Take a look at the diagram of a box plot below.\n\n<img src='https://miro.medium.com/max/18000/1*2c21SkzJMf3frPXPAR_gZA.png' width=80% style=\"margin:auto\">\n\nIn the center you can see the median of the data as a yellow line. The box surrounding the median is the interquartile range (IQR) where 50% of the data is. The \"whiskers\" extend out to 1.5 times the IQR (or the true minimum/maximum, whichever is closer to the median). Finally, any data points outside the whiskers are considered outliers and plotted individually.\n\nFor a more in-depth explanation check out this [article](https://towardsdatascience.com/understanding-boxplots-5e2df7bcbd51).\n\nTo start, let's use a boxplot to get an summary of some of a feature in our data. **In the cell below** we use `boxplot()` from `seaborn` to generate a box plot of the feature, `children`, the percentage of the population <18.",
      "metadata": {
        "tags": [],
        "cell_id": "00090-0b6c497b-26a3-4c1e-90a6-ec3674160bc5",
        "deepnote_cell_type": "markdown"
      }
    },
    {
      "cell_type": "code",
      "metadata": {
        "tags": [],
        "deepnote_to_be_reexecuted": true,
        "source_hash": "aa0c7bab",
        "execution_millis": 247,
        "output_cleared": true,
        "cell_id": "00091-439aad2d-bad4-4e68-830b-b0ed1a1bbe3f",
        "deepnote_cell_type": "code"
      },
      "source": "# Run this cell!\n\nsns.boxplot(data=rep, x='children');",
      "execution_count": null,
      "outputs": []
    },
    {
      "cell_type": "markdown",
      "source": "We can see that the median county is about 22.5% children, and 50% of counties are between 20% and 25% children. Furthermore, almost all counties have a proportion of children between 15% and 30% with a few more outliers with more than 30% and just a handful less than 15%.\n\nWith just one feature plotted, box plots don't provide much more information than that. However, we can also split up or group a feature by another. Check out the plot below.",
      "metadata": {
        "tags": [],
        "cell_id": "00092-1fc87f02-3c21-4351-8f33-5d3ca8dde231",
        "deepnote_cell_type": "markdown"
      }
    },
    {
      "cell_type": "code",
      "metadata": {
        "tags": [],
        "deepnote_to_be_reexecuted": true,
        "source_hash": "e186c412",
        "execution_millis": 314,
        "output_cleared": true,
        "cell_id": "00093-262e7078-fd65-4925-8f5e-e67940262585",
        "deepnote_cell_type": "code"
      },
      "source": "# Run this cell!\n\n# Horizontal box plot\nsns.boxplot(x = 'income', y = 'winner', data = rep);",
      "execution_count": null,
      "outputs": []
    },
    {
      "cell_type": "markdown",
      "source": "We used the **`sns.boxplot()`** function to create the box plots above. It has similar arguments to the scatter and regression plot functions.\n\nOne axis must be numeric and the other must be categorical\n- `x`, `y`: variables in the dataframe that correspond to the respective `x` and `y` axes.\n- `data`: name of the dataframe\n\nThe `x` and `y` axes can be interchanged depending on if you want a horizontally or vertically oriented box plot.\n\nThe second plot has grouped the `income` feature by the winning candidates. In other words, we've created box plots of the `income` feature for counties won by each Republican candidate. The box plot in blue is the income of counties Donald Trump won, the orange box plot is the income of counties Ted Cruz won, and so on. Now we can tell that there is a difference between the income of counties that each candidate won. Marco Rubio's counties stand out in particular: he won counties with higher incomes than the other candidates.\n\n>**Your turn:**  \nChange the plot above to be vertical instead.  \nHint: try swapping the `x` and `y` arguments.",
      "metadata": {
        "tags": [],
        "cell_id": "00094-2a8140a2-4803-4c26-b10a-2896804a282f",
        "deepnote_cell_type": "markdown"
      }
    },
    {
      "cell_type": "code",
      "metadata": {
        "tags": [],
        "deepnote_to_be_reexecuted": true,
        "source_hash": "b983f3c5",
        "execution_millis": 1,
        "output_cleared": true,
        "cell_id": "00095-3d26dcf7-02b9-4765-aafb-0a1b744835da",
        "deepnote_cell_type": "code"
      },
      "source": "# Vertical box plot\n\n### Enter your code below: ###\n\n\n\n##############################",
      "execution_count": null,
      "outputs": []
    },
    {
      "cell_type": "code",
      "metadata": {
        "tags": [],
        "is_code_hidden": true,
        "deepnote_to_be_reexecuted": true,
        "source_hash": "4773c1d9",
        "execution_millis": 7,
        "output_cleared": true,
        "cell_id": "00096-5fed5b7e-b151-4b7d-88b1-5680c1944303",
        "deepnote_cell_type": "code"
      },
      "source": "# sns.boxplot(x = 'winner', y = 'income', data = rep);",
      "execution_count": null,
      "outputs": []
    },
    {
      "cell_type": "markdown",
      "source": "Let's create one last box plot before we move on. Notice that we've been plotting the `income` feature in the plots above. If you'll recall the scatter plots we made earlier, remember that `income` had a positive correlation with `college`. Create a box plot showing `college` for each winning candidate. What pattern do you expect to see?",
      "metadata": {
        "tags": [],
        "cell_id": "00097-4dad953d-52aa-49b5-82cd-54111a601aba",
        "deepnote_cell_type": "markdown"
      }
    },
    {
      "cell_type": "code",
      "metadata": {
        "tags": [],
        "deepnote_to_be_reexecuted": true,
        "source_hash": "8814b3f4",
        "execution_millis": 3,
        "output_cleared": true,
        "cell_id": "00098-acbfd287-5e6e-44a2-b814-57d70a2b7149",
        "deepnote_cell_type": "code"
      },
      "source": "### Enter your code below: ###\n\n\n\n##############################",
      "execution_count": null,
      "outputs": []
    },
    {
      "cell_type": "code",
      "metadata": {
        "tags": [],
        "is_code_hidden": true,
        "deepnote_to_be_reexecuted": true,
        "source_hash": "92e966a6",
        "execution_millis": 1,
        "output_cleared": true,
        "cell_id": "00099-8b22a020-cd9e-4333-afbe-c0bc129c5a57",
        "deepnote_cell_type": "code"
      },
      "source": "# sns.boxplot(data=rep, x='college', y='winner')\n\n# Since income and college are correlated, we should expect to see the same pattern in the income\n# and college box plots. Specifically, the pattern where Marco Rubio won higher income\n# counties should also appear with college attainment.",
      "execution_count": null,
      "outputs": []
    },
    {
      "cell_type": "markdown",
      "source": "### Choropleths\n\nChoropleths show data on maps. Since we're working with United States voting data, it will be very useful to see our data in a geographical context. Choropleths will let us see patterns in the data that might be due to geography and answer the question of **\"where?\"**\n\nFor example, where do most people in the United States live? We can use a choropleth to answer this by plotting population across the United States.\n\nRun the cell below to visualize the populations of all states in the Republican primary dataset using the `choropleth()` function.",
      "metadata": {
        "tags": [],
        "cell_id": "00100-eac760c6-04ec-446a-a31f-dca7c883417d",
        "deepnote_cell_type": "markdown"
      }
    },
    {
      "cell_type": "code",
      "metadata": {
        "tags": [],
        "deepnote_to_be_reexecuted": true,
        "source_hash": "e57f846f",
        "execution_millis": 1956,
        "output_cleared": true,
        "cell_id": "00101-8e64535d-b9f8-4fd1-82ee-e4a26eb3e06d",
        "deepnote_cell_type": "code"
      },
      "source": "# Run this cell!\n\nchoropleth(rep_st, 'population')",
      "execution_count": null,
      "outputs": []
    },
    {
      "cell_type": "markdown",
      "source": "In the code above we used the choropleth function to plot the population of each state in `rep_st` onto a map of the United States. The choropleth function takes just two parameters: the dataset we want to plot and the name of the feature we want to show.\n\nIn this example we gave it `rep_st` as the dataset, so it plotted state-level features. What would happen if we passed a county level dataset instead?\n\n**Interpretation:** What are the most populous states? Where are they? Why are they the most populous? What else might you infer about these states just based on their population?\n\n**Your turn:** Can you use a choropleth to plot the populations of each county?\n\n>**Field Notes:**  \nYou may have noticed that there is no data for several states (they're greyed out). This is because the voting data we are working with was only collected roughly up until a winner could be determined. Thus, some counties and states that voted later in the election were excluded. If you'd like access to the full census data let us know and we can provide you the additional files.",
      "metadata": {
        "tags": [],
        "cell_id": "00102-e9d92a2d-f9c2-4ee6-8436-0f34cc683033",
        "deepnote_cell_type": "markdown"
      }
    },
    {
      "cell_type": "code",
      "metadata": {
        "tags": [],
        "deepnote_to_be_reexecuted": true,
        "source_hash": "3dbf6726",
        "execution_millis": 0,
        "output_cleared": true,
        "cell_id": "00103-6ecd3b45-e73b-415f-bdf0-b1e00bd7b1ac",
        "deepnote_cell_type": "code"
      },
      "source": "### Enter your code below: ###\n\n\n\n# This cell might take a few seconds to finish!\n#############################",
      "execution_count": null,
      "outputs": []
    },
    {
      "cell_type": "code",
      "metadata": {
        "tags": [],
        "is_output_hidden": false,
        "is_code_hidden": true,
        "deepnote_to_be_reexecuted": true,
        "source_hash": "e9ff6ea2",
        "execution_millis": 0,
        "output_cleared": true,
        "cell_id": "00104-09c4d81a-876e-4413-a022-bd7bf3f958e1",
        "deepnote_cell_type": "code"
      },
      "source": "# choropleth(rep, 'population')",
      "execution_count": null,
      "outputs": []
    },
    {
      "cell_type": "markdown",
      "source": "# 3. Cleaning the Data Panda-Monium\n<p style='font-size:30px'>Data Manipulation</p>",
      "metadata": {
        "tags": [],
        "cell_id": "00105-5e6a6486-fed4-48bc-8ffd-aac48837b096",
        "deepnote_cell_type": "markdown"
      }
    },
    {
      "cell_type": "markdown",
      "source": "![](.images/clean.jpeg)",
      "metadata": {
        "tags": [],
        "cell_id": "00106-d9bb34f6-01a5-4895-85ee-4fd3c279c3bc",
        "deepnote_cell_type": "markdown"
      }
    },
    {
      "cell_type": "markdown",
      "source": "To help with data manipulation we're going to take a closer look at another Python library, `pandas`. Luckily you've already been using `pandas` this whole time! In part **0. `import data_science`** we loaded all of our data in as `pandas` DataFrame objects and have been passing them as arguments to `seaborn` and `plotly` for visualization.\n\nWe imported pandas like this:\n```python\nimport pandas as pd\n```\nso now we can reference `pandas` by its alias `pd`.\n\n`pandas` is a Python library that makes it easier for us to clean and organize data for analysis and visualization. There are several functions that `pandas` has for dataframes that are extremely useful for this project.",
      "metadata": {
        "tags": [],
        "cell_id": "00107-bae6e0c2-30d2-4fec-b292-7405c5b4271c",
        "deepnote_cell_type": "markdown"
      }
    },
    {
      "cell_type": "markdown",
      "source": "![](.images/sad_panda.jpg)\n\n<!-- <img src='.images/sad_panda.jpg' style=\"margin-left:auto; margin-right:auto;\" width=50%> -->",
      "metadata": {
        "tags": [],
        "cell_id": "00108-297fe392-fd02-4d78-a445-3f4df00e850e",
        "deepnote_cell_type": "markdown"
      }
    },
    {
      "cell_type": "markdown",
      "source": "## Selecting Features\n\nEarlier, we briefly touched on how to select features (or columns) from a dataframe, but here's a quick refresher.\n\nThe following lines of code are all equivalent and select a single feature called `column_name` from a dataframe, `df`:\n\n```python\ndf.get('column_name')\ndf['column_name']\ndf.column_name\n```\n\nLet's say we want to look at individual columns. For example, if we use `rep.get('income')` or `rep['income']`, we will see the income column of the `rep` dataframe.\n\n>**Your Turn:**  \nLet's try it with another column. Can you view the `'population'` column of `rep`?",
      "metadata": {
        "tags": [],
        "cell_id": "00109-1f9ae5ca-25b6-4485-b6d8-0c9efe8eea60",
        "deepnote_cell_type": "markdown"
      }
    },
    {
      "cell_type": "code",
      "metadata": {
        "tags": [],
        "deepnote_to_be_reexecuted": true,
        "source_hash": "8814b3f4",
        "execution_millis": 14,
        "output_cleared": true,
        "cell_id": "00110-995be851-3cef-42fe-b9b1-e4c658adc07e",
        "deepnote_cell_type": "code"
      },
      "source": "### Enter your code below: ###\n\n\n\n##############################",
      "execution_count": null,
      "outputs": []
    },
    {
      "cell_type": "code",
      "metadata": {
        "tags": [],
        "deepnote_to_be_reexecuted": true,
        "source_hash": "31780209",
        "execution_millis": 9,
        "is_code_hidden": true,
        "output_cleared": true,
        "cell_id": "00111-8e0db32f-e768-42b7-af74-de25a67fc205",
        "deepnote_cell_type": "code"
      },
      "source": "# Solution:\n\n# rep.get('population')\n\n# or\n# rep['population']\n\n# or\n# rep.population",
      "execution_count": null,
      "outputs": []
    },
    {
      "cell_type": "markdown",
      "source": "The `get()` function and bracket notation are useful when you want to see some data of a specified column. When you call this function on a dataframe, you can see the first and last 5 rows of the specified column.",
      "metadata": {
        "tags": [],
        "cell_id": "00112-21d0b990-af4c-4e7c-a6a8-f6d7886a27fd",
        "deepnote_cell_type": "markdown"
      }
    },
    {
      "cell_type": "markdown",
      "source": "## Selecting Observations\nWhat if we only wanted to look at one specific row or number of rows?",
      "metadata": {
        "tags": [],
        "cell_id": "00113-3ad2c4ca-9db5-499a-bc95-c30dfefc1b62",
        "deepnote_cell_type": "markdown"
      }
    },
    {
      "cell_type": "code",
      "metadata": {
        "tags": [],
        "deepnote_to_be_reexecuted": true,
        "source_hash": "ea0ead8b",
        "execution_millis": 71,
        "output_cleared": true,
        "cell_id": "00114-b3c737b0-e198-493e-b69c-cc1ee5a2e6e1",
        "deepnote_cell_type": "code"
      },
      "source": "# Run this cell!\n# Output the first row (index 0) of the dataframe\nrep.iloc[0]",
      "execution_count": null,
      "outputs": []
    },
    {
      "cell_type": "code",
      "metadata": {
        "tags": [],
        "deepnote_to_be_reexecuted": true,
        "source_hash": "22f25586",
        "output_cleared": true,
        "cell_id": "00115-66d25b38-8d1d-44f7-a79e-b447881a003d",
        "deepnote_cell_type": "code"
      },
      "source": "# You can also access a number or rows!\n# 1st and 6th row (index 0 and 5, respectively)\nrep.iloc[[0,5]]",
      "execution_count": null,
      "outputs": []
    },
    {
      "cell_type": "code",
      "metadata": {
        "tags": [],
        "deepnote_to_be_reexecuted": true,
        "source_hash": "45b65b86",
        "output_cleared": true,
        "cell_id": "00116-f509c59f-e7a5-4aaf-acea-4cd4114a2561",
        "deepnote_cell_type": "code"
      },
      "source": "# 1st three rows\nrep.iloc[:3]",
      "execution_count": null,
      "outputs": []
    },
    {
      "cell_type": "markdown",
      "source": "The `iloc` function accesses and returns groups of rows and/or columns by index integers. Remember, Python is 0-indexed so if you want to access the nth row, you access the (n-1)th position.\n\n>**Your turn:**  \nGet the 10th row of the `rep` dataframe.",
      "metadata": {
        "tags": [],
        "cell_id": "00117-cd28ec65-42fd-44e1-a83a-ed1e11cc41f8",
        "deepnote_cell_type": "markdown"
      }
    },
    {
      "cell_type": "markdown",
      "source": "Now see if you can try and get the 10th row of the `rep` dataframe.",
      "metadata": {
        "tags": [],
        "cell_id": "00118-a85a6e2c-137e-4333-a4b8-338760a14a9e",
        "deepnote_cell_type": "markdown"
      }
    },
    {
      "cell_type": "code",
      "metadata": {
        "tags": [],
        "deepnote_to_be_reexecuted": true,
        "source_hash": "8814b3f4",
        "execution_millis": 0,
        "output_cleared": true,
        "cell_id": "00119-8deaa538-b02f-43ab-a7c6-fc57f2bf18db",
        "deepnote_cell_type": "code"
      },
      "source": "### Enter your code below: ###\n\n\n\n##############################",
      "execution_count": null,
      "outputs": []
    },
    {
      "cell_type": "code",
      "metadata": {
        "tags": [],
        "is_code_hidden": true,
        "deepnote_to_be_reexecuted": true,
        "source_hash": "b1723782",
        "execution_millis": 2,
        "output_cleared": true,
        "cell_id": "00120-adcd10f0-cb5b-4c7d-9489-cffdf8f78bbe",
        "deepnote_cell_type": "code"
      },
      "source": "# rep.iloc[9]\n# or use double brackets to view horizontally",
      "execution_count": null,
      "outputs": []
    },
    {
      "cell_type": "markdown",
      "source": "## Selecting Observations based on Conditions\n\n<p style='font-size:20px'>...and more plotting options!</p>",
      "metadata": {
        "tags": [],
        "cell_id": "00121-e877e142-541a-485b-82cb-58e0c8323d3b",
        "deepnote_cell_type": "markdown"
      }
    },
    {
      "cell_type": "markdown",
      "source": "We can select rows based on a condition. Let's say we only wanted to view counties with an income of less than $30,000. We can do this by utilizing `get()` or brackets to\nfilter rows that meet this requirement.",
      "metadata": {
        "tags": [],
        "cell_id": "00122-9e16f24a-464c-4d16-9e3a-8907647191e3",
        "deepnote_cell_type": "markdown"
      }
    },
    {
      "cell_type": "code",
      "metadata": {
        "tags": [],
        "deepnote_to_be_reexecuted": true,
        "source_hash": "7af5959f",
        "execution_millis": 193,
        "output_cleared": true,
        "cell_id": "00123-0ea13740-f4b1-451e-80d5-5833f5e6af34",
        "deepnote_cell_type": "code"
      },
      "source": "# Run this cell!\nrep.get(rep.get('income') < 30000)\n\n# or\n# rep[rep['income'] < 30000]\n\n# or\n# rep[rep.income < 30000]",
      "execution_count": null,
      "outputs": []
    },
    {
      "cell_type": "markdown",
      "source": "We can now plot subsets of data to, for example, highlight a specific subset of data in a plot.\n\nIn the cells below, we're going to do exactly this by stacking **two plots together**. Namely,\n\n1. A scatterplot of `college` vs. `income` of all counties in `rep`\n2. A scatterplot of `college` vs. `income` of just counties with income < 30,000 in `rep`\n\nFinally, we'll add a legend. Let's take it one plot at a time and when we're done we'll have something like this:\n\n![](.images/low_income.png)\n\n>**Your turn**:  \nCreate a scatter plot with `x=income` and `y=college` for just counties with income < 30,000 in `rep`. It should look like this:\n![](.images/just_low_income.png)",
      "metadata": {
        "tags": [],
        "cell_id": "00124-54e46857-9b47-4c1b-968c-b74a5b5c4968",
        "deepnote_cell_type": "markdown"
      }
    },
    {
      "cell_type": "code",
      "metadata": {
        "tags": [],
        "deepnote_to_be_reexecuted": true,
        "source_hash": null,
        "execution_millis": 420,
        "output_cleared": true,
        "cell_id": "00125-4f64c1b0-6864-495d-8609-bcb418938d1a",
        "deepnote_cell_type": "code"
      },
      "source": "### Enter your code below: ###\n\n\n\n##############################",
      "execution_count": null,
      "outputs": []
    },
    {
      "cell_type": "code",
      "metadata": {
        "tags": [],
        "is_code_hidden": true,
        "deepnote_to_be_reexecuted": false,
        "source_hash": "fafaa057",
        "execution_millis": 407,
        "execution_start": 1619146491193,
        "output_cleared": true,
        "cell_id": "00126-4dcca87f-8849-4c0f-934d-37819d729edf",
        "deepnote_cell_type": "code"
      },
      "source": "# Solution\nlow_income = rep[rep.income < 30000]\nsns.scatterplot(data=low_income, x='income', y='college');",
      "execution_count": null,
      "outputs": []
    },
    {
      "cell_type": "markdown",
      "source": "Now, we can add a plot to this figure by calling a plotting function like `scatterplot()` **in the same cell**.\n\n>**Your turn**:  \nAdd your old scatter plot with `income` on the x-axis and `college` on the y-axis for counties in `rep`. The one that looked like this:\n![](.images/college_v_income.png)\n",
      "metadata": {
        "tags": [],
        "cell_id": "00127-026f591c-96ad-4533-bf80-9d44eca8311f",
        "deepnote_cell_type": "markdown"
      }
    },
    {
      "cell_type": "code",
      "metadata": {
        "tags": [],
        "deepnote_to_be_reexecuted": true,
        "source_hash": "232b1a79",
        "output_cleared": true,
        "cell_id": "00128-077ef8a4-d82c-4286-8f18-b567a8e95c44",
        "deepnote_cell_type": "code"
      },
      "source": "# Copy and paste your code from the last plot here:\n\n\n### Now add the new plot below: ###\n\n\n\n###################################",
      "execution_count": null,
      "outputs": []
    },
    {
      "cell_type": "code",
      "metadata": {
        "tags": [],
        "deepnote_to_be_reexecuted": false,
        "source_hash": "ca73fb15",
        "is_code_hidden": true,
        "execution_start": 1619146524701,
        "execution_millis": 239,
        "output_cleared": true,
        "cell_id": "00129-274336d4-a070-43fe-9de9-e5e7651ca4f1",
        "deepnote_cell_type": "code"
      },
      "source": "# Solution\n# low_income = rep[rep.income < 30000]\n# sns.scatterplot(data=low_income, x='income', y='college')\n# sns.scatterplot(data=rep, x='income', y='college');",
      "execution_count": null,
      "outputs": []
    },
    {
      "cell_type": "markdown",
      "source": "**_Wait a minute, why is everything orange?! And where's the low income data?_**\n\nIt turns out that **order matters** when combining consecutive plots. New plots will be stacked on top of old ones and cover up anything from older plots.\n\n>**Your turn:**  \nChange the plotting order so that you show the low income data last!",
      "metadata": {
        "tags": [],
        "cell_id": "00130-4125b43e-acc9-4f66-8980-460c0d218a79",
        "deepnote_cell_type": "markdown"
      }
    },
    {
      "cell_type": "code",
      "metadata": {
        "tags": [],
        "output_cleared": true,
        "cell_id": "00131-0df19ce6-f67d-4ff8-aad5-742538ad8b27",
        "deepnote_cell_type": "code"
      },
      "source": "### Enter your code below: ###\n\n\n\n##############################",
      "execution_count": null,
      "outputs": []
    },
    {
      "cell_type": "code",
      "metadata": {
        "tags": [],
        "is_code_hidden": true,
        "output_cleared": true,
        "cell_id": "00132-7dfdfbcf-e9d1-4164-aa26-284df7169d6e",
        "deepnote_cell_type": "code"
      },
      "source": "# Solution\n# sns.scatterplot(data=rep, x='income', y='college')\n# low_income = rep[rep.income < 30000]\n# sns.scatterplot(data=low_income, x='income', y='college');",
      "execution_count": null,
      "outputs": []
    },
    {
      "cell_type": "markdown",
      "source": "**Much better!**\n\n![](.images/hidethedata_small.png)\n\nNotice that **data from the new plot has a different color** than the first plot. The first plot is blue and the second is orange. Seaborn and Matplotlib automatically change the colors of consecutive plots using a default color cycle.",
      "metadata": {
        "tags": [],
        "cell_id": "00133-96c297c7-4423-4b68-87ca-218eda69f515",
        "deepnote_cell_type": "markdown"
      }
    },
    {
      "cell_type": "markdown",
      "source": "![](.images/MPL_default_colors.png)",
      "metadata": {
        "tags": [],
        "cell_id": "00134-6a1ad959-964e-4622-a691-d56b0d46c335",
        "deepnote_cell_type": "markdown"
      }
    },
    {
      "cell_type": "markdown",
      "source": "You can directly use the default colors by their names `'C0'`, `'C1'`, `'C2'`, and so on. Most `seaborn` plotting functions accept a `color` argument that you can specify like this:\n```python\nsns.scatterplot(..., color='C3')\nsns.scatterplot(..., color='C4');\n# The ellipsis is the other required arguments like data=rep, x='income', etc.\n```\n\nWe've changed the colors of the plots below, go ahead and edit the cell to try changing the colors yourself too!",
      "metadata": {
        "tags": [],
        "cell_id": "00135-b5b10955-d1a0-424d-a520-7eb1ce62a519",
        "deepnote_cell_type": "markdown"
      }
    },
    {
      "cell_type": "code",
      "metadata": {
        "tags": [],
        "deepnote_to_be_reexecuted": false,
        "source_hash": "bbd28248",
        "execution_start": 1619144458986,
        "execution_millis": 245,
        "output_cleared": true,
        "cell_id": "00136-b70aa51f-f336-474e-8e22-e920ace8cac9",
        "deepnote_cell_type": "code"
      },
      "source": "# Run this cell!\n\n# Notice the new argument for scatterplot: color\n\nsns.scatterplot(data=rep, x='income', y='college', color='C8')\nlow_income = rep[rep.income < 30000]\nsns.scatterplot(data=low_income, x='income', y='college', color='C9');",
      "execution_count": null,
      "outputs": []
    },
    {
      "cell_type": "markdown",
      "source": "We should **add a legend** to indicate what the colors mean. The `scatterplot()` function and many other seaborn functions (including every plot in this kit) have a `label` parameter to help with this. The syntax looks like this:\n```python\nsns.scatterplot(..., label='label 1')\nsns.scatterplot(..., label='label 2');\n# The ellipsis is the other normal arguments like data=rep, x='income', etc.\n```\nThis would create a scatter plot with a legend showing points from the first plot as 'label 1' and points from the second plot as 'label 2'.\n\n>**Your turn**:  \nUse the `label` parameter to add an informative legend to the figure you've made so far.",
      "metadata": {
        "tags": [],
        "cell_id": "00137-365f1a23-1934-41da-8074-a0602aa968fc",
        "deepnote_cell_type": "markdown"
      }
    },
    {
      "cell_type": "code",
      "metadata": {
        "tags": [],
        "deepnote_to_be_reexecuted": true,
        "source_hash": "8814b3f4",
        "output_cleared": true,
        "cell_id": "00138-208d10bb-da30-47e9-9965-cc1401edf9ac",
        "deepnote_cell_type": "code"
      },
      "source": "### Enter your code below: ###\n\n\n\n##############################",
      "execution_count": null,
      "outputs": []
    },
    {
      "cell_type": "code",
      "metadata": {
        "tags": [],
        "deepnote_to_be_reexecuted": false,
        "source_hash": "485f5ca4",
        "execution_millis": 6,
        "is_code_hidden": true,
        "execution_start": 1618883643546,
        "output_cleared": true,
        "cell_id": "00139-61c55d6a-a992-418e-b329-5a2d827865ce",
        "deepnote_cell_type": "code"
      },
      "source": "# Solution\n# sns.scatterplot(data=rep, x='income', y='college', label='All')\n# low_income = rep[rep.income < 30000]\n# sns.scatterplot(data=low_income, x='income', y='college', label='Income < 30,000');",
      "execution_count": null,
      "outputs": []
    },
    {
      "cell_type": "markdown",
      "source": "Great job! Hopefully it's clear now how you can subset your data for more targeted visualizations and analysis.",
      "metadata": {
        "tags": [],
        "cell_id": "00140-174f1122-d171-4c67-b89c-e4fd304d96d6",
        "deepnote_cell_type": "markdown"
      }
    },
    {
      "cell_type": "markdown",
      "source": "There are also several other boolean operators you can use to subset your data based on conditions.\n\n**Boolean Operators:** used to compare numeric values.\n* `<`: less than\n    - Example: `rep['income'] < 30000`\n* `>`: greater than\n    - Example: `rep['income'] > 30000`\n* `==`: equal to\n    - Example: `rep['income'] == 30000`\n* `<=`: less than or equal to\n    - Example: `rep['income'] <= 30000`\n* `>=`: greater than or equal to\n    - Example: `rep['income'] >= 30000`\n\n**Combining operators/conditions:**\n* `|`: OR, used to match either condition or both\n    - Example: `(rep['income'] < 30000) | (rep['income'] > 60000)`\n    - Will match counties where the median income is either less than \\$30,000 or greater than \\$60,000.\n* `&`: AND, used to match both conditions\n    - Example: `(rep['income'] < 30000) & (rep['college'] > 15)`\n    - Will match counties where the median income is less than \\$30,000 and more than 15% of population has a college degree.\n\n>**Important Note!** When combining conditions each condition must be wrapped with parentheses `()`!",
      "metadata": {
        "tags": [],
        "cell_id": "00141-90d6d3f9-282a-42ce-a831-3ac2a28072cd",
        "deepnote_cell_type": "markdown"
      }
    },
    {
      "cell_type": "markdown",
      "source": "Now let's try creating a data visualization using more complex boolean operators and conditional statements. When we're done we'll have a plot like this:\n\n![](.images/black_v_white_filtered.png)\n\n>**Your turn**:  \nWe'll work with a plot from earlier. Create a `scatterplot()` comparing `black` vs. `white` in counties from the **Democratic** primary. Color the points by the `winner` of each county. It should look like this:\n![](.images/black_v_white_dem.png)",
      "metadata": {
        "tags": [],
        "cell_id": "00142-7b220f04-f5c2-4c30-8747-0cf6e118cacc",
        "deepnote_cell_type": "markdown"
      }
    },
    {
      "cell_type": "code",
      "metadata": {
        "tags": [],
        "deepnote_to_be_reexecuted": true,
        "source_hash": "8814b3f4",
        "execution_millis": 1,
        "output_cleared": true,
        "cell_id": "00143-01c17d04-b64a-4726-b573-7a9d468b9046",
        "deepnote_cell_type": "code"
      },
      "source": "### Enter your code below: ###\n\n\n\n##############################",
      "execution_count": null,
      "outputs": []
    },
    {
      "cell_type": "code",
      "metadata": {
        "tags": [],
        "deepnote_to_be_reexecuted": false,
        "source_hash": "1b4c23a6",
        "execution_millis": 270,
        "is_code_hidden": true,
        "execution_start": 1618882225155,
        "output_cleared": true,
        "cell_id": "00144-43b33dc1-fd83-4d10-85f7-48e0544b9636",
        "deepnote_cell_type": "code"
      },
      "source": "# Solution\n# sns.scatterplot(data=dem, x='white', y='black', hue='winner');",
      "execution_count": null,
      "outputs": []
    },
    {
      "cell_type": "markdown",
      "source": "As we noticed earlier, this plot is interesting because it has two \"arms\" stretching out from the bottom right with almost no counties in between. Furthermore, a large proportion of Hillary's counties are in the upper arm.\n\n**We'd like to pick out counties in the upper arm that Hillary won for further analysis.**\n\nHow can we do this? We could imagine drawing a line to cut off the bottom arm and select it that way, but this would also select the counties falling in between the arms. Something like this:\n\n![](.images/black_v_white_dem_simple_cut.png)\n\nInstead, we can draw a line through the plot of the form $ y > mx + b$ to pick out everything above that line. Like so:\n\n![](.images/black_v_white_dem_diag_cut.png)",
      "metadata": {
        "tags": [],
        "cell_id": "00145-186abcde-40db-482c-8162-8ab42c66d797",
        "deepnote_cell_type": "markdown"
      }
    },
    {
      "cell_type": "markdown",
      "source": "Let's get an expression to select the upper arm. \n\nWe'll start with the equation of a line:\n\n$$ y > mx + b $$\n\nBased on our plot's axes, we know `black` is the y variable and `white` is the x variable.\n\n$$ \\text{black} > m\\cdot\\text{white} + b $$\n\nNow we just need to figure out what $m$ and $b$ should be. We can pick two points we want the line to connect and get an expression. We'll use $(0, 50)$ and $(50, 0)$.\n\n$$ \\text{black} - 50 = \\frac{0 - 50}{50 - 0}(\\text{white} - 0) $$\n\n$$ \\text{black} - 50 = \\frac{-50}{50}\\cdot \\text{white} $$\n\n$$ \\text{black} = -1 \\cdot \\text{white} + 50 $$\n\n$$ \\text{black} + \\text{white} > 50 $$\n\nand more generally,\n\n$$ \\text{black} + \\text{white} > \\text{threshold} $$\n\nIntuitively, this filter let's us select counties that are exclusively white and black. If $\\text{threshold} = 50$, then that would mean only 20% of the population can be some other race. As we increase the threshold, this will select counties that are more exclusively white and black.\n\nIn code this would look like\n```python\nfilter = df.white + df.black > threshold\n```\nwhere `df` is any of the four dataframes used in this project, `rep`, `dem`, `rep_st`, or `dem_st`. And now we could use\n```python\ndf[filter]\n```\nto select the counties (or states if you use a state-level dataframe) that satisfy the filter.\n\n>**Your turn:**  \nStart by adding the white percentage and black percentage together and compare this sum to a threshold, like 50%. Assign this to a new variable as shown in the example above and use this filter to pick out these counties from `dem`. Finally, plot the result of subsetting.  \n*Hint: use the same code for the original scatter plot but instead pass the subset dataframe as the argument to `data`. Something like this: `data=df[filter]`*",
      "metadata": {
        "tags": [],
        "cell_id": "00146-ade1d885-1630-4570-8ca3-82defb2d647a",
        "deepnote_cell_type": "markdown"
      }
    },
    {
      "cell_type": "code",
      "metadata": {
        "tags": [],
        "deepnote_to_be_reexecuted": true,
        "source_hash": "8814b3f4",
        "output_cleared": true,
        "cell_id": "00147-7453ab2b-135a-42a2-a4bb-95111cf4baa1",
        "deepnote_cell_type": "code"
      },
      "source": "### Enter your code below: ###\n\n\n\n##############################",
      "execution_count": null,
      "outputs": []
    },
    {
      "cell_type": "code",
      "metadata": {
        "tags": [],
        "deepnote_to_be_reexecuted": false,
        "source_hash": "fd9990f7",
        "execution_millis": 340,
        "output_cleared": true,
        "is_code_hidden": true,
        "execution_start": 1619146990713,
        "cell_id": "00148-43ec8d18-7f08-4019-bf05-945aa4976e74",
        "deepnote_cell_type": "code"
      },
      "source": "# Solution\n# bnw_threshold = 50\n# bnw_mask = dem.white + dem.black > bnw_threshold\n# bnw = dem[bnw_mask]\n# sns.scatterplot(data=bnw, x='white', y='black', hue='winner');",
      "execution_count": null,
      "outputs": []
    },
    {
      "cell_type": "markdown",
      "source": "With the threshold at 50% we're still getting a fair amount of counties that aren't in the upper \"arm\". Let's try changing the threshold to something more stringent.\n\n>**Your turn:**  \nInstead of 50, try changing the threshold to something else and create a new plot using the updated threshold.",
      "metadata": {
        "tags": [],
        "cell_id": "00149-ce13d4d5-73a9-45b4-9490-4ebb1e4f284d",
        "deepnote_cell_type": "markdown"
      }
    },
    {
      "cell_type": "code",
      "metadata": {
        "tags": [],
        "deepnote_to_be_reexecuted": true,
        "source_hash": "8814b3f4",
        "output_cleared": true,
        "cell_id": "00150-1f664c3a-4f4d-4032-90bc-d450d96f014a",
        "deepnote_cell_type": "code"
      },
      "source": "### Enter your code below: ###\n\n\n\n##############################",
      "execution_count": null,
      "outputs": []
    },
    {
      "cell_type": "code",
      "metadata": {
        "tags": [],
        "is_code_hidden": true,
        "deepnote_to_be_reexecuted": false,
        "source_hash": "1d6ce294",
        "execution_millis": 375,
        "execution_start": 1619147039340,
        "output_cleared": true,
        "cell_id": "00151-433931ec-087c-4435-b0fe-890526e2f06b",
        "deepnote_cell_type": "code"
      },
      "source": "# Solution\n\n# bnw_threshold = 80\n# bnw_mask = dem.white + dem.black > bnw_threshold\n# bnw = dem[bnw_mask]\n# sns.scatterplot(data=bnw, x='white', y='black', hue='winner');",
      "execution_count": null,
      "outputs": []
    },
    {
      "cell_type": "markdown",
      "source": "Great job of picking out the upper arm! However, we're not done yet, there are still some counties in this arm that Hillary didn't win. \n\nLet's try applying an additional filter to our statement. In addition to our statement above, we can try adding **another** conditional that selects counties that have a percentage of blacks greater than some percentage.\n\nFor example:\n```python\noriginal_filter = df.white + df.black > 80\n\nadditional_filter = df.black > 50 # selects counties that are >50% black\n\nnew_filter = original_filter & additional_filter # selects counties with black + white > 80% AND black > 50%\n\nfilter = (df.white + df.black > threshold) & (df.black > 50) # or in one line (need the parentheses!)\n```\n\n>**Your turn:**  \nAdd to your original filter to select only the counties that Hillary won in the upper arm. Then, plot `x='white'` and `y='black'` again after applying your final. Your final plot should look something like this:\n![](.images/black_v_white_filtered.png)",
      "metadata": {
        "tags": [],
        "cell_id": "00152-93b591ce-ea97-4a68-b6a1-c6f478071ab3",
        "deepnote_cell_type": "markdown"
      }
    },
    {
      "cell_type": "code",
      "metadata": {
        "tags": [],
        "deepnote_to_be_reexecuted": false,
        "source_hash": "e0d4d200",
        "execution_millis": 603,
        "is_code_hidden": true,
        "execution_start": 1619147775437,
        "output_cleared": true,
        "cell_id": "00153-80850ebe-ca61-4eca-b201-adb2cc5517d3",
        "deepnote_cell_type": "code"
      },
      "source": "# Solution\n# \n# bnw_mask = (dem.white + dem.black > 80) & (dem.black > 16)\n# bnw = dem[bnw_mask]\n# sns.scatterplot(data=bnw, x='white', y='black', hue='winner');",
      "execution_count": null,
      "outputs": []
    },
    {
      "cell_type": "markdown",
      "source": "Great job! We can see that that the graph is entirely blue now, showing that Hillary Clinton won all of the counties that satisfied our filter. From this process, we've learned that Hillary dominated in counties that were even slightly black. Furthermore, this was especially true if those communities didn't have much of a population of asians or hispanics.\n\nWe could also look at other variables within the subset of data and try to understand if there are any other reasons why these counties all voted for Hillary. For example, **where** are these counties? What are their **population sizes**? Since Bernie is more liberal than Hillary, **does this mean these counties are more moderate?**",
      "metadata": {
        "tags": [],
        "cell_id": "00154-c71ba98c-2795-4188-8aa0-9f15a736e74b",
        "deepnote_cell_type": "markdown"
      }
    },
    {
      "cell_type": "markdown",
      "source": "### `isin()`\n\nSometimes you will need to compare a feature to several possibilities at the same time. For example, suppose we wanted to select counties from California, New York, and Texas. We could use the following filter:\n```python\nfilter = (df.state == 'California') | (df.state == 'New York') | (df.state == 'Texas')\n```\nbut you can imagine that if we wanted to include more states the filter would become very verbose.\n\n`pandas` has a function to help! The `isin()` function checks whether every element you input is in the DataFrame. The function returns True if the element is found in the dataframe and False if it is not.\n\nWe could replace our filter above with the following code instead:\n```python\nfilter = df.state.isin(['California', 'New York', 'Texas'])\n```\nMuch better! In the example above we gave `isin()` a list, but `isin()` also works with any iterable object. This includes lists, sets, dictionary, and other `pandas` objects like DataFrames and Series (i.e. columns from DataFrames). Check out the [official documentation](https://pandas.pydata.org/docs/reference/api/pandas.Series.isin.html) for more information.\n\n>**Your turn:**  \nCreate a choropleth showing the percentage of whites in counties from the **Republican** primary within the following states:  \n**Delaware, Florida, Georgia, Maryland, North Carolina, South Carolina, Virginia, District of Columbia, West Virginia, Alabama, Kentucky, Mississippi, Tennessee, Arkansas, Louisiana, Oklahoma, and Texas**.  \nThese are all the states in the 'South' US Census region.",
      "metadata": {
        "tags": [],
        "cell_id": "00155-457b9694-51c5-48e8-9f72-3d338060419a",
        "deepnote_cell_type": "markdown"
      }
    },
    {
      "cell_type": "code",
      "metadata": {
        "tags": [],
        "deepnote_to_be_reexecuted": true,
        "source_hash": "8814b3f4",
        "execution_millis": 25,
        "output_cleared": true,
        "cell_id": "00156-88f36b8c-ed72-4d03-a65d-472d9363e615",
        "deepnote_cell_type": "code"
      },
      "source": "### Enter your code below: ###\n\n\n\n##############################",
      "execution_count": null,
      "outputs": []
    },
    {
      "cell_type": "code",
      "metadata": {
        "tags": [],
        "deepnote_to_be_reexecuted": true,
        "source_hash": "57ecd13a",
        "execution_millis": 4213,
        "is_code_hidden": true,
        "output_cleared": true,
        "cell_id": "00157-54deabad-19f1-4f7a-8532-1b46b8c1495a",
        "deepnote_cell_type": "code"
      },
      "source": "# Solution\n\n# southern_states = ['Delaware', 'Florida', 'Georgia', 'Maryland', 'North Carolina', 'South Carolina', 'Virginia', 'District of Columbia', 'West Virginia', 'Alabama', 'Kentucky', 'Mississippi', 'Tennessee', 'Arkansas', 'Louisiana', 'Oklahoma', 'Texas']\n# southern_states_filter = rep.state.isin(southern_states)\n# choropleth(rep[southern_states_filter], 'white')",
      "execution_count": null,
      "outputs": []
    },
    {
      "cell_type": "markdown",
      "source": "### `subset()`\nNow that you've had practice with the `isin()` function and filtering, we want to introduce a function we have created for you to help subset the data by US Census regions and historical voting patterns.  \n\nWhat if we wanted to subset the dataset by the western census region?",
      "metadata": {
        "tags": [],
        "cell_id": "00158-3477df20-46b0-4c78-a7f9-f076726c0d15",
        "deepnote_cell_type": "markdown"
      }
    },
    {
      "cell_type": "code",
      "metadata": {
        "tags": [],
        "output_cleared": true,
        "cell_id": "00159-3f3be125-155b-4bbe-bb37-1584ac32e94f",
        "deepnote_cell_type": "code"
      },
      "source": "# Run this cell!\nsubset(rep_st, 'west')",
      "execution_count": null,
      "outputs": []
    },
    {
      "cell_type": "markdown",
      "source": "The function will return a dataframe subsetted from the `rep_st` to the states in the `west`. The `subset()` function allows you to easily filter the data with our preset filters. If you want to create your own, you can use a filter formula to subset by race or `isin()` function to subset by geographical location we used earlier.\n  \nWe have several filters you can use:  \n    - `solid_blue`, `solid_red`, `swing`: states that traditionally vote in one way in 2016  \n    - `northeast`, `midwest`, `south`, `west`: states that are divided by region  \n\nYou can also run the cell below to view some helpful information about the `subset()` function.",
      "metadata": {
        "tags": [],
        "cell_id": "00160-f38aa4af-8ea9-40a7-b7f2-7c8fe513b86b",
        "deepnote_cell_type": "markdown"
      }
    },
    {
      "cell_type": "code",
      "metadata": {
        "tags": [],
        "deepnote_to_be_reexecuted": false,
        "source_hash": "79716a7e",
        "execution_start": 1619141085532,
        "execution_millis": 30,
        "output_cleared": true,
        "cell_id": "00161-431274aa-95b2-4e6b-9bdb-892230d1cb4b",
        "deepnote_cell_type": "code"
      },
      "source": "# Run this cell if you want more information!\nhelp(subset)",
      "execution_count": null,
      "outputs": []
    },
    {
      "cell_type": "markdown",
      "source": "> **Your turn:**  \nUse `subset()` to subset the `rep` dataframe by the `south` filter.",
      "metadata": {
        "tags": [],
        "cell_id": "00162-97828e48-c04b-445a-a1ab-cb4bca889e60",
        "deepnote_cell_type": "markdown"
      }
    },
    {
      "cell_type": "code",
      "metadata": {
        "tags": [],
        "output_cleared": true,
        "cell_id": "00163-7214ca9e-2c4c-4f1a-bf7c-4999f96a95a3",
        "deepnote_cell_type": "code"
      },
      "source": "### Enter your code below: ###\n\n\n\n##############################",
      "execution_count": null,
      "outputs": []
    },
    {
      "cell_type": "code",
      "metadata": {
        "tags": [],
        "is_code_hidden": true,
        "output_cleared": true,
        "cell_id": "00164-14e9f1fb-850d-46bf-a5c6-89457e0574ae",
        "deepnote_cell_type": "code"
      },
      "source": "# Solution\n# subset(rep, 'south')",
      "execution_count": null,
      "outputs": []
    },
    {
      "cell_type": "markdown",
      "source": "For example, we can use `subset()` to explore difference between US Census regions.\n\n>**Your turn:**  \nCreate a choropleth to show the percentage of white people in historically red states. You should first subset to select `'solid_red'` states and pass the resulting dataframe to `choropleth` to show the `white` feature.",
      "metadata": {
        "tags": [],
        "cell_id": "00165-1ed6f3a1-25d8-4e7b-a4fb-d474c517a485",
        "deepnote_cell_type": "markdown"
      }
    },
    {
      "cell_type": "code",
      "metadata": {
        "tags": [],
        "output_cleared": true,
        "cell_id": "00166-74d84cce-9404-4f9b-9bc4-ca4cc535a6d9",
        "deepnote_cell_type": "code"
      },
      "source": "### Enter your code below: ###\n\n\n\n##############################",
      "execution_count": null,
      "outputs": []
    },
    {
      "cell_type": "code",
      "metadata": {
        "tags": [],
        "deepnote_to_be_reexecuted": false,
        "source_hash": "b3445424",
        "execution_millis": 0,
        "execution_start": 1619143200506,
        "is_code_hidden": true,
        "output_cleared": true,
        "cell_id": "00167-87be5773-feeb-422c-9331-ae599e4f2db3",
        "deepnote_cell_type": "code"
      },
      "source": "# Solution\n# solid_red_df = subset(rep, 'solid_red')\n# choropleth(solid_red_df, 'white')",
      "execution_count": null,
      "outputs": []
    },
    {
      "cell_type": "markdown",
      "source": ">**Your turn:**  \n1. Make a scatterplot from `rep` with `income` on the x-axis and `college` on the y-axis.  \n2. Add a second scatterplot from a `solid_blue` subset of `rep` with `income` on the x-axis and `college` on the y-axis.  \n3. Use the `label` argument to create an informative legend.  \n4. Use the `color` argument to make the counties from the solid blue states blue and the rest orange. You can use 'blue' and 'orange' (or use 'C0' and 'C1' to access the default color cycle).\n\n>Your finished plot should look like this:\n![](.images/solid_blue_college_v_income.png)",
      "metadata": {
        "tags": [],
        "cell_id": "00168-18c07fcc-809f-4d46-9145-f088653abd3c",
        "deepnote_cell_type": "markdown"
      }
    },
    {
      "cell_type": "code",
      "metadata": {
        "tags": [],
        "output_cleared": true,
        "cell_id": "00169-f13333bf-9544-4724-8ba2-1de76d89b6ae",
        "deepnote_cell_type": "code"
      },
      "source": "### Enter your code below: ###\n\n\n\n##############################",
      "execution_count": null,
      "outputs": []
    },
    {
      "cell_type": "code",
      "metadata": {
        "tags": [],
        "deepnote_to_be_reexecuted": false,
        "source_hash": "47234d7c",
        "execution_millis": 338,
        "output_cleared": true,
        "execution_start": 1619143432017,
        "is_code_hidden": true,
        "cell_id": "00170-8ea9486d-5703-4166-916d-d68856623753",
        "deepnote_cell_type": "code"
      },
      "source": "# Solution\n# sns.scatterplot(data=rep, x='income', y='college', color='C1', label='All States')\n# sns.scatterplot(data=subset(rep,'solid_blue'), x='income', y='college', color='C0', label='Solid Blue States');",
      "execution_count": null,
      "outputs": []
    },
    {
      "cell_type": "markdown",
      "source": "<a style='text-decoration:none;line-height:16px;display:flex;color:#5B5B62;padding:10px;justify-content:end;' href='https://deepnote.com?utm_source=created-in-deepnote-cell&projectId=6db671ff-4b94-4ec9-9d8f-30a849bb0caf' target=\"_blank\">\n<img alt='Created in deepnote.com' style='display:inline;max-height:16px;margin:0px;margin-right:7.5px;' src='data:image/svg+xml;base64,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' > </img>\nCreated in <span style='font-weight:600;margin-left:4px;'>Deepnote</span></a>",
      "metadata": {
        "tags": [],
        "created_in_deepnote_cell": true,
        "deepnote_cell_type": "markdown"
      }
    }
  ],
  "nbformat": 4,
  "nbformat_minor": 2,
  "metadata": {
    "orig_nbformat": 2,
    "deepnote_notebook_id": "cb5eb536-37cd-4571-9803-fa0635fa5672",
    "deepnote": {},
    "deepnote_execution_queue": []
  }
}