{
  "cells": [
    {
      "cell_type": "code",
      "metadata": {
        "tags": [],
        "cell_id": "00000-1c7ebf83-9ade-400a-9974-40ffa16cab5e",
        "deepnote_to_be_reexecuted": false,
        "source_hash": "afb4710f",
        "execution_millis": 2,
        "execution_start": 1611613490158,
        "deepnote_cell_type": "code"
      },
      "source": "import numpy as np\nimport pandas as pd\nimport matplotlib.pyplot as plt\nfrom scipy.special import softmax",
      "execution_count": null,
      "outputs": []
    },
    {
      "cell_type": "code",
      "metadata": {
        "tags": [],
        "cell_id": "00001-7683b311-6782-43f7-9e06-d12a2c388dcc",
        "deepnote_to_be_reexecuted": false,
        "source_hash": "44b4f963",
        "execution_millis": 0,
        "execution_start": 1611613771505,
        "deepnote_cell_type": "code"
      },
      "source": "# Measure unity\nn = 4\ndivided = np.repeat(1/n, n) # 0\nunited = np.array([1, 0, 0, 0]) # 1\nsplit2 = np.array([0.5, 0.5, 0, 0])\nsplit3 = np.array([1/3, 1/3, 1/3, 0])\nmix = np.array([0.4, 0.3, 0.2, 0.1])",
      "execution_count": null,
      "outputs": []
    },
    {
      "cell_type": "code",
      "metadata": {
        "tags": [],
        "cell_id": "00002-70af7985-fd45-40c7-afe9-389c4c492f1b",
        "deepnote_to_be_reexecuted": false,
        "source_hash": "a6994f31",
        "execution_millis": 0,
        "execution_start": 1611612941769,
        "deepnote_cell_type": "code"
      },
      "source": "# See https://www.desmos.com/calculator/7auiefwt4z for comparison of L1 vs L2\n# and why L2 is preferable (has a global minimum)\n\n# Normalized L2 error wrt uniform voting\ndef unity(x, n):\n    \"\"\"Computes unity of voting on [0, 1] scale. Input vote fractions x and number of candidates n.\n    \"\"\"\n    assert len(x) <= n, \"More candidates input than assumed for uniform distribution.\"\n    err = ((x-1/n)**2).sum()\n    if n > len(x):\n        err += (n - len(x))/n**2\n    return err/(1 - 1/n)",
      "execution_count": null,
      "outputs": []
    },
    {
      "cell_type": "code",
      "metadata": {
        "tags": [],
        "cell_id": "00003-59579f45-cc1c-432f-b5b2-5b9740842bc5",
        "deepnote_cell_type": "code"
      },
      "source": "# Normalized L1 error wrt uniform voting\ndef unity_l1(x, n):\n    err = (x-1/n).abs().sum()\n    if n > len(x):\n        err += (n - len(x))/n\n    return err/(2 - 2/n)",
      "execution_count": null,
      "outputs": []
    },
    {
      "cell_type": "code",
      "metadata": {
        "tags": [],
        "cell_id": "00003-4459b520-0875-4a4d-9bf2-84d11a78c98e",
        "deepnote_to_be_reexecuted": false,
        "source_hash": "73d97540",
        "execution_millis": 3,
        "execution_start": 1611613221231,
        "deepnote_cell_type": "code"
      },
      "source": "print(unity(divided))\nprint(unity(united))\nprint(unity(split2))\nprint(unity(split3))\nprint(unity(mix))",
      "execution_count": null,
      "outputs": [
        {
          "name": "stdout",
          "text": "0.0\n1.0\n0.3333333333333333\n0.1111111111111111\n0.06666666666666667\n",
          "output_type": "stream"
        }
      ]
    },
    {
      "cell_type": "code",
      "metadata": {
        "tags": [],
        "cell_id": "00004-76073e7a-86ff-451f-8c06-4ef2070a3bbb",
        "deepnote_to_be_reexecuted": false,
        "source_hash": "7ddcf40a",
        "execution_start": 1611613790811,
        "execution_millis": 6,
        "deepnote_cell_type": "code"
      },
      "source": "# Generate test cases\ndef test_case(n=4):\n    rngen = np.random.default_rng()\n    return softmax(rngen.integers(80, 100, n))",
      "execution_count": null,
      "outputs": []
    },
    {
      "cell_type": "code",
      "metadata": {
        "tags": [],
        "cell_id": "00005-337262aa-5704-44fc-852a-9108bac86389",
        "deepnote_to_be_reexecuted": false,
        "source_hash": "c0d1c6bb",
        "execution_millis": 2,
        "execution_start": 1611613801183,
        "deepnote_cell_type": "code"
      },
      "source": "test = test_case()\nprint(test)\nprint(unity(test))",
      "execution_count": null,
      "outputs": [
        {
          "name": "stdout",
          "text": "[0.41907722 0.15416989 0.41907722 0.00767567]\n0.16677160556709758\n",
          "output_type": "stream"
        }
      ]
    },
    {
      "cell_type": "markdown",
      "source": "<a style='text-decoration:none;line-height:16px;display:flex;color:#5B5B62;padding:10px;justify-content:end;' href='https://deepnote.com?utm_source=created-in-deepnote-cell&projectId=6db671ff-4b94-4ec9-9d8f-30a849bb0caf' target=\"_blank\">\n<img alt='Created in deepnote.com' style='display:inline;max-height:16px;margin:0px;margin-right:7.5px;' src='data:image/svg+xml;base64,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' > </img>\nCreated in <span style='font-weight:600;margin-left:4px;'>Deepnote</span></a>",
      "metadata": {
        "tags": [],
        "created_in_deepnote_cell": true,
        "deepnote_cell_type": "markdown"
      }
    }
  ],
  "nbformat": 4,
  "nbformat_minor": 2,
  "metadata": {
    "orig_nbformat": 2,
    "deepnote_notebook_id": "331e4677-fcfc-4398-8ed3-750f6dc90f53",
    "deepnote_execution_queue": [],
    "deepnote": {}
  }
}